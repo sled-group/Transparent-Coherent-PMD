{
 "cells": [
  {
   "cell_type": "code",
   "execution_count": 1,
   "id": "609598b0-4653-4b42-85ba-2a38a01e4300",
   "metadata": {},
   "outputs": [],
   "source": [
    "%load_ext autoreload\n",
    "%autoreload 2\n",
    "\n",
    "import os\n",
    "from travel import init_travel\n",
    "init_travel()"
   ]
  },
  {
   "cell_type": "markdown",
   "id": "68dfe59f",
   "metadata": {},
   "source": [
    "# Load preds"
   ]
  },
  {
   "cell_type": "code",
   "execution_count": null,
   "id": "26f0084f",
   "metadata": {},
   "outputs": [],
   "source": [
    "import json\n",
    "\n",
    "RESULTS_PATH = \"/home/sstorks/coe-chaijy/sstorks/simulation_informed_pcr4nlu/TRAVEl/saved_results/vqa_mistake_detection/VQG2VQA_llava-1.5-7b-hf_20240521172640_spatial/preds_nli_val.json\"\n",
    "preds = json.load(open(RESULTS_PATH, \"r\"))"
   ]
  },
  {
   "cell_type": "markdown",
   "id": "a7126031",
   "metadata": {},
   "source": [
    "# Visualize some outputs"
   ]
  },
  {
   "cell_type": "code",
   "execution_count": null,
   "id": "aec345ef",
   "metadata": {},
   "outputs": [],
   "source": [
    "import random\n",
    "\n",
    "output_indices_to_visualize = random.sample(list(range(len(preds))), 10)\n",
    "\n",
    "for output_idx in output_indices_to_visualize:\n",
    "    pred = preds[output_idx]\n",
    "\n",
    "    "
   ]
  }
 ],
 "metadata": {
  "kernelspec": {
   "display_name": "travel",
   "language": "python",
   "name": "travel"
  },
  "language_info": {
   "codemirror_mode": {
    "name": "ipython",
    "version": 3
   },
   "file_extension": ".py",
   "mimetype": "text/x-python",
   "name": "python",
   "nbconvert_exporter": "python",
   "pygments_lexer": "ipython3",
   "version": "3.10.9"
  }
 },
 "nbformat": 4,
 "nbformat_minor": 5
}
