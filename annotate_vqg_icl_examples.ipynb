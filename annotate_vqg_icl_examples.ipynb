{
 "cells": [
  {
   "cell_type": "code",
   "execution_count": 2,
   "id": "609598b0-4653-4b42-85ba-2a38a01e4300",
   "metadata": {},
   "outputs": [
    {
     "name": "stdout",
     "output_type": "stream",
     "text": [
      "The autoreload extension is already loaded. To reload it, use:\n",
      "  %reload_ext autoreload\n"
     ]
    }
   ],
   "source": [
    "%load_ext autoreload\n",
    "%autoreload 2\n",
    "\n",
    "import os\n",
    "from travel import init_travel\n",
    "init_travel()"
   ]
  },
  {
   "cell_type": "markdown",
   "id": "e3bb6f5d",
   "metadata": {},
   "source": [
    "# Ego4D Data"
   ]
  },
  {
   "cell_type": "code",
   "execution_count": 4,
   "id": "72a51139",
   "metadata": {},
   "outputs": [
    {
     "name": "stdout",
     "output_type": "stream",
     "text": [
      "426130 Fold the right edge of the wrapper\n",
      "562022 Drop the piece of zucchini in your left hand on the cutting board\n",
      "436105 Remove the brush from the wooden frame\n",
      "168002 Drop the brush in your right hand on the oven\n",
      "321278 Put the down the knife on your right hand\n",
      "590080 Put book in the shelf\n",
      "223012 Fix the wheel on the axle with both hands\n",
      "433029 Put the sickle down\n",
      "307125 Put a card on the table\n",
      "376184 Fix the lego\n",
      "376547 Put the toy down\n",
      "165011 Hold material with hands\n",
      "202000 Hold keyboard\n",
      "735032 Drop the glue gun on the paper\n",
      "45035 Take some berries in the container with your right hand\n",
      "682249 Prune the plant with a pruning shear\n",
      "245017 Open tap\n",
      "346057 Cut blue berries from anotyour plant with the hedge shear\n",
      "17015 Start spraying the garden with liquid\n",
      "163023 Grind the metal\n"
     ]
    }
   ],
   "source": [
    "from pprint import pprint\n",
    "import random\n",
    "\n",
    "from travel.data.ego4d import Ego4DMistakeDetectionDataset\n",
    "\n",
    "dataset = Ego4DMistakeDetectionDataset(data_split=\"train\", mismatch_augmentation=False)\n",
    "n_examples = len(dataset)\n",
    "\n",
    "annotate_examples = random.sample(list(range(n_examples)), 20)\n",
    "\n",
    "for example_idx in annotate_examples:\n",
    "    example = dataset[example_idx]\n",
    "    print(example.procedure_id, example.procedure_description)"
   ]
  }
 ],
 "metadata": {
  "kernelspec": {
   "display_name": "travel",
   "language": "python",
   "name": "travel"
  },
  "language_info": {
   "codemirror_mode": {
    "name": "ipython",
    "version": 3
   },
   "file_extension": ".py",
   "mimetype": "text/x-python",
   "name": "python",
   "nbconvert_exporter": "python",
   "pygments_lexer": "ipython3",
   "version": "3.10.9"
  }
 },
 "nbformat": 4,
 "nbformat_minor": 5
}
