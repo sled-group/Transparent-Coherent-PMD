{
 "cells": [
  {
   "cell_type": "code",
   "execution_count": 8,
   "id": "609598b0-4653-4b42-85ba-2a38a01e4300",
   "metadata": {},
   "outputs": [
    {
     "name": "stdout",
     "output_type": "stream",
     "text": [
      "The autoreload extension is already loaded. To reload it, use:\n",
      "  %reload_ext autoreload\n"
     ]
    }
   ],
   "source": [
    "%load_ext autoreload\n",
    "%autoreload 2\n",
    "\n",
    "import os\n",
    "from travel import init_travel\n",
    "init_travel()"
   ]
  },
  {
   "cell_type": "markdown",
   "id": "e3bb6f5d",
   "metadata": {},
   "source": [
    "# Ego4D Data"
   ]
  },
  {
   "cell_type": "code",
   "execution_count": 15,
   "id": "72a51139",
   "metadata": {},
   "outputs": [],
   "source": [
    "from pprint import pprint\n",
    "import random\n",
    "\n",
    "from travel.data.ego4d import Ego4DMistakeDetectionDataset\n",
    "\n",
    "dataset = Ego4DMistakeDetectionDataset(data_split=\"train\", mismatch_augmentation=False)\n",
    "n_examples = len(dataset)\n",
    "\n"
   ]
  },
  {
   "cell_type": "code",
   "execution_count": 23,
   "id": "d53ee99a",
   "metadata": {},
   "outputs": [
    {
     "name": "stdout",
     "output_type": "stream",
     "text": [
      "380077 Drop the black cloth on the table\n",
      "289031 Drop the boxer short on the pressing board with both hands\n",
      "475020 Drop the wood on the ground\n",
      "29001 Pull the card\n",
      "465083 Pick a tissue paper and a cleaning sponge\n",
      "753255 Pour out the sand in the brick molder\n",
      "449240 Take out soil from the bag with the trowel\n",
      "336049 Open the kitchen drawer with your hand\n",
      "426772 Move the wooden board with both hands\n",
      "28063 Pick the card\n",
      "463043 Put the folks in the rank\n",
      "201075 Wash the motorcycle with the soapy foam\n",
      "433089 Someone covers the plants root with soil.\n",
      "458060 Adjust the foot mat with both hands\n",
      "465017 Put the nylon paper in the box\n",
      "5081 Drop the mud in the brick mold\n",
      "498098 Drop the weeds\n",
      "579110 Drag the brick mold on the ground\n",
      "78088 Continue holding the wooden spoon in your right hand\n",
      "597178 Wash sink\n"
     ]
    }
   ],
   "source": [
    "annotate_examples = random.sample(list(range(n_examples)), 20)\n",
    "\n",
    "for example_idx in annotate_examples:\n",
    "    example = dataset[example_idx]\n",
    "    print(example.procedure_id, example.procedure_description)"
   ]
  },
  {
   "cell_type": "code",
   "execution_count": 4,
   "id": "2d1d7936",
   "metadata": {},
   "outputs": [
    {
     "data": {
      "text/plain": [
       "'Move a safety belt buckle'"
      ]
     },
     "execution_count": 4,
     "metadata": {},
     "output_type": "execute_result"
    }
   ],
   "source": [
    "import spacy\n",
    "from travel.data.utils.text import simple_present_to_imperative\n",
    "nlp = spacy.load('en_core_web_sm')\n",
    "\n",
    "simple_present_to_imperative(nlp, \"Someone Moves a safety belt buckle.\")"
   ]
  },
  {
   "cell_type": "code",
   "execution_count": 19,
   "id": "564c52b6",
   "metadata": {},
   "outputs": [
    {
     "data": {
      "text/plain": [
       "[(True, 'container', 'Is there water in the blue image?')]"
      ]
     },
     "execution_count": 19,
     "metadata": {},
     "output_type": "execute_result"
    }
   ],
   "source": [
    "from travel.model.grounding import SpatialVisualFilter\n",
    "\n",
    "SpatialVisualFilter.parse_questions_for_spatial_attention_filter(nlp, [\"Is there water in the blue container?\"])"
   ]
  }
 ],
 "metadata": {
  "kernelspec": {
   "display_name": "travel",
   "language": "python",
   "name": "travel"
  },
  "language_info": {
   "codemirror_mode": {
    "name": "ipython",
    "version": 3
   },
   "file_extension": ".py",
   "mimetype": "text/x-python",
   "name": "python",
   "nbconvert_exporter": "python",
   "pygments_lexer": "ipython3",
   "version": "3.10.9"
  }
 },
 "nbformat": 4,
 "nbformat_minor": 5
}
