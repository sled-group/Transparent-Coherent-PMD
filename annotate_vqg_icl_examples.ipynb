{
 "cells": [
  {
   "cell_type": "code",
   "execution_count": 1,
   "id": "609598b0-4653-4b42-85ba-2a38a01e4300",
   "metadata": {},
   "outputs": [],
   "source": [
    "%load_ext autoreload\n",
    "%autoreload 2\n",
    "\n",
    "import os\n",
    "from travel.constants import MODEL_CACHE_DIR\n",
    "os.environ['HF_HOME'] = MODEL_CACHE_DIR"
   ]
  },
  {
   "cell_type": "markdown",
   "id": "e3bb6f5d",
   "metadata": {},
   "source": [
    "# Ego4D Data"
   ]
  },
  {
   "cell_type": "code",
   "execution_count": 4,
   "id": "72a51139",
   "metadata": {},
   "outputs": [
    {
     "name": "stdout",
     "output_type": "stream",
     "text": [
      "Rest the metal baking peel on the oven\n",
      "Wash lids in sink\n",
      "Mold the cut - out dough on the slab\n",
      "Spin the jog wheel\n",
      "Drop\n",
      "Insert the pump needle in the tube with your right hand\n",
      "Check the pumpkin plant\n",
      "Pick the vacuum cleaner hose with your right hand\n",
      "Brush off the vegetable on the knife with your left hand\n",
      "Mold the cut - out dough on the slab\n",
      "Pick anotyour seed from the tray with your right hand\n",
      "Flip the bicycle 's rim over with both hands\n",
      "Put down scissors\n",
      "Open the nail polish\n",
      "Hold the first leveller with both hands\n",
      "Continue cutting the grasses on the farm with the brush mower\n",
      "Roll the lego toy\n",
      "Pass the torchlight your left hand to your right hand\n",
      "Pick up a ruler from the floor\n",
      "Carry the dough from the table with both hands\n"
     ]
    }
   ],
   "source": [
    "from pprint import pprint\n",
    "import random\n",
    "\n",
    "from travel.data.ego4d import Ego4DMistakeDetectionDataset\n",
    "\n",
    "dataset = Ego4DMistakeDetectionDataset(data_split=\"train\", mismatch_augmentation=False)\n",
    "n_examples = len(dataset)\n",
    "\n",
    "annotate_examples = random.sample(list(range(n_examples)), 20)\n",
    "\n",
    "for example_idx in annotate_examples:\n",
    "    example = dataset[example_idx]\n",
    "    print(example.procedure_description)"
   ]
  }
 ],
 "metadata": {
  "kernelspec": {
   "display_name": "travel",
   "language": "python",
   "name": "travel"
  },
  "language_info": {
   "codemirror_mode": {
    "name": "ipython",
    "version": 3
   },
   "file_extension": ".py",
   "mimetype": "text/x-python",
   "name": "python",
   "nbconvert_exporter": "python",
   "pygments_lexer": "ipython3",
   "version": "3.10.9"
  }
 },
 "nbformat": 4,
 "nbformat_minor": 5
}
