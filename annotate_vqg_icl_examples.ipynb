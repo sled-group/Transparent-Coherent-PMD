{
 "cells": [
  {
   "cell_type": "code",
   "execution_count": 1,
   "id": "609598b0-4653-4b42-85ba-2a38a01e4300",
   "metadata": {},
   "outputs": [],
   "source": [
    "%load_ext autoreload\n",
    "%autoreload 2\n",
    "\n",
    "import os\n",
    "from travel import init_travel\n",
    "init_travel()"
   ]
  },
  {
   "cell_type": "markdown",
   "id": "e3bb6f5d",
   "metadata": {},
   "source": [
    "# Ego4D Data"
   ]
  },
  {
   "cell_type": "code",
   "execution_count": 2,
   "id": "72a51139",
   "metadata": {},
   "outputs": [],
   "source": [
    "from pprint import pprint\n",
    "import random\n",
    "\n",
    "from travel.data.ego4d import Ego4DMistakeDetectionDataset\n",
    "\n",
    "dataset = Ego4DMistakeDetectionDataset(data_split=\"train\", mismatch_augmentation=False)\n",
    "n_examples = len(dataset)\n",
    "\n"
   ]
  },
  {
   "cell_type": "code",
   "execution_count": 3,
   "id": "d53ee99a",
   "metadata": {},
   "outputs": [
    {
     "name": "stdout",
     "output_type": "stream",
     "text": [
      "647049 Pick   up a paper\n",
      "83057 Paint the patio with the paint brush\n",
      "204152 Roll the dough in your hand\n",
      "256050 Squeeze the pink cloth with your hands\n",
      "275140 Shake lid in sink\n",
      "25057 Collect green beans\n",
      "22065 Pick the cards from the table\n",
      "417159 Hold the container with your right hand\n",
      "189147 Take paint from the cup of paint with the brush in your hand\n",
      "376795 Pick lego toy\n",
      "613002 Drop a filter on the jack lift\n",
      "599053 Pick the scrubber from the sink\n",
      "376412 Someone fixes Lego.\n",
      "384043 Put the mushrooms in the frying pan\n",
      "53309 Take a steel rod on the floor\n",
      "644015 Pass the chaff to your right hand\n",
      "11009 Squeeze the napkin\n",
      "80062 Scoop paint from the pallet on the table with the paint brush\n",
      "355082 Pick a brick\n",
      "53037 Place the tape rule on the floor\n"
     ]
    }
   ],
   "source": [
    "annotate_examples = random.sample(list(range(n_examples)), 20)\n",
    "\n",
    "for example_idx in annotate_examples:\n",
    "    example = dataset[example_idx]\n",
    "    print(example.procedure_id, example.procedure_description)"
   ]
  },
  {
   "cell_type": "code",
   "execution_count": 4,
   "id": "92673905",
   "metadata": {},
   "outputs": [
    {
     "name": "stdout",
     "output_type": "stream",
     "text": [
      "45035 Take some berries in the container with your right hand\n",
      "682186 Take garden shear and dustpan\n",
      "166170 Take anotyour handful of manure from the bag of manure\n",
      "166022 Take a handful of manure from the bag with your right hand\n",
      "625055 Take shovel\n",
      "700054 Take the navy blue color powder from the nylon bag with your right hand\n",
      "596051 Take container\n",
      "66054 Take a piece of cut plank from saw machine\n",
      "744049 Take the scissors from the table\n",
      "449240 Take out soil from the bag with the trowel\n",
      "700066 Take the navy blue color powder from the nylon bag with your right hand\n",
      "376168 Take a lego\n",
      "596088 Take lid and container\n",
      "581204 Take phone\n",
      "474140 Take an hydraulic bottle from the floor\n",
      "589017 Take trowel\n",
      "107275 Take the baking tray away from the table\n",
      "117104 Take a mushroom\n",
      "41023 Take flour from a bag under the table with right hand\n",
      "466011 Take the sweeping brush to your left hand\n",
      "597196 Take washing sponge\n",
      "570221 Take water from the drum with the pot in your right hand\n",
      "30077 Take a day lily from your left hand to the rectangular tray on the floor with your right hand\n",
      "376115 Take lego\n",
      "148018 Take two woods from the table\n",
      "49013 Take the sharpening stone from the water\n",
      "433132 Take some plants on your left hand\n",
      "376534 Take lego\n",
      "41026 Take the container from the table\n",
      "234042 Take the card\n",
      "322036 Take black glue from the container your right hand\n",
      "21013 Take knife\n",
      "169115 Take out   bread\n",
      "547047 Take cement from the concrete\n",
      "30153 Take the purple petunia from your right hand with your left hand\n",
      "169142 Take the fork\n",
      "356042 Take anotyour leaf from the floor\n",
      "748036 Take the card\n",
      "745031 Take a knife\n",
      "397013 Take anotyour sheet from the pack\n",
      "98050 Take the sponge from the sink\n",
      "166032 Take a handful of manure from the bag with your right hand\n",
      "169165 Take sauce\n",
      "376413 Take lego\n",
      "547116 Take cement with the trowel in your left hand\n",
      "200003 Take off the air ring from the motorcycle\n",
      "547148 Take cement with the trowel using your left hand\n",
      "430053 Take a piece of wood from the floor\n",
      "167103 Take the remaining pvc trunks from the side of the window\n",
      "682207 Take gloves from the floor\n",
      "328110 Take out cabbage from nylon onto counter\n",
      "332210 Take a root from the ground\n",
      "654101 Take out a screw from the cardboard box\n",
      "148018 Take two woods from the table\n",
      "15080 Take the bottle top\n",
      "547015 Take cement with the trowel in your left hand\n",
      "166062 Take a handful of manure from the bag with your right hand\n",
      "521035 Take paint from the paint bucket on the floor with the paint brush in your right hand\n",
      "166153 Take anotyour handful of manure from the bag\n",
      "53211 Take the weld gun on the floor\n",
      "547110 Take cement with the trowel in your left hand\n",
      "597056 Take washing sponge\n",
      "342040 Take the knife\n",
      "376204 Take a lego\n",
      "224025 Take a third screwdriver on a wall with your right hand\n",
      "117089 Take a mushroom\n",
      "667128 Take a pin from the number card on the table\n",
      "395068 Take the long ruler from the floor\n",
      "698004 Take cigarettes from the car footstep starts to smoke\n",
      "275336 Take skillet in sink\n",
      "700070 Take the navy blue color powder from the nylon bag with your right hand\n",
      "30003 Take a beach beauty flower from the basket to a tray on the floor with your right hand\n",
      "30078 Take a day lily from your left hand to the tray with your right hand\n",
      "509019 Take out a screw from the tire with your right hand\n",
      "667004 Take the snack chips in a white plate on the table with your right hand\n",
      "429220 Take the scoop from the weight scale with your right hand\n",
      "15149 Take screws\n",
      "163041 Take tape measure from the ground\n",
      "376211 Take lego\n",
      "117110 Take a cooking stick\n",
      "745040 Take sieve\n",
      "117192 Take detergent\n",
      "364027 Take a picture of the bike with your phone\n",
      "376103 Take lego\n",
      "169015 Take sausage\n",
      "453039 Take a fork\n",
      "474165 Take a spanner from the floor\n",
      "66033 Take tape rule from pocket\n",
      "632002 Take crochet hook from tummy\n",
      "91023 Take one of the pots from the slab into the plate drainer with your left hand\n",
      "166112 Take anotyour handful of manure from the bag\n",
      "547243 Take cement from the head pan with the trowel\n",
      "752007 Take out the wheel hub\n",
      "325415 Take mortar from the pile of mortar with both hands\n",
      "689039 Take the chopping board from the counter\n",
      "345080 Take out the tube in the tire with both hands\n",
      "266327 Take out some clay from the clay mix on the ground\n",
      "51022 Take the cloth from ironing board\n",
      "725045 Take the liquid soap\n",
      "581010 Take your left hand off the pan\n",
      "596088 Take lid and container\n",
      "166036 Take a handful of manure from the bag with your right hand\n"
     ]
    },
    {
     "ename": "KeyboardInterrupt",
     "evalue": "",
     "output_type": "error",
     "traceback": [
      "\u001b[0;31m---------------------------------------------------------------------------\u001b[0m",
      "\u001b[0;31mKeyboardInterrupt\u001b[0m                         Traceback (most recent call last)",
      "Cell \u001b[0;32mIn[4], line 4\u001b[0m\n\u001b[1;32m      1\u001b[0m annotate_examples \u001b[38;5;241m=\u001b[39m random\u001b[38;5;241m.\u001b[39msample(\u001b[38;5;28mlist\u001b[39m(\u001b[38;5;28mrange\u001b[39m(n_examples)), \u001b[38;5;241m10000\u001b[39m)\n\u001b[1;32m      3\u001b[0m \u001b[38;5;28;01mfor\u001b[39;00m example_idx \u001b[38;5;129;01min\u001b[39;00m annotate_examples:\n\u001b[0;32m----> 4\u001b[0m     example \u001b[38;5;241m=\u001b[39m \u001b[43mdataset\u001b[49m\u001b[43m[\u001b[49m\u001b[43mexample_idx\u001b[49m\u001b[43m]\u001b[49m\n\u001b[1;32m      5\u001b[0m     \u001b[38;5;66;03m# if example.procedure_description.startswith(\"Peel\") or example.procedure_description.startswith(\"Chop\") or example.procedure_description.startswith(\"Cut\"):\u001b[39;00m\n\u001b[1;32m      6\u001b[0m     \u001b[38;5;66;03m# if example.procedure_description.startswith(\"Break\"):\u001b[39;00m\n\u001b[1;32m      7\u001b[0m     \u001b[38;5;28;01mif\u001b[39;00m example\u001b[38;5;241m.\u001b[39mprocedure_description\u001b[38;5;241m.\u001b[39mstartswith(\u001b[38;5;124m\"\u001b[39m\u001b[38;5;124mTake\u001b[39m\u001b[38;5;124m\"\u001b[39m):\n",
      "File \u001b[0;32m/nfs/turbo/coe-chaijy/sstorks/simulation_informed_pcr4nlu/TRAVEl/travel/data/mistake_detection.py:138\u001b[0m, in \u001b[0;36mMistakeDetectionDataset.__getitem__\u001b[0;34m(self, index)\u001b[0m\n\u001b[1;32m    137\u001b[0m \u001b[38;5;28;01mdef\u001b[39;00m \u001b[38;5;21m__getitem__\u001b[39m(\u001b[38;5;28mself\u001b[39m, index):\n\u001b[0;32m--> 138\u001b[0m     \u001b[38;5;28;01mreturn\u001b[39;00m \u001b[38;5;28;43mself\u001b[39;49m\u001b[38;5;241;43m.\u001b[39;49m\u001b[43mload_example_from_file\u001b[49m\u001b[43m(\u001b[49m\u001b[38;5;28;43mself\u001b[39;49m\u001b[38;5;241;43m.\u001b[39;49m\u001b[43mexample_dirs\u001b[49m\u001b[43m[\u001b[49m\u001b[43mindex\u001b[49m\u001b[43m]\u001b[49m\u001b[43m)\u001b[49m\n",
      "File \u001b[0;32m/nfs/turbo/coe-chaijy/sstorks/simulation_informed_pcr4nlu/TRAVEl/travel/data/mistake_detection.py:215\u001b[0m, in \u001b[0;36mMistakeDetectionDataset.load_example_from_file\u001b[0;34m(self, example_dir, load_frames)\u001b[0m\n\u001b[1;32m    208\u001b[0m \u001b[38;5;250m\u001b[39m\u001b[38;5;124;03m\"\"\"\u001b[39;00m\n\u001b[1;32m    209\u001b[0m \u001b[38;5;124;03mLoads an example from cache by the directory it's saved in.\u001b[39;00m\n\u001b[1;32m    210\u001b[0m \n\u001b[1;32m    211\u001b[0m \u001b[38;5;124;03m:param example_dir: Directory to load example from.\u001b[39;00m\n\u001b[1;32m    212\u001b[0m \u001b[38;5;124;03m:return: MistakeDetectionExample object.\u001b[39;00m\n\u001b[1;32m    213\u001b[0m \u001b[38;5;124;03m\"\"\"\u001b[39;00m\n\u001b[1;32m    214\u001b[0m example \u001b[38;5;241m=\u001b[39m json\u001b[38;5;241m.\u001b[39mload(\u001b[38;5;28mopen\u001b[39m(os\u001b[38;5;241m.\u001b[39mpath\u001b[38;5;241m.\u001b[39mjoin(example_dir, \u001b[38;5;124m\"\u001b[39m\u001b[38;5;124mexample.json\u001b[39m\u001b[38;5;124m\"\u001b[39m), \u001b[38;5;124m\"\u001b[39m\u001b[38;5;124mr\u001b[39m\u001b[38;5;124m\"\u001b[39m))\n\u001b[0;32m--> 215\u001b[0m example \u001b[38;5;241m=\u001b[39m \u001b[43mMistakeDetectionExample\u001b[49m\u001b[38;5;241;43m.\u001b[39;49m\u001b[43mfrom_dict\u001b[49m\u001b[43m(\u001b[49m\u001b[43mexample\u001b[49m\u001b[43m,\u001b[49m\u001b[43m \u001b[49m\u001b[43mload_frames\u001b[49m\u001b[38;5;241;43m=\u001b[39;49m\u001b[43mload_frames\u001b[49m\u001b[43m)\u001b[49m\n\u001b[1;32m    216\u001b[0m \u001b[38;5;28;01mreturn\u001b[39;00m example\n",
      "File \u001b[0;32m/nfs/turbo/coe-chaijy/sstorks/simulation_informed_pcr4nlu/TRAVEl/travel/data/mistake_detection.py:51\u001b[0m, in \u001b[0;36mMistakeDetectionExample.from_dict\u001b[0;34m(data, load_frames)\u001b[0m\n\u001b[1;32m     49\u001b[0m \u001b[38;5;28;01massert\u001b[39;00m \u001b[38;5;124m\"\u001b[39m\u001b[38;5;124mframes\u001b[39m\u001b[38;5;124m\"\u001b[39m \u001b[38;5;129;01min\u001b[39;00m data, \u001b[38;5;124m\"\u001b[39m\u001b[38;5;124mCan\u001b[39m\u001b[38;5;124m'\u001b[39m\u001b[38;5;124mt use from_dict on this class without including `frames` list of images.\u001b[39m\u001b[38;5;124m\"\u001b[39m\n\u001b[1;32m     50\u001b[0m \u001b[38;5;28;01mif\u001b[39;00m load_frames:\n\u001b[0;32m---> 51\u001b[0m     data[\u001b[38;5;124m\"\u001b[39m\u001b[38;5;124mframes\u001b[39m\u001b[38;5;124m\"\u001b[39m] \u001b[38;5;241m=\u001b[39m [Image\u001b[38;5;241m.\u001b[39mopen(fname) \u001b[38;5;28;01mfor\u001b[39;00m fname \u001b[38;5;129;01min\u001b[39;00m data[\u001b[38;5;124m\"\u001b[39m\u001b[38;5;124mframes\u001b[39m\u001b[38;5;124m\"\u001b[39m]]\n\u001b[1;32m     52\u001b[0m example \u001b[38;5;241m=\u001b[39m MistakeDetectionExample(\u001b[38;5;241m*\u001b[39m\u001b[38;5;241m*\u001b[39mdata)\n\u001b[1;32m     53\u001b[0m \u001b[38;5;28;01mreturn\u001b[39;00m example\n",
      "File \u001b[0;32m/nfs/turbo/coe-chaijy/sstorks/simulation_informed_pcr4nlu/TRAVEl/travel/data/mistake_detection.py:51\u001b[0m, in \u001b[0;36m<listcomp>\u001b[0;34m(.0)\u001b[0m\n\u001b[1;32m     49\u001b[0m \u001b[38;5;28;01massert\u001b[39;00m \u001b[38;5;124m\"\u001b[39m\u001b[38;5;124mframes\u001b[39m\u001b[38;5;124m\"\u001b[39m \u001b[38;5;129;01min\u001b[39;00m data, \u001b[38;5;124m\"\u001b[39m\u001b[38;5;124mCan\u001b[39m\u001b[38;5;124m'\u001b[39m\u001b[38;5;124mt use from_dict on this class without including `frames` list of images.\u001b[39m\u001b[38;5;124m\"\u001b[39m\n\u001b[1;32m     50\u001b[0m \u001b[38;5;28;01mif\u001b[39;00m load_frames:\n\u001b[0;32m---> 51\u001b[0m     data[\u001b[38;5;124m\"\u001b[39m\u001b[38;5;124mframes\u001b[39m\u001b[38;5;124m\"\u001b[39m] \u001b[38;5;241m=\u001b[39m [\u001b[43mImage\u001b[49m\u001b[38;5;241;43m.\u001b[39;49m\u001b[43mopen\u001b[49m\u001b[43m(\u001b[49m\u001b[43mfname\u001b[49m\u001b[43m)\u001b[49m \u001b[38;5;28;01mfor\u001b[39;00m fname \u001b[38;5;129;01min\u001b[39;00m data[\u001b[38;5;124m\"\u001b[39m\u001b[38;5;124mframes\u001b[39m\u001b[38;5;124m\"\u001b[39m]]\n\u001b[1;32m     52\u001b[0m example \u001b[38;5;241m=\u001b[39m MistakeDetectionExample(\u001b[38;5;241m*\u001b[39m\u001b[38;5;241m*\u001b[39mdata)\n\u001b[1;32m     53\u001b[0m \u001b[38;5;28;01mreturn\u001b[39;00m example\n",
      "File \u001b[0;32m~/.cache/pypoetry/virtualenvs/travel-nQET-zRt-py3.10/lib/python3.10/site-packages/PIL/Image.py:3286\u001b[0m, in \u001b[0;36mopen\u001b[0;34m(fp, mode, formats)\u001b[0m\n\u001b[1;32m   3283\u001b[0m     fp \u001b[38;5;241m=\u001b[39m io\u001b[38;5;241m.\u001b[39mBytesIO(fp\u001b[38;5;241m.\u001b[39mread())\n\u001b[1;32m   3284\u001b[0m     exclusive_fp \u001b[38;5;241m=\u001b[39m \u001b[38;5;28;01mTrue\u001b[39;00m\n\u001b[0;32m-> 3286\u001b[0m prefix \u001b[38;5;241m=\u001b[39m \u001b[43mfp\u001b[49m\u001b[38;5;241;43m.\u001b[39;49m\u001b[43mread\u001b[49m\u001b[43m(\u001b[49m\u001b[38;5;241;43m16\u001b[39;49m\u001b[43m)\u001b[49m\n\u001b[1;32m   3288\u001b[0m preinit()\n\u001b[1;32m   3290\u001b[0m accept_warnings \u001b[38;5;241m=\u001b[39m []\n",
      "\u001b[0;31mKeyboardInterrupt\u001b[0m: "
     ]
    }
   ],
   "source": [
    "annotate_examples = random.sample(list(range(n_examples)), 10000)\n",
    "\n",
    "for example_idx in annotate_examples:\n",
    "    example = dataset[example_idx]\n",
    "    # if example.procedure_description.startswith(\"Peel\") or example.procedure_description.startswith(\"Chop\") or example.procedure_description.startswith(\"Cut\"):\n",
    "    # if example.procedure_description.startswith(\"Break\"):\n",
    "    if example.procedure_description.startswith(\"Take\"):\n",
    "        print(example.procedure_id, example.procedure_description)"
   ]
  },
  {
   "cell_type": "code",
   "execution_count": 4,
   "id": "2d1d7936",
   "metadata": {},
   "outputs": [
    {
     "data": {
      "text/plain": [
       "'Move a safety belt buckle'"
      ]
     },
     "execution_count": 4,
     "metadata": {},
     "output_type": "execute_result"
    }
   ],
   "source": [
    "import spacy\n",
    "from travel.data.utils.text import simple_present_to_imperative\n",
    "nlp = spacy.load('en_core_web_sm')\n",
    "\n",
    "simple_present_to_imperative(nlp, \"Someone Moves a safety belt buckle.\")"
   ]
  },
  {
   "cell_type": "code",
   "execution_count": 19,
   "id": "564c52b6",
   "metadata": {},
   "outputs": [
    {
     "data": {
      "text/plain": [
       "[(True, 'container', 'Is there water in the blue image?')]"
      ]
     },
     "execution_count": 19,
     "metadata": {},
     "output_type": "execute_result"
    }
   ],
   "source": [
    "from travel.model.grounding import SpatialVisualFilter\n",
    "\n",
    "SpatialVisualFilter.parse_questions_for_spatial_attention_filter(nlp, [\"Is there water in the blue container?\"])"
   ]
  }
 ],
 "metadata": {
  "kernelspec": {
   "display_name": "travel",
   "language": "python",
   "name": "travel"
  },
  "language_info": {
   "codemirror_mode": {
    "name": "ipython",
    "version": 3
   },
   "file_extension": ".py",
   "mimetype": "text/x-python",
   "name": "python",
   "nbconvert_exporter": "python",
   "pygments_lexer": "ipython3",
   "version": "3.10.9"
  }
 },
 "nbformat": 4,
 "nbformat_minor": 5
}
