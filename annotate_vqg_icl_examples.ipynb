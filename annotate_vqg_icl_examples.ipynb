{
 "cells": [
  {
   "cell_type": "code",
   "execution_count": 2,
   "id": "609598b0-4653-4b42-85ba-2a38a01e4300",
   "metadata": {},
   "outputs": [
    {
     "name": "stdout",
     "output_type": "stream",
     "text": [
      "The autoreload extension is already loaded. To reload it, use:\n",
      "  %reload_ext autoreload\n"
     ]
    }
   ],
   "source": [
    "%load_ext autoreload\n",
    "%autoreload 2\n",
    "\n",
    "import os\n",
    "from travel import init_travel\n",
    "init_travel()"
   ]
  },
  {
   "cell_type": "markdown",
   "id": "e3bb6f5d",
   "metadata": {},
   "source": [
    "# Ego4D Data"
   ]
  },
  {
   "cell_type": "code",
   "execution_count": 5,
   "id": "72a51139",
   "metadata": {},
   "outputs": [
    {
     "name": "stdout",
     "output_type": "stream",
     "text": [
      "433005 Pick grass\n",
      "332006 Open a tap\n",
      "548054 Pick anotyour book from the set of books on the shelf with your left hand\n",
      "619028 Knit   the fabric\n",
      "429098 Drop the dough on the plank with both hands\n",
      "753346 Adjust the brick on the ground with the brick mortar\n",
      "72074 Wipe drawing brush on a paper\n",
      "266096 Move the brick mold closer to the bricks aligned on the ground\n",
      "290076 Fix the nut in your left hand to the screwdriver\n",
      "100066 Put down a craft model on a stool\n",
      "146262 Someone Removes the mats from the car.\n",
      "542003 Hold the handle of the door\n",
      "621002 Adjust the machine cover with your left hand\n",
      "710106 Fold the cloths\n",
      "682186 Take garden shear and dustpan\n",
      "146139 Someone Moves a safety belt buckle.\n",
      "525050 Connect a cable to the power bank\n",
      "584040 Drop the can drink on the table\n",
      "442007 Put the jug in the cabinet\n",
      "156036 Close oven\n"
     ]
    }
   ],
   "source": [
    "from pprint import pprint\n",
    "import random\n",
    "\n",
    "from travel.data.ego4d import Ego4DMistakeDetectionDataset\n",
    "\n",
    "dataset = Ego4DMistakeDetectionDataset(data_split=\"train\", mismatch_augmentation=False)\n",
    "n_examples = len(dataset)\n",
    "\n",
    "annotate_examples = random.sample(list(range(n_examples)), 20)\n",
    "\n",
    "for example_idx in annotate_examples:\n",
    "    example = dataset[example_idx]\n",
    "    print(example.procedure_id, example.procedure_description)"
   ]
  },
  {
   "cell_type": "code",
   "execution_count": null,
   "id": "2d1d7936",
   "metadata": {},
   "outputs": [],
   "source": [
    "import spacy\n",
    "from travel.data.utils.text import simple_present_to_imperative\n",
    "nlp = spacy.load('en_core_web_sm')"
   ]
  }
 ],
 "metadata": {
  "kernelspec": {
   "display_name": "travel",
   "language": "python",
   "name": "travel"
  },
  "language_info": {
   "codemirror_mode": {
    "name": "ipython",
    "version": 3
   },
   "file_extension": ".py",
   "mimetype": "text/x-python",
   "name": "python",
   "nbconvert_exporter": "python",
   "pygments_lexer": "ipython3",
   "version": "3.10.9"
  }
 },
 "nbformat": 4,
 "nbformat_minor": 5
}
