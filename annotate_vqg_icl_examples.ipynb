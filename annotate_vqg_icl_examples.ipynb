{
 "cells": [
  {
   "cell_type": "code",
   "execution_count": 1,
   "id": "609598b0-4653-4b42-85ba-2a38a01e4300",
   "metadata": {},
   "outputs": [],
   "source": [
    "%load_ext autoreload\n",
    "%autoreload 2\n",
    "\n",
    "import os\n",
    "from travel import init_travel\n",
    "init_travel()"
   ]
  },
  {
   "cell_type": "markdown",
   "id": "e3bb6f5d",
   "metadata": {},
   "source": [
    "# Ego4D Data"
   ]
  },
  {
   "cell_type": "code",
   "execution_count": 2,
   "id": "72a51139",
   "metadata": {},
   "outputs": [
    {
     "name": "stderr",
     "output_type": "stream",
     "text": [
      "/home/sstorks/.cache/pypoetry/virtualenvs/travel-nQET-zRt-py3.10/lib/python3.10/site-packages/torch/cuda/__init__.py:628: UserWarning: Can't initialize NVML\n",
      "  warnings.warn(\"Can't initialize NVML\")\n"
     ]
    }
   ],
   "source": [
    "from pprint import pprint\n",
    "import random\n",
    "\n",
    "from travel.data.ego4d import Ego4DMistakeDetectionDataset\n",
    "\n",
    "dataset = Ego4DMistakeDetectionDataset(data_split=\"train\", mismatch_augmentation=False)\n",
    "n_examples = len(dataset)\n",
    "\n"
   ]
  },
  {
   "cell_type": "code",
   "execution_count": 85,
   "id": "d53ee99a",
   "metadata": {},
   "outputs": [
    {
     "name": "stdout",
     "output_type": "stream",
     "text": [
      "443114 Pick pieces of plant in the sink\n",
      "504185 Open the door\n",
      "737039 Clean the floor with the vacuum cleaner\n",
      "376659 Open the guide book\n",
      "522217 Pour something on the cooking pot\n",
      "743012 Drop the grid pins in a cylinder body cover with the plier in your gloved right hand\n",
      "72003 Open the paint palette\n",
      "735071 Pick up the paper alphabet from the cardboard\n",
      "597056 Take washing sponge\n",
      "512101 Tie the vines togetyour with the piece of rope\n",
      "167067 Pick the laminate wood from the floor\n",
      "736234 Put the plastering trowel and the bricklaying trowel in the pan\n",
      "310086 Pick up some flowers in the tray with your right hand\n",
      "760200 Measure the concrete bricks with the rope\n",
      "522108 Dip the right hand on a tin\n",
      "592264 Hold the plant with your left hand\n",
      "599037 Put the scrubber on the sink\n",
      "742046 Move the cards on the table\n",
      "305024 Pull the gear\n",
      "760242 Smoothen the concrete on the brick with the hand trowel\n"
     ]
    }
   ],
   "source": [
    "annotate_examples = random.sample(list(range(n_examples)), 20)\n",
    "\n",
    "for example_idx in annotate_examples:\n",
    "    example = dataset[example_idx]\n",
    "    print(example.procedure_id, example.procedure_description)"
   ]
  },
  {
   "cell_type": "code",
   "execution_count": 91,
   "id": "92673905",
   "metadata": {},
   "outputs": [
    {
     "name": "stdout",
     "output_type": "stream",
     "text": [
      "592097 Break the molded soil on the pavement with the pruner in your right hand\n",
      "449190 Break the root of the plant\n",
      "320007 Break waste with both hands\n",
      "592289 Break the stone into the vase with your right hand\n",
      "513269 Break the walnut with the nutcracker in your right hand\n",
      "41202 Break the butter on your left hand into two with both hands\n",
      "592165 Break the dirt with your hands\n",
      "449084 Break out part of the root of the plant\n",
      "449087 Break out part of the root of the plant\n",
      "513189 Break the walnut with the nutcracker in your right hand\n"
     ]
    }
   ],
   "source": [
    "annotate_examples = random.sample(list(range(n_examples)), 10000)\n",
    "\n",
    "for example_idx in annotate_examples:\n",
    "    example = dataset[example_idx]\n",
    "    # if example.procedure_description.startswith(\"Peel\") or example.procedure_description.startswith(\"Chop\") or example.procedure_description.startswith(\"Cut\"):\n",
    "    if example.procedure_description.startswith(\"Break\"):\n",
    "        print(example.procedure_id, example.procedure_description)"
   ]
  },
  {
   "cell_type": "code",
   "execution_count": 4,
   "id": "2d1d7936",
   "metadata": {},
   "outputs": [
    {
     "data": {
      "text/plain": [
       "'Move a safety belt buckle'"
      ]
     },
     "execution_count": 4,
     "metadata": {},
     "output_type": "execute_result"
    }
   ],
   "source": [
    "import spacy\n",
    "from travel.data.utils.text import simple_present_to_imperative\n",
    "nlp = spacy.load('en_core_web_sm')\n",
    "\n",
    "simple_present_to_imperative(nlp, \"Someone Moves a safety belt buckle.\")"
   ]
  },
  {
   "cell_type": "code",
   "execution_count": 19,
   "id": "564c52b6",
   "metadata": {},
   "outputs": [
    {
     "data": {
      "text/plain": [
       "[(True, 'container', 'Is there water in the blue image?')]"
      ]
     },
     "execution_count": 19,
     "metadata": {},
     "output_type": "execute_result"
    }
   ],
   "source": [
    "from travel.model.grounding import SpatialVisualFilter\n",
    "\n",
    "SpatialVisualFilter.parse_questions_for_spatial_attention_filter(nlp, [\"Is there water in the blue container?\"])"
   ]
  }
 ],
 "metadata": {
  "kernelspec": {
   "display_name": "travel",
   "language": "python",
   "name": "travel"
  },
  "language_info": {
   "codemirror_mode": {
    "name": "ipython",
    "version": 3
   },
   "file_extension": ".py",
   "mimetype": "text/x-python",
   "name": "python",
   "nbconvert_exporter": "python",
   "pygments_lexer": "ipython3",
   "version": "3.10.9"
  }
 },
 "nbformat": 4,
 "nbformat_minor": 5
}
