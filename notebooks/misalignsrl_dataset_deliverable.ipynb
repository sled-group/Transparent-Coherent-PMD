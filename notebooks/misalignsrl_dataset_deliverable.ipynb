{
 "cells": [
  {
   "cell_type": "markdown",
   "metadata": {},
   "source": [
    "# This notebook contains deliverables of MisalignSRL dataset\n",
    "> Author: Yayuan Li (yayuanli@umich.edu)"
   ]
  },
  {
   "cell_type": "markdown",
   "metadata": {},
   "source": [
    "## update (refert to meeting 20240717)\n",
    "- download the new index file from `https://prism.eecs.umich.edu/yayuanli/z_web/dataset/Ego4D_Mistake/misalignsrl_more_samples_same_split_combinedwords_wohand_objectstatesafe.parquet`\n",
    "- set `parquet_path` and read/run this section to demonstrate\n",
    "- downstream usage of this index file should be compatible with previous delivered version."
   ]
  },
  {
   "cell_type": "code",
   "execution_count": 1,
   "metadata": {},
   "outputs": [],
   "source": [
    "# load original data\n",
    "import pandas as pd\n",
    "\n",
    "# load parquet to pandas DF\n",
    "parquet_path = '/home/yayuanli/fun/mistake_detection/fine_grained_action_mistake_detection/dataset/ego4d_fho_main/misalignsrl_more_samples_same_split_combinedwords_wohand_objectstatesafe.parquet'\n",
    "misalignsrl = pd.read_parquet(parquet_path)"
   ]
  },
  {
   "cell_type": "markdown",
   "metadata": {},
   "source": [
    "### update 1: make sure misalignsrl samples are object-state-safe\n",
    "For a misaligned video sample `A`, make sure the target narration `B` did not happened before in the parent long video (`C`) of `A`.\n",
    "\n",
    "Otherwise, although the content of `A` itself is misaligned with `B`, in the background, the object state may show `B` has been finished.\n",
    "\n",
    "*Following are the examples of the filtered object-state-unsafe samples. This is just for testing/demonstration. You do not need this txt file to reproduce this.*"
   ]
  },
  {
   "cell_type": "code",
   "execution_count": 4,
   "metadata": {},
   "outputs": [
    {
     "name": "stdout",
     "output_type": "stream",
     "text": [
      "candicate_misalign_sample: ('42e4a840-68a1-4992-923d-7452500b4218_68880_69120', 'C drops the dough in the dough sheeter') \n",
      "\n",
      " target_narration: {'V': 'add', 'ARG1': 'dough'} \n",
      "\n",
      " target_matched_history_sample: ('42e4a840-68a1-4992-923d-7452500b4218_850_1090', 'C adds the scraped dough to the dough')\n",
      "\n",
      "====\n",
      "\n",
      "candicate_misalign_sample: ('42e4a840-68a1-4992-923d-7452500b4218_64442_64682', 'C pours out the dough in the bowl on the table') \n",
      "\n",
      " target_narration: {'V': 'add', 'ARG1': 'dough'} \n",
      "\n",
      " target_matched_history_sample: ('42e4a840-68a1-4992-923d-7452500b4218_850_1090', 'C adds the scraped dough to the dough')\n",
      "\n",
      "====\n",
      "\n",
      "candicate_misalign_sample: ('42e4a840-68a1-4992-923d-7452500b4218_63153_63393', 'C throws a dough in a bowl on a scale') \n",
      "\n",
      " target_narration: {'V': 'add', 'ARG1': 'dough'} \n",
      "\n"
     ]
    }
   ],
   "source": [
    "# read txt file (first 10 lines)\n",
    "txt_path = \"/home/yayuanli/fun/mistake_detection/fine_grained_action_mistake_detection/src/object_unsafe_samples.txt\"\n",
    "with open(txt_path, 'r') as f:\n",
    "    for i in range(10):\n",
    "        print(f.readline())\n",
    "        "
   ]
  },
  {
   "cell_type": "markdown",
   "metadata": {},
   "source": [
    "### update 2: For ARG1 (noun), if there is a combined word (e.g., \"nail gun\"), use it as the matching word. If no combined words, use the first word that is SRLed as ARG1\n",
    "\n",
    "Examples: \n",
    "\n",
    "```bash\n",
    "C places the wood plank on the shooting board. ['place']_['wood plank']\n",
    "C smears the watercolor on the paint brush  ['smear']_['watercolor']\n",
    "C checks the cloth ['check']_['cloth']\n",
    "C places the plant inside the flower pot with his right hand ['place']_['plant']\n",
    "C drops the wooden spoon on the pot with her right hand ['drop']_['wooden spoon']\n",
    "C puts water on a plastic  bowl ['put']_['water']\n",
    "C lifts the onion  ['lift']_['onion']\n",
    "C picks up a card ['pick']_['card']\n",
    "C pulls out the needle from the bag. ['pull']_['needle']\n",
    "C sharpens the knife.  ['sharpen']_['knife']\n",
    "...\n",
    "```"
   ]
  },
  {
   "cell_type": "markdown",
   "metadata": {},
   "source": [
    "### update 3 (a request): return the matching word (the word used for determine (mis)alignment)\n",
    "It is the column `valid_txt_verb_single` for `V` and `valid_txt_noun_single` for `ARG1`.\n",
    "\n",
    "Note that they are all one element list. I.e., there is only one matching word for each semantic role (as described in update1, it is the first combined word or the first word)\n",
    "\n",
    "Also, note that it is a list stored as str during the `pd.to_csv` process. One could recover it to list by `eval()`\n"
   ]
  },
  {
   "cell_type": "code",
   "execution_count": 5,
   "metadata": {},
   "outputs": [
    {
     "name": "stdout",
     "output_type": "stream",
     "text": [
      "original value and data type: ['paper bag'] <class 'str'>\n",
      "converted value and data type: ['paper bag'] <class 'list'>\n"
     ]
    }
   ],
   "source": [
    "avalue = misalignsrl[\"valid_txt_noun_single\"].iloc[0]\n",
    "print(f\"original value and data type: {avalue} {type(avalue)}\")\n",
    "print(f\"converted value and data type: {eval(avalue)} {type(eval(avalue))}\")\n",
    "\n"
   ]
  },
  {
   "cell_type": "markdown",
   "metadata": {},
   "source": [
    "### update 4: filter out the misalignsrl samples where \"hand\" is the matching word for ARG1\n",
    "ratio of narrations remained after filtering out 'hand': 0.9634594285169108"
   ]
  },
  {
   "cell_type": "code",
   "execution_count": 6,
   "metadata": {},
   "outputs": [
    {
     "data": {
      "text/plain": [
       "0"
      ]
     },
     "execution_count": 6,
     "metadata": {},
     "output_type": "execute_result"
    }
   ],
   "source": [
    "# demonstration\n",
    "sum(misalignsrl[\"valid_txt_noun_single\"] == \"['hand']\")"
   ]
  },
  {
   "cell_type": "code",
   "execution_count": 7,
   "metadata": {},
   "outputs": [
    {
     "data": {
      "text/html": [
       "<div>\n",
       "<style scoped>\n",
       "    .dataframe tbody tr th:only-of-type {\n",
       "        vertical-align: middle;\n",
       "    }\n",
       "\n",
       "    .dataframe tbody tr th {\n",
       "        vertical-align: top;\n",
       "    }\n",
       "\n",
       "    .dataframe thead th {\n",
       "        text-align: right;\n",
       "    }\n",
       "</style>\n",
       "<table border=\"1\" class=\"dataframe\">\n",
       "  <thead>\n",
       "    <tr style=\"text-align: right;\">\n",
       "      <th></th>\n",
       "      <th>video_uid_narration_timestamp_sec</th>\n",
       "      <th>narr_uid</th>\n",
       "      <th>narration_text</th>\n",
       "      <th>MisalignSRL_V</th>\n",
       "      <th>MisalignSRL_ARG1</th>\n",
       "      <th>MisalignSRL_V_ARG1</th>\n",
       "      <th>alignment_group_idx</th>\n",
       "      <th>video_uid</th>\n",
       "      <th>start_frame</th>\n",
       "      <th>end_frame</th>\n",
       "      <th>...</th>\n",
       "      <th>clip_end_sec</th>\n",
       "      <th>clip_start_frame</th>\n",
       "      <th>clip_end_frame</th>\n",
       "      <th>narration_timestamp_sec</th>\n",
       "      <th>clip_narration_timestamp_sec</th>\n",
       "      <th>noun_vec_coarse</th>\n",
       "      <th>noun_vec_fine</th>\n",
       "      <th>verb_vec_coarse</th>\n",
       "      <th>verb_vec_fine</th>\n",
       "      <th>narration_annotation_uid</th>\n",
       "    </tr>\n",
       "  </thead>\n",
       "  <tbody>\n",
       "  </tbody>\n",
       "</table>\n",
       "<p>0 rows × 30 columns</p>\n",
       "</div>"
      ],
      "text/plain": [
       "Empty DataFrame\n",
       "Columns: [video_uid_narration_timestamp_sec, narr_uid, narration_text, MisalignSRL_V, MisalignSRL_ARG1, MisalignSRL_V_ARG1, alignment_group_idx, video_uid, start_frame, end_frame, ARG0, V, ARG1, valid_txt_noun, valid_txt_verb, valid_txt_verb_single, valid_txt_noun_single, start_sec, end_sec, clip_start_sec, clip_end_sec, clip_start_frame, clip_end_frame, narration_timestamp_sec, clip_narration_timestamp_sec, noun_vec_coarse, noun_vec_fine, verb_vec_coarse, verb_vec_fine, narration_annotation_uid]\n",
       "Index: []\n",
       "\n",
       "[0 rows x 30 columns]"
      ]
     },
     "execution_count": 7,
     "metadata": {},
     "output_type": "execute_result"
    }
   ],
   "source": [
    "# the bad example Shane showed me is not there any more\n",
    "misalignsrl[(misalignsrl[\"video_uid\"] == \"c7d5d40f-840c-4be0-b79d-ab41394479a2\") & (abs(misalignsrl[\"narration_timestamp_sec\"]-804.11388) < 0.01)]"
   ]
  },
  {
   "cell_type": "markdown",
   "metadata": {},
   "source": [
    "## Request on 20240627 (Slack)\n",
    "Initial request\n",
    "```bash\n",
    "Hi Yayuan! I’m wondering if there’s a way for me to access your SRL results on the ego4d narrations? I’m thinking I might need them to filter out some types of actions that are kind of out of scope for my work.\n",
    "```\n",
    "\n",
    "Response:\n",
    "- down load `https://prism.eecs.umich.edu/yayuanli/z_web/dataset/Ego4D_Mistake/v1/misalignsrl_more_samples_same_split.parquet`\n",
    "- Put the path to `parquet_path`\n",
    "- run this section"
   ]
  },
  {
   "cell_type": "code",
   "execution_count": 15,
   "metadata": {},
   "outputs": [
    {
     "name": "stdout",
     "output_type": "stream",
     "text": [
      "narration_text: C turns off the tap \n",
      "V: turns, ARG1: the tap\n",
      "V (as group): ['turn'], ARG1 (as group): ['tap']\n",
      "columns: Index(['video_uid_narration_timestamp_sec', 'narr_uid', 'narration_text',\n",
      "       'MisalignSRL_V', 'MisalignSRL_ARG1', 'MisalignSRL_V_ARG1',\n",
      "       'alignment_group_idx', 'video_uid', 'start_frame', 'end_frame', 'ARG0',\n",
      "       'V', 'ARG1', 'valid_txt_noun', 'valid_txt_verb',\n",
      "       'valid_txt_verb_single', 'valid_txt_noun_single', 'start_sec',\n",
      "       'end_sec', 'clip_start_sec', 'clip_end_sec', 'clip_start_frame',\n",
      "       'clip_end_frame', 'narration_timestamp_sec',\n",
      "       'clip_narration_timestamp_sec', 'noun_vec_coarse', 'noun_vec_fine',\n",
      "       'verb_vec_coarse', 'verb_vec_fine', 'narration_annotation_uid'],\n",
      "      dtype='object')\n"
     ]
    }
   ],
   "source": [
    "import pandas as pd\n",
    "import random\n",
    "\n",
    "# load parquet to pandas DF\n",
    "parquet_path = '/nfs/turbo/coe-chaijy/sstorks/simulation_informed_pcr4nlu/TRAVEl/ego4d_mismatch_srl_files/misalignsrl_more_samples_same_split_combinedwords_wohand_objectstatesafe.parquet'\n",
    "misalignsrl = pd.read_parquet(parquet_path)\n",
    "# select a random row\n",
    "row = misalignsrl.iloc[random.randint(0, len(misalignsrl))]\n",
    "# print narration, V, ARG1\n",
    "print(f\"narration_text: {row['narration_text']}\")\n",
    "print(f\"V: {row['V']}, ARG1: {row['ARG1']}\")\n",
    "print(f\"V (as group): {row['valid_txt_verb_single']}, ARG1 (as group): {row['valid_txt_noun_single']}\")\n",
    "# print columns\n",
    "print(f\"columns: {misalignsrl.columns}\")"
   ]
  },
  {
   "cell_type": "markdown",
   "metadata": {},
   "source": [
    "## Previous requests (before 20240627)\n",
    "- https://github.com/shanestorks/TRAVEl/pull/23\n",
    "- https://github.com/shanestorks/TRAVEl/pull/3"
   ]
  },
  {
   "cell_type": "markdown",
   "metadata": {},
   "source": []
  },
  {
   "cell_type": "markdown",
   "metadata": {},
   "source": []
  }
 ],
 "metadata": {
  "kernelspec": {
   "display_name": "travel",
   "language": "python",
   "name": "travel"
  },
  "language_info": {
   "codemirror_mode": {
    "name": "ipython",
    "version": 3
   },
   "file_extension": ".py",
   "mimetype": "text/x-python",
   "name": "python",
   "nbconvert_exporter": "python",
   "pygments_lexer": "ipython3",
   "version": "3.10.9"
  }
 },
 "nbformat": 4,
 "nbformat_minor": 4
}
