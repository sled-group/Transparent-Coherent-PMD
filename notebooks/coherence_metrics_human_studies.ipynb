{
 "cells": [
  {
   "cell_type": "code",
   "execution_count": 1,
   "id": "609598b0-4653-4b42-85ba-2a38a01e4300",
   "metadata": {},
   "outputs": [],
   "source": [
    "%load_ext autoreload\n",
    "%autoreload 2\n",
    "\n",
    "import os\n",
    "os.chdir(\"/nfs/turbo/coe-chaijy/sstorks/simulation_informed_pcr4nlu/TRAVEl\")\n",
    "from travel import init_travel\n",
    "init_travel()"
   ]
  },
  {
   "cell_type": "code",
   "execution_count": 3,
   "id": "ff104c30-0388-47fa-871b-8a0d3533cd49",
   "metadata": {},
   "outputs": [
    {
     "data": {
      "application/vnd.jupyter.widget-view+json": {
       "model_id": "bd9c0ccbedb94cd8bef44b4e1d0b10de",
       "version_major": 2,
       "version_minor": 0
      },
      "text/plain": [
       "config.json:   0%|          | 0.00/665 [00:00<?, ?B/s]"
      ]
     },
     "metadata": {},
     "output_type": "display_data"
    },
    {
     "data": {
      "application/vnd.jupyter.widget-view+json": {
       "model_id": "690321afeef541fd84785fb85c63b4f4",
       "version_major": 2,
       "version_minor": 0
      },
      "text/plain": [
       "model.safetensors:   0%|          | 0.00/548M [00:00<?, ?B/s]"
      ]
     },
     "metadata": {},
     "output_type": "display_data"
    },
    {
     "data": {
      "application/vnd.jupyter.widget-view+json": {
       "model_id": "705237ece83e4879ae1fa6802e34958f",
       "version_major": 2,
       "version_minor": 0
      },
      "text/plain": [
       "generation_config.json:   0%|          | 0.00/124 [00:00<?, ?B/s]"
      ]
     },
     "metadata": {},
     "output_type": "display_data"
    }
   ],
   "source": [
    "from transformers import AutoModelForCausalLM\n",
    "\n",
    "lm = AutoModelForCausalLM.from_pretrained(\"gpt2\")"
   ]
  },
  {
   "cell_type": "code",
   "execution_count": 4,
   "id": "3a47cafe-dc6f-4b4e-9a10-df15514caf21",
   "metadata": {},
   "outputs": [
    {
     "data": {
      "application/vnd.jupyter.widget-view+json": {
       "model_id": "b83ce38f419341118c4710ad74b80dca",
       "version_major": 2,
       "version_minor": 0
      },
      "text/plain": [
       "tokenizer_config.json:   0%|          | 0.00/26.0 [00:00<?, ?B/s]"
      ]
     },
     "metadata": {},
     "output_type": "display_data"
    },
    {
     "data": {
      "application/vnd.jupyter.widget-view+json": {
       "model_id": "edb0b9020e95464dac1748e4fadc6186",
       "version_major": 2,
       "version_minor": 0
      },
      "text/plain": [
       "vocab.json:   0%|          | 0.00/1.04M [00:00<?, ?B/s]"
      ]
     },
     "metadata": {},
     "output_type": "display_data"
    },
    {
     "data": {
      "application/vnd.jupyter.widget-view+json": {
       "model_id": "8d64f070538f4073ac902109fb52326b",
       "version_major": 2,
       "version_minor": 0
      },
      "text/plain": [
       "merges.txt:   0%|          | 0.00/456k [00:00<?, ?B/s]"
      ]
     },
     "metadata": {},
     "output_type": "display_data"
    },
    {
     "data": {
      "application/vnd.jupyter.widget-view+json": {
       "model_id": "c9bbd790c24149e8a21f3c2ee90948bc",
       "version_major": 2,
       "version_minor": 0
      },
      "text/plain": [
       "tokenizer.json:   0%|          | 0.00/1.36M [00:00<?, ?B/s]"
      ]
     },
     "metadata": {},
     "output_type": "display_data"
    }
   ],
   "source": [
    "from transformers import AutoTokenizer\n",
    "\n",
    "tokenizer = AutoTokenizer.from_pretrained(\"gpt2\")"
   ]
  },
  {
   "cell_type": "code",
   "execution_count": 9,
   "id": "7332e21f-8c22-4371-86c4-c6deae182b81",
   "metadata": {},
   "outputs": [
    {
     "name": "stderr",
     "output_type": "stream",
     "text": [
      "Setting `pad_token_id` to `eos_token_id`:None for open-end generation.\n"
     ]
    },
    {
     "name": "stdout",
     "output_type": "stream",
     "text": [
      "tensor([[15496,   995,    11,   314,  1101,   407,  1654,   644,   284,   910,\n",
      "            13,   198,   198,     1,    40,  1101,  7926,    11,   475,   314]])\n",
      "['Hello world, I\\'m not sure what to say.\\n\\n\"I\\'m sorry, but I']\n"
     ]
    }
   ],
   "source": [
    "from pprint import pprint\n",
    "\n",
    "prompt = \"Hello world\"\n",
    "tokens = tokenizer(prompt, return_tensors=\"pt\")\n",
    "outputs = lm.generate(**tokens)\n",
    "pprint(outputs)\n",
    "outputs_decoded = tokenizer.batch_decode(outputs)\n",
    "\n",
    "pprint(outputs_decoded)"
   ]
  },
  {
   "cell_type": "markdown",
   "id": "68dfe59f",
   "metadata": {
    "jp-MarkdownHeadingCollapsed": true,
    "tags": []
   },
   "source": [
    "# Load preds"
   ]
  },
  {
   "cell_type": "code",
   "execution_count": 2,
   "id": "26f0084f",
   "metadata": {},
   "outputs": [
    {
     "name": "stdout",
     "output_type": "stream",
     "text": [
      "{'answer_probs': [[0.010489, 0.989511],\n",
      "                  [0.7773, 0.2227],\n",
      "                  [0.007233, 0.992767],\n",
      "                  [0.651355, 0.348645],\n",
      "                  [0.307358, 0.692642],\n",
      "                  [0.33112, 0.66888],\n",
      "                  [0.573678, 0.426322],\n",
      "                  [0.73412, 0.26588],\n",
      "                  [0.538983, 0.461017],\n",
      "                  [0.72487, 0.27513]],\n",
      " 'answers': ['Yes',\n",
      "             'No',\n",
      "             'Yes',\n",
      "             'No',\n",
      "             'Yes',\n",
      "             'Yes',\n",
      "             'Unsure',\n",
      "             'No',\n",
      "             'Unsure',\n",
      "             'No'],\n",
      " 'candidate_questions': [['Is the person wearing a lab coat?',\n",
      "                          'Is the person wearing gloves?',\n",
      "                          'Is the person wearing a white lab coat?'],\n",
      "                         ['Is the person wearing safety goggles?',\n",
      "                          'Is the person wearing gloves?'],\n",
      "                         ['Is the person wearing gloves?',\n",
      "                          'Is the person using a pipette to put the liquid in '\n",
      "                          'the paper?'],\n",
      "                         ['Is the person using a pipette to put the liquid in '\n",
      "                          'the paper?',\n",
      "                          'Is the person using a syringe to put the liquid in '\n",
      "                          'the paper?',\n",
      "                          'Is the person wearing a hat?',\n",
      "                          'Is the person using a syringe to put the liquid '\n",
      "                          'into the paper?'],\n",
      "                         ['Is the person using a pipette to put the liquid in '\n",
      "                          'the paper?',\n",
      "                          'Is the person using a dropper to put the liquid in '\n",
      "                          'the paper?'],\n",
      "                         ['Is the person using a pipette to put the liquid in '\n",
      "                          'the paper?',\n",
      "                          'Is the paper on a table?'],\n",
      "                         ['Is the person using a test tube to put the liquid '\n",
      "                          'in the paper?',\n",
      "                          'Is the person using a microscope to put the liquid '\n",
      "                          'in the paper?'],\n",
      "                         ['Is the person using a test tube to put the liquid '\n",
      "                          'in the paper?',\n",
      "                          'Is the person using a beaker to put the liquid in '\n",
      "                          'the paper?',\n",
      "                          'Is the person using a spoon to put the liquid in '\n",
      "                          'the paper?'],\n",
      "                         ['Is the person using a funnel to put the liquid in '\n",
      "                          'the paper?',\n",
      "                          'Is the person using a measuring cup to put the '\n",
      "                          'liquid in the paper?',\n",
      "                          'Is the person using a spatula to put the liquid in '\n",
      "                          'the paper?'],\n",
      "                         ['Is the person using a beaker to put the liquid in '\n",
      "                          'the paper?',\n",
      "                          'Is the person using a funnel to put the liquid in '\n",
      "                          'the paper?',\n",
      "                          'Is the person using a test tube to put the liquid '\n",
      "                          'in the paper?',\n",
      "                          'Is the person using a ruler to put the liquid in '\n",
      "                          'the paper?']],\n",
      " 'candidate_questions_scores': [[-2.6088404655456543,\n",
      "                                 -2.8505301475524902,\n",
      "                                 -2.3957202434539795],\n",
      "                                [-1.6824370622634888, -2.127070188522339],\n",
      "                                [-2.0017526149749756, -3.3623712062835693],\n",
      "                                [-4.940241813659668,\n",
      "                                 -4.340146541595459,\n",
      "                                 -4.483624458312988,\n",
      "                                 -4.494911193847656],\n",
      "                                [-4.695842742919922, -4.503211498260498],\n",
      "                                [-5.8441314697265625, -6.727949142456055],\n",
      "                                [-5.058520793914795, -4.772224426269531],\n",
      "                                [-4.7559661865234375,\n",
      "                                 -5.156332015991211,\n",
      "                                 -4.646953582763672],\n",
      "                                [-6.693734645843506,\n",
      "                                 -6.228703498840332,\n",
      "                                 -6.335910797119141],\n",
      "                                [-6.90987491607666,\n",
      "                                 -6.865169048309326,\n",
      "                                 -6.455591201782227,\n",
      "                                 -6.331698894500732]],\n",
      " 'candidate_questions_sources': [['vlm', 'vlm', 'vlm'],\n",
      "                                 ['vlm', 'vlm'],\n",
      "                                 ['vlm', 'vlm'],\n",
      "                                 ['vlm', 'vlm', 'vlm', 'vlm'],\n",
      "                                 ['vlm', 'vlm'],\n",
      "                                 ['vlm', 'vlm'],\n",
      "                                 ['vlm', 'vlm'],\n",
      "                                 ['vlm', 'vlm', 'vlm'],\n",
      "                                 ['vlm', 'vlm', 'vlm'],\n",
      "                                 ['vlm', 'vlm', 'vlm', 'vlm']],\n",
      " 'example_id': '90093217-6a61-48ce-b737-e581499cf491/144/pos',\n",
      " 'final_success_prob': 0.256832,\n",
      " 'final_turn': 2,\n",
      " 'frame_dir': '/nfs/turbo/coe-chaijy/sstorks/simulation_informed_pcr4nlu/TRAVEl_generated_data_0808/ego4d_val_seed222_mismatch_debug250/90093217-6a61-48ce-b737-e581499cf491/144/pos',\n",
      " 'informativeness': [0.178223, 0.270508, 0.03418],\n",
      " 'informativeness_marginal': [0.178223, 0.064453, 0.147461],\n",
      " 'informativeness_marginal_x_relevance_marginal': [0.013748, 0.01004, 0.019302],\n",
      " 'informativeness_marginal_x_relevance_marginal_ref': [0.0, 0.0, 0.0],\n",
      " 'mistake': False,\n",
      " 'mistake_type': None,\n",
      " 'procedure': 'Put liquid in the paper',\n",
      " 'questions': ['Is the person wearing a white lab coat?',\n",
      "               'Is the person wearing safety goggles?',\n",
      "               'Is the person wearing gloves?',\n",
      "               'Is the person using a syringe to put the liquid in the paper?',\n",
      "               'Is the person using a dropper to put the liquid in the paper?',\n",
      "               'Is the person using a pipette to put the liquid in the paper?',\n",
      "               'Is the person using a microscope to put the liquid in the '\n",
      "               'paper?',\n",
      "               'Is the person using a spoon to put the liquid in the paper?',\n",
      "               'Is the person using a measuring cup to put the liquid in the '\n",
      "               'paper?',\n",
      "               'Is the person using a ruler to put the liquid in the paper?'],\n",
      " 'relevance_marginal': [0.077148, 0.155762, 0.130859],\n",
      " 'scores': [-2.3957202434539795,\n",
      "            -1.6824370622634888,\n",
      "            -2.0017526149749756,\n",
      "            -4.340146541595459,\n",
      "            -4.503211498260498,\n",
      "            -5.8441314697265625,\n",
      "            -4.772224426269531,\n",
      "            -4.646953582763672,\n",
      "            -6.228703498840332,\n",
      "            -6.331698894500732],\n",
      " 'success_probs': [0.185947,\n",
      "                   0.182426,\n",
      "                   0.256832,\n",
      "                   0.236516,\n",
      "                   0.586996,\n",
      "                   0.635222,\n",
      "                   0.569853,\n",
      "                   0.605799,\n",
      "                   0.592667,\n",
      "                   0.581303],\n",
      " 'success_probs_negated': [0.138462,\n",
      "                           0.388618,\n",
      "                           0.115961,\n",
      "                           0.731059,\n",
      "                           0.187133,\n",
      "                           0.70253,\n",
      "                           0.699254,\n",
      "                           0.754915,\n",
      "                           0.731059,\n",
      "                           0.737158]}\n"
     ]
    }
   ],
   "source": [
    "import json\n",
    "from pprint import pprint\n",
    "\n",
    "RESULTS_PATH_LIKELIHOOD = \"/home/sstorks/coe-chaijy/sstorks/simulation_informed_pcr4nlu/TRAVEl/saved_results_222/vqa_mistake_detection/ego4d_single_debug250/llava-1.5-7b-hf/IterativeVQA_q10_ego4d_single_debug250_llava-1.5-7b-hf_beam8-4_likelihood_nohistory_20240815204213\"\n",
    "preds_l = json.load(open(os.path.join(RESULTS_PATH_LIKELIHOOD, \"outputs_val.json\"), \"r\"))\n",
    "metrics_l = json.load(open(os.path.join(RESULTS_PATH_LIKELIHOOD, \"metrics_coherence_nli_val.json\"), \"r\"))\n",
    "combined_l = [v | {\"example_id\": k, \n",
    "                   \"relevance_marginal\": metrics_l['metrics_by_turn']['relevance_marginal_by_turn'][i], \n",
    "                   \"informativeness\": metrics_l['metrics_by_turn']['informativeness_by_turn'][i], \n",
    "                   \"informativeness_marginal\": metrics_l['metrics_by_turn']['informativeness_marginal_by_turn'][i],\n",
    "                   \"informativeness_marginal_x_relevance_marginal\": metrics_l['metrics_by_turn']['informativeness_marginal_x_relevance_marginal_by_turn'][i],\n",
    "                   \"informativeness_marginal_x_relevance_marginal_ref\": metrics_l['metrics_by_turn']['informativeness_marginal_x_relevance_marginal_ref_by_turn'][i]\n",
    "                  } for i, (k, v) in enumerate(preds_l.items())]\n",
    "\n",
    "combined_c = []\n",
    "RESULTS_PATH_COHERENCE = \"/home/sstorks/coe-chaijy/sstorks/simulation_informed_pcr4nlu/TRAVEl/saved_results_222/vqa_mistake_detection/ego4d_single_debug250/llava-1.5-7b-hf/IterativeVQA_q10_ego4d_single_debug250_llava-1.5-7b-hf_beam8-4_coherence_icl20_nohistory_20240815204213\"\n",
    "preds_c = json.load(open(os.path.join(RESULTS_PATH_COHERENCE, \"outputs_val.json\"), \"r\"))\n",
    "metrics_c = json.load(open(os.path.join(RESULTS_PATH_COHERENCE, \"metrics_coherence_nli_val.json\"), \"r\"))\n",
    "combined_c = [v | {\"example_id\": k, \n",
    "                   \"informativeness\": metrics_c['metrics_by_turn']['informativeness_by_turn'][i], \n",
    "                   \"relevance_marginal\": metrics_c['metrics_by_turn']['relevance_marginal_by_turn'][i], \n",
    "                   \"informativeness_marginal\": metrics_c['metrics_by_turn']['informativeness_marginal_by_turn'][i],\n",
    "                   \"informativeness_marginal_x_relevance_marginal\": metrics_c['metrics_by_turn']['informativeness_marginal_x_relevance_marginal_by_turn'][i],\n",
    "                   \"informativeness_marginal_x_relevance_marginal_ref\": metrics_c['metrics_by_turn']['informativeness_marginal_x_relevance_marginal_ref_by_turn'][i],\n",
    "                  } for i, (k, v) in enumerate(preds_c.items())]\n",
    "\n",
    "all_data = combined_l + combined_c\n",
    "\n",
    "pprint(all_data[0])"
   ]
  },
  {
   "cell_type": "markdown",
   "id": "6eec2d81-c7c5-483d-bbb1-e9535d28a6be",
   "metadata": {
    "jp-MarkdownHeadingCollapsed": true,
    "tags": []
   },
   "source": [
    "# Select turns and candidates to score"
   ]
  },
  {
   "cell_type": "markdown",
   "id": "85fbf567-d550-49af-835d-06a95cc1dac2",
   "metadata": {},
   "source": [
    "Relevance study:"
   ]
  },
  {
   "cell_type": "code",
   "execution_count": 3,
   "id": "7bcaca06-bf06-45d4-8251-724de8603281",
   "metadata": {},
   "outputs": [],
   "source": [
    "import datetime\n",
    "import numpy as np\n",
    "import os\n",
    "import random\n",
    "\n",
    "from travel import set_random_seed\n",
    "from travel.constants import RANDOM_SEED, RESULTS_DIR\n",
    "\n",
    "N_SAMPLES = 100\n",
    "SAMPLES_PER_ANNOTATOR = 10\n",
    "\n",
    "timestamp = datetime.datetime.now()\n",
    "output_dir = os.path.join(\"annotation_files\", f\"relevance_{timestamp.strftime('%Y%m%d%H%M%S')}\")\n",
    "os.makedirs(output_dir)\n",
    "\n",
    "random_seed = 555\n",
    "set_random_seed(random_seed) # Set seed to 555 for relevance samples\n",
    "\n",
    "example_idxs = random.sample(list(range(len(all_data))), N_SAMPLES)\n",
    "\n",
    "data_dicts = []\n",
    "for example_idx in example_idxs:   \n",
    "    output = all_data[example_idx]\n",
    "        \n",
    "    example_id = output['example_id']\n",
    "\n",
    "    n_turns = output['final_turn'] + 1\n",
    "    selected_turn = random.choice(list(range(n_turns)))\n",
    "\n",
    "    selected_question = output['questions'][selected_turn]\n",
    "    selected_answer = np.argmax(output['answer_probs'][selected_turn])\n",
    "    assert selected_answer == 0 or selected_answer == 1\n",
    "    selected_answer = \"Yes\" if selected_answer == 1 else \"No\"\n",
    "\n",
    "    previous_questions = [q for q, a in zip(output['questions'][:selected_turn], output['answers'][:selected_turn]) if a != \"Unsure\"]\n",
    "    previous_answers = [a for a in output['answers'][:selected_turn] if a != \"Unsure\"]\n",
    "\n",
    "    actual_relevance_marginal = output['relevance_marginal'][selected_turn]\n",
    "    actual_informativeness = output['informativeness'][selected_turn]\n",
    "    actual_informativeness_marginal = output['informativeness_marginal'][selected_turn]\n",
    "    max_informativeness_marginal_so_far = max([turn_metric for turn_idx, turn_metric in enumerate(output['informativeness_marginal'][:selected_turn+1]) if output['answers'][turn_idx] != \"Unsure\" or turn_idx == selected_turn])\n",
    "    max_informativeness_marginal_so_far_x_mean_relevance_marginal = round(max_informativeness_marginal_so_far * np.mean(output['relevance_marginal'][:selected_turn + 1]), 6)\n",
    "    actual_informativeness_marginal_x_relevance_marginal = output['informativeness_marginal_x_relevance_marginal'][selected_turn]\n",
    "    actual_informativeness_marginal_x_relevance_marginal_ref = output['informativeness_marginal_x_relevance_marginal_ref'][selected_turn]\n",
    "                                  \n",
    "    data_dicts.append(\n",
    "        {\n",
    "            \"example_id\": example_id,\n",
    "            \"procedure\": output['procedure'],\n",
    "            \"question\": selected_question,\n",
    "            \"answer\": selected_answer,\n",
    "            \"previous_questions_answers\": [(q, a) for q, a in zip(previous_questions, previous_answers)],\n",
    "            \"nli_metric_scores\": {\n",
    "                \"relevance_marginal\": actual_relevance_marginal,\n",
    "                \"informativeness\": actual_informativeness,\n",
    "                \"informativeness_x_relevance_marginal\": actual_informativeness * actual_relevance_marginal, # TODO: later can just get this directly from metrics\n",
    "                \"informativeness_marginal\": actual_informativeness_marginal,\n",
    "                \"max_informativeness_marginal_so_far\": max_informativeness_marginal_so_far,\n",
    "                \"max_informativeness_marginal_so_far_x_mean_relevance_marginal\": max_informativeness_marginal_so_far_x_mean_relevance_marginal,\n",
    "                \"informativeness_marginal_x_relevance_marginal\": actual_informativeness_marginal_x_relevance_marginal,\n",
    "                \"informativeness_marginal_x_relevance_marginal_ref\": actual_informativeness_marginal_x_relevance_marginal_ref,\n",
    "            }\n",
    "        }\n",
    "    )\n",
    "\n",
    "json.dump(data_dicts, open(os.path.join(output_dir, f\"relevance_sample{random_seed}.json\"), \"w\"), indent=4)"
   ]
  },
  {
   "cell_type": "code",
   "execution_count": 4,
   "id": "ea9c6066-4fdc-4ab5-abd7-8b9e97d73f6f",
   "metadata": {},
   "outputs": [],
   "source": [
    "# Divide sampled data into a txt file for each annotator\n",
    "for annotator_idx in range(N_SAMPLES // SAMPLES_PER_ANNOTATOR):\n",
    "    lines = []\n",
    "\n",
    "    samples = data_dicts[annotator_idx * SAMPLES_PER_ANNOTATOR:(annotator_idx + 1) * SAMPLES_PER_ANNOTATOR]\n",
    "    assert len(samples) == SAMPLES_PER_ANNOTATOR\n",
    "    \n",
    "    lines.append(\"Imagine you just had eye surgery, and are unable to see. You're performing a task you're familiar with, but need help to determine whether you successfully completed it.\")\n",
    "    lines.append(\"You video call a friend (who is unfamiliar with the task) and show them what you're working on. You then ask them some yes/no questions to figure out whether you successfully completed the task.\")\n",
    "    lines.append(\"\")\n",
    "    lines.append(\"For each annotation task, you will be given the following information:\")\n",
    "    lines.append(\" - A sentence describing the procedure you're trying to perform.\")\n",
    "    lines.append(\" - An optional list of previous questions you already asked, and their answers.\")\n",
    "    lines.append(\" - A potential question you could ask your friend next.\")\n",
    "    lines.append(\"\")\n",
    "    lines.append(\"You must rate how relevant the potential next question is. By relevant, we mean: given the previous questions and answers, how helpful could an answer to this question be in determining whether the procedure has been completed?\")\n",
    "    lines.append(\"You can also choose to mark 'Instructions Unclear', which means that the instructional text itself is not clear, so you're not sure how to determine whether it's successful. This should only be used in rare cases.\")\n",
    "    lines.append(\"\")\n",
    "    lines.append(\"Some tips:\")\n",
    "    lines.append(\" - Only judge the relevance of the potential next question, not the previous questions (which may or may not be relevant).\")\n",
    "    lines.append(\" - A question may seem relevant to the task at hand, but you should consider it irrelevant if it doesn't provide essential information to judge the success of the task.\")\n",
    "    lines.append(\" - If a seemingly relevant question is redundant with previous questions, you may consider it less relevant.\")\n",
    "    lines.append(\" - Assume that the answer to the question won't contradict the information you have from previous questions and answers. If previous questions and answers already contradict each other, consider whether this question could sway you one way or another.\")\n",
    "    lines.append(' - The instructional text and questions may refer to \"someone\" or a \"person\"; always assume this is referring to yourself (the person performing the task).')\n",
    "    lines.append(' - The questions may refer to a \"photo\" or \"image\"; always assume this is referring to the video feed your friend would see through the video call.')\n",
    "    lines.append(\"\\n\")\n",
    "                 \n",
    "    # How relevant is this question, i.e., how useful would an answer to this question be in determining whether the procedure has been completed?\n",
    "    for sample_idx, sample in enumerate(samples):\n",
    "        lines.append(f\"Annotation {sample_idx + 1}\")\n",
    "        lines.append(\"===============================\")\n",
    "        lines.append(f\"Instruction: {sample['procedure']}\")\n",
    "        \n",
    "        lines.append(\"Previous questions and answers:\")\n",
    "        if len(sample['previous_questions_answers']) == 0:\n",
    "            lines.append(\"None\")\n",
    "        else:\n",
    "            for q_idx, (q, a) in enumerate(sample['previous_questions_answers']):\n",
    "                 lines.append(f\"Q{q_idx+1}. {q}     (Answer: {a})\")\n",
    "        lines.append(\"\")\n",
    "        lines.append(f\"Potential next question: {sample['question']}\")\n",
    "        lines.append(\"Your rating (place an 'x' next to your choice):\")\n",
    "        lines.append(\"1 (very irrelevant): \")\n",
    "        lines.append(\"2 (slightly irrelevant): \")\n",
    "        lines.append(\"3 (neutral): \")\n",
    "        lines.append(\"4 (slightly relevant): \")\n",
    "        lines.append(\"5 (very relevant): \")\n",
    "        lines.append(\"Instructions Unclear: \")\n",
    "        lines.append(\"\\n\")\n",
    "                 \n",
    "    with open(os.path.join(output_dir, f\"relevance_sample{random_seed}_annotator{annotator_idx+1}.txt\"), \"w\") as f:\n",
    "        f.write(\"\\n\".join(lines))"
   ]
  },
  {
   "cell_type": "markdown",
   "id": "75182c9c-1166-4d71-b13f-28d129b0b1c1",
   "metadata": {},
   "source": [
    "Informativeness study:"
   ]
  },
  {
   "cell_type": "code",
   "execution_count": 4,
   "id": "db5a3ae4-538d-4f24-9a37-345f0b4df68c",
   "metadata": {},
   "outputs": [],
   "source": [
    "import datetime\n",
    "import os\n",
    "import random\n",
    "import numpy as np\n",
    "\n",
    "from travel import set_random_seed\n",
    "from travel.constants import RANDOM_SEED, RESULTS_DIR\n",
    "\n",
    "N_SAMPLES = 100\n",
    "SAMPLES_PER_ANNOTATOR = 10\n",
    "\n",
    "timestamp = datetime.datetime.now()\n",
    "output_dir = os.path.join(\"annotation_files\", f\"informativeness_{timestamp.strftime('%Y%m%d%H%M%S')}\")\n",
    "os.makedirs(output_dir)\n",
    "\n",
    "random_seed = 888\n",
    "set_random_seed(random_seed) # Set seed to 888 for informativeness samples\n",
    "\n",
    "example_idxs = random.sample(list(range(len(all_data))), N_SAMPLES)\n",
    "\n",
    "data_dicts = []\n",
    "for example_idx in example_idxs:\n",
    "    output = all_data[example_idx]\n",
    "    example_id = output['example_id']\n",
    "\n",
    "    n_turns = output['final_turn'] + 1\n",
    "    selected_turn = random.choice(list(range(n_turns)))\n",
    "\n",
    "    selected_question = output['questions'][selected_turn]\n",
    "    selected_answer = np.argmax(output['answer_probs'][selected_turn])\n",
    "    assert selected_answer == 0 or selected_answer == 1\n",
    "    selected_answer = \"Yes\" if selected_answer == 1 else \"No\"\n",
    "\n",
    "    previous_questions = [q for q, a in zip(output['questions'][:selected_turn], output['answers'][:selected_turn]) if a != \"Unsure\"]\n",
    "    previous_answers = [a for a in output['answers'][:selected_turn] if a != \"Unsure\"]\n",
    "\n",
    "    actual_relevance_marginal = output['relevance_marginal'][selected_turn]\n",
    "    actual_informativeness = output['informativeness'][selected_turn]\n",
    "    actual_informativeness_marginal = output['informativeness_marginal'][selected_turn]\n",
    "    max_informativeness_marginal_so_far = max([turn_metric for turn_idx, turn_metric in enumerate(output['informativeness_marginal'][:selected_turn+1]) if output['answers'][turn_idx] != \"Unsure\" or turn_idx == selected_turn])\n",
    "    max_informativeness_marginal_so_far_x_mean_relevance_marginal = round(max_informativeness_marginal_so_far * np.mean(output['relevance_marginal'][:selected_turn + 1]), 6)\n",
    "    actual_informativeness_marginal_x_relevance_marginal = output['informativeness_marginal_x_relevance_marginal'][selected_turn]\n",
    "    actual_informativeness_marginal_x_relevance_marginal_ref = output['informativeness_marginal_x_relevance_marginal_ref'][selected_turn]\n",
    "    \n",
    "    data_dicts.append(\n",
    "        {\n",
    "            \"example_id\": example_id,\n",
    "            \"procedure\": output['procedure'],\n",
    "            \"question\": selected_question,\n",
    "            \"answer\": selected_answer,\n",
    "            \"previous_questions_answers\": [(q, a) for q, a in zip(previous_questions, previous_answers)],\n",
    "            \"nli_metric_scores\": {\n",
    "                \"relevance_marginal\": actual_relevance_marginal,\n",
    "                \"informativeness\": actual_informativeness,\n",
    "                \"informativeness_x_relevance_marginal\": actual_informativeness * actual_relevance_marginal, # TODO: later can just get this directly from metrics\n",
    "                \"informativeness_marginal\": actual_informativeness_marginal,\n",
    "                \"max_informativeness_marginal_so_far\": max_informativeness_marginal_so_far,\n",
    "                \"max_informativeness_marginal_so_far_x_mean_relevance_marginal\": max_informativeness_marginal_so_far_x_mean_relevance_marginal,\n",
    "                \"informativeness_marginal_x_relevance_marginal\": actual_informativeness_marginal_x_relevance_marginal,\n",
    "                \"informativeness_marginal_x_relevance_marginal_ref\": actual_informativeness_marginal_x_relevance_marginal_ref,\n",
    "            }\n",
    "        }\n",
    "    )\n",
    "\n",
    "json.dump(data_dicts, open(os.path.join(output_dir, f\"informativeness_sample{random_seed}.json\"), \"w\"), indent=4)"
   ]
  },
  {
   "cell_type": "code",
   "execution_count": 5,
   "id": "b09b0859-6f8e-43be-92b8-95f8e62cca05",
   "metadata": {},
   "outputs": [],
   "source": [
    "# Divide sampled data into a txt file for each annotator\n",
    "for annotator_idx in range(N_SAMPLES // SAMPLES_PER_ANNOTATOR):\n",
    "    lines = []\n",
    "\n",
    "    samples = data_dicts[annotator_idx * SAMPLES_PER_ANNOTATOR:(annotator_idx + 1) * SAMPLES_PER_ANNOTATOR]\n",
    "    assert len(samples) == SAMPLES_PER_ANNOTATOR\n",
    "    \n",
    "    lines.append(\"Imagine you just had eye surgery, and are unable to see. You're performing a task you're familiar with, but need help to determine whether you successfully completed it.\")\n",
    "    lines.append(\"You video call a friend (who is unfamiliar with the task) and show them what you're working on. You then ask them some yes/no questions to figure out whether you successfully completed the task.\")\n",
    "    lines.append(\"\")\n",
    "    lines.append(\"For each annotation task, you will be given the following information:\")\n",
    "    lines.append(\" - A sentence describing the procedure you're trying to perform.\")\n",
    "    lines.append(\" - An optional list of previous questions you already asked, and their answers.\")\n",
    "    lines.append(\" - The last question you just asked your friend, and its answer.\")\n",
    "    lines.append(\"\")\n",
    "    lines.append(\"You must rate how informative the last question and its answer are. By informative, we mean: compared to what you knew from the previous questions and answers, how much more sure would the last question and answer be about whether you succeeded?\")\n",
    "    lines.append(\"You can also choose to mark 'Instructions Unclear', which means that the instructional text itself is not clear, so you're not sure how to determine whether it's successful. This should only be used in rare cases.\")\n",
    "    lines.append(\"\")\n",
    "    lines.append(\"Some tips:\")\n",
    "    lines.append(\" - Only judge the informativeness of the last question and answer, not the previous questions and answers (which may or may not be informative).\")\n",
    "    lines.append(\" - A question may seem relevant to the task at hand, but you should consider it uninformative if it doesn't provide essential information to judge the success of the task.\")\n",
    "    lines.append(\" - If a seemingly informative question is redundant with previous questions, you may consider it less informative.\")\n",
    "    lines.append(\" - If the last answer contradicts critical information you had from previous questions and answers, you may consider it more informative.\")\n",
    "    lines.append(' - The instructional text and questions may refer to \"someone\" or a \"person\"; always assume this is referring to yourself (the person performing the task).')\n",
    "    lines.append(' - The questions may refer to a \"photo\" or \"image\"; always assume this is referring to the video feed your friend would see through the video call.')\n",
    "    lines.append(\"\\n\")\n",
    "                 \n",
    "    # How relevant is this question, i.e., how useful would an answer to this question be in determining whether the procedure has been completed?\n",
    "    for sample_idx, sample in enumerate(samples):\n",
    "        lines.append(f\"Annotation {sample_idx + 1}\")\n",
    "        lines.append(\"===============================\")\n",
    "        lines.append(f\"Instruction: {sample['procedure']}\")\n",
    "        \n",
    "        lines.append(\"Previous questions and answers:\")\n",
    "        if len(sample['previous_questions_answers']) == 0:\n",
    "            lines.append(\"None\")\n",
    "        else:\n",
    "            for q_idx, (q, a) in enumerate(sample['previous_questions_answers']):\n",
    "                 lines.append(f\"Q{q_idx+1}. {q}     (Answer: {a})\")\n",
    "        lines.append(\"\")\n",
    "        lines.append(f\"Last question: {sample['question']}\")\n",
    "        lines.append(f\"Last answer: {sample['answer']}\")\n",
    "        lines.append(\"Your rating (place an 'x' next to your choice):\")\n",
    "        lines.append(\"1 (very informative): \")\n",
    "        lines.append(\"2 (slightly informative): \")\n",
    "        lines.append(\"3 (neutral): \")\n",
    "        lines.append(\"4 (slightly informative): \")\n",
    "        lines.append(\"5 (very informative): \")\n",
    "        lines.append(\"Instructions Unclear: \")\n",
    "        lines.append(\"\\n\")\n",
    "                 \n",
    "    with open(os.path.join(output_dir, f\"informativeness_sample{random_seed}_annotator{annotator_idx+1}.txt\"), \"w\") as f:\n",
    "        f.write(\"\\n\".join(lines))"
   ]
  },
  {
   "cell_type": "markdown",
   "id": "4ff9e42e-04d8-4a42-a001-0d3d8ebf14c5",
   "metadata": {
    "tags": []
   },
   "source": [
    "# Checking correlations of annotations with metrics"
   ]
  },
  {
   "cell_type": "code",
   "execution_count": 16,
   "id": "ce8bc340-8690-4116-b1ab-94547a780dbf",
   "metadata": {},
   "outputs": [],
   "source": [
    "import json\n",
    "import os\n",
    "import pandas as pd\n",
    "from pprint import pprint\n",
    "\n",
    "# INPUT_FILE = \"annotation_files/relevance_20240816145229/relevance_sample555.json\"\n",
    "# ANNOTATIONS_DIR = \"../informativeness_relevance_annotation/relevance\"\n",
    "# metric_key = 'relevance_marginal'\n",
    "\n",
    "INPUT_FILE = \"annotation_files/informativeness_20240817125001/informativeness_sample888.json\"\n",
    "ANNOTATIONS_DIR = \"../informativeness_relevance_annotation/informativeness\"\n",
    "metric_key = \"informativeness_marginal_x_relevance_marginal\"\n",
    "# metric_key = \"informativeness_marginal\"\n",
    "\n",
    "data_dicts = json.load(open(INPUT_FILE, \"r\"))\n",
    "\n",
    "all_annotations = None\n",
    "for fname in os.listdir(ANNOTATIONS_DIR):\n",
    "    d = pd.read_csv(os.path.join(ANNOTATIONS_DIR, fname))\n",
    "    \n",
    "    if all_annotations is None:\n",
    "        all_annotations = d\n",
    "    else:\n",
    "        all_annotations = pd.concat((all_annotations, d))"
   ]
  },
  {
   "cell_type": "markdown",
   "id": "79bafb8f-dd27-450b-b843-52ee1ca2907f",
   "metadata": {},
   "source": [
    "(optional) recalculate metrics"
   ]
  },
  {
   "cell_type": "code",
   "execution_count": 17,
   "id": "dfc6d7bc-e188-4448-a0dd-08ebb02e88dd",
   "metadata": {},
   "outputs": [
    {
     "name": "stderr",
     "output_type": "stream",
     "text": [
      "`low_cpu_mem_usage` was None, now set to True since model is quantized.\n"
     ]
    },
    {
     "data": {
      "application/vnd.jupyter.widget-view+json": {
       "model_id": "0dba33749696431f92ead83af8d3ce08",
       "version_major": 2,
       "version_minor": 0
      },
      "text/plain": [
       "Loading checkpoint shards:   0%|          | 0/3 [00:00<?, ?it/s]"
      ]
     },
     "metadata": {},
     "output_type": "display_data"
    },
    {
     "name": "stderr",
     "output_type": "stream",
     "text": [
      "Some kwargs in processor config are unused and will not have any effect: num_additional_image_tokens. \n"
     ]
    }
   ],
   "source": [
    "import torch\n",
    "from transformers import AutoModelForVision2Seq, AutoProcessor, BitsAndBytesConfig, AutoModelForCausalLM\n",
    "\n",
    "# VLM_NAME = \"Salesforce/instructblip-vicuna-7b\"\n",
    "# VLM_NAME = \"Salesforce/instructblip-flan-t5-xxl\"\n",
    "VLM_NAME = \"llava-hf/llava-1.5-7b-hf\"\n",
    "# VLM_NAME = \"microsoft/Phi-3-vision-128k-instruct\"\n",
    "\n",
    "bnb_config = BitsAndBytesConfig(\n",
    "    load_in_4bit=True,\n",
    "    llm_int8_threshold=6.0,\n",
    "    llm_int8_has_fp16_weight=False,\n",
    "    bnb_4bit_compute_dtype=torch.bfloat16,\n",
    "    bnb_4bit_use_double_quant=True,\n",
    "    bnb_4bit_quant_type=\"nf4\",\n",
    ")\n",
    "\n",
    "try:\n",
    "    vlm = AutoModelForVision2Seq.from_pretrained(VLM_NAME, \n",
    "                                                quantization_config=bnb_config, trust_remote_code=True)\n",
    "except:\n",
    "    vlm = AutoModelForCausalLM.from_pretrained(VLM_NAME, \n",
    "                                                quantization_config=bnb_config, trust_remote_code=True)\n",
    "    \n",
    "vlm_processor = AutoProcessor.from_pretrained(VLM_NAME, trust_remote_code=True)\n",
    "vlm_processor.tokenizer.padding_side = \"left\"\n",
    "vlm_processor.tokenizer.pad_token_id = vlm_processor.tokenizer.eos_token_id"
   ]
  },
  {
   "cell_type": "code",
   "execution_count": 18,
   "id": "44154ef1-0b96-4db9-b76e-e1a0b89b852b",
   "metadata": {},
   "outputs": [
    {
     "name": "stderr",
     "output_type": "stream",
     "text": [
      "`low_cpu_mem_usage` was None, now set to True since model is quantized.\n"
     ]
    }
   ],
   "source": [
    "import torch\n",
    "from transformers import BitsAndBytesConfig, AutoModelForSequenceClassification, AutoTokenizer\n",
    "import spacy\n",
    "\n",
    "from travel.model.nli import NLI_MODEL_PATH\n",
    "from travel.model.metrics import question_coherence_metrics_nli\n",
    "\n",
    "bnb_config = BitsAndBytesConfig(\n",
    "    load_in_4bit=True,\n",
    "    llm_int8_threshold=6.0,\n",
    "    llm_int8_has_fp16_weight=False,\n",
    "    bnb_4bit_compute_dtype=torch.bfloat16,\n",
    "    bnb_4bit_use_double_quant=True,\n",
    "    bnb_4bit_quant_type=\"nf4\",\n",
    ")\n",
    "\n",
    "nli_model = AutoModelForSequenceClassification.from_pretrained(NLI_MODEL_PATH, quantization_config=bnb_config)\n",
    "nli_tokenizer = AutoTokenizer.from_pretrained(NLI_MODEL_PATH)\n",
    "nlp = spacy.load(\"en_core_web_lg\")\n"
   ]
  },
  {
   "cell_type": "code",
   "execution_count": 19,
   "id": "1fdd3384-2676-4777-b89d-e6b88ef6755b",
   "metadata": {},
   "outputs": [
    {
     "name": "stderr",
     "output_type": "stream",
     "text": [
      "  0%|          | 0/100 [00:00<?, ?it/s]\n",
      "running generation (cuda:0):   0%|          | 0/1 [00:00<?, ?it/s]\u001b[A\n",
      "running generation (cuda:0): 100%|██████████| 1/1 [00:01<00:00,  1.22s/it]\u001b[A\n",
      "\n",
      "running generation (cuda:0):   0%|          | 0/1 [00:00<?, ?it/s]\u001b[A\n",
      "running generation (cuda:0): 100%|██████████| 1/1 [00:01<00:00,  1.21s/it]\u001b[A\n",
      "\n",
      "running NLI (cuda:0): 100%|██████████| 1/1 [00:00<00:00, 15.47it/s]\n",
      "\n",
      "running NLI (cuda:0): 100%|██████████| 1/1 [00:00<00:00, 16.91it/s]\n",
      "\n",
      "running generation (cuda:0):   0%|          | 0/1 [00:00<?, ?it/s]\u001b[A\n",
      "running generation (cuda:0): 100%|██████████| 1/1 [00:02<00:00,  2.39s/it]\u001b[A\n",
      "\n",
      "running NLI (cuda:0): 100%|██████████| 1/1 [00:00<00:00, 17.42it/s]\n",
      "\n",
      "running NLI (cuda:0): 100%|██████████| 1/1 [00:00<00:00, 17.75it/s]\n",
      "  1%|          | 1/100 [00:05<08:22,  5.08s/it]"
     ]
    },
    {
     "name": "stdout",
     "output_type": "stream",
     "text": [
      "Old value (informativeness_marginal_x_relevance_marginal): 0.011093\n",
      "New value (informativeness_marginal_x_relevance_marginal): [0.020676]\n"
     ]
    },
    {
     "name": "stderr",
     "output_type": "stream",
     "text": [
      "\n",
      "running generation (cuda:0):   0%|          | 0/1 [00:00<?, ?it/s]\u001b[A\n",
      "running generation (cuda:0): 100%|██████████| 1/1 [00:01<00:00,  1.22s/it]\u001b[A\n",
      "\n",
      "running generation (cuda:0):   0%|          | 0/1 [00:00<?, ?it/s]\u001b[A\n",
      "running generation (cuda:0): 100%|██████████| 1/1 [00:01<00:00,  1.23s/it]\u001b[A\n",
      "\n",
      "running NLI (cuda:0): 100%|██████████| 1/1 [00:00<00:00, 17.14it/s]\n",
      "\n",
      "running NLI (cuda:0): 100%|██████████| 1/1 [00:00<00:00, 17.24it/s]\n",
      "\n",
      "running generation (cuda:0):   0%|          | 0/1 [00:00<?, ?it/s]\u001b[A\n",
      "running generation (cuda:0): 100%|██████████| 1/1 [00:02<00:00,  2.44s/it]\u001b[A\n",
      "\n",
      "running NLI (cuda:0): 100%|██████████| 1/1 [00:00<00:00, 16.43it/s]\n",
      "\n",
      "running NLI (cuda:0): 100%|██████████| 1/1 [00:00<00:00, 16.91it/s]\n",
      "  2%|▏         | 2/100 [00:10<08:21,  5.12s/it]"
     ]
    },
    {
     "name": "stdout",
     "output_type": "stream",
     "text": [
      "Old value (informativeness_marginal_x_relevance_marginal): 0.025803\n",
      "New value (informativeness_marginal_x_relevance_marginal): [0.021973]\n"
     ]
    },
    {
     "name": "stderr",
     "output_type": "stream",
     "text": [
      "\n",
      "running generation (cuda:0):   0%|          | 0/1 [00:00<?, ?it/s]\u001b[A\n",
      "running generation (cuda:0): 100%|██████████| 1/1 [00:01<00:00,  1.22s/it]\u001b[A\n",
      "\n",
      "running generation (cuda:0):   0%|          | 0/1 [00:00<?, ?it/s]\u001b[A\n",
      "running generation (cuda:0): 100%|██████████| 1/1 [00:01<00:00,  1.21s/it]\u001b[A\n",
      "\n",
      "running NLI (cuda:0): 100%|██████████| 1/1 [00:00<00:00, 17.00it/s]\n",
      "\n",
      "running NLI (cuda:0): 100%|██████████| 1/1 [00:00<00:00, 17.29it/s]\n",
      "\n",
      "running generation (cuda:0): 0it [00:00, ?it/s]\u001b[A\n",
      "\n",
      "running NLI (cuda:0): 100%|██████████| 1/1 [00:00<00:00, 17.23it/s]\n",
      "\n",
      "running NLI (cuda:0): 100%|██████████| 1/1 [00:00<00:00, 17.35it/s]\n",
      "  3%|▎         | 3/100 [00:12<06:28,  4.00s/it]"
     ]
    },
    {
     "name": "stdout",
     "output_type": "stream",
     "text": [
      "Old value (informativeness_marginal_x_relevance_marginal): 0.026993\n",
      "New value (informativeness_marginal_x_relevance_marginal): [0.018082]\n"
     ]
    },
    {
     "name": "stderr",
     "output_type": "stream",
     "text": [
      "\n",
      "running generation (cuda:0):   0%|          | 0/1 [00:00<?, ?it/s]\u001b[A\n",
      "running generation (cuda:0): 100%|██████████| 1/1 [00:01<00:00,  1.21s/it]\u001b[A\n",
      "\n",
      "running generation (cuda:0):   0%|          | 0/1 [00:00<?, ?it/s]\u001b[A\n",
      "running generation (cuda:0): 100%|██████████| 1/1 [00:01<00:00,  1.21s/it]\u001b[A\n",
      "\n",
      "running NLI (cuda:0): 100%|██████████| 1/1 [00:00<00:00, 17.34it/s]\n",
      "\n",
      "running NLI (cuda:0): 100%|██████████| 1/1 [00:00<00:00, 17.11it/s]\n",
      "\n",
      "running generation (cuda:0): 0it [00:00, ?it/s]\u001b[A\n",
      "\n",
      "running NLI (cuda:0): 100%|██████████| 1/1 [00:00<00:00, 17.27it/s]\n",
      "\n",
      "running NLI (cuda:0): 100%|██████████| 1/1 [00:00<00:00, 17.18it/s]\n",
      "  4%|▍         | 4/100 [00:15<05:33,  3.48s/it]"
     ]
    },
    {
     "name": "stdout",
     "output_type": "stream",
     "text": [
      "Old value (informativeness_marginal_x_relevance_marginal): 0.031281\n",
      "New value (informativeness_marginal_x_relevance_marginal): [0.035522]\n"
     ]
    },
    {
     "name": "stderr",
     "output_type": "stream",
     "text": [
      "\n",
      "running generation (cuda:0):   0%|          | 0/1 [00:00<?, ?it/s]\u001b[A\n",
      "running generation (cuda:0): 100%|██████████| 1/1 [00:01<00:00,  1.22s/it]\u001b[A\n",
      "\n",
      "running generation (cuda:0):   0%|          | 0/1 [00:00<?, ?it/s]\u001b[A\n",
      "running generation (cuda:0): 100%|██████████| 1/1 [00:01<00:00,  1.22s/it]\u001b[A\n",
      "\n",
      "running NLI (cuda:0): 100%|██████████| 1/1 [00:00<00:00, 16.99it/s]\n",
      "\n",
      "running NLI (cuda:0): 100%|██████████| 1/1 [00:00<00:00, 17.13it/s]\n",
      "\n",
      "running generation (cuda:0): 0it [00:00, ?it/s]\u001b[A\n",
      "\n",
      "running NLI (cuda:0): 100%|██████████| 1/1 [00:00<00:00, 17.14it/s]\n",
      "\n",
      "running NLI (cuda:0): 100%|██████████| 1/1 [00:00<00:00, 17.03it/s]\n",
      "  5%|▌         | 5/100 [00:18<05:03,  3.19s/it]"
     ]
    },
    {
     "name": "stdout",
     "output_type": "stream",
     "text": [
      "Old value (informativeness_marginal_x_relevance_marginal): 0.00044\n",
      "New value (informativeness_marginal_x_relevance_marginal): [0.008324]\n"
     ]
    },
    {
     "name": "stderr",
     "output_type": "stream",
     "text": [
      "\n",
      "running generation (cuda:0):   0%|          | 0/1 [00:00<?, ?it/s]\u001b[A\n",
      "running generation (cuda:0): 100%|██████████| 1/1 [00:01<00:00,  1.22s/it]\u001b[A\n",
      "\n",
      "running generation (cuda:0):   0%|          | 0/1 [00:00<?, ?it/s]\u001b[A\n",
      "running generation (cuda:0): 100%|██████████| 1/1 [00:01<00:00,  1.22s/it]\u001b[A\n",
      "\n",
      "running NLI (cuda:0): 100%|██████████| 1/1 [00:00<00:00, 16.97it/s]\n",
      "\n",
      "running NLI (cuda:0): 100%|██████████| 1/1 [00:00<00:00, 17.52it/s]\n",
      "\n",
      "running generation (cuda:0): 0it [00:00, ?it/s]\u001b[A\n",
      "\n",
      "running NLI (cuda:0): 100%|██████████| 1/1 [00:00<00:00, 17.66it/s]\n",
      "\n",
      "running NLI (cuda:0): 100%|██████████| 1/1 [00:00<00:00, 17.70it/s]\n",
      "  6%|▌         | 6/100 [00:20<04:43,  3.02s/it]"
     ]
    },
    {
     "name": "stdout",
     "output_type": "stream",
     "text": [
      "Old value (informativeness_marginal_x_relevance_marginal): 0.939453\n",
      "New value (informativeness_marginal_x_relevance_marginal): [0.963379]\n"
     ]
    },
    {
     "name": "stderr",
     "output_type": "stream",
     "text": [
      "\n",
      "running generation (cuda:0):   0%|          | 0/1 [00:00<?, ?it/s]\u001b[A\n",
      "running generation (cuda:0): 100%|██████████| 1/1 [00:01<00:00,  1.22s/it]\u001b[A\n",
      "\n",
      "running generation (cuda:0):   0%|          | 0/1 [00:00<?, ?it/s]\u001b[A\n",
      "running generation (cuda:0): 100%|██████████| 1/1 [00:01<00:00,  1.22s/it]\u001b[A\n",
      "\n",
      "running NLI (cuda:0): 100%|██████████| 1/1 [00:00<00:00, 16.87it/s]\n",
      "\n",
      "running NLI (cuda:0): 100%|██████████| 1/1 [00:00<00:00, 17.27it/s]\n",
      "\n",
      "running generation (cuda:0):   0%|          | 0/1 [00:00<?, ?it/s]\u001b[A\n",
      "running generation (cuda:0): 100%|██████████| 1/1 [00:02<00:00,  2.39s/it]\u001b[A\n",
      "\n",
      "running NLI (cuda:0): 100%|██████████| 1/1 [00:00<00:00, 16.61it/s]\n",
      "\n",
      "running NLI (cuda:0): 100%|██████████| 1/1 [00:00<00:00, 17.10it/s]\n",
      "  7%|▋         | 7/100 [00:26<05:43,  3.69s/it]"
     ]
    },
    {
     "name": "stdout",
     "output_type": "stream",
     "text": [
      "Old value (informativeness_marginal_x_relevance_marginal): 0.273926\n",
      "New value (informativeness_marginal_x_relevance_marginal): [0.307861]\n"
     ]
    },
    {
     "name": "stderr",
     "output_type": "stream",
     "text": [
      "\n",
      "running generation (cuda:0):   0%|          | 0/1 [00:00<?, ?it/s]\u001b[A\n",
      "running generation (cuda:0): 100%|██████████| 1/1 [00:01<00:00,  1.21s/it]\u001b[A\n",
      "\n",
      "running generation (cuda:0):   0%|          | 0/1 [00:00<?, ?it/s]\u001b[A\n",
      "running generation (cuda:0): 100%|██████████| 1/1 [00:01<00:00,  1.22s/it]\u001b[A\n",
      "\n",
      "running NLI (cuda:0): 100%|██████████| 1/1 [00:00<00:00, 17.00it/s]\n",
      "\n",
      "running NLI (cuda:0): 100%|██████████| 1/1 [00:00<00:00, 17.25it/s]\n",
      "\n",
      "running generation (cuda:0): 0it [00:00, ?it/s]\u001b[A\n",
      "\n",
      "running NLI (cuda:0): 100%|██████████| 1/1 [00:00<00:00, 17.47it/s]\n",
      "\n",
      "running NLI (cuda:0): 100%|██████████| 1/1 [00:00<00:00, 17.40it/s]\n",
      "  8%|▊         | 8/100 [00:28<05:09,  3.37s/it]"
     ]
    },
    {
     "name": "stdout",
     "output_type": "stream",
     "text": [
      "Old value (informativeness_marginal_x_relevance_marginal): 0.006252\n",
      "New value (informativeness_marginal_x_relevance_marginal): [0.001287]\n"
     ]
    },
    {
     "name": "stderr",
     "output_type": "stream",
     "text": [
      "\n",
      "running generation (cuda:0):   0%|          | 0/1 [00:00<?, ?it/s]\u001b[A\n",
      "running generation (cuda:0): 100%|██████████| 1/1 [00:01<00:00,  1.21s/it]\u001b[A\n",
      "\n",
      "running generation (cuda:0):   0%|          | 0/1 [00:00<?, ?it/s]\u001b[A\n",
      "running generation (cuda:0): 100%|██████████| 1/1 [00:01<00:00,  1.22s/it]\u001b[A\n",
      "\n",
      "running NLI (cuda:0): 100%|██████████| 1/1 [00:00<00:00, 17.22it/s]\n",
      "\n",
      "running NLI (cuda:0): 100%|██████████| 1/1 [00:00<00:00, 17.27it/s]\n",
      "\n",
      "running generation (cuda:0): 0it [00:00, ?it/s]\u001b[A\n",
      "\n",
      "running NLI (cuda:0): 100%|██████████| 1/1 [00:00<00:00, 17.05it/s]\n",
      "\n",
      "running NLI (cuda:0): 100%|██████████| 1/1 [00:00<00:00, 17.21it/s]\n",
      "  9%|▉         | 9/100 [00:31<04:46,  3.15s/it]"
     ]
    },
    {
     "name": "stdout",
     "output_type": "stream",
     "text": [
      "Old value (informativeness_marginal_x_relevance_marginal): 0.352051\n",
      "New value (informativeness_marginal_x_relevance_marginal): [0.351074]\n"
     ]
    },
    {
     "name": "stderr",
     "output_type": "stream",
     "text": [
      "\n",
      "running generation (cuda:0):   0%|          | 0/1 [00:00<?, ?it/s]\u001b[A\n",
      "running generation (cuda:0): 100%|██████████| 1/1 [00:01<00:00,  1.21s/it]\u001b[A\n",
      "\n",
      "running generation (cuda:0):   0%|          | 0/1 [00:00<?, ?it/s]\u001b[A\n",
      "running generation (cuda:0): 100%|██████████| 1/1 [00:01<00:00,  1.21s/it]\u001b[A\n",
      "\n",
      "running NLI (cuda:0): 100%|██████████| 1/1 [00:00<00:00, 17.11it/s]\n",
      "\n",
      "running NLI (cuda:0): 100%|██████████| 1/1 [00:00<00:00, 17.33it/s]\n",
      "\n",
      "running generation (cuda:0): 0it [00:00, ?it/s]\u001b[A\n",
      "\n",
      "running NLI (cuda:0): 100%|██████████| 1/1 [00:00<00:00, 17.29it/s]\n",
      "\n",
      "running NLI (cuda:0): 100%|██████████| 1/1 [00:00<00:00, 17.38it/s]\n",
      " 10%|█         | 10/100 [00:34<04:30,  3.00s/it]"
     ]
    },
    {
     "name": "stdout",
     "output_type": "stream",
     "text": [
      "Old value (informativeness_marginal_x_relevance_marginal): 0.025421\n",
      "New value (informativeness_marginal_x_relevance_marginal): [0.024216]\n"
     ]
    },
    {
     "name": "stderr",
     "output_type": "stream",
     "text": [
      "\n",
      "running generation (cuda:0):   0%|          | 0/1 [00:00<?, ?it/s]\u001b[A\n",
      "running generation (cuda:0): 100%|██████████| 1/1 [00:01<00:00,  1.21s/it]\u001b[A\n",
      "\n",
      "running generation (cuda:0):   0%|          | 0/1 [00:00<?, ?it/s]\u001b[A\n",
      "running generation (cuda:0): 100%|██████████| 1/1 [00:01<00:00,  1.22s/it]\u001b[A\n",
      "\n",
      "running NLI (cuda:0): 100%|██████████| 1/1 [00:00<00:00, 16.96it/s]\n",
      "\n",
      "running NLI (cuda:0): 100%|██████████| 1/1 [00:00<00:00, 17.11it/s]\n",
      "\n",
      "running generation (cuda:0): 0it [00:00, ?it/s]\u001b[A\n",
      "\n",
      "running NLI (cuda:0): 100%|██████████| 1/1 [00:00<00:00, 17.33it/s]\n",
      "\n",
      "running NLI (cuda:0): 100%|██████████| 1/1 [00:00<00:00, 17.60it/s]\n",
      " 11%|█         | 11/100 [00:36<04:18,  2.90s/it]"
     ]
    },
    {
     "name": "stdout",
     "output_type": "stream",
     "text": [
      "Old value (informativeness_marginal_x_relevance_marginal): 0.000177\n",
      "New value (informativeness_marginal_x_relevance_marginal): [0.004013]\n"
     ]
    },
    {
     "name": "stderr",
     "output_type": "stream",
     "text": [
      "\n",
      "running generation (cuda:0):   0%|          | 0/1 [00:00<?, ?it/s]\u001b[A\n",
      "running generation (cuda:0): 100%|██████████| 1/1 [00:01<00:00,  1.21s/it]\u001b[A\n",
      "\n",
      "running generation (cuda:0):   0%|          | 0/1 [00:00<?, ?it/s]\u001b[A\n",
      "running generation (cuda:0): 100%|██████████| 1/1 [00:01<00:00,  1.20s/it]\u001b[A\n",
      "\n",
      "running NLI (cuda:0): 100%|██████████| 1/1 [00:00<00:00, 16.82it/s]\n",
      "\n",
      "running NLI (cuda:0): 100%|██████████| 1/1 [00:00<00:00, 17.25it/s]\n",
      "\n",
      "running generation (cuda:0):   0%|          | 0/1 [00:00<?, ?it/s]\u001b[A\n",
      "running generation (cuda:0): 100%|██████████| 1/1 [00:01<00:00,  1.22s/it]\u001b[A\n",
      "\n",
      "running NLI (cuda:0): 100%|██████████| 1/1 [00:00<00:00, 17.23it/s]\n",
      "\n",
      "running NLI (cuda:0): 100%|██████████| 1/1 [00:00<00:00, 17.20it/s]\n",
      " 12%|█▏        | 12/100 [00:40<04:41,  3.20s/it]"
     ]
    },
    {
     "name": "stdout",
     "output_type": "stream",
     "text": [
      "Old value (informativeness_marginal_x_relevance_marginal): 0.000734\n",
      "New value (informativeness_marginal_x_relevance_marginal): [0.004425]\n"
     ]
    },
    {
     "name": "stderr",
     "output_type": "stream",
     "text": [
      "\n",
      "running generation (cuda:0):   0%|          | 0/1 [00:00<?, ?it/s]\u001b[A\n",
      "running generation (cuda:0): 100%|██████████| 1/1 [00:01<00:00,  1.22s/it]\u001b[A\n",
      "\n",
      "running generation (cuda:0):   0%|          | 0/1 [00:00<?, ?it/s]\u001b[A\n",
      "running generation (cuda:0): 100%|██████████| 1/1 [00:01<00:00,  1.22s/it]\u001b[A\n",
      "\n",
      "running NLI (cuda:0): 100%|██████████| 1/1 [00:00<00:00, 16.84it/s]\n",
      "\n",
      "running NLI (cuda:0): 100%|██████████| 1/1 [00:00<00:00, 17.53it/s]\n",
      "\n",
      "running generation (cuda:0):   0%|          | 0/1 [00:00<?, ?it/s]\u001b[A\n",
      "running generation (cuda:0): 100%|██████████| 1/1 [00:01<00:00,  1.22s/it]\u001b[A\n",
      "\n",
      "running NLI (cuda:0): 100%|██████████| 1/1 [00:00<00:00, 16.88it/s]\n",
      "\n",
      "running NLI (cuda:0): 100%|██████████| 1/1 [00:00<00:00, 17.20it/s]\n",
      " 13%|█▎        | 13/100 [00:44<04:57,  3.42s/it]"
     ]
    },
    {
     "name": "stdout",
     "output_type": "stream",
     "text": [
      "Old value (informativeness_marginal_x_relevance_marginal): 0.937012\n",
      "New value (informativeness_marginal_x_relevance_marginal): [0.921387]\n"
     ]
    },
    {
     "name": "stderr",
     "output_type": "stream",
     "text": [
      "\n",
      "running generation (cuda:0):   0%|          | 0/1 [00:00<?, ?it/s]\u001b[A\n",
      "running generation (cuda:0): 100%|██████████| 1/1 [00:01<00:00,  1.22s/it]\u001b[A\n",
      "\n",
      "running generation (cuda:0):   0%|          | 0/1 [00:00<?, ?it/s]\u001b[A\n",
      "running generation (cuda:0): 100%|██████████| 1/1 [00:01<00:00,  1.21s/it]\u001b[A\n",
      "\n",
      "running NLI (cuda:0): 100%|██████████| 1/1 [00:00<00:00, 16.95it/s]\n",
      "\n",
      "running NLI (cuda:0): 100%|██████████| 1/1 [00:00<00:00, 17.13it/s]\n",
      "\n",
      "running generation (cuda:0):   0%|          | 0/1 [00:00<?, ?it/s]\u001b[A\n",
      "running generation (cuda:0): 100%|██████████| 1/1 [00:01<00:00,  1.22s/it]\u001b[A\n",
      "\n",
      "running NLI (cuda:0): 100%|██████████| 1/1 [00:00<00:00, 17.14it/s]\n",
      "\n",
      "running NLI (cuda:0): 100%|██████████| 1/1 [00:00<00:00, 17.36it/s]\n",
      " 14%|█▍        | 14/100 [00:48<05:06,  3.56s/it]"
     ]
    },
    {
     "name": "stdout",
     "output_type": "stream",
     "text": [
      "Old value (informativeness_marginal_x_relevance_marginal): 0.014488\n",
      "New value (informativeness_marginal_x_relevance_marginal): [0.001178]\n"
     ]
    },
    {
     "name": "stderr",
     "output_type": "stream",
     "text": [
      "\n",
      "running generation (cuda:0):   0%|          | 0/1 [00:00<?, ?it/s]\u001b[A\n",
      "running generation (cuda:0): 100%|██████████| 1/1 [00:01<00:00,  1.22s/it]\u001b[A\n",
      "\n",
      "running generation (cuda:0):   0%|          | 0/1 [00:00<?, ?it/s]\u001b[A\n",
      "running generation (cuda:0): 100%|██████████| 1/1 [00:01<00:00,  1.22s/it]\u001b[A\n",
      "\n",
      "running NLI (cuda:0): 100%|██████████| 1/1 [00:00<00:00, 16.99it/s]\n",
      "\n",
      "running NLI (cuda:0): 100%|██████████| 1/1 [00:00<00:00, 17.28it/s]\n",
      "\n",
      "running generation (cuda:0): 0it [00:00, ?it/s]\u001b[A\n",
      "\n",
      "running NLI (cuda:0): 100%|██████████| 1/1 [00:00<00:00, 17.32it/s]\n",
      "\n",
      "running NLI (cuda:0): 100%|██████████| 1/1 [00:00<00:00, 17.64it/s]\n",
      " 15%|█▌        | 15/100 [00:51<04:40,  3.30s/it]"
     ]
    },
    {
     "name": "stdout",
     "output_type": "stream",
     "text": [
      "Old value (informativeness_marginal_x_relevance_marginal): 0.219238\n",
      "New value (informativeness_marginal_x_relevance_marginal): [0.211548]\n"
     ]
    },
    {
     "name": "stderr",
     "output_type": "stream",
     "text": [
      "\n",
      "running generation (cuda:0):   0%|          | 0/1 [00:00<?, ?it/s]\u001b[A\n",
      "running generation (cuda:0): 100%|██████████| 1/1 [00:01<00:00,  1.21s/it]\u001b[A\n",
      "\n",
      "running generation (cuda:0):   0%|          | 0/1 [00:00<?, ?it/s]\u001b[A\n",
      "running generation (cuda:0): 100%|██████████| 1/1 [00:01<00:00,  1.22s/it]\u001b[A\n",
      "\n",
      "running NLI (cuda:0): 100%|██████████| 1/1 [00:00<00:00, 17.01it/s]\n",
      "\n",
      "running NLI (cuda:0): 100%|██████████| 1/1 [00:00<00:00, 17.32it/s]\n",
      "\n",
      "running generation (cuda:0): 0it [00:00, ?it/s]\u001b[A\n",
      "\n",
      "running NLI (cuda:0): 100%|██████████| 1/1 [00:00<00:00, 17.18it/s]\n",
      "\n",
      "running NLI (cuda:0): 100%|██████████| 1/1 [00:00<00:00, 17.19it/s]\n",
      " 16%|█▌        | 16/100 [00:53<04:21,  3.11s/it]"
     ]
    },
    {
     "name": "stdout",
     "output_type": "stream",
     "text": [
      "Old value (informativeness_marginal_x_relevance_marginal): 0.883789\n",
      "New value (informativeness_marginal_x_relevance_marginal): [0.894531]\n"
     ]
    },
    {
     "name": "stderr",
     "output_type": "stream",
     "text": [
      "\n",
      "running generation (cuda:0):   0%|          | 0/1 [00:00<?, ?it/s]\u001b[A\n",
      "running generation (cuda:0): 100%|██████████| 1/1 [00:01<00:00,  1.22s/it]\u001b[A\n",
      "\n",
      "running generation (cuda:0):   0%|          | 0/1 [00:00<?, ?it/s]\u001b[A\n",
      "running generation (cuda:0): 100%|██████████| 1/1 [00:01<00:00,  1.21s/it]\u001b[A\n",
      "\n",
      "running NLI (cuda:0): 100%|██████████| 1/1 [00:00<00:00, 16.97it/s]\n",
      "\n",
      "running NLI (cuda:0): 100%|██████████| 1/1 [00:00<00:00, 17.22it/s]\n",
      "\n",
      "running generation (cuda:0):   0%|          | 0/1 [00:00<?, ?it/s]\u001b[A\n",
      "running generation (cuda:0): 100%|██████████| 1/1 [00:01<00:00,  1.21s/it]\u001b[A\n",
      "\n",
      "running NLI (cuda:0): 100%|██████████| 1/1 [00:00<00:00, 17.04it/s]\n",
      "\n",
      "running NLI (cuda:0): 100%|██████████| 1/1 [00:00<00:00, 17.23it/s]\n",
      " 17%|█▋        | 17/100 [00:57<04:37,  3.35s/it]"
     ]
    },
    {
     "name": "stdout",
     "output_type": "stream",
     "text": [
      "Old value (informativeness_marginal_x_relevance_marginal): 0.017578\n",
      "New value (informativeness_marginal_x_relevance_marginal): [0.021835]\n"
     ]
    },
    {
     "name": "stderr",
     "output_type": "stream",
     "text": [
      "\n",
      "running generation (cuda:0):   0%|          | 0/1 [00:00<?, ?it/s]\u001b[A\n",
      "running generation (cuda:0): 100%|██████████| 1/1 [00:01<00:00,  1.21s/it]\u001b[A\n",
      "\n",
      "running generation (cuda:0):   0%|          | 0/1 [00:00<?, ?it/s]\u001b[A\n",
      "running generation (cuda:0): 100%|██████████| 1/1 [00:01<00:00,  1.21s/it]\u001b[A\n",
      "\n",
      "running NLI (cuda:0): 100%|██████████| 1/1 [00:00<00:00, 17.20it/s]\n",
      "\n",
      "running NLI (cuda:0): 100%|██████████| 1/1 [00:00<00:00, 17.25it/s]\n",
      "\n",
      "running generation (cuda:0): 0it [00:00, ?it/s]\u001b[A\n",
      "\n",
      "running NLI (cuda:0): 100%|██████████| 1/1 [00:00<00:00, 17.16it/s]\n",
      "\n",
      "running NLI (cuda:0): 100%|██████████| 1/1 [00:00<00:00, 17.27it/s]\n",
      " 18%|█▊        | 18/100 [01:00<04:18,  3.15s/it]"
     ]
    },
    {
     "name": "stdout",
     "output_type": "stream",
     "text": [
      "Old value (informativeness_marginal_x_relevance_marginal): 0.356689\n",
      "New value (informativeness_marginal_x_relevance_marginal): [0.282959]\n"
     ]
    },
    {
     "name": "stderr",
     "output_type": "stream",
     "text": [
      "\n",
      "running generation (cuda:0):   0%|          | 0/1 [00:00<?, ?it/s]\u001b[A\n",
      "running generation (cuda:0): 100%|██████████| 1/1 [00:01<00:00,  1.22s/it]\u001b[A\n",
      "\n",
      "running generation (cuda:0):   0%|          | 0/1 [00:00<?, ?it/s]\u001b[A\n",
      "running generation (cuda:0): 100%|██████████| 1/1 [00:01<00:00,  1.21s/it]\u001b[A\n",
      "\n",
      "running NLI (cuda:0): 100%|██████████| 1/1 [00:00<00:00, 17.15it/s]\n",
      "\n",
      "running NLI (cuda:0): 100%|██████████| 1/1 [00:00<00:00, 17.18it/s]\n",
      "\n",
      "running generation (cuda:0):   0%|          | 0/1 [00:00<?, ?it/s]\u001b[A\n",
      "running generation (cuda:0): 100%|██████████| 1/1 [00:02<00:00,  2.60s/it]\u001b[A\n",
      "\n",
      "running NLI (cuda:0): 100%|██████████| 1/1 [00:00<00:00, 16.51it/s]\n",
      "\n",
      "running NLI (cuda:0): 100%|██████████| 1/1 [00:00<00:00, 17.35it/s]\n",
      " 19%|█▉        | 19/100 [01:05<05:06,  3.79s/it]"
     ]
    },
    {
     "name": "stdout",
     "output_type": "stream",
     "text": [
      "Old value (informativeness_marginal_x_relevance_marginal): 0.349365\n",
      "New value (informativeness_marginal_x_relevance_marginal): [0.486816]\n"
     ]
    },
    {
     "name": "stderr",
     "output_type": "stream",
     "text": [
      "\n",
      "running generation (cuda:0):   0%|          | 0/1 [00:00<?, ?it/s]\u001b[A\n",
      "running generation (cuda:0): 100%|██████████| 1/1 [00:01<00:00,  1.21s/it]\u001b[A\n",
      "\n",
      "running generation (cuda:0):   0%|          | 0/1 [00:00<?, ?it/s]\u001b[A\n",
      "running generation (cuda:0): 100%|██████████| 1/1 [00:01<00:00,  1.21s/it]\u001b[A\n",
      "\n",
      "running NLI (cuda:0): 100%|██████████| 1/1 [00:00<00:00, 16.84it/s]\n",
      "\n",
      "running NLI (cuda:0): 100%|██████████| 1/1 [00:00<00:00, 17.29it/s]\n",
      "\n",
      "running generation (cuda:0): 0it [00:00, ?it/s]\u001b[A\n",
      "\n",
      "running NLI (cuda:0): 100%|██████████| 1/1 [00:00<00:00, 17.38it/s]\n",
      "\n",
      "running NLI (cuda:0): 100%|██████████| 1/1 [00:00<00:00, 17.43it/s]\n",
      " 20%|██        | 20/100 [01:08<04:36,  3.46s/it]"
     ]
    },
    {
     "name": "stdout",
     "output_type": "stream",
     "text": [
      "Old value (informativeness_marginal_x_relevance_marginal): 0.952148\n",
      "New value (informativeness_marginal_x_relevance_marginal): [0.961426]\n"
     ]
    },
    {
     "name": "stderr",
     "output_type": "stream",
     "text": [
      "\n",
      "running generation (cuda:0):   0%|          | 0/1 [00:00<?, ?it/s]\u001b[A\n",
      "running generation (cuda:0): 100%|██████████| 1/1 [00:01<00:00,  1.21s/it]\u001b[A\n",
      "\n",
      "running generation (cuda:0):   0%|          | 0/1 [00:00<?, ?it/s]\u001b[A\n",
      "running generation (cuda:0): 100%|██████████| 1/1 [00:01<00:00,  1.22s/it]\u001b[A\n",
      "\n",
      "running NLI (cuda:0): 100%|██████████| 1/1 [00:00<00:00, 16.87it/s]\n",
      "\n",
      "running NLI (cuda:0): 100%|██████████| 1/1 [00:00<00:00, 17.36it/s]\n",
      "\n",
      "running generation (cuda:0):   0%|          | 0/1 [00:00<?, ?it/s]\u001b[A\n",
      "running generation (cuda:0): 100%|██████████| 1/1 [00:01<00:00,  1.21s/it]\u001b[A\n",
      "\n",
      "running NLI (cuda:0): 100%|██████████| 1/1 [00:00<00:00, 17.30it/s]\n",
      "\n",
      "running NLI (cuda:0): 100%|██████████| 1/1 [00:00<00:00, 17.39it/s]\n",
      " 21%|██        | 21/100 [01:12<04:43,  3.58s/it]"
     ]
    },
    {
     "name": "stdout",
     "output_type": "stream",
     "text": [
      "Old value (informativeness_marginal_x_relevance_marginal): 0.015686\n",
      "New value (informativeness_marginal_x_relevance_marginal): [0.04248]\n"
     ]
    },
    {
     "name": "stderr",
     "output_type": "stream",
     "text": [
      "\n",
      "running generation (cuda:0):   0%|          | 0/1 [00:00<?, ?it/s]\u001b[A\n",
      "running generation (cuda:0): 100%|██████████| 1/1 [00:01<00:00,  1.21s/it]\u001b[A\n",
      "\n",
      "running generation (cuda:0):   0%|          | 0/1 [00:00<?, ?it/s]\u001b[A\n",
      "running generation (cuda:0): 100%|██████████| 1/1 [00:01<00:00,  1.21s/it]\u001b[A\n",
      "\n",
      "running NLI (cuda:0): 100%|██████████| 1/1 [00:00<00:00, 17.25it/s]\n",
      "\n",
      "running NLI (cuda:0): 100%|██████████| 1/1 [00:00<00:00, 17.29it/s]\n",
      "\n",
      "running generation (cuda:0):   0%|          | 0/1 [00:00<?, ?it/s]\u001b[A\n",
      "running generation (cuda:0): 100%|██████████| 1/1 [00:01<00:00,  1.22s/it]\u001b[A\n",
      "\n",
      "running NLI (cuda:0): 100%|██████████| 1/1 [00:00<00:00, 17.09it/s]\n",
      "\n",
      "running NLI (cuda:0): 100%|██████████| 1/1 [00:00<00:00, 16.98it/s]\n",
      " 22%|██▏       | 22/100 [01:16<04:46,  3.68s/it]"
     ]
    },
    {
     "name": "stdout",
     "output_type": "stream",
     "text": [
      "Old value (informativeness_marginal_x_relevance_marginal): 0.436035\n",
      "New value (informativeness_marginal_x_relevance_marginal): [0.482422]\n"
     ]
    },
    {
     "name": "stderr",
     "output_type": "stream",
     "text": [
      "\n",
      "running generation (cuda:0):   0%|          | 0/1 [00:00<?, ?it/s]\u001b[A\n",
      "running generation (cuda:0): 100%|██████████| 1/1 [00:01<00:00,  1.22s/it]\u001b[A\n",
      "\n",
      "running generation (cuda:0):   0%|          | 0/1 [00:00<?, ?it/s]\u001b[A\n",
      "running generation (cuda:0): 100%|██████████| 1/1 [00:01<00:00,  1.22s/it]\u001b[A\n",
      "\n",
      "running NLI (cuda:0): 100%|██████████| 1/1 [00:00<00:00, 17.19it/s]\n",
      "\n",
      "running NLI (cuda:0): 100%|██████████| 1/1 [00:00<00:00, 17.33it/s]\n",
      "\n",
      "running generation (cuda:0): 0it [00:00, ?it/s]\u001b[A\n",
      "\n",
      "running NLI (cuda:0): 100%|██████████| 1/1 [00:00<00:00, 17.32it/s]\n",
      "\n",
      "running NLI (cuda:0): 100%|██████████| 1/1 [00:00<00:00, 17.38it/s]\n",
      " 23%|██▎       | 23/100 [01:18<04:20,  3.38s/it]"
     ]
    },
    {
     "name": "stdout",
     "output_type": "stream",
     "text": [
      "Old value (informativeness_marginal_x_relevance_marginal): 0.8125\n",
      "New value (informativeness_marginal_x_relevance_marginal): [0.818848]\n"
     ]
    },
    {
     "name": "stderr",
     "output_type": "stream",
     "text": [
      "\n",
      "running generation (cuda:0):   0%|          | 0/1 [00:00<?, ?it/s]\u001b[A\n",
      "running generation (cuda:0): 100%|██████████| 1/1 [00:01<00:00,  1.22s/it]\u001b[A\n",
      "\n",
      "running generation (cuda:0):   0%|          | 0/1 [00:00<?, ?it/s]\u001b[A\n",
      "running generation (cuda:0): 100%|██████████| 1/1 [00:01<00:00,  1.21s/it]\u001b[A\n",
      "\n",
      "running NLI (cuda:0): 100%|██████████| 1/1 [00:00<00:00, 17.10it/s]\n",
      "\n",
      "running NLI (cuda:0): 100%|██████████| 1/1 [00:00<00:00, 17.13it/s]\n",
      "\n",
      "running generation (cuda:0):   0%|          | 0/1 [00:00<?, ?it/s]\u001b[A\n",
      "running generation (cuda:0): 100%|██████████| 1/1 [00:01<00:00,  1.22s/it]\u001b[A\n",
      "\n",
      "running NLI (cuda:0): 100%|██████████| 1/1 [00:00<00:00, 17.17it/s]\n",
      "\n",
      "running NLI (cuda:0): 100%|██████████| 1/1 [00:00<00:00, 17.65it/s]\n",
      " 24%|██▍       | 24/100 [01:22<04:28,  3.53s/it]"
     ]
    },
    {
     "name": "stdout",
     "output_type": "stream",
     "text": [
      "Old value (informativeness_marginal_x_relevance_marginal): 0.467041\n",
      "New value (informativeness_marginal_x_relevance_marginal): [0.437256]\n"
     ]
    },
    {
     "name": "stderr",
     "output_type": "stream",
     "text": [
      "\n",
      "running generation (cuda:0):   0%|          | 0/1 [00:00<?, ?it/s]\u001b[A\n",
      "running generation (cuda:0): 100%|██████████| 1/1 [00:01<00:00,  1.22s/it]\u001b[A\n",
      "\n",
      "running generation (cuda:0):   0%|          | 0/1 [00:00<?, ?it/s]\u001b[A\n",
      "running generation (cuda:0): 100%|██████████| 1/1 [00:01<00:00,  1.21s/it]\u001b[A\n",
      "\n",
      "running NLI (cuda:0): 100%|██████████| 1/1 [00:00<00:00, 16.95it/s]\n",
      "\n",
      "running NLI (cuda:0): 100%|██████████| 1/1 [00:00<00:00, 17.14it/s]\n",
      "\n",
      "running generation (cuda:0): 0it [00:00, ?it/s]\u001b[A\n",
      "\n",
      "running NLI (cuda:0): 100%|██████████| 1/1 [00:00<00:00, 17.21it/s]\n",
      "\n",
      "running NLI (cuda:0): 100%|██████████| 1/1 [00:00<00:00, 17.38it/s]\n",
      " 25%|██▌       | 25/100 [01:25<04:05,  3.28s/it]"
     ]
    },
    {
     "name": "stdout",
     "output_type": "stream",
     "text": [
      "Old value (informativeness_marginal_x_relevance_marginal): 0.150757\n",
      "New value (informativeness_marginal_x_relevance_marginal): [0.145752]\n"
     ]
    },
    {
     "name": "stderr",
     "output_type": "stream",
     "text": [
      "\n",
      "running generation (cuda:0):   0%|          | 0/1 [00:00<?, ?it/s]\u001b[A\n",
      "running generation (cuda:0): 100%|██████████| 1/1 [00:01<00:00,  1.21s/it]\u001b[A\n",
      "\n",
      "running generation (cuda:0):   0%|          | 0/1 [00:00<?, ?it/s]\u001b[A\n",
      "running generation (cuda:0): 100%|██████████| 1/1 [00:01<00:00,  1.20s/it]\u001b[A\n",
      "\n",
      "running NLI (cuda:0): 100%|██████████| 1/1 [00:00<00:00, 17.18it/s]\n",
      "\n",
      "running NLI (cuda:0): 100%|██████████| 1/1 [00:00<00:00, 17.19it/s]\n",
      "\n",
      "running generation (cuda:0):   0%|          | 0/1 [00:00<?, ?it/s]\u001b[A\n",
      "running generation (cuda:0): 100%|██████████| 1/1 [00:02<00:00,  2.38s/it]\u001b[A\n",
      "\n",
      "running NLI (cuda:0): 100%|██████████| 1/1 [00:00<00:00, 17.60it/s]\n",
      "\n",
      "running NLI (cuda:0): 100%|██████████| 1/1 [00:00<00:00, 17.86it/s]\n",
      " 26%|██▌       | 26/100 [01:30<04:41,  3.81s/it]"
     ]
    },
    {
     "name": "stdout",
     "output_type": "stream",
     "text": [
      "Old value (informativeness_marginal_x_relevance_marginal): 0.019547\n",
      "New value (informativeness_marginal_x_relevance_marginal): [0.026627]\n"
     ]
    },
    {
     "name": "stderr",
     "output_type": "stream",
     "text": [
      "\n",
      "running generation (cuda:0):   0%|          | 0/1 [00:00<?, ?it/s]\u001b[A\n",
      "running generation (cuda:0): 100%|██████████| 1/1 [00:01<00:00,  1.22s/it]\u001b[A\n",
      "\n",
      "running generation (cuda:0):   0%|          | 0/1 [00:00<?, ?it/s]\u001b[A\n",
      "running generation (cuda:0): 100%|██████████| 1/1 [00:01<00:00,  1.20s/it]\u001b[A\n",
      "\n",
      "running NLI (cuda:0): 100%|██████████| 1/1 [00:00<00:00, 16.80it/s]\n",
      "\n",
      "running NLI (cuda:0): 100%|██████████| 1/1 [00:00<00:00, 17.19it/s]\n",
      "\n",
      "running generation (cuda:0):   0%|          | 0/1 [00:00<?, ?it/s]\u001b[A\n",
      "running generation (cuda:0): 100%|██████████| 1/1 [00:01<00:00,  1.22s/it]\u001b[A\n",
      "\n",
      "running NLI (cuda:0): 100%|██████████| 1/1 [00:00<00:00, 17.13it/s]\n",
      "\n",
      "running NLI (cuda:0): 100%|██████████| 1/1 [00:00<00:00, 17.21it/s]\n",
      " 27%|██▋       | 27/100 [01:34<04:39,  3.83s/it]"
     ]
    },
    {
     "name": "stdout",
     "output_type": "stream",
     "text": [
      "Old value (informativeness_marginal_x_relevance_marginal): 0.811523\n",
      "New value (informativeness_marginal_x_relevance_marginal): [0.819336]\n"
     ]
    },
    {
     "name": "stderr",
     "output_type": "stream",
     "text": [
      "\n",
      "running generation (cuda:0):   0%|          | 0/1 [00:00<?, ?it/s]\u001b[A\n",
      "running generation (cuda:0): 100%|██████████| 1/1 [00:01<00:00,  1.21s/it]\u001b[A\n",
      "\n",
      "running generation (cuda:0):   0%|          | 0/1 [00:00<?, ?it/s]\u001b[A\n",
      "running generation (cuda:0): 100%|██████████| 1/1 [00:01<00:00,  1.20s/it]\u001b[A\n",
      "\n",
      "running NLI (cuda:0): 100%|██████████| 1/1 [00:00<00:00, 16.68it/s]\n",
      "\n",
      "running NLI (cuda:0): 100%|██████████| 1/1 [00:00<00:00, 17.18it/s]\n",
      "\n",
      "running generation (cuda:0): 0it [00:00, ?it/s]\u001b[A\n",
      "\n",
      "running NLI (cuda:0): 100%|██████████| 1/1 [00:00<00:00, 17.37it/s]\n",
      "\n",
      "running NLI (cuda:0): 100%|██████████| 1/1 [00:00<00:00, 17.22it/s]\n",
      " 28%|██▊       | 28/100 [01:36<04:10,  3.48s/it]"
     ]
    },
    {
     "name": "stdout",
     "output_type": "stream",
     "text": [
      "Old value (informativeness_marginal_x_relevance_marginal): 0.873535\n",
      "New value (informativeness_marginal_x_relevance_marginal): [0.878418]\n"
     ]
    },
    {
     "name": "stderr",
     "output_type": "stream",
     "text": [
      "\n",
      "running generation (cuda:0):   0%|          | 0/1 [00:00<?, ?it/s]\u001b[A\n",
      "running generation (cuda:0): 100%|██████████| 1/1 [00:01<00:00,  1.20s/it]\u001b[A\n",
      "\n",
      "running generation (cuda:0):   0%|          | 0/1 [00:00<?, ?it/s]\u001b[A\n",
      "running generation (cuda:0): 100%|██████████| 1/1 [00:01<00:00,  1.21s/it]\u001b[A\n",
      "\n",
      "running NLI (cuda:0): 100%|██████████| 1/1 [00:00<00:00, 16.94it/s]\n",
      "\n",
      "running NLI (cuda:0): 100%|██████████| 1/1 [00:00<00:00, 17.22it/s]\n",
      "\n",
      "running generation (cuda:0):   0%|          | 0/1 [00:00<?, ?it/s]\u001b[A\n",
      "running generation (cuda:0): 100%|██████████| 1/1 [00:02<00:00,  2.38s/it]\u001b[A\n",
      "\n",
      "running NLI (cuda:0): 100%|██████████| 1/1 [00:00<00:00, 17.19it/s]\n",
      "\n",
      "running NLI (cuda:0): 100%|██████████| 1/1 [00:00<00:00, 17.29it/s]\n",
      " 29%|██▉       | 29/100 [01:41<04:40,  3.95s/it]"
     ]
    },
    {
     "name": "stdout",
     "output_type": "stream",
     "text": [
      "Old value (informativeness_marginal_x_relevance_marginal): 0.42627\n",
      "New value (informativeness_marginal_x_relevance_marginal): [0.454346]\n"
     ]
    },
    {
     "name": "stderr",
     "output_type": "stream",
     "text": [
      "\n",
      "running generation (cuda:0):   0%|          | 0/1 [00:00<?, ?it/s]\u001b[A\n",
      "running generation (cuda:0): 100%|██████████| 1/1 [00:01<00:00,  1.22s/it]\u001b[A\n",
      "\n",
      "running generation (cuda:0):   0%|          | 0/1 [00:00<?, ?it/s]\u001b[A\n",
      "running generation (cuda:0): 100%|██████████| 1/1 [00:01<00:00,  1.22s/it]\u001b[A\n",
      "\n",
      "running NLI (cuda:0): 100%|██████████| 1/1 [00:00<00:00, 17.10it/s]\n",
      "\n",
      "running NLI (cuda:0): 100%|██████████| 1/1 [00:00<00:00, 17.28it/s]\n",
      "\n",
      "running generation (cuda:0): 0it [00:00, ?it/s]\u001b[A\n",
      "\n",
      "running NLI (cuda:0): 100%|██████████| 1/1 [00:00<00:00, 17.38it/s]\n",
      "\n",
      "running NLI (cuda:0): 100%|██████████| 1/1 [00:00<00:00, 17.41it/s]\n",
      " 30%|███       | 30/100 [01:44<04:09,  3.57s/it]"
     ]
    },
    {
     "name": "stdout",
     "output_type": "stream",
     "text": [
      "Old value (informativeness_marginal_x_relevance_marginal): 0.011581\n",
      "New value (informativeness_marginal_x_relevance_marginal): [0.002861]\n"
     ]
    },
    {
     "name": "stderr",
     "output_type": "stream",
     "text": [
      "\n",
      "running generation (cuda:0):   0%|          | 0/1 [00:00<?, ?it/s]\u001b[A\n",
      "running generation (cuda:0): 100%|██████████| 1/1 [00:01<00:00,  1.20s/it]\u001b[A\n",
      "\n",
      "running generation (cuda:0):   0%|          | 0/1 [00:00<?, ?it/s]\u001b[A\n",
      "running generation (cuda:0): 100%|██████████| 1/1 [00:01<00:00,  1.21s/it]\u001b[A\n",
      "\n",
      "running NLI (cuda:0): 100%|██████████| 1/1 [00:00<00:00, 17.07it/s]\n",
      "\n",
      "running NLI (cuda:0): 100%|██████████| 1/1 [00:00<00:00, 17.63it/s]\n",
      "\n",
      "running generation (cuda:0): 0it [00:00, ?it/s]\u001b[A\n",
      "\n",
      "running NLI (cuda:0): 100%|██████████| 1/1 [00:00<00:00, 17.95it/s]\n",
      "\n",
      "running NLI (cuda:0): 100%|██████████| 1/1 [00:00<00:00, 17.70it/s]\n",
      " 31%|███       | 31/100 [01:47<03:47,  3.30s/it]"
     ]
    },
    {
     "name": "stdout",
     "output_type": "stream",
     "text": [
      "Old value (informativeness_marginal_x_relevance_marginal): 0.013901\n",
      "New value (informativeness_marginal_x_relevance_marginal): [0.007053]\n"
     ]
    },
    {
     "name": "stderr",
     "output_type": "stream",
     "text": [
      "\n",
      "running generation (cuda:0):   0%|          | 0/1 [00:00<?, ?it/s]\u001b[A\n",
      "running generation (cuda:0): 100%|██████████| 1/1 [00:01<00:00,  1.21s/it]\u001b[A\n",
      "\n",
      "running generation (cuda:0):   0%|          | 0/1 [00:00<?, ?it/s]\u001b[A\n",
      "running generation (cuda:0): 100%|██████████| 1/1 [00:01<00:00,  1.21s/it]\u001b[A\n",
      "\n",
      "running NLI (cuda:0): 100%|██████████| 1/1 [00:00<00:00, 17.11it/s]\n",
      "\n",
      "running NLI (cuda:0): 100%|██████████| 1/1 [00:00<00:00, 17.21it/s]\n",
      "\n",
      "running generation (cuda:0): 0it [00:00, ?it/s]\u001b[A\n",
      "\n",
      "running NLI (cuda:0): 100%|██████████| 1/1 [00:00<00:00, 17.38it/s]\n",
      "\n",
      "running NLI (cuda:0): 100%|██████████| 1/1 [00:00<00:00, 17.59it/s]\n",
      " 32%|███▏      | 32/100 [01:49<03:31,  3.11s/it]"
     ]
    },
    {
     "name": "stdout",
     "output_type": "stream",
     "text": [
      "Old value (informativeness_marginal_x_relevance_marginal): 0.088196\n",
      "New value (informativeness_marginal_x_relevance_marginal): [0.044861]\n"
     ]
    },
    {
     "name": "stderr",
     "output_type": "stream",
     "text": [
      "\n",
      "running generation (cuda:0):   0%|          | 0/1 [00:00<?, ?it/s]\u001b[A\n",
      "running generation (cuda:0): 100%|██████████| 1/1 [00:01<00:00,  1.21s/it]\u001b[A\n",
      "\n",
      "running generation (cuda:0):   0%|          | 0/1 [00:00<?, ?it/s]\u001b[A\n",
      "running generation (cuda:0): 100%|██████████| 1/1 [00:01<00:00,  1.21s/it]\u001b[A\n",
      "\n",
      "running NLI (cuda:0): 100%|██████████| 1/1 [00:00<00:00, 17.18it/s]\n",
      "\n",
      "running NLI (cuda:0): 100%|██████████| 1/1 [00:00<00:00, 17.33it/s]\n",
      "\n",
      "running generation (cuda:0): 0it [00:00, ?it/s]\u001b[A\n",
      "\n",
      "running NLI (cuda:0): 100%|██████████| 1/1 [00:00<00:00, 17.66it/s]\n",
      "\n",
      "running NLI (cuda:0): 100%|██████████| 1/1 [00:00<00:00, 17.74it/s]\n",
      " 33%|███▎      | 33/100 [01:52<03:19,  2.97s/it]"
     ]
    },
    {
     "name": "stdout",
     "output_type": "stream",
     "text": [
      "Old value (informativeness_marginal_x_relevance_marginal): 0.00036\n",
      "New value (informativeness_marginal_x_relevance_marginal): [0.000386]\n"
     ]
    },
    {
     "name": "stderr",
     "output_type": "stream",
     "text": [
      "\n",
      "running generation (cuda:0):   0%|          | 0/1 [00:00<?, ?it/s]\u001b[A\n",
      "running generation (cuda:0): 100%|██████████| 1/1 [00:01<00:00,  1.21s/it]\u001b[A\n",
      "\n",
      "running generation (cuda:0):   0%|          | 0/1 [00:00<?, ?it/s]\u001b[A\n",
      "running generation (cuda:0): 100%|██████████| 1/1 [00:01<00:00,  1.22s/it]\u001b[A\n",
      "\n",
      "running NLI (cuda:0): 100%|██████████| 1/1 [00:00<00:00, 17.08it/s]\n",
      "\n",
      "running NLI (cuda:0): 100%|██████████| 1/1 [00:00<00:00, 17.15it/s]\n",
      "\n",
      "running generation (cuda:0):   0%|          | 0/1 [00:00<?, ?it/s]\u001b[A\n",
      "running generation (cuda:0): 100%|██████████| 1/1 [00:01<00:00,  1.21s/it]\u001b[A\n",
      "\n",
      "running NLI (cuda:0): 100%|██████████| 1/1 [00:00<00:00, 17.15it/s]\n",
      "\n",
      "running NLI (cuda:0): 100%|██████████| 1/1 [00:00<00:00, 17.36it/s]\n",
      " 34%|███▍      | 34/100 [01:56<03:34,  3.25s/it]"
     ]
    },
    {
     "name": "stdout",
     "output_type": "stream",
     "text": [
      "Old value (informativeness_marginal_x_relevance_marginal): 0.077393\n",
      "New value (informativeness_marginal_x_relevance_marginal): [0.028351]\n"
     ]
    },
    {
     "name": "stderr",
     "output_type": "stream",
     "text": [
      "\n",
      "running generation (cuda:0):   0%|          | 0/1 [00:00<?, ?it/s]\u001b[A\n",
      "running generation (cuda:0): 100%|██████████| 1/1 [00:01<00:00,  1.22s/it]\u001b[A\n",
      "\n",
      "running generation (cuda:0):   0%|          | 0/1 [00:00<?, ?it/s]\u001b[A\n",
      "running generation (cuda:0): 100%|██████████| 1/1 [00:01<00:00,  1.21s/it]\u001b[A\n",
      "\n",
      "running NLI (cuda:0): 100%|██████████| 1/1 [00:00<00:00, 17.28it/s]\n",
      "\n",
      "running NLI (cuda:0): 100%|██████████| 1/1 [00:00<00:00, 17.32it/s]\n",
      "\n",
      "running generation (cuda:0): 0it [00:00, ?it/s]\u001b[A\n",
      "\n",
      "running NLI (cuda:0): 100%|██████████| 1/1 [00:00<00:00, 17.17it/s]\n",
      "\n",
      "running NLI (cuda:0): 100%|██████████| 1/1 [00:00<00:00, 17.26it/s]\n",
      " 35%|███▌      | 35/100 [01:59<03:20,  3.08s/it]"
     ]
    },
    {
     "name": "stdout",
     "output_type": "stream",
     "text": [
      "Old value (informativeness_marginal_x_relevance_marginal): 0.538574\n",
      "New value (informativeness_marginal_x_relevance_marginal): [0.421387]\n"
     ]
    },
    {
     "name": "stderr",
     "output_type": "stream",
     "text": [
      "\n",
      "running generation (cuda:0):   0%|          | 0/1 [00:00<?, ?it/s]\u001b[A\n",
      "running generation (cuda:0): 100%|██████████| 1/1 [00:01<00:00,  1.21s/it]\u001b[A\n",
      "\n",
      "running generation (cuda:0):   0%|          | 0/1 [00:00<?, ?it/s]\u001b[A\n",
      "running generation (cuda:0): 100%|██████████| 1/1 [00:01<00:00,  1.22s/it]\u001b[A\n",
      "\n",
      "running NLI (cuda:0): 100%|██████████| 1/1 [00:00<00:00, 16.94it/s]\n",
      "\n",
      "running NLI (cuda:0): 100%|██████████| 1/1 [00:00<00:00, 17.20it/s]\n",
      "\n",
      "running generation (cuda:0): 0it [00:00, ?it/s]\u001b[A\n",
      "\n",
      "running NLI (cuda:0): 100%|██████████| 1/1 [00:00<00:00, 17.16it/s]\n",
      "\n",
      "running NLI (cuda:0): 100%|██████████| 1/1 [00:00<00:00, 16.96it/s]\n",
      " 36%|███▌      | 36/100 [02:01<03:09,  2.96s/it]"
     ]
    },
    {
     "name": "stdout",
     "output_type": "stream",
     "text": [
      "Old value (informativeness_marginal_x_relevance_marginal): 0.001184\n",
      "New value (informativeness_marginal_x_relevance_marginal): [0.003872]\n"
     ]
    },
    {
     "name": "stderr",
     "output_type": "stream",
     "text": [
      "\n",
      "running generation (cuda:0):   0%|          | 0/1 [00:00<?, ?it/s]\u001b[A\n",
      "running generation (cuda:0): 100%|██████████| 1/1 [00:01<00:00,  1.21s/it]\u001b[A\n",
      "\n",
      "running generation (cuda:0):   0%|          | 0/1 [00:00<?, ?it/s]\u001b[A\n",
      "running generation (cuda:0): 100%|██████████| 1/1 [00:01<00:00,  1.22s/it]\u001b[A\n",
      "\n",
      "running NLI (cuda:0): 100%|██████████| 1/1 [00:00<00:00, 16.65it/s]\n",
      "\n",
      "running NLI (cuda:0): 100%|██████████| 1/1 [00:00<00:00, 17.39it/s]\n",
      "\n",
      "running generation (cuda:0): 0it [00:00, ?it/s]\u001b[A\n",
      "\n",
      "running NLI (cuda:0): 100%|██████████| 1/1 [00:00<00:00, 17.42it/s]\n",
      "\n",
      "running NLI (cuda:0): 100%|██████████| 1/1 [00:00<00:00, 17.52it/s]\n",
      " 37%|███▋      | 37/100 [02:04<03:01,  2.88s/it]"
     ]
    },
    {
     "name": "stdout",
     "output_type": "stream",
     "text": [
      "Old value (informativeness_marginal_x_relevance_marginal): 0.005608\n",
      "New value (informativeness_marginal_x_relevance_marginal): [0.000798]\n"
     ]
    },
    {
     "name": "stderr",
     "output_type": "stream",
     "text": [
      "\n",
      "running generation (cuda:0):   0%|          | 0/1 [00:00<?, ?it/s]\u001b[A\n",
      "running generation (cuda:0): 100%|██████████| 1/1 [00:01<00:00,  1.21s/it]\u001b[A\n",
      "\n",
      "running generation (cuda:0):   0%|          | 0/1 [00:00<?, ?it/s]\u001b[A\n",
      "running generation (cuda:0): 100%|██████████| 1/1 [00:01<00:00,  1.21s/it]\u001b[A\n",
      "\n",
      "running NLI (cuda:0): 100%|██████████| 1/1 [00:00<00:00, 17.07it/s]\n",
      "\n",
      "running NLI (cuda:0): 100%|██████████| 1/1 [00:00<00:00, 17.34it/s]\n",
      "\n",
      "running generation (cuda:0): 0it [00:00, ?it/s]\u001b[A\n",
      "\n",
      "running NLI (cuda:0): 100%|██████████| 1/1 [00:00<00:00, 17.40it/s]\n",
      "\n",
      "running NLI (cuda:0): 100%|██████████| 1/1 [00:00<00:00, 17.47it/s]\n",
      " 38%|███▊      | 38/100 [02:07<02:54,  2.81s/it]"
     ]
    },
    {
     "name": "stdout",
     "output_type": "stream",
     "text": [
      "Old value (informativeness_marginal_x_relevance_marginal): 0.496094\n",
      "New value (informativeness_marginal_x_relevance_marginal): [0.583496]\n"
     ]
    },
    {
     "name": "stderr",
     "output_type": "stream",
     "text": [
      "\n",
      "running generation (cuda:0):   0%|          | 0/1 [00:00<?, ?it/s]\u001b[A\n",
      "running generation (cuda:0): 100%|██████████| 1/1 [00:01<00:00,  1.22s/it]\u001b[A\n",
      "\n",
      "running generation (cuda:0):   0%|          | 0/1 [00:00<?, ?it/s]\u001b[A\n",
      "running generation (cuda:0): 100%|██████████| 1/1 [00:01<00:00,  1.21s/it]\u001b[A\n",
      "\n",
      "running NLI (cuda:0): 100%|██████████| 1/1 [00:00<00:00, 17.09it/s]\n",
      "\n",
      "running NLI (cuda:0): 100%|██████████| 1/1 [00:00<00:00, 17.21it/s]\n",
      "\n",
      "running generation (cuda:0):   0%|          | 0/1 [00:00<?, ?it/s]\u001b[A\n",
      "running generation (cuda:0): 100%|██████████| 1/1 [00:02<00:00,  2.47s/it]\u001b[A\n",
      "\n",
      "running NLI (cuda:0): 100%|██████████| 1/1 [00:00<00:00, 17.04it/s]\n",
      "\n",
      "running NLI (cuda:0): 100%|██████████| 1/1 [00:00<00:00, 17.03it/s]\n",
      " 39%|███▉      | 39/100 [02:12<03:34,  3.51s/it]"
     ]
    },
    {
     "name": "stdout",
     "output_type": "stream",
     "text": [
      "Old value (informativeness_marginal_x_relevance_marginal): 0.033569\n",
      "New value (informativeness_marginal_x_relevance_marginal): [0.025131]\n"
     ]
    },
    {
     "name": "stderr",
     "output_type": "stream",
     "text": [
      "\n",
      "running generation (cuda:0):   0%|          | 0/1 [00:00<?, ?it/s]\u001b[A\n",
      "running generation (cuda:0): 100%|██████████| 1/1 [00:01<00:00,  1.22s/it]\u001b[A\n",
      "\n",
      "running generation (cuda:0):   0%|          | 0/1 [00:00<?, ?it/s]\u001b[A\n",
      "running generation (cuda:0): 100%|██████████| 1/1 [00:01<00:00,  1.21s/it]\u001b[A\n",
      "\n",
      "running NLI (cuda:0): 100%|██████████| 1/1 [00:00<00:00, 17.20it/s]\n",
      "\n",
      "running NLI (cuda:0): 100%|██████████| 1/1 [00:00<00:00, 17.31it/s]\n",
      "\n",
      "running generation (cuda:0):   0%|          | 0/1 [00:00<?, ?it/s]\u001b[A\n",
      "running generation (cuda:0): 100%|██████████| 1/1 [00:01<00:00,  1.22s/it]\u001b[A\n",
      "\n",
      "running NLI (cuda:0): 100%|██████████| 1/1 [00:00<00:00, 16.78it/s]\n",
      "\n",
      "running NLI (cuda:0): 100%|██████████| 1/1 [00:00<00:00, 17.11it/s]\n",
      " 40%|████      | 40/100 [02:16<03:37,  3.63s/it]"
     ]
    },
    {
     "name": "stdout",
     "output_type": "stream",
     "text": [
      "Old value (informativeness_marginal_x_relevance_marginal): 0.315918\n",
      "New value (informativeness_marginal_x_relevance_marginal): [0.259277]\n"
     ]
    },
    {
     "name": "stderr",
     "output_type": "stream",
     "text": [
      "\n",
      "running generation (cuda:0):   0%|          | 0/1 [00:00<?, ?it/s]\u001b[A\n",
      "running generation (cuda:0): 100%|██████████| 1/1 [00:01<00:00,  1.21s/it]\u001b[A\n",
      "\n",
      "running generation (cuda:0):   0%|          | 0/1 [00:00<?, ?it/s]\u001b[A\n",
      "running generation (cuda:0): 100%|██████████| 1/1 [00:01<00:00,  1.21s/it]\u001b[A\n",
      "\n",
      "running NLI (cuda:0): 100%|██████████| 1/1 [00:00<00:00, 17.07it/s]\n",
      "\n",
      "running NLI (cuda:0): 100%|██████████| 1/1 [00:00<00:00, 17.32it/s]\n",
      "\n",
      "running generation (cuda:0):   0%|          | 0/1 [00:00<?, ?it/s]\u001b[A\n",
      "running generation (cuda:0): 100%|██████████| 1/1 [00:01<00:00,  1.21s/it]\u001b[A\n",
      "\n",
      "running NLI (cuda:0): 100%|██████████| 1/1 [00:00<00:00, 17.16it/s]\n",
      "\n",
      "running NLI (cuda:0): 100%|██████████| 1/1 [00:00<00:00, 17.52it/s]\n",
      " 41%|████      | 41/100 [02:20<03:38,  3.71s/it]"
     ]
    },
    {
     "name": "stdout",
     "output_type": "stream",
     "text": [
      "Old value (informativeness_marginal_x_relevance_marginal): 0.712891\n",
      "New value (informativeness_marginal_x_relevance_marginal): [0.87793]\n"
     ]
    },
    {
     "name": "stderr",
     "output_type": "stream",
     "text": [
      "\n",
      "running generation (cuda:0):   0%|          | 0/1 [00:00<?, ?it/s]\u001b[A\n",
      "running generation (cuda:0): 100%|██████████| 1/1 [00:01<00:00,  1.21s/it]\u001b[A\n",
      "\n",
      "running generation (cuda:0):   0%|          | 0/1 [00:00<?, ?it/s]\u001b[A\n",
      "running generation (cuda:0): 100%|██████████| 1/1 [00:01<00:00,  1.20s/it]\u001b[A\n",
      "\n",
      "running NLI (cuda:0): 100%|██████████| 1/1 [00:00<00:00, 17.29it/s]\n",
      "\n",
      "running NLI (cuda:0): 100%|██████████| 1/1 [00:00<00:00, 17.35it/s]\n",
      "\n",
      "running generation (cuda:0):   0%|          | 0/1 [00:00<?, ?it/s]\u001b[A\n",
      "running generation (cuda:0): 100%|██████████| 1/1 [00:01<00:00,  1.21s/it]\u001b[A\n",
      "\n",
      "running NLI (cuda:0): 100%|██████████| 1/1 [00:00<00:00, 17.09it/s]\n",
      "\n",
      "running NLI (cuda:0): 100%|██████████| 1/1 [00:00<00:00, 17.12it/s]\n",
      " 42%|████▏     | 42/100 [02:24<03:37,  3.75s/it]"
     ]
    },
    {
     "name": "stdout",
     "output_type": "stream",
     "text": [
      "Old value (informativeness_marginal_x_relevance_marginal): 0.074097\n",
      "New value (informativeness_marginal_x_relevance_marginal): [0.109619]\n"
     ]
    },
    {
     "name": "stderr",
     "output_type": "stream",
     "text": [
      "\n",
      "running generation (cuda:0):   0%|          | 0/1 [00:00<?, ?it/s]\u001b[A\n",
      "running generation (cuda:0): 100%|██████████| 1/1 [00:01<00:00,  1.21s/it]\u001b[A\n",
      "\n",
      "running generation (cuda:0):   0%|          | 0/1 [00:00<?, ?it/s]\u001b[A\n",
      "running generation (cuda:0): 100%|██████████| 1/1 [00:01<00:00,  1.20s/it]\u001b[A\n",
      "\n",
      "running NLI (cuda:0): 100%|██████████| 1/1 [00:00<00:00, 17.26it/s]\n",
      "\n",
      "running NLI (cuda:0): 100%|██████████| 1/1 [00:00<00:00, 17.26it/s]\n",
      "\n",
      "running generation (cuda:0):   0%|          | 0/1 [00:00<?, ?it/s]\u001b[A\n",
      "running generation (cuda:0): 100%|██████████| 1/1 [00:01<00:00,  1.21s/it]\u001b[A\n",
      "\n",
      "running NLI (cuda:0): 100%|██████████| 1/1 [00:00<00:00, 17.21it/s]\n",
      "\n",
      "running NLI (cuda:0): 100%|██████████| 1/1 [00:00<00:00, 17.45it/s]\n",
      " 43%|████▎     | 43/100 [02:27<03:36,  3.79s/it]"
     ]
    },
    {
     "name": "stdout",
     "output_type": "stream",
     "text": [
      "Old value (informativeness_marginal_x_relevance_marginal): 0.897949\n",
      "New value (informativeness_marginal_x_relevance_marginal): [0.792969]\n"
     ]
    },
    {
     "name": "stderr",
     "output_type": "stream",
     "text": [
      "\n",
      "running generation (cuda:0):   0%|          | 0/1 [00:00<?, ?it/s]\u001b[A\n",
      "running generation (cuda:0): 100%|██████████| 1/1 [00:01<00:00,  1.21s/it]\u001b[A\n",
      "\n",
      "running generation (cuda:0):   0%|          | 0/1 [00:00<?, ?it/s]\u001b[A\n",
      "running generation (cuda:0): 100%|██████████| 1/1 [00:01<00:00,  1.21s/it]\u001b[A\n",
      "\n",
      "running NLI (cuda:0): 100%|██████████| 1/1 [00:00<00:00, 17.19it/s]\n",
      "\n",
      "running NLI (cuda:0): 100%|██████████| 1/1 [00:00<00:00, 17.30it/s]\n",
      "\n",
      "running generation (cuda:0): 0it [00:00, ?it/s]\u001b[A\n",
      "\n",
      "running NLI (cuda:0): 100%|██████████| 1/1 [00:00<00:00, 17.31it/s]\n",
      "\n",
      "running NLI (cuda:0): 100%|██████████| 1/1 [00:00<00:00, 17.20it/s]\n",
      " 44%|████▍     | 44/100 [02:30<03:13,  3.45s/it]"
     ]
    },
    {
     "name": "stdout",
     "output_type": "stream",
     "text": [
      "Old value (informativeness_marginal_x_relevance_marginal): 0.974121\n",
      "New value (informativeness_marginal_x_relevance_marginal): [0.976562]\n"
     ]
    },
    {
     "name": "stderr",
     "output_type": "stream",
     "text": [
      "\n",
      "running generation (cuda:0):   0%|          | 0/1 [00:00<?, ?it/s]\u001b[A\n",
      "running generation (cuda:0): 100%|██████████| 1/1 [00:01<00:00,  1.21s/it]\u001b[A\n",
      "\n",
      "running generation (cuda:0):   0%|          | 0/1 [00:00<?, ?it/s]\u001b[A\n",
      "running generation (cuda:0): 100%|██████████| 1/1 [00:01<00:00,  1.22s/it]\u001b[A\n",
      "\n",
      "running NLI (cuda:0): 100%|██████████| 1/1 [00:00<00:00, 16.95it/s]\n",
      "\n",
      "running NLI (cuda:0): 100%|██████████| 1/1 [00:00<00:00, 17.62it/s]\n",
      "\n",
      "running generation (cuda:0): 0it [00:00, ?it/s]\u001b[A\n",
      "\n",
      "running NLI (cuda:0): 100%|██████████| 1/1 [00:00<00:00, 17.76it/s]\n",
      "\n",
      "running NLI (cuda:0): 100%|██████████| 1/1 [00:00<00:00, 17.61it/s]\n",
      " 45%|████▌     | 45/100 [02:33<02:57,  3.22s/it]"
     ]
    },
    {
     "name": "stdout",
     "output_type": "stream",
     "text": [
      "Old value (informativeness_marginal_x_relevance_marginal): 0.95166\n",
      "New value (informativeness_marginal_x_relevance_marginal): [0.962402]\n"
     ]
    },
    {
     "name": "stderr",
     "output_type": "stream",
     "text": [
      "\n",
      "running generation (cuda:0):   0%|          | 0/1 [00:00<?, ?it/s]\u001b[A\n",
      "running generation (cuda:0): 100%|██████████| 1/1 [00:01<00:00,  1.22s/it]\u001b[A\n",
      "\n",
      "running generation (cuda:0):   0%|          | 0/1 [00:00<?, ?it/s]\u001b[A\n",
      "running generation (cuda:0): 100%|██████████| 1/1 [00:01<00:00,  1.21s/it]\u001b[A\n",
      "\n",
      "running NLI (cuda:0): 100%|██████████| 1/1 [00:00<00:00, 16.62it/s]\n",
      "\n",
      "running NLI (cuda:0): 100%|██████████| 1/1 [00:00<00:00, 17.14it/s]\n",
      "\n",
      "running generation (cuda:0): 0it [00:00, ?it/s]\u001b[A\n",
      "\n",
      "running NLI (cuda:0): 100%|██████████| 1/1 [00:00<00:00, 17.17it/s]\n",
      "\n",
      "running NLI (cuda:0): 100%|██████████| 1/1 [00:00<00:00, 16.91it/s]\n",
      " 46%|████▌     | 46/100 [02:35<02:45,  3.06s/it]"
     ]
    },
    {
     "name": "stdout",
     "output_type": "stream",
     "text": [
      "Old value (informativeness_marginal_x_relevance_marginal): 0.847168\n",
      "New value (informativeness_marginal_x_relevance_marginal): [0.808105]\n"
     ]
    },
    {
     "name": "stderr",
     "output_type": "stream",
     "text": [
      "\n",
      "running generation (cuda:0):   0%|          | 0/1 [00:00<?, ?it/s]\u001b[A\n",
      "running generation (cuda:0): 100%|██████████| 1/1 [00:01<00:00,  1.21s/it]\u001b[A\n",
      "\n",
      "running generation (cuda:0):   0%|          | 0/1 [00:00<?, ?it/s]\u001b[A\n",
      "running generation (cuda:0): 100%|██████████| 1/1 [00:01<00:00,  1.22s/it]\u001b[A\n",
      "\n",
      "running NLI (cuda:0): 100%|██████████| 1/1 [00:00<00:00, 17.22it/s]\n",
      "\n",
      "running NLI (cuda:0): 100%|██████████| 1/1 [00:00<00:00, 17.20it/s]\n",
      "\n",
      "running generation (cuda:0):   0%|          | 0/1 [00:00<?, ?it/s]\u001b[A\n",
      "running generation (cuda:0): 100%|██████████| 1/1 [00:01<00:00,  1.21s/it]\u001b[A\n",
      "\n",
      "running NLI (cuda:0): 100%|██████████| 1/1 [00:00<00:00, 16.89it/s]\n",
      "\n",
      "running NLI (cuda:0): 100%|██████████| 1/1 [00:00<00:00, 17.15it/s]\n",
      " 47%|████▋     | 47/100 [02:39<02:55,  3.31s/it]"
     ]
    },
    {
     "name": "stdout",
     "output_type": "stream",
     "text": [
      "Old value (informativeness_marginal_x_relevance_marginal): 0.00246\n",
      "New value (informativeness_marginal_x_relevance_marginal): [0.001801]\n"
     ]
    },
    {
     "name": "stderr",
     "output_type": "stream",
     "text": [
      "\n",
      "running generation (cuda:0):   0%|          | 0/1 [00:00<?, ?it/s]\u001b[A\n",
      "running generation (cuda:0): 100%|██████████| 1/1 [00:01<00:00,  1.22s/it]\u001b[A\n",
      "\n",
      "running generation (cuda:0):   0%|          | 0/1 [00:00<?, ?it/s]\u001b[A\n",
      "running generation (cuda:0): 100%|██████████| 1/1 [00:01<00:00,  1.22s/it]\u001b[A\n",
      "\n",
      "running NLI (cuda:0): 100%|██████████| 1/1 [00:00<00:00, 16.97it/s]\n",
      "\n",
      "running NLI (cuda:0): 100%|██████████| 1/1 [00:00<00:00, 17.20it/s]\n",
      "\n",
      "running generation (cuda:0): 0it [00:00, ?it/s]\u001b[A\n",
      "\n",
      "running NLI (cuda:0): 100%|██████████| 1/1 [00:00<00:00, 17.16it/s]\n",
      "\n",
      "running NLI (cuda:0): 100%|██████████| 1/1 [00:00<00:00, 17.05it/s]\n",
      " 48%|████▊     | 48/100 [02:42<02:42,  3.12s/it]"
     ]
    },
    {
     "name": "stdout",
     "output_type": "stream",
     "text": [
      "Old value (informativeness_marginal_x_relevance_marginal): 0.912598\n",
      "New value (informativeness_marginal_x_relevance_marginal): [0.90625]\n"
     ]
    },
    {
     "name": "stderr",
     "output_type": "stream",
     "text": [
      "\n",
      "running generation (cuda:0):   0%|          | 0/1 [00:00<?, ?it/s]\u001b[A\n",
      "running generation (cuda:0): 100%|██████████| 1/1 [00:01<00:00,  1.21s/it]\u001b[A\n",
      "\n",
      "running generation (cuda:0):   0%|          | 0/1 [00:00<?, ?it/s]\u001b[A\n",
      "running generation (cuda:0): 100%|██████████| 1/1 [00:01<00:00,  1.21s/it]\u001b[A\n",
      "\n",
      "running NLI (cuda:0): 100%|██████████| 1/1 [00:00<00:00, 17.06it/s]\n",
      "\n",
      "running NLI (cuda:0): 100%|██████████| 1/1 [00:00<00:00, 17.41it/s]\n",
      "\n",
      "running generation (cuda:0): 0it [00:00, ?it/s]\u001b[A\n",
      "\n",
      "running NLI (cuda:0): 100%|██████████| 1/1 [00:00<00:00, 17.44it/s]\n",
      "\n",
      "running NLI (cuda:0): 100%|██████████| 1/1 [00:00<00:00, 17.05it/s]\n",
      " 49%|████▉     | 49/100 [02:45<02:32,  2.99s/it]"
     ]
    },
    {
     "name": "stdout",
     "output_type": "stream",
     "text": [
      "Old value (informativeness_marginal_x_relevance_marginal): 0.302979\n",
      "New value (informativeness_marginal_x_relevance_marginal): [0.379639]\n"
     ]
    },
    {
     "name": "stderr",
     "output_type": "stream",
     "text": [
      "\n",
      "running generation (cuda:0):   0%|          | 0/1 [00:00<?, ?it/s]\u001b[A\n",
      "running generation (cuda:0): 100%|██████████| 1/1 [00:01<00:00,  1.21s/it]\u001b[A\n",
      "\n",
      "running generation (cuda:0):   0%|          | 0/1 [00:00<?, ?it/s]\u001b[A\n",
      "running generation (cuda:0): 100%|██████████| 1/1 [00:01<00:00,  1.21s/it]\u001b[A\n",
      "\n",
      "running NLI (cuda:0): 100%|██████████| 1/1 [00:00<00:00, 17.25it/s]\n",
      "\n",
      "running NLI (cuda:0): 100%|██████████| 1/1 [00:00<00:00, 17.09it/s]\n",
      "\n",
      "running generation (cuda:0):   0%|          | 0/1 [00:00<?, ?it/s]\u001b[A\n",
      "running generation (cuda:0): 100%|██████████| 1/1 [00:02<00:00,  2.46s/it]\u001b[A\n",
      "\n",
      "running NLI (cuda:0): 100%|██████████| 1/1 [00:00<00:00, 17.24it/s]\n",
      "\n",
      "running NLI (cuda:0): 100%|██████████| 1/1 [00:00<00:00, 17.25it/s]\n",
      " 50%|█████     | 50/100 [02:50<03:01,  3.63s/it]"
     ]
    },
    {
     "name": "stdout",
     "output_type": "stream",
     "text": [
      "Old value (informativeness_marginal_x_relevance_marginal): 0.691895\n",
      "New value (informativeness_marginal_x_relevance_marginal): [0.770508]\n"
     ]
    },
    {
     "name": "stderr",
     "output_type": "stream",
     "text": [
      "\n",
      "running generation (cuda:0):   0%|          | 0/1 [00:00<?, ?it/s]\u001b[A\n",
      "running generation (cuda:0): 100%|██████████| 1/1 [00:01<00:00,  1.21s/it]\u001b[A\n",
      "\n",
      "running generation (cuda:0):   0%|          | 0/1 [00:00<?, ?it/s]\u001b[A\n",
      "running generation (cuda:0): 100%|██████████| 1/1 [00:01<00:00,  1.21s/it]\u001b[A\n",
      "\n",
      "running NLI (cuda:0): 100%|██████████| 1/1 [00:00<00:00, 17.44it/s]\n",
      "\n",
      "running NLI (cuda:0): 100%|██████████| 1/1 [00:00<00:00, 17.76it/s]\n",
      "\n",
      "running generation (cuda:0): 0it [00:00, ?it/s]\u001b[A\n",
      "\n",
      "running NLI (cuda:0): 100%|██████████| 1/1 [00:00<00:00, 17.77it/s]\n",
      "\n",
      "running NLI (cuda:0): 100%|██████████| 1/1 [00:00<00:00, 17.65it/s]\n",
      " 51%|█████     | 51/100 [02:53<02:43,  3.34s/it]"
     ]
    },
    {
     "name": "stdout",
     "output_type": "stream",
     "text": [
      "Old value (informativeness_marginal_x_relevance_marginal): 0.003574\n",
      "New value (informativeness_marginal_x_relevance_marginal): [0.018295]\n"
     ]
    },
    {
     "name": "stderr",
     "output_type": "stream",
     "text": [
      "\n",
      "running generation (cuda:0):   0%|          | 0/1 [00:00<?, ?it/s]\u001b[A\n",
      "running generation (cuda:0): 100%|██████████| 1/1 [00:01<00:00,  1.21s/it]\u001b[A\n",
      "\n",
      "running generation (cuda:0):   0%|          | 0/1 [00:00<?, ?it/s]\u001b[A\n",
      "running generation (cuda:0): 100%|██████████| 1/1 [00:01<00:00,  1.21s/it]\u001b[A\n",
      "\n",
      "running NLI (cuda:0): 100%|██████████| 1/1 [00:00<00:00, 16.99it/s]\n",
      "\n",
      "running NLI (cuda:0): 100%|██████████| 1/1 [00:00<00:00, 17.16it/s]\n",
      "\n",
      "running generation (cuda:0):   0%|          | 0/1 [00:00<?, ?it/s]\u001b[A\n",
      "running generation (cuda:0): 100%|██████████| 1/1 [00:02<00:00,  2.39s/it]\u001b[A\n",
      "\n",
      "running NLI (cuda:0): 100%|██████████| 1/1 [00:00<00:00, 17.42it/s]\n",
      "\n",
      "running NLI (cuda:0): 100%|██████████| 1/1 [00:00<00:00, 17.74it/s]\n",
      " 52%|█████▏    | 52/100 [02:58<03:05,  3.85s/it]"
     ]
    },
    {
     "name": "stdout",
     "output_type": "stream",
     "text": [
      "Old value (informativeness_marginal_x_relevance_marginal): 0.048859\n",
      "New value (informativeness_marginal_x_relevance_marginal): [0.04245]\n"
     ]
    },
    {
     "name": "stderr",
     "output_type": "stream",
     "text": [
      "\n",
      "running generation (cuda:0):   0%|          | 0/1 [00:00<?, ?it/s]\u001b[A\n",
      "running generation (cuda:0): 100%|██████████| 1/1 [00:01<00:00,  1.21s/it]\u001b[A\n",
      "\n",
      "running generation (cuda:0):   0%|          | 0/1 [00:00<?, ?it/s]\u001b[A\n",
      "running generation (cuda:0): 100%|██████████| 1/1 [00:01<00:00,  1.21s/it]\u001b[A\n",
      "\n",
      "running NLI (cuda:0): 100%|██████████| 1/1 [00:00<00:00, 17.21it/s]\n",
      "\n",
      "running NLI (cuda:0): 100%|██████████| 1/1 [00:00<00:00, 17.95it/s]\n",
      "\n",
      "running generation (cuda:0):   0%|          | 0/1 [00:00<?, ?it/s]\u001b[A\n",
      "running generation (cuda:0): 100%|██████████| 1/1 [00:01<00:00,  1.21s/it]\u001b[A\n",
      "\n",
      "running NLI (cuda:0): 100%|██████████| 1/1 [00:00<00:00, 17.55it/s]\n",
      "\n",
      "running NLI (cuda:0): 100%|██████████| 1/1 [00:00<00:00, 17.76it/s]\n",
      " 53%|█████▎    | 53/100 [03:01<03:01,  3.86s/it]"
     ]
    },
    {
     "name": "stdout",
     "output_type": "stream",
     "text": [
      "Old value (informativeness_marginal_x_relevance_marginal): 0.072144\n",
      "New value (informativeness_marginal_x_relevance_marginal): [0.071106]\n"
     ]
    },
    {
     "name": "stderr",
     "output_type": "stream",
     "text": [
      "\n",
      "running generation (cuda:0):   0%|          | 0/1 [00:00<?, ?it/s]\u001b[A\n",
      "running generation (cuda:0): 100%|██████████| 1/1 [00:01<00:00,  1.21s/it]\u001b[A\n",
      "\n",
      "running generation (cuda:0):   0%|          | 0/1 [00:00<?, ?it/s]\u001b[A\n",
      "running generation (cuda:0): 100%|██████████| 1/1 [00:01<00:00,  1.20s/it]\u001b[A\n",
      "\n",
      "running NLI (cuda:0): 100%|██████████| 1/1 [00:00<00:00, 17.18it/s]\n",
      "\n",
      "running NLI (cuda:0): 100%|██████████| 1/1 [00:00<00:00, 17.79it/s]\n",
      "\n",
      "running generation (cuda:0):   0%|          | 0/1 [00:00<?, ?it/s]\u001b[A\n",
      "running generation (cuda:0): 100%|██████████| 1/1 [00:01<00:00,  1.21s/it]\u001b[A\n",
      "\n",
      "running NLI (cuda:0): 100%|██████████| 1/1 [00:00<00:00, 17.36it/s]\n",
      "\n",
      "running NLI (cuda:0): 100%|██████████| 1/1 [00:00<00:00, 17.73it/s]\n",
      " 54%|█████▍    | 54/100 [03:05<02:57,  3.86s/it]"
     ]
    },
    {
     "name": "stdout",
     "output_type": "stream",
     "text": [
      "Old value (informativeness_marginal_x_relevance_marginal): 0.113953\n",
      "New value (informativeness_marginal_x_relevance_marginal): [0.317139]\n"
     ]
    },
    {
     "name": "stderr",
     "output_type": "stream",
     "text": [
      "\n",
      "running generation (cuda:0):   0%|          | 0/1 [00:00<?, ?it/s]\u001b[A\n",
      "running generation (cuda:0): 100%|██████████| 1/1 [00:01<00:00,  1.21s/it]\u001b[A\n",
      "\n",
      "running generation (cuda:0):   0%|          | 0/1 [00:00<?, ?it/s]\u001b[A\n",
      "running generation (cuda:0): 100%|██████████| 1/1 [00:01<00:00,  1.21s/it]\u001b[A\n",
      "\n",
      "running NLI (cuda:0): 100%|██████████| 1/1 [00:00<00:00, 17.12it/s]\n",
      "\n",
      "running NLI (cuda:0): 100%|██████████| 1/1 [00:00<00:00, 17.24it/s]\n",
      "\n",
      "running generation (cuda:0):   0%|          | 0/1 [00:00<?, ?it/s]\u001b[A\n",
      "running generation (cuda:0): 100%|██████████| 1/1 [00:02<00:00,  2.37s/it]\u001b[A\n",
      "\n",
      "running NLI (cuda:0): 100%|██████████| 1/1 [00:00<00:00, 16.97it/s]\n",
      "\n",
      "running NLI (cuda:0): 100%|██████████| 1/1 [00:00<00:00, 17.18it/s]\n",
      " 55%|█████▌    | 55/100 [03:10<03:09,  4.22s/it]"
     ]
    },
    {
     "name": "stdout",
     "output_type": "stream",
     "text": [
      "Old value (informativeness_marginal_x_relevance_marginal): 0.049225\n",
      "New value (informativeness_marginal_x_relevance_marginal): [0.07843]\n"
     ]
    },
    {
     "name": "stderr",
     "output_type": "stream",
     "text": [
      "\n",
      "running generation (cuda:0):   0%|          | 0/1 [00:00<?, ?it/s]\u001b[A\n",
      "running generation (cuda:0): 100%|██████████| 1/1 [00:01<00:00,  1.22s/it]\u001b[A\n",
      "\n",
      "running generation (cuda:0):   0%|          | 0/1 [00:00<?, ?it/s]\u001b[A\n",
      "running generation (cuda:0): 100%|██████████| 1/1 [00:01<00:00,  1.21s/it]\u001b[A\n",
      "\n",
      "running NLI (cuda:0): 100%|██████████| 1/1 [00:00<00:00, 16.98it/s]\n",
      "\n",
      "running NLI (cuda:0): 100%|██████████| 1/1 [00:00<00:00, 17.22it/s]\n",
      "\n",
      "running generation (cuda:0): 0it [00:00, ?it/s]\u001b[A\n",
      "\n",
      "running NLI (cuda:0): 100%|██████████| 1/1 [00:00<00:00, 17.37it/s]\n",
      "\n",
      "running NLI (cuda:0): 100%|██████████| 1/1 [00:00<00:00, 17.44it/s]\n",
      " 56%|█████▌    | 56/100 [03:13<02:45,  3.75s/it]"
     ]
    },
    {
     "name": "stdout",
     "output_type": "stream",
     "text": [
      "Old value (informativeness_marginal_x_relevance_marginal): 0.974121\n",
      "New value (informativeness_marginal_x_relevance_marginal): [0.976562]\n"
     ]
    },
    {
     "name": "stderr",
     "output_type": "stream",
     "text": [
      "\n",
      "running generation (cuda:0):   0%|          | 0/1 [00:00<?, ?it/s]\u001b[A\n",
      "running generation (cuda:0): 100%|██████████| 1/1 [00:01<00:00,  1.21s/it]\u001b[A\n",
      "\n",
      "running generation (cuda:0):   0%|          | 0/1 [00:00<?, ?it/s]\u001b[A\n",
      "running generation (cuda:0): 100%|██████████| 1/1 [00:01<00:00,  1.20s/it]\u001b[A\n",
      "\n",
      "running NLI (cuda:0): 100%|██████████| 1/1 [00:00<00:00, 17.24it/s]\n",
      "\n",
      "running NLI (cuda:0): 100%|██████████| 1/1 [00:00<00:00, 17.31it/s]\n",
      "\n",
      "running generation (cuda:0):   0%|          | 0/1 [00:00<?, ?it/s]\u001b[A\n",
      "running generation (cuda:0): 100%|██████████| 1/1 [00:01<00:00,  1.20s/it]\u001b[A\n",
      "\n",
      "running NLI (cuda:0): 100%|██████████| 1/1 [00:00<00:00, 17.53it/s]\n",
      "\n",
      "running NLI (cuda:0): 100%|██████████| 1/1 [00:00<00:00, 17.76it/s]\n",
      " 57%|█████▋    | 57/100 [03:17<02:42,  3.79s/it]"
     ]
    },
    {
     "name": "stdout",
     "output_type": "stream",
     "text": [
      "Old value (informativeness_marginal_x_relevance_marginal): 0.012657\n",
      "New value (informativeness_marginal_x_relevance_marginal): [0.017471]\n"
     ]
    },
    {
     "name": "stderr",
     "output_type": "stream",
     "text": [
      "\n",
      "running generation (cuda:0):   0%|          | 0/1 [00:00<?, ?it/s]\u001b[A\n",
      "running generation (cuda:0): 100%|██████████| 1/1 [00:01<00:00,  1.22s/it]\u001b[A\n",
      "\n",
      "running generation (cuda:0):   0%|          | 0/1 [00:00<?, ?it/s]\u001b[A\n",
      "running generation (cuda:0): 100%|██████████| 1/1 [00:01<00:00,  1.21s/it]\u001b[A\n",
      "\n",
      "running NLI (cuda:0): 100%|██████████| 1/1 [00:00<00:00, 17.05it/s]\n",
      "\n",
      "running NLI (cuda:0): 100%|██████████| 1/1 [00:00<00:00, 17.30it/s]\n",
      "\n",
      "running generation (cuda:0): 0it [00:00, ?it/s]\u001b[A\n",
      "\n",
      "running NLI (cuda:0): 100%|██████████| 1/1 [00:00<00:00, 17.36it/s]\n",
      "\n",
      "running NLI (cuda:0): 100%|██████████| 1/1 [00:00<00:00, 17.10it/s]\n",
      " 58%|█████▊    | 58/100 [03:20<02:25,  3.45s/it]"
     ]
    },
    {
     "name": "stdout",
     "output_type": "stream",
     "text": [
      "Old value (informativeness_marginal_x_relevance_marginal): 0.325439\n",
      "New value (informativeness_marginal_x_relevance_marginal): [0.252441]\n"
     ]
    },
    {
     "name": "stderr",
     "output_type": "stream",
     "text": [
      "\n",
      "running generation (cuda:0):   0%|          | 0/1 [00:00<?, ?it/s]\u001b[A\n",
      "running generation (cuda:0): 100%|██████████| 1/1 [00:01<00:00,  1.21s/it]\u001b[A\n",
      "\n",
      "running generation (cuda:0):   0%|          | 0/1 [00:00<?, ?it/s]\u001b[A\n",
      "running generation (cuda:0): 100%|██████████| 1/1 [00:01<00:00,  1.21s/it]\u001b[A\n",
      "\n",
      "running NLI (cuda:0): 100%|██████████| 1/1 [00:00<00:00, 17.19it/s]\n",
      "\n",
      "running NLI (cuda:0): 100%|██████████| 1/1 [00:00<00:00, 17.18it/s]\n",
      "\n",
      "running generation (cuda:0):   0%|          | 0/1 [00:00<?, ?it/s]\u001b[A\n",
      "running generation (cuda:0): 100%|██████████| 1/1 [00:01<00:00,  1.21s/it]\u001b[A\n",
      "\n",
      "running NLI (cuda:0): 100%|██████████| 1/1 [00:00<00:00, 17.24it/s]\n",
      "\n",
      "running NLI (cuda:0): 100%|██████████| 1/1 [00:00<00:00, 17.46it/s]\n",
      " 59%|█████▉    | 59/100 [03:23<02:26,  3.58s/it]"
     ]
    },
    {
     "name": "stdout",
     "output_type": "stream",
     "text": [
      "Old value (informativeness_marginal_x_relevance_marginal): 0.796387\n",
      "New value (informativeness_marginal_x_relevance_marginal): [0.827148]\n"
     ]
    },
    {
     "name": "stderr",
     "output_type": "stream",
     "text": [
      "\n",
      "running generation (cuda:0):   0%|          | 0/1 [00:00<?, ?it/s]\u001b[A\n",
      "running generation (cuda:0): 100%|██████████| 1/1 [00:01<00:00,  1.21s/it]\u001b[A\n",
      "\n",
      "running generation (cuda:0):   0%|          | 0/1 [00:00<?, ?it/s]\u001b[A\n",
      "running generation (cuda:0): 100%|██████████| 1/1 [00:01<00:00,  1.21s/it]\u001b[A\n",
      "\n",
      "running NLI (cuda:0): 100%|██████████| 1/1 [00:00<00:00, 17.38it/s]\n",
      "\n",
      "running NLI (cuda:0): 100%|██████████| 1/1 [00:00<00:00, 17.64it/s]\n",
      "\n",
      "running generation (cuda:0):   0%|          | 0/1 [00:00<?, ?it/s]\u001b[A\n",
      "running generation (cuda:0): 100%|██████████| 1/1 [00:02<00:00,  2.46s/it]\u001b[A\n",
      "\n",
      "running NLI (cuda:0): 100%|██████████| 1/1 [00:00<00:00, 17.02it/s]\n",
      "\n",
      "running NLI (cuda:0): 100%|██████████| 1/1 [00:00<00:00, 17.57it/s]\n",
      " 60%|██████    | 60/100 [03:29<02:41,  4.04s/it]"
     ]
    },
    {
     "name": "stdout",
     "output_type": "stream",
     "text": [
      "Old value (informativeness_marginal_x_relevance_marginal): 0.027435\n",
      "New value (informativeness_marginal_x_relevance_marginal): [0.001143]\n"
     ]
    },
    {
     "name": "stderr",
     "output_type": "stream",
     "text": [
      "\n",
      "running generation (cuda:0):   0%|          | 0/1 [00:00<?, ?it/s]\u001b[A\n",
      "running generation (cuda:0): 100%|██████████| 1/1 [00:01<00:00,  1.22s/it]\u001b[A\n",
      "\n",
      "running generation (cuda:0):   0%|          | 0/1 [00:00<?, ?it/s]\u001b[A\n",
      "running generation (cuda:0): 100%|██████████| 1/1 [00:01<00:00,  1.20s/it]\u001b[A\n",
      "\n",
      "running NLI (cuda:0): 100%|██████████| 1/1 [00:00<00:00, 16.95it/s]\n",
      "\n",
      "running NLI (cuda:0): 100%|██████████| 1/1 [00:00<00:00, 17.27it/s]\n",
      "\n",
      "running generation (cuda:0): 0it [00:00, ?it/s]\u001b[A\n",
      "\n",
      "running NLI (cuda:0): 100%|██████████| 1/1 [00:00<00:00, 17.32it/s]\n",
      "\n",
      "running NLI (cuda:0): 100%|██████████| 1/1 [00:00<00:00, 17.07it/s]\n",
      " 61%|██████    | 61/100 [03:31<02:21,  3.63s/it]"
     ]
    },
    {
     "name": "stdout",
     "output_type": "stream",
     "text": [
      "Old value (informativeness_marginal_x_relevance_marginal): 0.0466\n",
      "New value (informativeness_marginal_x_relevance_marginal): [0.015526]\n"
     ]
    },
    {
     "name": "stderr",
     "output_type": "stream",
     "text": [
      "\n",
      "running generation (cuda:0):   0%|          | 0/1 [00:00<?, ?it/s]\u001b[A\n",
      "running generation (cuda:0): 100%|██████████| 1/1 [00:01<00:00,  1.22s/it]\u001b[A\n",
      "\n",
      "running generation (cuda:0):   0%|          | 0/1 [00:00<?, ?it/s]\u001b[A\n",
      "running generation (cuda:0): 100%|██████████| 1/1 [00:01<00:00,  1.21s/it]\u001b[A\n",
      "\n",
      "running NLI (cuda:0): 100%|██████████| 1/1 [00:00<00:00, 17.07it/s]\n",
      "\n",
      "running NLI (cuda:0): 100%|██████████| 1/1 [00:00<00:00, 17.35it/s]\n",
      "\n",
      "running generation (cuda:0): 0it [00:00, ?it/s]\u001b[A\n",
      "\n",
      "running NLI (cuda:0): 100%|██████████| 1/1 [00:00<00:00, 17.41it/s]\n",
      "\n",
      "running NLI (cuda:0): 100%|██████████| 1/1 [00:00<00:00, 17.22it/s]\n",
      " 62%|██████▏   | 62/100 [03:34<02:07,  3.34s/it]"
     ]
    },
    {
     "name": "stdout",
     "output_type": "stream",
     "text": [
      "Old value (informativeness_marginal_x_relevance_marginal): 0.013512\n",
      "New value (informativeness_marginal_x_relevance_marginal): [0.026581]\n"
     ]
    },
    {
     "name": "stderr",
     "output_type": "stream",
     "text": [
      "\n",
      "running generation (cuda:0):   0%|          | 0/1 [00:00<?, ?it/s]\u001b[A\n",
      "running generation (cuda:0): 100%|██████████| 1/1 [00:01<00:00,  1.21s/it]\u001b[A\n",
      "\n",
      "running generation (cuda:0):   0%|          | 0/1 [00:00<?, ?it/s]\u001b[A\n",
      "running generation (cuda:0): 100%|██████████| 1/1 [00:01<00:00,  1.21s/it]\u001b[A\n",
      "\n",
      "running NLI (cuda:0): 100%|██████████| 1/1 [00:00<00:00, 17.27it/s]\n",
      "\n",
      "running NLI (cuda:0): 100%|██████████| 1/1 [00:00<00:00, 17.41it/s]\n",
      "\n",
      "running generation (cuda:0):   0%|          | 0/1 [00:00<?, ?it/s]\u001b[A\n",
      "running generation (cuda:0): 100%|██████████| 1/1 [00:01<00:00,  1.20s/it]\u001b[A\n",
      "\n",
      "running NLI (cuda:0): 100%|██████████| 1/1 [00:00<00:00, 17.45it/s]\n",
      "\n",
      "running NLI (cuda:0): 100%|██████████| 1/1 [00:00<00:00, 17.38it/s]\n",
      " 63%|██████▎   | 63/100 [03:38<02:09,  3.50s/it]"
     ]
    },
    {
     "name": "stdout",
     "output_type": "stream",
     "text": [
      "Old value (informativeness_marginal_x_relevance_marginal): 0.01358\n",
      "New value (informativeness_marginal_x_relevance_marginal): [0.014328]\n"
     ]
    },
    {
     "name": "stderr",
     "output_type": "stream",
     "text": [
      "\n",
      "running generation (cuda:0):   0%|          | 0/1 [00:00<?, ?it/s]\u001b[A\n",
      "running generation (cuda:0): 100%|██████████| 1/1 [00:01<00:00,  1.21s/it]\u001b[A\n",
      "\n",
      "running generation (cuda:0):   0%|          | 0/1 [00:00<?, ?it/s]\u001b[A\n",
      "running generation (cuda:0): 100%|██████████| 1/1 [00:01<00:00,  1.19s/it]\u001b[A\n",
      "\n",
      "running NLI (cuda:0): 100%|██████████| 1/1 [00:00<00:00, 17.59it/s]\n",
      "\n",
      "running NLI (cuda:0): 100%|██████████| 1/1 [00:00<00:00, 17.60it/s]\n",
      "\n",
      "running generation (cuda:0): 0it [00:00, ?it/s]\u001b[A\n",
      "\n",
      "running NLI (cuda:0): 100%|██████████| 1/1 [00:00<00:00, 17.44it/s]\n",
      "\n",
      "running NLI (cuda:0): 100%|██████████| 1/1 [00:00<00:00, 17.33it/s]\n",
      " 64%|██████▍   | 64/100 [03:40<01:56,  3.24s/it]"
     ]
    },
    {
     "name": "stdout",
     "output_type": "stream",
     "text": [
      "Old value (informativeness_marginal_x_relevance_marginal): 0.634766\n",
      "New value (informativeness_marginal_x_relevance_marginal): [0.654785]\n"
     ]
    },
    {
     "name": "stderr",
     "output_type": "stream",
     "text": [
      "\n",
      "running generation (cuda:0):   0%|          | 0/1 [00:00<?, ?it/s]\u001b[A\n",
      "running generation (cuda:0): 100%|██████████| 1/1 [00:01<00:00,  1.21s/it]\u001b[A\n",
      "\n",
      "running generation (cuda:0):   0%|          | 0/1 [00:00<?, ?it/s]\u001b[A\n",
      "running generation (cuda:0): 100%|██████████| 1/1 [00:01<00:00,  1.21s/it]\u001b[A\n",
      "\n",
      "running NLI (cuda:0): 100%|██████████| 1/1 [00:00<00:00, 17.25it/s]\n",
      "\n",
      "running NLI (cuda:0): 100%|██████████| 1/1 [00:00<00:00, 17.36it/s]\n",
      "\n",
      "running generation (cuda:0):   0%|          | 0/1 [00:00<?, ?it/s]\u001b[A\n",
      "running generation (cuda:0): 100%|██████████| 1/1 [00:02<00:00,  2.39s/it]\u001b[A\n",
      "\n",
      "running NLI (cuda:0): 100%|██████████| 1/1 [00:00<00:00, 16.91it/s]\n",
      "\n",
      "running NLI (cuda:0): 100%|██████████| 1/1 [00:00<00:00, 17.23it/s]\n",
      " 65%|██████▌   | 65/100 [03:45<02:12,  3.79s/it]"
     ]
    },
    {
     "name": "stdout",
     "output_type": "stream",
     "text": [
      "Old value (informativeness_marginal_x_relevance_marginal): 0.502441\n",
      "New value (informativeness_marginal_x_relevance_marginal): [0.687012]\n"
     ]
    },
    {
     "name": "stderr",
     "output_type": "stream",
     "text": [
      "\n",
      "running generation (cuda:0):   0%|          | 0/1 [00:00<?, ?it/s]\u001b[A\n",
      "running generation (cuda:0): 100%|██████████| 1/1 [00:01<00:00,  1.21s/it]\u001b[A\n",
      "\n",
      "running generation (cuda:0):   0%|          | 0/1 [00:00<?, ?it/s]\u001b[A\n",
      "running generation (cuda:0): 100%|██████████| 1/1 [00:01<00:00,  1.22s/it]\u001b[A\n",
      "\n",
      "running NLI (cuda:0): 100%|██████████| 1/1 [00:00<00:00, 16.89it/s]\n",
      "\n",
      "running NLI (cuda:0): 100%|██████████| 1/1 [00:00<00:00, 17.44it/s]\n",
      "\n",
      "running generation (cuda:0):   0%|          | 0/1 [00:00<?, ?it/s]\u001b[A\n",
      "running generation (cuda:0): 100%|██████████| 1/1 [00:02<00:00,  2.39s/it]\u001b[A\n",
      "\n",
      "running NLI (cuda:0): 100%|██████████| 1/1 [00:00<00:00, 17.20it/s]\n",
      "\n",
      "running NLI (cuda:0): 100%|██████████| 1/1 [00:00<00:00, 17.28it/s]\n",
      " 66%|██████▌   | 66/100 [03:51<02:21,  4.17s/it]"
     ]
    },
    {
     "name": "stdout",
     "output_type": "stream",
     "text": [
      "Old value (informativeness_marginal_x_relevance_marginal): 0.029282\n",
      "New value (informativeness_marginal_x_relevance_marginal): [0.007484]\n"
     ]
    },
    {
     "name": "stderr",
     "output_type": "stream",
     "text": [
      "\n",
      "running generation (cuda:0):   0%|          | 0/1 [00:00<?, ?it/s]\u001b[A\n",
      "running generation (cuda:0): 100%|██████████| 1/1 [00:01<00:00,  1.21s/it]\u001b[A\n",
      "\n",
      "running generation (cuda:0):   0%|          | 0/1 [00:00<?, ?it/s]\u001b[A\n",
      "running generation (cuda:0): 100%|██████████| 1/1 [00:01<00:00,  1.21s/it]\u001b[A\n",
      "\n",
      "running NLI (cuda:0): 100%|██████████| 1/1 [00:00<00:00, 17.19it/s]\n",
      "\n",
      "running NLI (cuda:0): 100%|██████████| 1/1 [00:00<00:00, 17.57it/s]\n",
      "\n",
      "running generation (cuda:0): 0it [00:00, ?it/s]\u001b[A\n",
      "\n",
      "running NLI (cuda:0): 100%|██████████| 1/1 [00:00<00:00, 17.60it/s]\n",
      "\n",
      "running NLI (cuda:0): 100%|██████████| 1/1 [00:00<00:00, 17.63it/s]\n",
      " 67%|██████▋   | 67/100 [03:53<02:02,  3.72s/it]"
     ]
    },
    {
     "name": "stdout",
     "output_type": "stream",
     "text": [
      "Old value (informativeness_marginal_x_relevance_marginal): 0.937988\n",
      "New value (informativeness_marginal_x_relevance_marginal): [0.922852]\n"
     ]
    },
    {
     "name": "stderr",
     "output_type": "stream",
     "text": [
      "\n",
      "running generation (cuda:0):   0%|          | 0/1 [00:00<?, ?it/s]\u001b[A\n",
      "running generation (cuda:0): 100%|██████████| 1/1 [00:01<00:00,  1.21s/it]\u001b[A\n",
      "\n",
      "running generation (cuda:0):   0%|          | 0/1 [00:00<?, ?it/s]\u001b[A\n",
      "running generation (cuda:0): 100%|██████████| 1/1 [00:01<00:00,  1.22s/it]\u001b[A\n",
      "\n",
      "running NLI (cuda:0): 100%|██████████| 1/1 [00:00<00:00, 17.34it/s]\n",
      "\n",
      "running NLI (cuda:0): 100%|██████████| 1/1 [00:00<00:00, 17.71it/s]\n",
      "\n",
      "running generation (cuda:0):   0%|          | 0/1 [00:00<?, ?it/s]\u001b[A\n",
      "running generation (cuda:0): 100%|██████████| 1/1 [00:01<00:00,  1.21s/it]\u001b[A\n",
      "\n",
      "running NLI (cuda:0): 100%|██████████| 1/1 [00:00<00:00, 17.32it/s]\n",
      "\n",
      "running NLI (cuda:0): 100%|██████████| 1/1 [00:00<00:00, 17.79it/s]\n",
      " 68%|██████▊   | 68/100 [03:57<02:00,  3.77s/it]"
     ]
    },
    {
     "name": "stdout",
     "output_type": "stream",
     "text": [
      "Old value (informativeness_marginal_x_relevance_marginal): 0.056732\n",
      "New value (informativeness_marginal_x_relevance_marginal): [0.060913]\n"
     ]
    },
    {
     "name": "stderr",
     "output_type": "stream",
     "text": [
      "\n",
      "running generation (cuda:0):   0%|          | 0/1 [00:00<?, ?it/s]\u001b[A\n",
      "running generation (cuda:0): 100%|██████████| 1/1 [00:01<00:00,  1.21s/it]\u001b[A\n",
      "\n",
      "running generation (cuda:0):   0%|          | 0/1 [00:00<?, ?it/s]\u001b[A\n",
      "running generation (cuda:0): 100%|██████████| 1/1 [00:01<00:00,  1.20s/it]\u001b[A\n",
      "\n",
      "running NLI (cuda:0): 100%|██████████| 1/1 [00:00<00:00, 17.23it/s]\n",
      "\n",
      "running NLI (cuda:0): 100%|██████████| 1/1 [00:00<00:00, 17.33it/s]\n",
      "\n",
      "running generation (cuda:0):   0%|          | 0/1 [00:00<?, ?it/s]\u001b[A\n",
      "running generation (cuda:0): 100%|██████████| 1/1 [00:02<00:00,  2.39s/it]\u001b[A\n",
      "\n",
      "running NLI (cuda:0): 100%|██████████| 1/1 [00:00<00:00, 16.52it/s]\n",
      "\n",
      "running NLI (cuda:0): 100%|██████████| 1/1 [00:00<00:00, 17.18it/s]\n",
      " 69%|██████▉   | 69/100 [04:02<02:08,  4.15s/it]"
     ]
    },
    {
     "name": "stdout",
     "output_type": "stream",
     "text": [
      "Old value (informativeness_marginal_x_relevance_marginal): 0.011673\n",
      "New value (informativeness_marginal_x_relevance_marginal): [0.004639]\n"
     ]
    },
    {
     "name": "stderr",
     "output_type": "stream",
     "text": [
      "\n",
      "running generation (cuda:0):   0%|          | 0/1 [00:00<?, ?it/s]\u001b[A\n",
      "running generation (cuda:0): 100%|██████████| 1/1 [00:01<00:00,  1.20s/it]\u001b[A\n",
      "\n",
      "running generation (cuda:0):   0%|          | 0/1 [00:00<?, ?it/s]\u001b[A\n",
      "running generation (cuda:0): 100%|██████████| 1/1 [00:01<00:00,  1.21s/it]\u001b[A\n",
      "\n",
      "running NLI (cuda:0): 100%|██████████| 1/1 [00:00<00:00, 17.26it/s]\n",
      "\n",
      "running NLI (cuda:0): 100%|██████████| 1/1 [00:00<00:00, 17.33it/s]\n",
      "\n",
      "running generation (cuda:0): 0it [00:00, ?it/s]\u001b[A\n",
      "\n",
      "running NLI (cuda:0): 100%|██████████| 1/1 [00:00<00:00, 17.44it/s]\n",
      "\n",
      "running NLI (cuda:0): 100%|██████████| 1/1 [00:00<00:00, 17.42it/s]\n",
      " 70%|███████   | 70/100 [04:05<01:51,  3.70s/it]"
     ]
    },
    {
     "name": "stdout",
     "output_type": "stream",
     "text": [
      "Old value (informativeness_marginal_x_relevance_marginal): 0.340576\n",
      "New value (informativeness_marginal_x_relevance_marginal): [0.427246]\n"
     ]
    },
    {
     "name": "stderr",
     "output_type": "stream",
     "text": [
      "\n",
      "running generation (cuda:0):   0%|          | 0/1 [00:00<?, ?it/s]\u001b[A\n",
      "running generation (cuda:0): 100%|██████████| 1/1 [00:01<00:00,  1.20s/it]\u001b[A\n",
      "\n",
      "running generation (cuda:0):   0%|          | 0/1 [00:00<?, ?it/s]\u001b[A\n",
      "running generation (cuda:0): 100%|██████████| 1/1 [00:01<00:00,  1.20s/it]\u001b[A\n",
      "\n",
      "running NLI (cuda:0): 100%|██████████| 1/1 [00:00<00:00, 17.30it/s]\n",
      "\n",
      "running NLI (cuda:0): 100%|██████████| 1/1 [00:00<00:00, 17.00it/s]\n",
      "\n",
      "running generation (cuda:0): 0it [00:00, ?it/s]\u001b[A\n",
      "\n",
      "running NLI (cuda:0): 100%|██████████| 1/1 [00:00<00:00, 17.12it/s]\n",
      "\n",
      "running NLI (cuda:0): 100%|██████████| 1/1 [00:00<00:00, 17.32it/s]\n",
      " 71%|███████   | 71/100 [04:07<01:38,  3.39s/it]"
     ]
    },
    {
     "name": "stdout",
     "output_type": "stream",
     "text": [
      "Old value (informativeness_marginal_x_relevance_marginal): 0.845215\n",
      "New value (informativeness_marginal_x_relevance_marginal): [0.831543]\n"
     ]
    },
    {
     "name": "stderr",
     "output_type": "stream",
     "text": [
      "\n",
      "running generation (cuda:0):   0%|          | 0/1 [00:00<?, ?it/s]\u001b[A\n",
      "running generation (cuda:0): 100%|██████████| 1/1 [00:01<00:00,  1.22s/it]\u001b[A\n",
      "\n",
      "running generation (cuda:0):   0%|          | 0/1 [00:00<?, ?it/s]\u001b[A\n",
      "running generation (cuda:0): 100%|██████████| 1/1 [00:01<00:00,  1.21s/it]\u001b[A\n",
      "\n",
      "running NLI (cuda:0): 100%|██████████| 1/1 [00:00<00:00, 17.12it/s]\n",
      "\n",
      "running NLI (cuda:0): 100%|██████████| 1/1 [00:00<00:00, 17.36it/s]\n",
      "\n",
      "running generation (cuda:0): 0it [00:00, ?it/s]\u001b[A\n",
      "\n",
      "running NLI (cuda:0): 100%|██████████| 1/1 [00:00<00:00, 17.36it/s]\n",
      "\n",
      "running NLI (cuda:0): 100%|██████████| 1/1 [00:00<00:00, 17.29it/s]\n",
      " 72%|███████▏  | 72/100 [04:10<01:28,  3.17s/it]"
     ]
    },
    {
     "name": "stdout",
     "output_type": "stream",
     "text": [
      "Old value (informativeness_marginal_x_relevance_marginal): 0.246582\n",
      "New value (informativeness_marginal_x_relevance_marginal): [0.264648]\n"
     ]
    },
    {
     "name": "stderr",
     "output_type": "stream",
     "text": [
      "\n",
      "running generation (cuda:0):   0%|          | 0/1 [00:00<?, ?it/s]\u001b[A\n",
      "running generation (cuda:0): 100%|██████████| 1/1 [00:01<00:00,  1.22s/it]\u001b[A\n",
      "\n",
      "running generation (cuda:0):   0%|          | 0/1 [00:00<?, ?it/s]\u001b[A\n",
      "running generation (cuda:0): 100%|██████████| 1/1 [00:01<00:00,  1.21s/it]\u001b[A\n",
      "\n",
      "running NLI (cuda:0): 100%|██████████| 1/1 [00:00<00:00, 17.01it/s]\n",
      "\n",
      "running NLI (cuda:0): 100%|██████████| 1/1 [00:00<00:00, 17.16it/s]\n",
      "\n",
      "running generation (cuda:0): 0it [00:00, ?it/s]\u001b[A\n",
      "\n",
      "running NLI (cuda:0): 100%|██████████| 1/1 [00:00<00:00, 17.45it/s]\n",
      "\n",
      "running NLI (cuda:0): 100%|██████████| 1/1 [00:00<00:00, 17.43it/s]\n",
      " 73%|███████▎  | 73/100 [04:13<01:21,  3.03s/it]"
     ]
    },
    {
     "name": "stdout",
     "output_type": "stream",
     "text": [
      "Old value (informativeness_marginal_x_relevance_marginal): 0.032074\n",
      "New value (informativeness_marginal_x_relevance_marginal): [0.019012]\n"
     ]
    },
    {
     "name": "stderr",
     "output_type": "stream",
     "text": [
      "\n",
      "running generation (cuda:0):   0%|          | 0/1 [00:00<?, ?it/s]\u001b[A\n",
      "running generation (cuda:0): 100%|██████████| 1/1 [00:01<00:00,  1.21s/it]\u001b[A\n",
      "\n",
      "running generation (cuda:0):   0%|          | 0/1 [00:00<?, ?it/s]\u001b[A\n",
      "running generation (cuda:0): 100%|██████████| 1/1 [00:01<00:00,  1.21s/it]\u001b[A\n",
      "\n",
      "running NLI (cuda:0): 100%|██████████| 1/1 [00:00<00:00, 17.36it/s]\n",
      "\n",
      "running NLI (cuda:0): 100%|██████████| 1/1 [00:00<00:00, 17.68it/s]\n",
      "\n",
      "running generation (cuda:0):   0%|          | 0/1 [00:00<?, ?it/s]\u001b[A\n",
      "running generation (cuda:0): 100%|██████████| 1/1 [00:01<00:00,  1.22s/it]\u001b[A\n",
      "\n",
      "running NLI (cuda:0): 100%|██████████| 1/1 [00:00<00:00, 16.88it/s]\n",
      "\n",
      "running NLI (cuda:0): 100%|██████████| 1/1 [00:00<00:00, 17.17it/s]\n",
      " 74%|███████▍  | 74/100 [04:17<01:25,  3.28s/it]"
     ]
    },
    {
     "name": "stdout",
     "output_type": "stream",
     "text": [
      "Old value (informativeness_marginal_x_relevance_marginal): 0.000776\n",
      "New value (informativeness_marginal_x_relevance_marginal): [0.001317]\n"
     ]
    },
    {
     "name": "stderr",
     "output_type": "stream",
     "text": [
      "\n",
      "running generation (cuda:0):   0%|          | 0/1 [00:00<?, ?it/s]\u001b[A\n",
      "running generation (cuda:0): 100%|██████████| 1/1 [00:01<00:00,  1.21s/it]\u001b[A\n",
      "\n",
      "running generation (cuda:0):   0%|          | 0/1 [00:00<?, ?it/s]\u001b[A\n",
      "running generation (cuda:0): 100%|██████████| 1/1 [00:01<00:00,  1.21s/it]\u001b[A\n",
      "\n",
      "running NLI (cuda:0): 100%|██████████| 1/1 [00:00<00:00, 17.22it/s]\n",
      "\n",
      "running NLI (cuda:0): 100%|██████████| 1/1 [00:00<00:00, 17.12it/s]\n",
      "\n",
      "running generation (cuda:0):   0%|          | 0/1 [00:00<?, ?it/s]\u001b[A\n",
      "running generation (cuda:0): 100%|██████████| 1/1 [00:02<00:00,  2.47s/it]\u001b[A\n",
      "\n",
      "running NLI (cuda:0): 100%|██████████| 1/1 [00:00<00:00, 16.94it/s]\n",
      "\n",
      "running NLI (cuda:0): 100%|██████████| 1/1 [00:00<00:00, 16.88it/s]\n",
      " 75%|███████▌  | 75/100 [04:22<01:36,  3.84s/it]"
     ]
    },
    {
     "name": "stdout",
     "output_type": "stream",
     "text": [
      "Old value (informativeness_marginal_x_relevance_marginal): 0.493652\n",
      "New value (informativeness_marginal_x_relevance_marginal): [0.804199]\n"
     ]
    },
    {
     "name": "stderr",
     "output_type": "stream",
     "text": [
      "\n",
      "running generation (cuda:0):   0%|          | 0/1 [00:00<?, ?it/s]\u001b[A\n",
      "running generation (cuda:0): 100%|██████████| 1/1 [00:01<00:00,  1.20s/it]\u001b[A\n",
      "\n",
      "running generation (cuda:0):   0%|          | 0/1 [00:00<?, ?it/s]\u001b[A\n",
      "running generation (cuda:0): 100%|██████████| 1/1 [00:01<00:00,  1.20s/it]\u001b[A\n",
      "\n",
      "running NLI (cuda:0): 100%|██████████| 1/1 [00:00<00:00, 17.30it/s]\n",
      "\n",
      "running NLI (cuda:0): 100%|██████████| 1/1 [00:00<00:00, 17.51it/s]\n",
      "\n",
      "running generation (cuda:0): 0it [00:00, ?it/s]\u001b[A\n",
      "\n",
      "running NLI (cuda:0): 100%|██████████| 1/1 [00:00<00:00, 17.44it/s]\n",
      "\n",
      "running NLI (cuda:0): 100%|██████████| 1/1 [00:00<00:00, 17.25it/s]\n",
      " 76%|███████▌  | 76/100 [04:24<01:23,  3.48s/it]"
     ]
    },
    {
     "name": "stdout",
     "output_type": "stream",
     "text": [
      "Old value (informativeness_marginal_x_relevance_marginal): 0.638672\n",
      "New value (informativeness_marginal_x_relevance_marginal): [0.298584]\n"
     ]
    },
    {
     "name": "stderr",
     "output_type": "stream",
     "text": [
      "\n",
      "running generation (cuda:0):   0%|          | 0/1 [00:00<?, ?it/s]\u001b[A\n",
      "running generation (cuda:0): 100%|██████████| 1/1 [00:01<00:00,  1.21s/it]\u001b[A\n",
      "\n",
      "running generation (cuda:0):   0%|          | 0/1 [00:00<?, ?it/s]\u001b[A\n",
      "running generation (cuda:0): 100%|██████████| 1/1 [00:01<00:00,  1.21s/it]\u001b[A\n",
      "\n",
      "running NLI (cuda:0): 100%|██████████| 1/1 [00:00<00:00, 17.52it/s]\n",
      "\n",
      "running NLI (cuda:0): 100%|██████████| 1/1 [00:00<00:00, 17.61it/s]\n",
      "\n",
      "running generation (cuda:0): 0it [00:00, ?it/s]\u001b[A\n",
      "\n",
      "running NLI (cuda:0): 100%|██████████| 1/1 [00:00<00:00, 17.59it/s]\n",
      "\n",
      "running NLI (cuda:0): 100%|██████████| 1/1 [00:00<00:00, 17.32it/s]\n",
      " 77%|███████▋  | 77/100 [04:27<01:14,  3.24s/it]"
     ]
    },
    {
     "name": "stdout",
     "output_type": "stream",
     "text": [
      "Old value (informativeness_marginal_x_relevance_marginal): 0.738281\n",
      "New value (informativeness_marginal_x_relevance_marginal): [0.788086]\n"
     ]
    },
    {
     "name": "stderr",
     "output_type": "stream",
     "text": [
      "\n",
      "running generation (cuda:0):   0%|          | 0/1 [00:00<?, ?it/s]\u001b[A\n",
      "running generation (cuda:0): 100%|██████████| 1/1 [00:01<00:00,  1.21s/it]\u001b[A\n",
      "\n",
      "running generation (cuda:0):   0%|          | 0/1 [00:00<?, ?it/s]\u001b[A\n",
      "running generation (cuda:0): 100%|██████████| 1/1 [00:01<00:00,  1.21s/it]\u001b[A\n",
      "\n",
      "running NLI (cuda:0): 100%|██████████| 1/1 [00:00<00:00, 17.28it/s]\n",
      "\n",
      "running NLI (cuda:0): 100%|██████████| 1/1 [00:00<00:00, 17.67it/s]\n",
      "\n",
      "running generation (cuda:0): 0it [00:00, ?it/s]\u001b[A\n",
      "\n",
      "running NLI (cuda:0): 100%|██████████| 1/1 [00:00<00:00, 17.47it/s]\n",
      "\n",
      "running NLI (cuda:0): 100%|██████████| 1/1 [00:00<00:00, 17.14it/s]\n",
      " 78%|███████▊  | 78/100 [04:30<01:07,  3.07s/it]"
     ]
    },
    {
     "name": "stdout",
     "output_type": "stream",
     "text": [
      "Old value (informativeness_marginal_x_relevance_marginal): 0.000928\n",
      "New value (informativeness_marginal_x_relevance_marginal): [0.030701]\n"
     ]
    },
    {
     "name": "stderr",
     "output_type": "stream",
     "text": [
      "\n",
      "running generation (cuda:0):   0%|          | 0/1 [00:00<?, ?it/s]\u001b[A\n",
      "running generation (cuda:0): 100%|██████████| 1/1 [00:01<00:00,  1.21s/it]\u001b[A\n",
      "\n",
      "running generation (cuda:0):   0%|          | 0/1 [00:00<?, ?it/s]\u001b[A\n",
      "running generation (cuda:0): 100%|██████████| 1/1 [00:01<00:00,  1.21s/it]\u001b[A\n",
      "\n",
      "running NLI (cuda:0): 100%|██████████| 1/1 [00:00<00:00, 17.23it/s]\n",
      "\n",
      "running NLI (cuda:0): 100%|██████████| 1/1 [00:00<00:00, 16.63it/s]\n",
      "\n",
      "running generation (cuda:0):   0%|          | 0/1 [00:00<?, ?it/s]\u001b[A\n",
      "running generation (cuda:0): 100%|██████████| 1/1 [00:01<00:00,  1.21s/it]\u001b[A\n",
      "\n",
      "running NLI (cuda:0): 100%|██████████| 1/1 [00:00<00:00, 16.77it/s]\n",
      "\n",
      "running NLI (cuda:0): 100%|██████████| 1/1 [00:00<00:00, 16.96it/s]\n",
      " 79%|███████▉  | 79/100 [04:34<01:09,  3.32s/it]"
     ]
    },
    {
     "name": "stdout",
     "output_type": "stream",
     "text": [
      "Old value (informativeness_marginal_x_relevance_marginal): 0.000721\n",
      "New value (informativeness_marginal_x_relevance_marginal): [0.001157]\n"
     ]
    },
    {
     "name": "stderr",
     "output_type": "stream",
     "text": [
      "\n",
      "running generation (cuda:0):   0%|          | 0/1 [00:00<?, ?it/s]\u001b[A\n",
      "running generation (cuda:0): 100%|██████████| 1/1 [00:01<00:00,  1.21s/it]\u001b[A\n",
      "\n",
      "running generation (cuda:0):   0%|          | 0/1 [00:00<?, ?it/s]\u001b[A\n",
      "running generation (cuda:0): 100%|██████████| 1/1 [00:01<00:00,  1.21s/it]\u001b[A\n",
      "\n",
      "running NLI (cuda:0): 100%|██████████| 1/1 [00:00<00:00, 17.15it/s]\n",
      "\n",
      "running NLI (cuda:0): 100%|██████████| 1/1 [00:00<00:00, 17.34it/s]\n",
      "\n",
      "running generation (cuda:0):   0%|          | 0/1 [00:00<?, ?it/s]\u001b[A\n",
      "running generation (cuda:0): 100%|██████████| 1/1 [00:02<00:00,  2.52s/it]\u001b[A\n",
      "\n",
      "running NLI (cuda:0): 100%|██████████| 1/1 [00:00<00:00, 16.70it/s]\n",
      "\n",
      "running NLI (cuda:0): 100%|██████████| 1/1 [00:00<00:00, 17.24it/s]\n",
      " 80%|████████  | 80/100 [04:39<01:17,  3.88s/it]"
     ]
    },
    {
     "name": "stdout",
     "output_type": "stream",
     "text": [
      "Old value (informativeness_marginal_x_relevance_marginal): 0.72998\n",
      "New value (informativeness_marginal_x_relevance_marginal): [0.874023]\n"
     ]
    },
    {
     "name": "stderr",
     "output_type": "stream",
     "text": [
      "\n",
      "running generation (cuda:0):   0%|          | 0/1 [00:00<?, ?it/s]\u001b[A\n",
      "running generation (cuda:0): 100%|██████████| 1/1 [00:01<00:00,  1.22s/it]\u001b[A\n",
      "\n",
      "running generation (cuda:0):   0%|          | 0/1 [00:00<?, ?it/s]\u001b[A\n",
      "running generation (cuda:0): 100%|██████████| 1/1 [00:01<00:00,  1.22s/it]\u001b[A\n",
      "\n",
      "running NLI (cuda:0): 100%|██████████| 1/1 [00:00<00:00, 16.86it/s]\n",
      "\n",
      "running NLI (cuda:0): 100%|██████████| 1/1 [00:00<00:00, 17.34it/s]\n",
      "\n",
      "running generation (cuda:0): 0it [00:00, ?it/s]\u001b[A\n",
      "\n",
      "running NLI (cuda:0): 100%|██████████| 1/1 [00:00<00:00, 17.39it/s]\n",
      "\n",
      "running NLI (cuda:0): 100%|██████████| 1/1 [00:00<00:00, 17.31it/s]\n",
      " 81%|████████  | 81/100 [04:42<01:06,  3.52s/it]"
     ]
    },
    {
     "name": "stdout",
     "output_type": "stream",
     "text": [
      "Old value (informativeness_marginal_x_relevance_marginal): 0.777832\n",
      "New value (informativeness_marginal_x_relevance_marginal): [0.820801]\n"
     ]
    },
    {
     "name": "stderr",
     "output_type": "stream",
     "text": [
      "\n",
      "running generation (cuda:0):   0%|          | 0/1 [00:00<?, ?it/s]\u001b[A\n",
      "running generation (cuda:0): 100%|██████████| 1/1 [00:01<00:00,  1.22s/it]\u001b[A\n",
      "\n",
      "running generation (cuda:0):   0%|          | 0/1 [00:00<?, ?it/s]\u001b[A\n",
      "running generation (cuda:0): 100%|██████████| 1/1 [00:01<00:00,  1.21s/it]\u001b[A\n",
      "\n",
      "running NLI (cuda:0): 100%|██████████| 1/1 [00:00<00:00, 17.16it/s]\n",
      "\n",
      "running NLI (cuda:0): 100%|██████████| 1/1 [00:00<00:00, 17.24it/s]\n",
      "\n",
      "running generation (cuda:0):   0%|          | 0/1 [00:00<?, ?it/s]\u001b[A\n",
      "running generation (cuda:0): 100%|██████████| 1/1 [00:01<00:00,  1.21s/it]\u001b[A\n",
      "\n",
      "running NLI (cuda:0): 100%|██████████| 1/1 [00:00<00:00, 17.20it/s]\n",
      "\n",
      "running NLI (cuda:0): 100%|██████████| 1/1 [00:00<00:00, 17.51it/s]\n",
      " 82%|████████▏ | 82/100 [04:45<01:05,  3.63s/it]"
     ]
    },
    {
     "name": "stdout",
     "output_type": "stream",
     "text": [
      "Old value (informativeness_marginal_x_relevance_marginal): 0.046448\n",
      "New value (informativeness_marginal_x_relevance_marginal): [0.05191]\n"
     ]
    },
    {
     "name": "stderr",
     "output_type": "stream",
     "text": [
      "\n",
      "running generation (cuda:0):   0%|          | 0/1 [00:00<?, ?it/s]\u001b[A\n",
      "running generation (cuda:0): 100%|██████████| 1/1 [00:01<00:00,  1.23s/it]\u001b[A\n",
      "\n",
      "running generation (cuda:0):   0%|          | 0/1 [00:00<?, ?it/s]\u001b[A\n",
      "running generation (cuda:0): 100%|██████████| 1/1 [00:01<00:00,  1.21s/it]\u001b[A\n",
      "\n",
      "running NLI (cuda:0): 100%|██████████| 1/1 [00:00<00:00, 17.08it/s]\n",
      "\n",
      "running NLI (cuda:0): 100%|██████████| 1/1 [00:00<00:00, 17.26it/s]\n",
      "\n",
      "running generation (cuda:0):   0%|          | 0/1 [00:00<?, ?it/s]\u001b[A\n",
      "running generation (cuda:0): 100%|██████████| 1/1 [00:02<00:00,  2.39s/it]\u001b[A\n",
      "\n",
      "running NLI (cuda:0): 100%|██████████| 1/1 [00:00<00:00, 17.09it/s]\n",
      "\n",
      "running NLI (cuda:0): 100%|██████████| 1/1 [00:00<00:00, 17.30it/s]\n",
      " 83%|████████▎ | 83/100 [04:51<01:09,  4.07s/it]"
     ]
    },
    {
     "name": "stdout",
     "output_type": "stream",
     "text": [
      "Old value (informativeness_marginal_x_relevance_marginal): 0.041199\n",
      "New value (informativeness_marginal_x_relevance_marginal): [0.049408]\n"
     ]
    },
    {
     "name": "stderr",
     "output_type": "stream",
     "text": [
      "\n",
      "running generation (cuda:0):   0%|          | 0/1 [00:00<?, ?it/s]\u001b[A\n",
      "running generation (cuda:0): 100%|██████████| 1/1 [00:01<00:00,  1.21s/it]\u001b[A\n",
      "\n",
      "running generation (cuda:0):   0%|          | 0/1 [00:00<?, ?it/s]\u001b[A\n",
      "running generation (cuda:0): 100%|██████████| 1/1 [00:01<00:00,  1.21s/it]\u001b[A\n",
      "\n",
      "running NLI (cuda:0): 100%|██████████| 1/1 [00:00<00:00, 17.55it/s]\n",
      "\n",
      "running NLI (cuda:0): 100%|██████████| 1/1 [00:00<00:00, 17.84it/s]\n",
      "\n",
      "running generation (cuda:0): 0it [00:00, ?it/s]\u001b[A\n",
      "\n",
      "running NLI (cuda:0): 100%|██████████| 1/1 [00:00<00:00, 17.91it/s]\n",
      "\n",
      "running NLI (cuda:0): 100%|██████████| 1/1 [00:00<00:00, 17.62it/s]\n",
      " 84%|████████▍ | 84/100 [04:53<00:58,  3.64s/it]"
     ]
    },
    {
     "name": "stdout",
     "output_type": "stream",
     "text": [
      "Old value (informativeness_marginal_x_relevance_marginal): 0.801758\n",
      "New value (informativeness_marginal_x_relevance_marginal): [0.816895]\n"
     ]
    },
    {
     "name": "stderr",
     "output_type": "stream",
     "text": [
      "\n",
      "running generation (cuda:0):   0%|          | 0/1 [00:00<?, ?it/s]\u001b[A\n",
      "running generation (cuda:0): 100%|██████████| 1/1 [00:01<00:00,  1.21s/it]\u001b[A\n",
      "\n",
      "running generation (cuda:0):   0%|          | 0/1 [00:00<?, ?it/s]\u001b[A\n",
      "running generation (cuda:0): 100%|██████████| 1/1 [00:01<00:00,  1.21s/it]\u001b[A\n",
      "\n",
      "running NLI (cuda:0): 100%|██████████| 1/1 [00:00<00:00, 17.31it/s]\n",
      "\n",
      "running NLI (cuda:0): 100%|██████████| 1/1 [00:00<00:00, 17.69it/s]\n",
      "\n",
      "running generation (cuda:0):   0%|          | 0/1 [00:00<?, ?it/s]\u001b[A\n",
      "running generation (cuda:0): 100%|██████████| 1/1 [00:02<00:00,  2.37s/it]\u001b[A\n",
      "\n",
      "running NLI (cuda:0): 100%|██████████| 1/1 [00:00<00:00, 17.27it/s]\n",
      "\n",
      "running NLI (cuda:0): 100%|██████████| 1/1 [00:00<00:00, 17.19it/s]\n",
      " 85%|████████▌ | 85/100 [04:58<01:00,  4.06s/it]"
     ]
    },
    {
     "name": "stdout",
     "output_type": "stream",
     "text": [
      "Old value (informativeness_marginal_x_relevance_marginal): 0.0289\n",
      "New value (informativeness_marginal_x_relevance_marginal): [0.046661]\n"
     ]
    },
    {
     "name": "stderr",
     "output_type": "stream",
     "text": [
      "\n",
      "running generation (cuda:0):   0%|          | 0/1 [00:00<?, ?it/s]\u001b[A\n",
      "running generation (cuda:0): 100%|██████████| 1/1 [00:01<00:00,  1.21s/it]\u001b[A\n",
      "\n",
      "running generation (cuda:0):   0%|          | 0/1 [00:00<?, ?it/s]\u001b[A\n",
      "running generation (cuda:0): 100%|██████████| 1/1 [00:01<00:00,  1.20s/it]\u001b[A\n",
      "\n",
      "running NLI (cuda:0): 100%|██████████| 1/1 [00:00<00:00, 16.84it/s]\n",
      "\n",
      "running NLI (cuda:0): 100%|██████████| 1/1 [00:00<00:00, 17.36it/s]\n",
      "\n",
      "running generation (cuda:0): 0it [00:00, ?it/s]\u001b[A\n",
      "\n",
      "running NLI (cuda:0): 100%|██████████| 1/1 [00:00<00:00, 17.32it/s]\n",
      "\n",
      "running NLI (cuda:0): 100%|██████████| 1/1 [00:00<00:00, 17.34it/s]\n",
      " 86%|████████▌ | 86/100 [05:01<00:50,  3.64s/it]"
     ]
    },
    {
     "name": "stdout",
     "output_type": "stream",
     "text": [
      "Old value (informativeness_marginal_x_relevance_marginal): 0.009567\n",
      "New value (informativeness_marginal_x_relevance_marginal): [0.005013]\n"
     ]
    },
    {
     "name": "stderr",
     "output_type": "stream",
     "text": [
      "\n",
      "running generation (cuda:0):   0%|          | 0/1 [00:00<?, ?it/s]\u001b[A\n",
      "running generation (cuda:0): 100%|██████████| 1/1 [00:01<00:00,  1.20s/it]\u001b[A\n",
      "\n",
      "running generation (cuda:0):   0%|          | 0/1 [00:00<?, ?it/s]\u001b[A\n",
      "running generation (cuda:0): 100%|██████████| 1/1 [00:01<00:00,  1.22s/it]\u001b[A\n",
      "\n",
      "running NLI (cuda:0): 100%|██████████| 1/1 [00:00<00:00, 17.16it/s]\n",
      "\n",
      "running NLI (cuda:0): 100%|██████████| 1/1 [00:00<00:00, 17.26it/s]\n",
      "\n",
      "running generation (cuda:0): 0it [00:00, ?it/s]\u001b[A\n",
      "\n",
      "running NLI (cuda:0): 100%|██████████| 1/1 [00:00<00:00, 17.33it/s]\n",
      "\n",
      "running NLI (cuda:0): 100%|██████████| 1/1 [00:00<00:00, 17.30it/s]\n",
      " 87%|████████▋ | 87/100 [05:04<00:43,  3.35s/it]"
     ]
    },
    {
     "name": "stdout",
     "output_type": "stream",
     "text": [
      "Old value (informativeness_marginal_x_relevance_marginal): 0.894043\n",
      "New value (informativeness_marginal_x_relevance_marginal): [0.915039]\n"
     ]
    },
    {
     "name": "stderr",
     "output_type": "stream",
     "text": [
      "\n",
      "running generation (cuda:0):   0%|          | 0/1 [00:00<?, ?it/s]\u001b[A\n",
      "running generation (cuda:0): 100%|██████████| 1/1 [00:01<00:00,  1.22s/it]\u001b[A\n",
      "\n",
      "running generation (cuda:0):   0%|          | 0/1 [00:00<?, ?it/s]\u001b[A\n",
      "running generation (cuda:0): 100%|██████████| 1/1 [00:01<00:00,  1.21s/it]\u001b[A\n",
      "\n",
      "running NLI (cuda:0): 100%|██████████| 1/1 [00:00<00:00, 16.63it/s]\n",
      "\n",
      "running NLI (cuda:0): 100%|██████████| 1/1 [00:00<00:00, 17.11it/s]\n",
      "\n",
      "running generation (cuda:0): 0it [00:00, ?it/s]\u001b[A\n",
      "\n",
      "running NLI (cuda:0): 100%|██████████| 1/1 [00:00<00:00, 17.19it/s]\n",
      "\n",
      "running NLI (cuda:0): 100%|██████████| 1/1 [00:00<00:00, 17.41it/s]\n",
      " 88%|████████▊ | 88/100 [05:06<00:37,  3.15s/it]"
     ]
    },
    {
     "name": "stdout",
     "output_type": "stream",
     "text": [
      "Old value (informativeness_marginal_x_relevance_marginal): 0.000114\n",
      "New value (informativeness_marginal_x_relevance_marginal): [2.2e-05]\n"
     ]
    },
    {
     "name": "stderr",
     "output_type": "stream",
     "text": [
      "\n",
      "running generation (cuda:0):   0%|          | 0/1 [00:00<?, ?it/s]\u001b[A\n",
      "running generation (cuda:0): 100%|██████████| 1/1 [00:01<00:00,  1.20s/it]\u001b[A\n",
      "\n",
      "running generation (cuda:0):   0%|          | 0/1 [00:00<?, ?it/s]\u001b[A\n",
      "running generation (cuda:0): 100%|██████████| 1/1 [00:01<00:00,  1.20s/it]\u001b[A\n",
      "\n",
      "running NLI (cuda:0): 100%|██████████| 1/1 [00:00<00:00, 17.24it/s]\n",
      "\n",
      "running NLI (cuda:0): 100%|██████████| 1/1 [00:00<00:00, 16.92it/s]\n",
      "\n",
      "running generation (cuda:0):   0%|          | 0/1 [00:00<?, ?it/s]\u001b[A\n",
      "running generation (cuda:0): 100%|██████████| 1/1 [00:02<00:00,  2.47s/it]\u001b[A\n",
      "\n",
      "running NLI (cuda:0): 100%|██████████| 1/1 [00:00<00:00, 17.16it/s]\n",
      "\n",
      "running NLI (cuda:0): 100%|██████████| 1/1 [00:00<00:00, 17.42it/s]\n",
      " 89%|████████▉ | 89/100 [05:11<00:41,  3.74s/it]"
     ]
    },
    {
     "name": "stdout",
     "output_type": "stream",
     "text": [
      "Old value (informativeness_marginal_x_relevance_marginal): 0.001434\n",
      "New value (informativeness_marginal_x_relevance_marginal): [0.001922]\n"
     ]
    },
    {
     "name": "stderr",
     "output_type": "stream",
     "text": [
      "\n",
      "running generation (cuda:0):   0%|          | 0/1 [00:00<?, ?it/s]\u001b[A\n",
      "running generation (cuda:0): 100%|██████████| 1/1 [00:01<00:00,  1.22s/it]\u001b[A\n",
      "\n",
      "running generation (cuda:0):   0%|          | 0/1 [00:00<?, ?it/s]\u001b[A\n",
      "running generation (cuda:0): 100%|██████████| 1/1 [00:01<00:00,  1.22s/it]\u001b[A\n",
      "\n",
      "running NLI (cuda:0): 100%|██████████| 1/1 [00:00<00:00, 17.09it/s]\n",
      "\n",
      "running NLI (cuda:0): 100%|██████████| 1/1 [00:00<00:00, 17.14it/s]\n",
      "\n",
      "running generation (cuda:0):   0%|          | 0/1 [00:00<?, ?it/s]\u001b[A\n",
      "running generation (cuda:0): 100%|██████████| 1/1 [00:01<00:00,  1.21s/it]\u001b[A\n",
      "\n",
      "running NLI (cuda:0): 100%|██████████| 1/1 [00:00<00:00, 17.31it/s]\n",
      "\n",
      "running NLI (cuda:0): 100%|██████████| 1/1 [00:00<00:00, 17.37it/s]\n",
      " 90%|█████████ | 90/100 [05:15<00:37,  3.79s/it]"
     ]
    },
    {
     "name": "stdout",
     "output_type": "stream",
     "text": [
      "Old value (informativeness_marginal_x_relevance_marginal): 0.512207\n",
      "New value (informativeness_marginal_x_relevance_marginal): [0.571777]\n"
     ]
    },
    {
     "name": "stderr",
     "output_type": "stream",
     "text": [
      "\n",
      "running generation (cuda:0):   0%|          | 0/1 [00:00<?, ?it/s]\u001b[A\n",
      "running generation (cuda:0): 100%|██████████| 1/1 [00:01<00:00,  1.21s/it]\u001b[A\n",
      "\n",
      "running generation (cuda:0):   0%|          | 0/1 [00:00<?, ?it/s]\u001b[A\n",
      "running generation (cuda:0): 100%|██████████| 1/1 [00:01<00:00,  1.21s/it]\u001b[A\n",
      "\n",
      "running NLI (cuda:0): 100%|██████████| 1/1 [00:00<00:00, 17.03it/s]\n",
      "\n",
      "running NLI (cuda:0): 100%|██████████| 1/1 [00:00<00:00, 17.55it/s]\n",
      "\n",
      "running generation (cuda:0):   0%|          | 0/1 [00:00<?, ?it/s]\u001b[A\n",
      "running generation (cuda:0): 100%|██████████| 1/1 [00:01<00:00,  1.21s/it]\u001b[A\n",
      "\n",
      "running NLI (cuda:0): 100%|██████████| 1/1 [00:00<00:00, 17.42it/s]\n",
      "\n",
      "running NLI (cuda:0): 100%|██████████| 1/1 [00:00<00:00, 17.41it/s]\n",
      " 91%|█████████ | 91/100 [05:19<00:34,  3.81s/it]"
     ]
    },
    {
     "name": "stdout",
     "output_type": "stream",
     "text": [
      "Old value (informativeness_marginal_x_relevance_marginal): 0.87207\n",
      "New value (informativeness_marginal_x_relevance_marginal): [0.945801]\n"
     ]
    },
    {
     "name": "stderr",
     "output_type": "stream",
     "text": [
      "\n",
      "running generation (cuda:0):   0%|          | 0/1 [00:00<?, ?it/s]\u001b[A\n",
      "running generation (cuda:0): 100%|██████████| 1/1 [00:01<00:00,  1.22s/it]\u001b[A\n",
      "\n",
      "running generation (cuda:0):   0%|          | 0/1 [00:00<?, ?it/s]\u001b[A\n",
      "running generation (cuda:0): 100%|██████████| 1/1 [00:01<00:00,  1.21s/it]\u001b[A\n",
      "\n",
      "running NLI (cuda:0): 100%|██████████| 1/1 [00:00<00:00, 17.34it/s]\n",
      "\n",
      "running NLI (cuda:0): 100%|██████████| 1/1 [00:00<00:00, 17.01it/s]\n",
      "\n",
      "running generation (cuda:0):   0%|          | 0/1 [00:00<?, ?it/s]\u001b[A\n",
      "running generation (cuda:0): 100%|██████████| 1/1 [00:01<00:00,  1.22s/it]\u001b[A\n",
      "\n",
      "running NLI (cuda:0): 100%|██████████| 1/1 [00:00<00:00, 17.15it/s]\n",
      "\n",
      "running NLI (cuda:0): 100%|██████████| 1/1 [00:00<00:00, 17.10it/s]\n",
      " 92%|█████████▏| 92/100 [05:23<00:30,  3.84s/it]"
     ]
    },
    {
     "name": "stdout",
     "output_type": "stream",
     "text": [
      "Old value (informativeness_marginal_x_relevance_marginal): 0.990723\n",
      "New value (informativeness_marginal_x_relevance_marginal): [0.992676]\n"
     ]
    },
    {
     "name": "stderr",
     "output_type": "stream",
     "text": [
      "\n",
      "running generation (cuda:0):   0%|          | 0/1 [00:00<?, ?it/s]\u001b[A\n",
      "running generation (cuda:0): 100%|██████████| 1/1 [00:01<00:00,  1.21s/it]\u001b[A\n",
      "\n",
      "running generation (cuda:0):   0%|          | 0/1 [00:00<?, ?it/s]\u001b[A\n",
      "running generation (cuda:0): 100%|██████████| 1/1 [00:01<00:00,  1.21s/it]\u001b[A\n",
      "\n",
      "running NLI (cuda:0): 100%|██████████| 1/1 [00:00<00:00, 17.00it/s]\n",
      "\n",
      "running NLI (cuda:0): 100%|██████████| 1/1 [00:00<00:00, 17.07it/s]\n",
      "\n",
      "running generation (cuda:0):   0%|          | 0/1 [00:00<?, ?it/s]\u001b[A\n",
      "running generation (cuda:0): 100%|██████████| 1/1 [00:01<00:00,  1.21s/it]\u001b[A\n",
      "\n",
      "running NLI (cuda:0): 100%|██████████| 1/1 [00:00<00:00, 17.15it/s]\n",
      "\n",
      "running NLI (cuda:0): 100%|██████████| 1/1 [00:00<00:00, 17.29it/s]\n",
      " 93%|█████████▎| 93/100 [05:27<00:26,  3.85s/it]"
     ]
    },
    {
     "name": "stdout",
     "output_type": "stream",
     "text": [
      "Old value (informativeness_marginal_x_relevance_marginal): 0.688477\n",
      "New value (informativeness_marginal_x_relevance_marginal): [0.611328]\n"
     ]
    },
    {
     "name": "stderr",
     "output_type": "stream",
     "text": [
      "\n",
      "running generation (cuda:0):   0%|          | 0/1 [00:00<?, ?it/s]\u001b[A\n",
      "running generation (cuda:0): 100%|██████████| 1/1 [00:01<00:00,  1.22s/it]\u001b[A\n",
      "\n",
      "running generation (cuda:0):   0%|          | 0/1 [00:00<?, ?it/s]\u001b[A\n",
      "running generation (cuda:0): 100%|██████████| 1/1 [00:01<00:00,  1.20s/it]\u001b[A\n",
      "\n",
      "running NLI (cuda:0): 100%|██████████| 1/1 [00:00<00:00, 17.19it/s]\n",
      "\n",
      "running NLI (cuda:0): 100%|██████████| 1/1 [00:00<00:00, 17.20it/s]\n",
      "\n",
      "running generation (cuda:0): 0it [00:00, ?it/s]\u001b[A\n",
      "\n",
      "running NLI (cuda:0): 100%|██████████| 1/1 [00:00<00:00, 17.24it/s]\n",
      "\n",
      "running NLI (cuda:0): 100%|██████████| 1/1 [00:00<00:00, 17.09it/s]\n",
      " 94%|█████████▍| 94/100 [05:30<00:20,  3.50s/it]"
     ]
    },
    {
     "name": "stdout",
     "output_type": "stream",
     "text": [
      "Old value (informativeness_marginal_x_relevance_marginal): 0.987305\n",
      "New value (informativeness_marginal_x_relevance_marginal): [0.990723]\n"
     ]
    },
    {
     "name": "stderr",
     "output_type": "stream",
     "text": [
      "\n",
      "running generation (cuda:0):   0%|          | 0/1 [00:00<?, ?it/s]\u001b[A\n",
      "running generation (cuda:0): 100%|██████████| 1/1 [00:01<00:00,  1.21s/it]\u001b[A\n",
      "\n",
      "running generation (cuda:0):   0%|          | 0/1 [00:00<?, ?it/s]\u001b[A\n",
      "running generation (cuda:0): 100%|██████████| 1/1 [00:01<00:00,  1.22s/it]\u001b[A\n",
      "\n",
      "running NLI (cuda:0): 100%|██████████| 1/1 [00:00<00:00, 17.12it/s]\n",
      "\n",
      "running NLI (cuda:0): 100%|██████████| 1/1 [00:00<00:00, 17.30it/s]\n",
      "\n",
      "running generation (cuda:0):   0%|          | 0/1 [00:00<?, ?it/s]\u001b[A\n",
      "running generation (cuda:0): 100%|██████████| 1/1 [00:01<00:00,  1.22s/it]\u001b[A\n",
      "\n",
      "running NLI (cuda:0): 100%|██████████| 1/1 [00:00<00:00, 16.77it/s]\n",
      "\n",
      "running NLI (cuda:0): 100%|██████████| 1/1 [00:00<00:00, 17.09it/s]\n",
      " 95%|█████████▌| 95/100 [05:33<00:18,  3.62s/it]"
     ]
    },
    {
     "name": "stdout",
     "output_type": "stream",
     "text": [
      "Old value (informativeness_marginal_x_relevance_marginal): 0.127808\n",
      "New value (informativeness_marginal_x_relevance_marginal): [0.105103]\n"
     ]
    },
    {
     "name": "stderr",
     "output_type": "stream",
     "text": [
      "\n",
      "running generation (cuda:0):   0%|          | 0/1 [00:00<?, ?it/s]\u001b[A\n",
      "running generation (cuda:0): 100%|██████████| 1/1 [00:01<00:00,  1.21s/it]\u001b[A\n",
      "\n",
      "running generation (cuda:0):   0%|          | 0/1 [00:00<?, ?it/s]\u001b[A\n",
      "running generation (cuda:0): 100%|██████████| 1/1 [00:01<00:00,  1.21s/it]\u001b[A\n",
      "\n",
      "running NLI (cuda:0): 100%|██████████| 1/1 [00:00<00:00, 17.41it/s]\n",
      "\n",
      "running NLI (cuda:0): 100%|██████████| 1/1 [00:00<00:00, 17.29it/s]\n",
      "\n",
      "running generation (cuda:0): 0it [00:00, ?it/s]\u001b[A\n",
      "\n",
      "running NLI (cuda:0): 100%|██████████| 1/1 [00:00<00:00, 17.39it/s]\n",
      "\n",
      "running NLI (cuda:0): 100%|██████████| 1/1 [00:00<00:00, 17.37it/s]\n",
      " 96%|█████████▌| 96/100 [05:36<00:13,  3.33s/it]"
     ]
    },
    {
     "name": "stdout",
     "output_type": "stream",
     "text": [
      "Old value (informativeness_marginal_x_relevance_marginal): 0.524902\n",
      "New value (informativeness_marginal_x_relevance_marginal): [0.516113]\n"
     ]
    },
    {
     "name": "stderr",
     "output_type": "stream",
     "text": [
      "\n",
      "running generation (cuda:0):   0%|          | 0/1 [00:00<?, ?it/s]\u001b[A\n",
      "running generation (cuda:0): 100%|██████████| 1/1 [00:01<00:00,  1.22s/it]\u001b[A\n",
      "\n",
      "running generation (cuda:0):   0%|          | 0/1 [00:00<?, ?it/s]\u001b[A\n",
      "running generation (cuda:0): 100%|██████████| 1/1 [00:01<00:00,  1.21s/it]\u001b[A\n",
      "\n",
      "running NLI (cuda:0): 100%|██████████| 1/1 [00:00<00:00, 16.92it/s]\n",
      "\n",
      "running NLI (cuda:0): 100%|██████████| 1/1 [00:00<00:00, 17.09it/s]\n",
      "\n",
      "running generation (cuda:0): 0it [00:00, ?it/s]\u001b[A\n",
      "\n",
      "running NLI (cuda:0): 100%|██████████| 1/1 [00:00<00:00, 17.07it/s]\n",
      "\n",
      "running NLI (cuda:0): 100%|██████████| 1/1 [00:00<00:00, 17.35it/s]\n",
      " 97%|█████████▋| 97/100 [05:39<00:09,  3.14s/it]"
     ]
    },
    {
     "name": "stdout",
     "output_type": "stream",
     "text": [
      "Old value (informativeness_marginal_x_relevance_marginal): 0.058258\n",
      "New value (informativeness_marginal_x_relevance_marginal): [0.146851]\n"
     ]
    },
    {
     "name": "stderr",
     "output_type": "stream",
     "text": [
      "\n",
      "running generation (cuda:0):   0%|          | 0/1 [00:00<?, ?it/s]\u001b[A\n",
      "running generation (cuda:0): 100%|██████████| 1/1 [00:01<00:00,  1.21s/it]\u001b[A\n",
      "\n",
      "running generation (cuda:0):   0%|          | 0/1 [00:00<?, ?it/s]\u001b[A\n",
      "running generation (cuda:0): 100%|██████████| 1/1 [00:01<00:00,  1.22s/it]\u001b[A\n",
      "\n",
      "running NLI (cuda:0): 100%|██████████| 1/1 [00:00<00:00, 16.76it/s]\n",
      "\n",
      "running NLI (cuda:0): 100%|██████████| 1/1 [00:00<00:00, 17.19it/s]\n",
      "\n",
      "running generation (cuda:0):   0%|          | 0/1 [00:00<?, ?it/s]\u001b[A\n",
      "running generation (cuda:0): 100%|██████████| 1/1 [00:01<00:00,  1.21s/it]\u001b[A\n",
      "\n",
      "running NLI (cuda:0): 100%|██████████| 1/1 [00:00<00:00, 17.18it/s]\n",
      "\n",
      "running NLI (cuda:0): 100%|██████████| 1/1 [00:00<00:00, 17.49it/s]\n",
      " 98%|█████████▊| 98/100 [05:43<00:06,  3.36s/it]"
     ]
    },
    {
     "name": "stdout",
     "output_type": "stream",
     "text": [
      "Old value (informativeness_marginal_x_relevance_marginal): 0.02478\n",
      "New value (informativeness_marginal_x_relevance_marginal): [0.020706]\n"
     ]
    },
    {
     "name": "stderr",
     "output_type": "stream",
     "text": [
      "\n",
      "running generation (cuda:0):   0%|          | 0/1 [00:00<?, ?it/s]\u001b[A\n",
      "running generation (cuda:0): 100%|██████████| 1/1 [00:01<00:00,  1.21s/it]\u001b[A\n",
      "\n",
      "running generation (cuda:0):   0%|          | 0/1 [00:00<?, ?it/s]\u001b[A\n",
      "running generation (cuda:0): 100%|██████████| 1/1 [00:01<00:00,  1.21s/it]\u001b[A\n",
      "\n",
      "running NLI (cuda:0): 100%|██████████| 1/1 [00:00<00:00, 16.73it/s]\n",
      "\n",
      "running NLI (cuda:0): 100%|██████████| 1/1 [00:00<00:00, 17.04it/s]\n",
      "\n",
      "running generation (cuda:0):   0%|          | 0/1 [00:00<?, ?it/s]\u001b[A\n",
      "running generation (cuda:0): 100%|██████████| 1/1 [00:02<00:00,  2.37s/it]\u001b[A\n",
      "\n",
      "running NLI (cuda:0): 100%|██████████| 1/1 [00:00<00:00, 17.39it/s]\n",
      "\n",
      "running NLI (cuda:0): 100%|██████████| 1/1 [00:00<00:00, 17.78it/s]\n",
      " 99%|█████████▉| 99/100 [05:48<00:03,  3.87s/it]"
     ]
    },
    {
     "name": "stdout",
     "output_type": "stream",
     "text": [
      "Old value (informativeness_marginal_x_relevance_marginal): 0.000465\n",
      "New value (informativeness_marginal_x_relevance_marginal): [3.1e-05]\n"
     ]
    },
    {
     "name": "stderr",
     "output_type": "stream",
     "text": [
      "\n",
      "running generation (cuda:0):   0%|          | 0/1 [00:00<?, ?it/s]\u001b[A\n",
      "running generation (cuda:0): 100%|██████████| 1/1 [00:01<00:00,  1.21s/it]\u001b[A\n",
      "\n",
      "running generation (cuda:0):   0%|          | 0/1 [00:00<?, ?it/s]\u001b[A\n",
      "running generation (cuda:0): 100%|██████████| 1/1 [00:01<00:00,  1.20s/it]\u001b[A\n",
      "\n",
      "running NLI (cuda:0): 100%|██████████| 1/1 [00:00<00:00, 17.46it/s]\n",
      "\n",
      "running NLI (cuda:0): 100%|██████████| 1/1 [00:00<00:00, 17.56it/s]\n",
      "\n",
      "running generation (cuda:0):   0%|          | 0/1 [00:00<?, ?it/s]\u001b[A\n",
      "running generation (cuda:0): 100%|██████████| 1/1 [00:02<00:00,  2.46s/it]\u001b[A\n",
      "\n",
      "running NLI (cuda:0): 100%|██████████| 1/1 [00:00<00:00, 17.33it/s]\n",
      "\n",
      "running NLI (cuda:0): 100%|██████████| 1/1 [00:00<00:00, 17.50it/s]\n",
      "100%|██████████| 100/100 [05:53<00:00,  3.53s/it]"
     ]
    },
    {
     "name": "stdout",
     "output_type": "stream",
     "text": [
      "Old value (informativeness_marginal_x_relevance_marginal): 0.727539\n",
      "New value (informativeness_marginal_x_relevance_marginal): [0.670898]\n",
      "Done!\n"
     ]
    },
    {
     "name": "stderr",
     "output_type": "stream",
     "text": [
      "\n"
     ]
    }
   ],
   "source": [
    "from tqdm import tqdm\n",
    "\n",
    "for annotation_idx in tqdm(range(len(data_dicts))):\n",
    "    procedure = data_dicts[annotation_idx]['procedure']\n",
    "    question = data_dicts[annotation_idx]['question']\n",
    "    answer = data_dicts[annotation_idx]['answer']\n",
    "    previous_questions = [q for q, _ in data_dicts[annotation_idx]['previous_questions_answers']]\n",
    "    previous_answers = [a for _, a in data_dicts[annotation_idx]['previous_questions_answers']]\n",
    "    \n",
    "    updated_metrics = question_coherence_metrics_nli(nli_tokenizer, \n",
    "                                                     nli_model, \n",
    "                                                     vlm_processor.tokenizer,\n",
    "                                                     vlm.language_model, \n",
    "                                                     [procedure],\n",
    "                                                     [question],\n",
    "                                                     [answer],\n",
    "                                                     [previous_questions],\n",
    "                                                     [previous_answers],\n",
    "                                                     rephrase_success=False)\n",
    "     \n",
    "    print(f\"Old value ({metric_key}):\", data_dicts[annotation_idx]['nli_metric_scores'][metric_key])\n",
    "    data_dicts[annotation_idx]['nli_metric_scores'][metric_key] = updated_metrics[metric_key]\n",
    "    print(f\"New value ({metric_key}):\", data_dicts[annotation_idx]['nli_metric_scores'][metric_key])\n",
    "\n",
    "print(\"Done!\")    "
   ]
  },
  {
   "cell_type": "code",
   "execution_count": 20,
   "id": "a6f796c4-e895-4a3d-97fc-4ced4078681d",
   "metadata": {},
   "outputs": [
    {
     "name": "stdout",
     "output_type": "stream",
     "text": [
      "Warning: did not find annotations for annotator 5, annotation 0. This may be expected if we did not have annotators do all the annotations in the source file.\n",
      "Warning: did not find annotations for annotator 5, annotation 1. This may be expected if we did not have annotators do all the annotations in the source file.\n",
      "Warning: did not find annotations for annotator 5, annotation 2. This may be expected if we did not have annotators do all the annotations in the source file.\n",
      "Warning: did not find annotations for annotator 5, annotation 3. This may be expected if we did not have annotators do all the annotations in the source file.\n",
      "Warning: did not find annotations for annotator 5, annotation 4. This may be expected if we did not have annotators do all the annotations in the source file.\n",
      "Warning: did not find annotations for annotator 5, annotation 5. This may be expected if we did not have annotators do all the annotations in the source file.\n",
      "Warning: did not find annotations for annotator 5, annotation 6. This may be expected if we did not have annotators do all the annotations in the source file.\n",
      "Warning: did not find annotations for annotator 5, annotation 7. This may be expected if we did not have annotators do all the annotations in the source file.\n",
      "Warning: did not find annotations for annotator 5, annotation 8. This may be expected if we did not have annotators do all the annotations in the source file.\n",
      "Warning: did not find annotations for annotator 5, annotation 9. This may be expected if we did not have annotators do all the annotations in the source file.\n",
      "Warning: did not find annotations for annotator 6, annotation 0. This may be expected if we did not have annotators do all the annotations in the source file.\n",
      "Warning: did not find annotations for annotator 6, annotation 1. This may be expected if we did not have annotators do all the annotations in the source file.\n",
      "Warning: did not find annotations for annotator 6, annotation 2. This may be expected if we did not have annotators do all the annotations in the source file.\n",
      "Warning: did not find annotations for annotator 6, annotation 3. This may be expected if we did not have annotators do all the annotations in the source file.\n",
      "Warning: did not find annotations for annotator 6, annotation 4. This may be expected if we did not have annotators do all the annotations in the source file.\n",
      "Warning: did not find annotations for annotator 6, annotation 5. This may be expected if we did not have annotators do all the annotations in the source file.\n",
      "Warning: did not find annotations for annotator 6, annotation 6. This may be expected if we did not have annotators do all the annotations in the source file.\n",
      "Warning: did not find annotations for annotator 6, annotation 7. This may be expected if we did not have annotators do all the annotations in the source file.\n",
      "Warning: did not find annotations for annotator 6, annotation 8. This may be expected if we did not have annotators do all the annotations in the source file.\n",
      "Warning: did not find annotations for annotator 6, annotation 9. This may be expected if we did not have annotators do all the annotations in the source file.\n",
      "Warning: did not find annotations for annotator 7, annotation 0. This may be expected if we did not have annotators do all the annotations in the source file.\n",
      "Warning: did not find annotations for annotator 7, annotation 1. This may be expected if we did not have annotators do all the annotations in the source file.\n",
      "Warning: did not find annotations for annotator 7, annotation 2. This may be expected if we did not have annotators do all the annotations in the source file.\n",
      "Warning: did not find annotations for annotator 7, annotation 3. This may be expected if we did not have annotators do all the annotations in the source file.\n",
      "Warning: did not find annotations for annotator 7, annotation 4. This may be expected if we did not have annotators do all the annotations in the source file.\n",
      "Warning: did not find annotations for annotator 7, annotation 5. This may be expected if we did not have annotators do all the annotations in the source file.\n",
      "Warning: did not find annotations for annotator 7, annotation 6. This may be expected if we did not have annotators do all the annotations in the source file.\n",
      "Warning: did not find annotations for annotator 7, annotation 7. This may be expected if we did not have annotators do all the annotations in the source file.\n",
      "Warning: did not find annotations for annotator 7, annotation 8. This may be expected if we did not have annotators do all the annotations in the source file.\n",
      "Warning: did not find annotations for annotator 7, annotation 9. This may be expected if we did not have annotators do all the annotations in the source file.\n",
      "Warning: did not find annotations for annotator 8, annotation 0. This may be expected if we did not have annotators do all the annotations in the source file.\n",
      "Warning: did not find annotations for annotator 8, annotation 1. This may be expected if we did not have annotators do all the annotations in the source file.\n",
      "Warning: did not find annotations for annotator 8, annotation 2. This may be expected if we did not have annotators do all the annotations in the source file.\n",
      "Warning: did not find annotations for annotator 8, annotation 3. This may be expected if we did not have annotators do all the annotations in the source file.\n",
      "Warning: did not find annotations for annotator 8, annotation 4. This may be expected if we did not have annotators do all the annotations in the source file.\n",
      "Warning: did not find annotations for annotator 8, annotation 5. This may be expected if we did not have annotators do all the annotations in the source file.\n",
      "Warning: did not find annotations for annotator 8, annotation 6. This may be expected if we did not have annotators do all the annotations in the source file.\n",
      "Warning: did not find annotations for annotator 8, annotation 7. This may be expected if we did not have annotators do all the annotations in the source file.\n",
      "Warning: did not find annotations for annotator 8, annotation 8. This may be expected if we did not have annotators do all the annotations in the source file.\n",
      "Warning: did not find annotations for annotator 8, annotation 9. This may be expected if we did not have annotators do all the annotations in the source file.\n",
      "Warning: did not find annotations for annotator 9, annotation 0. This may be expected if we did not have annotators do all the annotations in the source file.\n",
      "Warning: did not find annotations for annotator 9, annotation 1. This may be expected if we did not have annotators do all the annotations in the source file.\n",
      "Warning: did not find annotations for annotator 9, annotation 2. This may be expected if we did not have annotators do all the annotations in the source file.\n",
      "Warning: did not find annotations for annotator 9, annotation 3. This may be expected if we did not have annotators do all the annotations in the source file.\n",
      "Warning: did not find annotations for annotator 9, annotation 4. This may be expected if we did not have annotators do all the annotations in the source file.\n",
      "Warning: did not find annotations for annotator 9, annotation 5. This may be expected if we did not have annotators do all the annotations in the source file.\n",
      "Warning: did not find annotations for annotator 9, annotation 6. This may be expected if we did not have annotators do all the annotations in the source file.\n",
      "Warning: did not find annotations for annotator 9, annotation 7. This may be expected if we did not have annotators do all the annotations in the source file.\n",
      "Warning: did not find annotations for annotator 9, annotation 8. This may be expected if we did not have annotators do all the annotations in the source file.\n",
      "Warning: did not find annotations for annotator 9, annotation 9. This may be expected if we did not have annotators do all the annotations in the source file.\n",
      "Recovered 50 annotations.\n"
     ]
    }
   ],
   "source": [
    "from pprint import pprint\n",
    "\n",
    "N_SAMPLES = 100\n",
    "SAMPLES_PER_ANNOTATOR = 10\n",
    "\n",
    "calculated_values = []\n",
    "annotated_values = []\n",
    "for annotator_idx in range(N_SAMPLES // SAMPLES_PER_ANNOTATOR):\n",
    "    samples = data_dicts[annotator_idx * SAMPLES_PER_ANNOTATOR:(annotator_idx + 1) * SAMPLES_PER_ANNOTATOR]\n",
    "    assert len(samples) == SAMPLES_PER_ANNOTATOR\n",
    "    \n",
    "    for annotation_idx in range(len(samples)):\n",
    "    \n",
    "        retrieved_annotations = all_annotations[all_annotations['annotator_index'] == annotator_idx]\n",
    "        retrieved_annotations = retrieved_annotations[retrieved_annotations['annotation_index'] == annotation_idx]\n",
    "        if len(retrieved_annotations) == 0:\n",
    "            print(f\"Warning: did not find annotations for annotator {annotator_idx}, annotation {annotation_idx}. This may be expected if we did not have annotators do all the annotations in the source file.\")\n",
    "            continue\n",
    "            \n",
    "        assert len(retrieved_annotations) == 1, \"Do we have some duplicate annotations?\"\n",
    "        \n",
    "        rating = retrieved_annotations['rating'].iloc[0]\n",
    "        if \"Instructions Unclear\" in rating:\n",
    "            print(\"Warning: threw away an instance due to instructions being labeled unclear\")\n",
    "            continue\n",
    "            \n",
    "        rating = int(rating.split()[0])\n",
    "        actual = samples[annotation_idx]['nli_metric_scores'][metric_key]\n",
    "        \n",
    "        calculated_values.append(actual)\n",
    "        annotated_values.append(rating)\n",
    "        \n",
    "print(f\"Recovered {len(annotated_values)} annotations.\")\n",
    "    "
   ]
  },
  {
   "cell_type": "markdown",
   "id": "fa83002e-9171-4ac1-a44b-8174b285fa22",
   "metadata": {},
   "source": [
    "Correlation result:"
   ]
  },
  {
   "cell_type": "code",
   "execution_count": 21,
   "id": "a01e3348-ab49-4dce-9d6e-97510ab4fd17",
   "metadata": {},
   "outputs": [
    {
     "name": "stdout",
     "output_type": "stream",
     "text": [
      "SignificanceResult(statistic=0.4999466247399133, pvalue=0.000218405481196467)\n",
      "PearsonRResult(statistic=array([nan, nan, nan, nan, nan, nan, nan, nan, nan, nan, nan, nan, nan,\n",
      "       nan, nan, nan, nan, nan, nan, nan, nan, nan, nan, nan, nan, nan,\n",
      "       nan, nan, nan, nan, nan, nan, nan, nan, nan, nan, nan, nan, nan,\n",
      "       nan, nan, nan, nan, nan, nan, nan, nan, nan, nan, nan]), pvalue=array([nan, nan, nan, nan, nan, nan, nan, nan, nan, nan, nan, nan, nan,\n",
      "       nan, nan, nan, nan, nan, nan, nan, nan, nan, nan, nan, nan, nan,\n",
      "       nan, nan, nan, nan, nan, nan, nan, nan, nan, nan, nan, nan, nan,\n",
      "       nan, nan, nan, nan, nan, nan, nan, nan, nan, nan, nan]))\n"
     ]
    },
    {
     "name": "stderr",
     "output_type": "stream",
     "text": [
      "/tmp/ipykernel_45180/697621628.py:6: ConstantInputWarning: An input array is constant; the correlation coefficient is not defined.\n",
      "  res = pearsonr(calculated_values, annotated_values)\n"
     ]
    }
   ],
   "source": [
    "from scipy.stats import spearmanr, pearsonr\n",
    "\n",
    "res = spearmanr(calculated_values, annotated_values)\n",
    "pprint(res)\n",
    "\n",
    "res = pearsonr(calculated_values, annotated_values)\n",
    "pprint(res)"
   ]
  },
  {
   "cell_type": "code",
   "execution_count": null,
   "id": "16141b34-80b7-4411-ae70-0094fd37940a",
   "metadata": {},
   "outputs": [],
   "source": []
  }
 ],
 "metadata": {
  "kernelspec": {
   "display_name": "travel",
   "language": "python",
   "name": "travel"
  },
  "language_info": {
   "codemirror_mode": {
    "name": "ipython",
    "version": 3
   },
   "file_extension": ".py",
   "mimetype": "text/x-python",
   "name": "python",
   "nbconvert_exporter": "python",
   "pygments_lexer": "ipython3",
   "version": "3.10.9"
  }
 },
 "nbformat": 4,
 "nbformat_minor": 5
}
