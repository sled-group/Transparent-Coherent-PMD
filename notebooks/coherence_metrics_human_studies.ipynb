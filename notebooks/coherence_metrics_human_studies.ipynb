{
 "cells": [
  {
   "cell_type": "code",
   "execution_count": 1,
   "id": "609598b0-4653-4b42-85ba-2a38a01e4300",
   "metadata": {},
   "outputs": [],
   "source": [
    "%load_ext autoreload\n",
    "%autoreload 2\n",
    "\n",
    "import os\n",
    "os.chdir(\"/nfs/turbo/coe-chaijy/sstorks/simulation_informed_pcr4nlu/TRAVEl\")\n",
    "from travel import init_travel\n",
    "init_travel()"
   ]
  },
  {
   "cell_type": "markdown",
   "id": "68dfe59f",
   "metadata": {
    "jp-MarkdownHeadingCollapsed": true,
    "tags": []
   },
   "source": [
    "# Load preds"
   ]
  },
  {
   "cell_type": "code",
   "execution_count": 2,
   "id": "26f0084f",
   "metadata": {},
   "outputs": [
    {
     "name": "stdout",
     "output_type": "stream",
     "text": [
      "{'answer_probs': [[0.010489, 0.989511],\n",
      "                  [0.7773, 0.2227],\n",
      "                  [0.007233, 0.992767],\n",
      "                  [0.651355, 0.348645],\n",
      "                  [0.307358, 0.692642],\n",
      "                  [0.33112, 0.66888],\n",
      "                  [0.573678, 0.426322],\n",
      "                  [0.73412, 0.26588],\n",
      "                  [0.538983, 0.461017],\n",
      "                  [0.72487, 0.27513]],\n",
      " 'answers': ['Yes',\n",
      "             'No',\n",
      "             'Yes',\n",
      "             'No',\n",
      "             'Yes',\n",
      "             'Yes',\n",
      "             'Unsure',\n",
      "             'No',\n",
      "             'Unsure',\n",
      "             'No'],\n",
      " 'candidate_questions': [['Is the person wearing a lab coat?',\n",
      "                          'Is the person wearing gloves?',\n",
      "                          'Is the person wearing a white lab coat?'],\n",
      "                         ['Is the person wearing safety goggles?',\n",
      "                          'Is the person wearing gloves?'],\n",
      "                         ['Is the person wearing gloves?',\n",
      "                          'Is the person using a pipette to put the liquid in '\n",
      "                          'the paper?'],\n",
      "                         ['Is the person using a pipette to put the liquid in '\n",
      "                          'the paper?',\n",
      "                          'Is the person using a syringe to put the liquid in '\n",
      "                          'the paper?',\n",
      "                          'Is the person wearing a hat?',\n",
      "                          'Is the person using a syringe to put the liquid '\n",
      "                          'into the paper?'],\n",
      "                         ['Is the person using a pipette to put the liquid in '\n",
      "                          'the paper?',\n",
      "                          'Is the person using a dropper to put the liquid in '\n",
      "                          'the paper?'],\n",
      "                         ['Is the person using a pipette to put the liquid in '\n",
      "                          'the paper?',\n",
      "                          'Is the paper on a table?'],\n",
      "                         ['Is the person using a test tube to put the liquid '\n",
      "                          'in the paper?',\n",
      "                          'Is the person using a microscope to put the liquid '\n",
      "                          'in the paper?'],\n",
      "                         ['Is the person using a test tube to put the liquid '\n",
      "                          'in the paper?',\n",
      "                          'Is the person using a beaker to put the liquid in '\n",
      "                          'the paper?',\n",
      "                          'Is the person using a spoon to put the liquid in '\n",
      "                          'the paper?'],\n",
      "                         ['Is the person using a funnel to put the liquid in '\n",
      "                          'the paper?',\n",
      "                          'Is the person using a measuring cup to put the '\n",
      "                          'liquid in the paper?',\n",
      "                          'Is the person using a spatula to put the liquid in '\n",
      "                          'the paper?'],\n",
      "                         ['Is the person using a beaker to put the liquid in '\n",
      "                          'the paper?',\n",
      "                          'Is the person using a funnel to put the liquid in '\n",
      "                          'the paper?',\n",
      "                          'Is the person using a test tube to put the liquid '\n",
      "                          'in the paper?',\n",
      "                          'Is the person using a ruler to put the liquid in '\n",
      "                          'the paper?']],\n",
      " 'candidate_questions_scores': [[-2.6088404655456543,\n",
      "                                 -2.8505301475524902,\n",
      "                                 -2.3957202434539795],\n",
      "                                [-1.6824370622634888, -2.127070188522339],\n",
      "                                [-2.0017526149749756, -3.3623712062835693],\n",
      "                                [-4.940241813659668,\n",
      "                                 -4.340146541595459,\n",
      "                                 -4.483624458312988,\n",
      "                                 -4.494911193847656],\n",
      "                                [-4.695842742919922, -4.503211498260498],\n",
      "                                [-5.8441314697265625, -6.727949142456055],\n",
      "                                [-5.058520793914795, -4.772224426269531],\n",
      "                                [-4.7559661865234375,\n",
      "                                 -5.156332015991211,\n",
      "                                 -4.646953582763672],\n",
      "                                [-6.693734645843506,\n",
      "                                 -6.228703498840332,\n",
      "                                 -6.335910797119141],\n",
      "                                [-6.90987491607666,\n",
      "                                 -6.865169048309326,\n",
      "                                 -6.455591201782227,\n",
      "                                 -6.331698894500732]],\n",
      " 'candidate_questions_sources': [['vlm', 'vlm', 'vlm'],\n",
      "                                 ['vlm', 'vlm'],\n",
      "                                 ['vlm', 'vlm'],\n",
      "                                 ['vlm', 'vlm', 'vlm', 'vlm'],\n",
      "                                 ['vlm', 'vlm'],\n",
      "                                 ['vlm', 'vlm'],\n",
      "                                 ['vlm', 'vlm'],\n",
      "                                 ['vlm', 'vlm', 'vlm'],\n",
      "                                 ['vlm', 'vlm', 'vlm'],\n",
      "                                 ['vlm', 'vlm', 'vlm', 'vlm']],\n",
      " 'example_id': '90093217-6a61-48ce-b737-e581499cf491/144/pos',\n",
      " 'final_success_prob': 0.256832,\n",
      " 'final_turn': 2,\n",
      " 'frame_dir': '/nfs/turbo/coe-chaijy/sstorks/simulation_informed_pcr4nlu/TRAVEl_generated_data_0808/ego4d_val_seed222_mismatch_debug250/90093217-6a61-48ce-b737-e581499cf491/144/pos',\n",
      " 'informativeness': [0.178223, 0.270508, 0.03418],\n",
      " 'informativeness_marginal': [0.178223, 0.064453, 0.147461],\n",
      " 'informativeness_marginal_x_relevance_marginal': [0.013748, 0.01004, 0.019302],\n",
      " 'informativeness_marginal_x_relevance_marginal_ref': [0.0, 0.0, 0.0],\n",
      " 'mistake': False,\n",
      " 'mistake_type': None,\n",
      " 'procedure': 'Put liquid in the paper',\n",
      " 'questions': ['Is the person wearing a white lab coat?',\n",
      "               'Is the person wearing safety goggles?',\n",
      "               'Is the person wearing gloves?',\n",
      "               'Is the person using a syringe to put the liquid in the paper?',\n",
      "               'Is the person using a dropper to put the liquid in the paper?',\n",
      "               'Is the person using a pipette to put the liquid in the paper?',\n",
      "               'Is the person using a microscope to put the liquid in the '\n",
      "               'paper?',\n",
      "               'Is the person using a spoon to put the liquid in the paper?',\n",
      "               'Is the person using a measuring cup to put the liquid in the '\n",
      "               'paper?',\n",
      "               'Is the person using a ruler to put the liquid in the paper?'],\n",
      " 'relevance_marginal': [0.077148, 0.155762, 0.130859],\n",
      " 'scores': [-2.3957202434539795,\n",
      "            -1.6824370622634888,\n",
      "            -2.0017526149749756,\n",
      "            -4.340146541595459,\n",
      "            -4.503211498260498,\n",
      "            -5.8441314697265625,\n",
      "            -4.772224426269531,\n",
      "            -4.646953582763672,\n",
      "            -6.228703498840332,\n",
      "            -6.331698894500732],\n",
      " 'success_probs': [0.185947,\n",
      "                   0.182426,\n",
      "                   0.256832,\n",
      "                   0.236516,\n",
      "                   0.586996,\n",
      "                   0.635222,\n",
      "                   0.569853,\n",
      "                   0.605799,\n",
      "                   0.592667,\n",
      "                   0.581303],\n",
      " 'success_probs_negated': [0.138462,\n",
      "                           0.388618,\n",
      "                           0.115961,\n",
      "                           0.731059,\n",
      "                           0.187133,\n",
      "                           0.70253,\n",
      "                           0.699254,\n",
      "                           0.754915,\n",
      "                           0.731059,\n",
      "                           0.737158]}\n"
     ]
    }
   ],
   "source": [
    "import json\n",
    "from pprint import pprint\n",
    "\n",
    "RESULTS_PATH_LIKELIHOOD = \"/home/sstorks/coe-chaijy/sstorks/simulation_informed_pcr4nlu/TRAVEl/saved_results_222/vqa_mistake_detection/ego4d_single_debug250/llava-1.5-7b-hf/IterativeVQA_q10_ego4d_single_debug250_llava-1.5-7b-hf_beam8-4_likelihood_nohistory_20240815204213\"\n",
    "preds_l = json.load(open(os.path.join(RESULTS_PATH_LIKELIHOOD, \"outputs_val.json\"), \"r\"))\n",
    "metrics_l = json.load(open(os.path.join(RESULTS_PATH_LIKELIHOOD, \"metrics_coherence_nli_val.json\"), \"r\"))\n",
    "combined_l = [v | {\"example_id\": k, \n",
    "                   \"relevance_marginal\": metrics_l['metrics_by_turn']['relevance_marginal_by_turn'][i], \n",
    "                   \"informativeness\": metrics_l['metrics_by_turn']['informativeness_by_turn'][i], \n",
    "                   \"informativeness_marginal\": metrics_l['metrics_by_turn']['informativeness_marginal_by_turn'][i],\n",
    "                   \"informativeness_marginal_x_relevance_marginal\": metrics_l['metrics_by_turn']['informativeness_marginal_x_relevance_marginal_by_turn'][i],\n",
    "                   \"informativeness_marginal_x_relevance_marginal_ref\": metrics_l['metrics_by_turn']['informativeness_marginal_x_relevance_marginal_ref_by_turn'][i]\n",
    "                  } for i, (k, v) in enumerate(preds_l.items())]\n",
    "\n",
    "combined_c = []\n",
    "RESULTS_PATH_COHERENCE = \"/home/sstorks/coe-chaijy/sstorks/simulation_informed_pcr4nlu/TRAVEl/saved_results_222/vqa_mistake_detection/ego4d_single_debug250/llava-1.5-7b-hf/IterativeVQA_q10_ego4d_single_debug250_llava-1.5-7b-hf_beam8-4_coherence_icl20_nohistory_20240815204213\"\n",
    "preds_c = json.load(open(os.path.join(RESULTS_PATH_COHERENCE, \"outputs_val.json\"), \"r\"))\n",
    "metrics_c = json.load(open(os.path.join(RESULTS_PATH_COHERENCE, \"metrics_coherence_nli_val.json\"), \"r\"))\n",
    "combined_c = [v | {\"example_id\": k, \n",
    "                   \"informativeness\": metrics_c['metrics_by_turn']['informativeness_by_turn'][i], \n",
    "                   \"relevance_marginal\": metrics_c['metrics_by_turn']['relevance_marginal_by_turn'][i], \n",
    "                   \"informativeness_marginal\": metrics_c['metrics_by_turn']['informativeness_marginal_by_turn'][i],\n",
    "                   \"informativeness_marginal_x_relevance_marginal\": metrics_c['metrics_by_turn']['informativeness_marginal_x_relevance_marginal_by_turn'][i],\n",
    "                   \"informativeness_marginal_x_relevance_marginal_ref\": metrics_c['metrics_by_turn']['informativeness_marginal_x_relevance_marginal_ref_by_turn'][i],\n",
    "                  } for i, (k, v) in enumerate(preds_c.items())]\n",
    "\n",
    "all_data = combined_l + combined_c\n",
    "\n",
    "pprint(all_data[0])"
   ]
  },
  {
   "cell_type": "markdown",
   "id": "6eec2d81-c7c5-483d-bbb1-e9535d28a6be",
   "metadata": {
    "jp-MarkdownHeadingCollapsed": true,
    "tags": []
   },
   "source": [
    "# Select turns and candidates to score"
   ]
  },
  {
   "cell_type": "markdown",
   "id": "85fbf567-d550-49af-835d-06a95cc1dac2",
   "metadata": {},
   "source": [
    "Relevance study:"
   ]
  },
  {
   "cell_type": "code",
   "execution_count": 3,
   "id": "7bcaca06-bf06-45d4-8251-724de8603281",
   "metadata": {},
   "outputs": [],
   "source": [
    "import datetime\n",
    "import numpy as np\n",
    "import os\n",
    "import random\n",
    "\n",
    "from travel import set_random_seed\n",
    "from travel.constants import RANDOM_SEED, RESULTS_DIR\n",
    "\n",
    "N_SAMPLES = 100\n",
    "SAMPLES_PER_ANNOTATOR = 10\n",
    "\n",
    "timestamp = datetime.datetime.now()\n",
    "output_dir = os.path.join(\"annotation_files\", f\"relevance_{timestamp.strftime('%Y%m%d%H%M%S')}\")\n",
    "os.makedirs(output_dir)\n",
    "\n",
    "random_seed = 555\n",
    "set_random_seed(random_seed) # Set seed to 555 for relevance samples\n",
    "\n",
    "example_idxs = random.sample(list(range(len(all_data))), N_SAMPLES)\n",
    "\n",
    "data_dicts = []\n",
    "for example_idx in example_idxs:   \n",
    "    output = all_data[example_idx]\n",
    "        \n",
    "    example_id = output['example_id']\n",
    "\n",
    "    n_turns = output['final_turn'] + 1\n",
    "    selected_turn = random.choice(list(range(n_turns)))\n",
    "\n",
    "    selected_question = output['questions'][selected_turn]\n",
    "    selected_answer = np.argmax(output['answer_probs'][selected_turn])\n",
    "    assert selected_answer == 0 or selected_answer == 1\n",
    "    selected_answer = \"Yes\" if selected_answer == 1 else \"No\"\n",
    "\n",
    "    previous_questions = [q for q, a in zip(output['questions'][:selected_turn], output['answers'][:selected_turn]) if a != \"Unsure\"]\n",
    "    previous_answers = [a for a in output['answers'][:selected_turn] if a != \"Unsure\"]\n",
    "\n",
    "    actual_relevance_marginal = output['relevance_marginal'][selected_turn]\n",
    "    actual_informativeness = output['informativeness'][selected_turn]\n",
    "    actual_informativeness_marginal = output['informativeness_marginal'][selected_turn]\n",
    "    max_informativeness_marginal_so_far = max([turn_metric for turn_idx, turn_metric in enumerate(output['informativeness_marginal'][:selected_turn+1]) if output['answers'][turn_idx] != \"Unsure\" or turn_idx == selected_turn])\n",
    "    max_informativeness_marginal_so_far_x_mean_relevance_marginal = round(max_informativeness_marginal_so_far * np.mean(output['relevance_marginal'][:selected_turn + 1]), 6)\n",
    "    actual_informativeness_marginal_x_relevance_marginal = output['informativeness_marginal_x_relevance_marginal'][selected_turn]\n",
    "    actual_informativeness_marginal_x_relevance_marginal_ref = output['informativeness_marginal_x_relevance_marginal_ref'][selected_turn]\n",
    "                                  \n",
    "    data_dicts.append(\n",
    "        {\n",
    "            \"example_id\": example_id,\n",
    "            \"procedure\": output['procedure'],\n",
    "            \"question\": selected_question,\n",
    "            \"answer\": selected_answer,\n",
    "            \"previous_questions_answers\": [(q, a) for q, a in zip(previous_questions, previous_answers)],\n",
    "            \"nli_metric_scores\": {\n",
    "                \"relevance_marginal\": actual_relevance_marginal,\n",
    "                \"informativeness\": actual_informativeness,\n",
    "                \"informativeness_x_relevance_marginal\": actual_informativeness * actual_relevance_marginal, # TODO: later can just get this directly from metrics\n",
    "                \"informativeness_marginal\": actual_informativeness_marginal,\n",
    "                \"max_informativeness_marginal_so_far\": max_informativeness_marginal_so_far,\n",
    "                \"max_informativeness_marginal_so_far_x_mean_relevance_marginal\": max_informativeness_marginal_so_far_x_mean_relevance_marginal,\n",
    "                \"informativeness_marginal_x_relevance_marginal\": actual_informativeness_marginal_x_relevance_marginal,\n",
    "                \"informativeness_marginal_x_relevance_marginal_ref\": actual_informativeness_marginal_x_relevance_marginal_ref,\n",
    "            }\n",
    "        }\n",
    "    )\n",
    "\n",
    "json.dump(data_dicts, open(os.path.join(output_dir, f\"relevance_sample{random_seed}.json\"), \"w\"), indent=4)"
   ]
  },
  {
   "cell_type": "code",
   "execution_count": 4,
   "id": "ea9c6066-4fdc-4ab5-abd7-8b9e97d73f6f",
   "metadata": {},
   "outputs": [],
   "source": [
    "# Divide sampled data into a txt file for each annotator\n",
    "for annotator_idx in range(N_SAMPLES // SAMPLES_PER_ANNOTATOR):\n",
    "    lines = []\n",
    "\n",
    "    samples = data_dicts[annotator_idx * SAMPLES_PER_ANNOTATOR:(annotator_idx + 1) * SAMPLES_PER_ANNOTATOR]\n",
    "    assert len(samples) == SAMPLES_PER_ANNOTATOR\n",
    "    \n",
    "    lines.append(\"Imagine you just had eye surgery, and are unable to see. You're performing a task you're familiar with, but need help to determine whether you successfully completed it.\")\n",
    "    lines.append(\"You video call a friend (who is unfamiliar with the task) and show them what you're working on. You then ask them some yes/no questions to figure out whether you successfully completed the task.\")\n",
    "    lines.append(\"\")\n",
    "    lines.append(\"For each annotation task, you will be given the following information:\")\n",
    "    lines.append(\" - A sentence describing the procedure you're trying to perform.\")\n",
    "    lines.append(\" - An optional list of previous questions you already asked, and their answers.\")\n",
    "    lines.append(\" - A potential question you could ask your friend next.\")\n",
    "    lines.append(\"\")\n",
    "    lines.append(\"You must rate how relevant the potential next question is. By relevant, we mean: given the previous questions and answers, how helpful could an answer to this question be in determining whether the procedure has been completed?\")\n",
    "    lines.append(\"You can also choose to mark 'Instructions Unclear', which means that the instructional text itself is not clear, so you're not sure how to determine whether it's successful. This should only be used in rare cases.\")\n",
    "    lines.append(\"\")\n",
    "    lines.append(\"Some tips:\")\n",
    "    lines.append(\" - Only judge the relevance of the potential next question, not the previous questions (which may or may not be relevant).\")\n",
    "    lines.append(\" - A question may seem relevant to the task at hand, but you should consider it irrelevant if it doesn't provide essential information to judge the success of the task.\")\n",
    "    lines.append(\" - If a seemingly relevant question is redundant with previous questions, you may consider it less relevant.\")\n",
    "    lines.append(\" - Assume that the answer to the question won't contradict the information you have from previous questions and answers. If previous questions and answers already contradict each other, consider whether this question could sway you one way or another.\")\n",
    "    lines.append(' - The instructional text and questions may refer to \"someone\" or a \"person\"; always assume this is referring to yourself (the person performing the task).')\n",
    "    lines.append(' - The questions may refer to a \"photo\" or \"image\"; always assume this is referring to the video feed your friend would see through the video call.')\n",
    "    lines.append(\"\\n\")\n",
    "                 \n",
    "    # How relevant is this question, i.e., how useful would an answer to this question be in determining whether the procedure has been completed?\n",
    "    for sample_idx, sample in enumerate(samples):\n",
    "        lines.append(f\"Annotation {sample_idx + 1}\")\n",
    "        lines.append(\"===============================\")\n",
    "        lines.append(f\"Instruction: {sample['procedure']}\")\n",
    "        \n",
    "        lines.append(\"Previous questions and answers:\")\n",
    "        if len(sample['previous_questions_answers']) == 0:\n",
    "            lines.append(\"None\")\n",
    "        else:\n",
    "            for q_idx, (q, a) in enumerate(sample['previous_questions_answers']):\n",
    "                 lines.append(f\"Q{q_idx+1}. {q}     (Answer: {a})\")\n",
    "        lines.append(\"\")\n",
    "        lines.append(f\"Potential next question: {sample['question']}\")\n",
    "        lines.append(\"Your rating (place an 'x' next to your choice):\")\n",
    "        lines.append(\"1 (very irrelevant): \")\n",
    "        lines.append(\"2 (slightly irrelevant): \")\n",
    "        lines.append(\"3 (neutral): \")\n",
    "        lines.append(\"4 (slightly relevant): \")\n",
    "        lines.append(\"5 (very relevant): \")\n",
    "        lines.append(\"Instructions Unclear: \")\n",
    "        lines.append(\"\\n\")\n",
    "                 \n",
    "    with open(os.path.join(output_dir, f\"relevance_sample{random_seed}_annotator{annotator_idx+1}.txt\"), \"w\") as f:\n",
    "        f.write(\"\\n\".join(lines))"
   ]
  },
  {
   "cell_type": "markdown",
   "id": "75182c9c-1166-4d71-b13f-28d129b0b1c1",
   "metadata": {},
   "source": [
    "Informativeness study:"
   ]
  },
  {
   "cell_type": "code",
   "execution_count": 4,
   "id": "db5a3ae4-538d-4f24-9a37-345f0b4df68c",
   "metadata": {},
   "outputs": [],
   "source": [
    "import datetime\n",
    "import os\n",
    "import random\n",
    "import numpy as np\n",
    "\n",
    "from travel import set_random_seed\n",
    "from travel.constants import RANDOM_SEED, RESULTS_DIR\n",
    "\n",
    "N_SAMPLES = 100\n",
    "SAMPLES_PER_ANNOTATOR = 10\n",
    "\n",
    "timestamp = datetime.datetime.now()\n",
    "output_dir = os.path.join(\"annotation_files\", f\"informativeness_{timestamp.strftime('%Y%m%d%H%M%S')}\")\n",
    "os.makedirs(output_dir)\n",
    "\n",
    "random_seed = 888\n",
    "set_random_seed(random_seed) # Set seed to 888 for informativeness samples\n",
    "\n",
    "example_idxs = random.sample(list(range(len(all_data))), N_SAMPLES)\n",
    "\n",
    "data_dicts = []\n",
    "for example_idx in example_idxs:\n",
    "    output = all_data[example_idx]\n",
    "    example_id = output['example_id']\n",
    "\n",
    "    n_turns = output['final_turn'] + 1\n",
    "    selected_turn = random.choice(list(range(n_turns)))\n",
    "\n",
    "    selected_question = output['questions'][selected_turn]\n",
    "    selected_answer = np.argmax(output['answer_probs'][selected_turn])\n",
    "    assert selected_answer == 0 or selected_answer == 1\n",
    "    selected_answer = \"Yes\" if selected_answer == 1 else \"No\"\n",
    "\n",
    "    previous_questions = [q for q, a in zip(output['questions'][:selected_turn], output['answers'][:selected_turn]) if a != \"Unsure\"]\n",
    "    previous_answers = [a for a in output['answers'][:selected_turn] if a != \"Unsure\"]\n",
    "\n",
    "    actual_relevance_marginal = output['relevance_marginal'][selected_turn]\n",
    "    actual_informativeness = output['informativeness'][selected_turn]\n",
    "    actual_informativeness_marginal = output['informativeness_marginal'][selected_turn]\n",
    "    max_informativeness_marginal_so_far = max([turn_metric for turn_idx, turn_metric in enumerate(output['informativeness_marginal'][:selected_turn+1]) if output['answers'][turn_idx] != \"Unsure\" or turn_idx == selected_turn])\n",
    "    max_informativeness_marginal_so_far_x_mean_relevance_marginal = round(max_informativeness_marginal_so_far * np.mean(output['relevance_marginal'][:selected_turn + 1]), 6)\n",
    "    actual_informativeness_marginal_x_relevance_marginal = output['informativeness_marginal_x_relevance_marginal'][selected_turn]\n",
    "    actual_informativeness_marginal_x_relevance_marginal_ref = output['informativeness_marginal_x_relevance_marginal_ref'][selected_turn]\n",
    "    \n",
    "    data_dicts.append(\n",
    "        {\n",
    "            \"example_id\": example_id,\n",
    "            \"procedure\": output['procedure'],\n",
    "            \"question\": selected_question,\n",
    "            \"answer\": selected_answer,\n",
    "            \"previous_questions_answers\": [(q, a) for q, a in zip(previous_questions, previous_answers)],\n",
    "            \"nli_metric_scores\": {\n",
    "                \"relevance_marginal\": actual_relevance_marginal,\n",
    "                \"informativeness\": actual_informativeness,\n",
    "                \"informativeness_x_relevance_marginal\": actual_informativeness * actual_relevance_marginal, # TODO: later can just get this directly from metrics\n",
    "                \"informativeness_marginal\": actual_informativeness_marginal,\n",
    "                \"max_informativeness_marginal_so_far\": max_informativeness_marginal_so_far,\n",
    "                \"max_informativeness_marginal_so_far_x_mean_relevance_marginal\": max_informativeness_marginal_so_far_x_mean_relevance_marginal,\n",
    "                \"informativeness_marginal_x_relevance_marginal\": actual_informativeness_marginal_x_relevance_marginal,\n",
    "                \"informativeness_marginal_x_relevance_marginal_ref\": actual_informativeness_marginal_x_relevance_marginal_ref,\n",
    "            }\n",
    "        }\n",
    "    )\n",
    "\n",
    "json.dump(data_dicts, open(os.path.join(output_dir, f\"informativeness_sample{random_seed}.json\"), \"w\"), indent=4)"
   ]
  },
  {
   "cell_type": "code",
   "execution_count": 5,
   "id": "b09b0859-6f8e-43be-92b8-95f8e62cca05",
   "metadata": {},
   "outputs": [],
   "source": [
    "# Divide sampled data into a txt file for each annotator\n",
    "for annotator_idx in range(N_SAMPLES // SAMPLES_PER_ANNOTATOR):\n",
    "    lines = []\n",
    "\n",
    "    samples = data_dicts[annotator_idx * SAMPLES_PER_ANNOTATOR:(annotator_idx + 1) * SAMPLES_PER_ANNOTATOR]\n",
    "    assert len(samples) == SAMPLES_PER_ANNOTATOR\n",
    "    \n",
    "    lines.append(\"Imagine you just had eye surgery, and are unable to see. You're performing a task you're familiar with, but need help to determine whether you successfully completed it.\")\n",
    "    lines.append(\"You video call a friend (who is unfamiliar with the task) and show them what you're working on. You then ask them some yes/no questions to figure out whether you successfully completed the task.\")\n",
    "    lines.append(\"\")\n",
    "    lines.append(\"For each annotation task, you will be given the following information:\")\n",
    "    lines.append(\" - A sentence describing the procedure you're trying to perform.\")\n",
    "    lines.append(\" - An optional list of previous questions you already asked, and their answers.\")\n",
    "    lines.append(\" - The last question you just asked your friend, and its answer.\")\n",
    "    lines.append(\"\")\n",
    "    lines.append(\"You must rate how informative the last question and its answer are. By informative, we mean: compared to what you knew from the previous questions and answers, how much more sure would the last question and answer be about whether you succeeded?\")\n",
    "    lines.append(\"You can also choose to mark 'Instructions Unclear', which means that the instructional text itself is not clear, so you're not sure how to determine whether it's successful. This should only be used in rare cases.\")\n",
    "    lines.append(\"\")\n",
    "    lines.append(\"Some tips:\")\n",
    "    lines.append(\" - Only judge the informativeness of the last question and answer, not the previous questions and answers (which may or may not be informative).\")\n",
    "    lines.append(\" - A question may seem relevant to the task at hand, but you should consider it uninformative if it doesn't provide essential information to judge the success of the task.\")\n",
    "    lines.append(\" - If a seemingly informative question is redundant with previous questions, you may consider it less informative.\")\n",
    "    lines.append(\" - If the last answer contradicts critical information you had from previous questions and answers, you may consider it more informative.\")\n",
    "    lines.append(' - The instructional text and questions may refer to \"someone\" or a \"person\"; always assume this is referring to yourself (the person performing the task).')\n",
    "    lines.append(' - The questions may refer to a \"photo\" or \"image\"; always assume this is referring to the video feed your friend would see through the video call.')\n",
    "    lines.append(\"\\n\")\n",
    "                 \n",
    "    # How relevant is this question, i.e., how useful would an answer to this question be in determining whether the procedure has been completed?\n",
    "    for sample_idx, sample in enumerate(samples):\n",
    "        lines.append(f\"Annotation {sample_idx + 1}\")\n",
    "        lines.append(\"===============================\")\n",
    "        lines.append(f\"Instruction: {sample['procedure']}\")\n",
    "        \n",
    "        lines.append(\"Previous questions and answers:\")\n",
    "        if len(sample['previous_questions_answers']) == 0:\n",
    "            lines.append(\"None\")\n",
    "        else:\n",
    "            for q_idx, (q, a) in enumerate(sample['previous_questions_answers']):\n",
    "                 lines.append(f\"Q{q_idx+1}. {q}     (Answer: {a})\")\n",
    "        lines.append(\"\")\n",
    "        lines.append(f\"Last question: {sample['question']}\")\n",
    "        lines.append(f\"Last answer: {sample['answer']}\")\n",
    "        lines.append(\"Your rating (place an 'x' next to your choice):\")\n",
    "        lines.append(\"1 (very informative): \")\n",
    "        lines.append(\"2 (slightly informative): \")\n",
    "        lines.append(\"3 (neutral): \")\n",
    "        lines.append(\"4 (slightly informative): \")\n",
    "        lines.append(\"5 (very informative): \")\n",
    "        lines.append(\"Instructions Unclear: \")\n",
    "        lines.append(\"\\n\")\n",
    "                 \n",
    "    with open(os.path.join(output_dir, f\"informativeness_sample{random_seed}_annotator{annotator_idx+1}.txt\"), \"w\") as f:\n",
    "        f.write(\"\\n\".join(lines))"
   ]
  },
  {
   "cell_type": "markdown",
   "id": "4ff9e42e-04d8-4a42-a001-0d3d8ebf14c5",
   "metadata": {
    "tags": []
   },
   "source": [
    "# Checking correlations of annotations with metrics"
   ]
  },
  {
   "cell_type": "code",
   "execution_count": 15,
   "id": "ce8bc340-8690-4116-b1ab-94547a780dbf",
   "metadata": {},
   "outputs": [],
   "source": [
    "import json\n",
    "import os\n",
    "import pandas as pd\n",
    "from pprint import pprint\n",
    "\n",
    "INPUT_FILE = \"annotation_files/relevance_20240816145229/relevance_sample555.json\"\n",
    "ANNOTATIONS_DIR = \"../informativeness_relevance_annotation/relevance\"\n",
    "metric_key = 'relevance_marginal'\n",
    "\n",
    "# INPUT_FILE = \"annotation_files/informativeness_20240817125001/informativeness_sample888.json\"\n",
    "# ANNOTATIONS_DIR = \"../informativeness_relevance_annotation/informativeness\"\n",
    "# metric_key = \"informativeness_marginal_x_relevance_marginal\"\n",
    "# metric_key = \"informativeness_marginal\"\n",
    "\n",
    "data_dicts = json.load(open(INPUT_FILE, \"r\"))\n",
    "\n",
    "all_annotations = None\n",
    "for fname in os.listdir(ANNOTATIONS_DIR):\n",
    "    d = pd.read_csv(os.path.join(ANNOTATIONS_DIR, fname))\n",
    "    \n",
    "    if all_annotations is None:\n",
    "        all_annotations = d\n",
    "    else:\n",
    "        all_annotations = pd.concat((all_annotations, d))"
   ]
  },
  {
   "cell_type": "markdown",
   "id": "79bafb8f-dd27-450b-b843-52ee1ca2907f",
   "metadata": {},
   "source": [
    "(optional) recalculate metrics"
   ]
  },
  {
   "cell_type": "code",
   "execution_count": 3,
   "id": "dfc6d7bc-e188-4448-a0dd-08ebb02e88dd",
   "metadata": {},
   "outputs": [
    {
     "name": "stderr",
     "output_type": "stream",
     "text": [
      "`low_cpu_mem_usage` was None, now set to True since model is quantized.\n"
     ]
    },
    {
     "data": {
      "application/vnd.jupyter.widget-view+json": {
       "model_id": "45f58b42cc2940e3acdacecadd53f35d",
       "version_major": 2,
       "version_minor": 0
      },
      "text/plain": [
       "Loading checkpoint shards:   0%|          | 0/3 [00:00<?, ?it/s]"
      ]
     },
     "metadata": {},
     "output_type": "display_data"
    }
   ],
   "source": [
    "import torch\n",
    "from transformers import AutoModelForVision2Seq, AutoProcessor, BitsAndBytesConfig, AutoModelForCausalLM\n",
    "\n",
    "# VLM_NAME = \"Salesforce/instructblip-vicuna-7b\"\n",
    "# VLM_NAME = \"Salesforce/instructblip-flan-t5-xxl\"\n",
    "VLM_NAME = \"llava-hf/llava-1.5-7b-hf\"\n",
    "# VLM_NAME = \"microsoft/Phi-3-vision-128k-instruct\"\n",
    "\n",
    "bnb_config = BitsAndBytesConfig(\n",
    "    load_in_4bit=True,\n",
    "    llm_int8_threshold=6.0,\n",
    "    llm_int8_has_fp16_weight=False,\n",
    "    bnb_4bit_compute_dtype=torch.bfloat16,\n",
    "    bnb_4bit_use_double_quant=True,\n",
    "    bnb_4bit_quant_type=\"nf4\",\n",
    ")\n",
    "\n",
    "try:\n",
    "    vlm = AutoModelForVision2Seq.from_pretrained(VLM_NAME, \n",
    "                                                quantization_config=bnb_config, trust_remote_code=True)\n",
    "except:\n",
    "    vlm = AutoModelForCausalLM.from_pretrained(VLM_NAME, \n",
    "                                                quantization_config=bnb_config, trust_remote_code=True)\n",
    "    \n",
    "vlm_processor = AutoProcessor.from_pretrained(VLM_NAME, trust_remote_code=True)\n",
    "vlm_processor.tokenizer.padding_side = \"left\"\n",
    "vlm_processor.tokenizer.pad_token_id = vlm_processor.tokenizer.eos_token_id"
   ]
  },
  {
   "cell_type": "code",
   "execution_count": 4,
   "id": "44154ef1-0b96-4db9-b76e-e1a0b89b852b",
   "metadata": {},
   "outputs": [
    {
     "name": "stderr",
     "output_type": "stream",
     "text": [
      "`low_cpu_mem_usage` was None, now set to True since model is quantized.\n"
     ]
    }
   ],
   "source": [
    "import torch\n",
    "from transformers import BitsAndBytesConfig, AutoModelForSequenceClassification, AutoTokenizer\n",
    "import spacy\n",
    "\n",
    "from travel.model.nli import NLI_MODEL_PATH\n",
    "from travel.model.metrics import question_coherence_metrics_nli\n",
    "\n",
    "bnb_config = BitsAndBytesConfig(\n",
    "    load_in_4bit=True,\n",
    "    llm_int8_threshold=6.0,\n",
    "    llm_int8_has_fp16_weight=False,\n",
    "    bnb_4bit_compute_dtype=torch.bfloat16,\n",
    "    bnb_4bit_use_double_quant=True,\n",
    "    bnb_4bit_quant_type=\"nf4\",\n",
    ")\n",
    "\n",
    "nli_model = AutoModelForSequenceClassification.from_pretrained(NLI_MODEL_PATH, quantization_config=bnb_config)\n",
    "nli_tokenizer = AutoTokenizer.from_pretrained(NLI_MODEL_PATH)\n",
    "nlp = spacy.load(\"en_core_web_lg\")\n"
   ]
  },
  {
   "cell_type": "code",
   "execution_count": 16,
   "id": "1fdd3384-2676-4777-b89d-e6b88ef6755b",
   "metadata": {},
   "outputs": [
    {
     "name": "stderr",
     "output_type": "stream",
     "text": [
      "  0%|          | 0/100 [00:00<?, ?it/s]\n",
      "running generation (cuda:0):   0%|          | 0/1 [00:00<?, ?it/s]\u001b[A\n",
      "running generation (cuda:0): 100%|██████████| 1/1 [00:00<00:00,  1.83it/s]\u001b[A\n"
     ]
    },
    {
     "name": "stdout",
     "output_type": "stream",
     "text": [
      "['Pick leaves']\n",
      "['Leaves have been successfully picked.']\n",
      "===================\n"
     ]
    },
    {
     "name": "stderr",
     "output_type": "stream",
     "text": [
      "\n",
      "running generation (cuda:0):   0%|          | 0/1 [00:00<?, ?it/s]\u001b[A\n",
      "running generation (cuda:0): 100%|██████████| 1/1 [00:00<00:00,  1.01it/s]\u001b[A\n",
      "\n",
      "running generation (cuda:0):   0%|          | 0/1 [00:00<?, ?it/s]\u001b[A\n",
      "running generation (cuda:0): 100%|██████████| 1/1 [00:01<00:00,  1.22s/it]\u001b[A\n",
      "\n",
      "running NLI (cuda:0): 100%|██████████| 1/1 [00:00<00:00, 16.90it/s]\n",
      "\n",
      "running NLI (cuda:0): 100%|██████████| 1/1 [00:00<00:00, 16.85it/s]\n",
      "\n",
      "running generation (cuda:0):   0%|          | 0/1 [00:00<?, ?it/s]\u001b[A\n",
      "running generation (cuda:0): 100%|██████████| 1/1 [00:01<00:00,  1.20s/it]\u001b[A\n",
      "\n",
      "running NLI (cuda:0): 100%|██████████| 1/1 [00:00<00:00, 17.12it/s]\n",
      "\n",
      "running NLI (cuda:0): 100%|██████████| 1/1 [00:00<00:00, 16.98it/s]\n",
      "  1%|          | 1/100 [00:04<06:57,  4.22s/it]"
     ]
    },
    {
     "name": "stdout",
     "output_type": "stream",
     "text": [
      "Old value: 0.90918\n",
      "New value: [0.882812]\n"
     ]
    },
    {
     "name": "stderr",
     "output_type": "stream",
     "text": [
      "\n",
      "running generation (cuda:0):   0%|          | 0/1 [00:00<?, ?it/s]\u001b[A\n",
      "running generation (cuda:0): 100%|██████████| 1/1 [00:01<00:00,  1.20s/it]\u001b[A\n"
     ]
    },
    {
     "name": "stdout",
     "output_type": "stream",
     "text": [
      "['Pick a pack of spinach from the counter']\n",
      "['The pack of spinach has been successfully picked from the counter.']\n",
      "===================\n"
     ]
    },
    {
     "name": "stderr",
     "output_type": "stream",
     "text": [
      "\n",
      "running generation (cuda:0):   0%|          | 0/1 [00:00<?, ?it/s]\u001b[A\n",
      "running generation (cuda:0): 100%|██████████| 1/1 [00:01<00:00,  1.20s/it]\u001b[A\n",
      "\n",
      "running generation (cuda:0):   0%|          | 0/1 [00:00<?, ?it/s]\u001b[A\n",
      "running generation (cuda:0): 100%|██████████| 1/1 [00:01<00:00,  1.20s/it]\u001b[A\n",
      "\n",
      "running NLI (cuda:0): 100%|██████████| 1/1 [00:00<00:00, 17.22it/s]\n",
      "\n",
      "running NLI (cuda:0): 100%|██████████| 1/1 [00:00<00:00, 17.05it/s]\n",
      "\n",
      "running generation (cuda:0):   0%|          | 0/1 [00:00<?, ?it/s]\u001b[A\n",
      "running generation (cuda:0): 100%|██████████| 1/1 [00:01<00:00,  1.20s/it]\u001b[A\n",
      "\n",
      "running NLI (cuda:0): 100%|██████████| 1/1 [00:00<00:00, 16.62it/s]\n",
      "\n",
      "running NLI (cuda:0): 100%|██████████| 1/1 [00:00<00:00, 16.93it/s]\n",
      "  2%|▏         | 2/100 [00:09<07:42,  4.72s/it]"
     ]
    },
    {
     "name": "stdout",
     "output_type": "stream",
     "text": [
      "Old value: 0.021973\n",
      "New value: [0.001465]\n"
     ]
    },
    {
     "name": "stderr",
     "output_type": "stream",
     "text": [
      "\n",
      "running generation (cuda:0):   0%|          | 0/1 [00:00<?, ?it/s]\u001b[A\n",
      "running generation (cuda:0): 100%|██████████| 1/1 [00:01<00:00,  1.20s/it]\u001b[A\n"
     ]
    },
    {
     "name": "stdout",
     "output_type": "stream",
     "text": [
      "['Dip whisk inside soapy water']\n",
      "['The whisk has been successfully dipped inside the soapy water.']\n",
      "===================\n"
     ]
    },
    {
     "name": "stderr",
     "output_type": "stream",
     "text": [
      "\n",
      "running generation (cuda:0):   0%|          | 0/1 [00:00<?, ?it/s]\u001b[A\n",
      "running generation (cuda:0): 100%|██████████| 1/1 [00:01<00:00,  1.19s/it]\u001b[A\n",
      "\n",
      "running generation (cuda:0):   0%|          | 0/1 [00:00<?, ?it/s]\u001b[A\n",
      "running generation (cuda:0): 100%|██████████| 1/1 [00:01<00:00,  1.19s/it]\u001b[A\n",
      "\n",
      "running NLI (cuda:0): 100%|██████████| 1/1 [00:00<00:00, 17.30it/s]\n",
      "\n",
      "running NLI (cuda:0): 100%|██████████| 1/1 [00:00<00:00, 17.18it/s]\n",
      "\n",
      "running generation (cuda:0):   0%|          | 0/1 [00:00<?, ?it/s]\u001b[A\n",
      "running generation (cuda:0): 100%|██████████| 1/1 [00:01<00:00,  1.20s/it]\u001b[A\n",
      "\n",
      "running NLI (cuda:0): 100%|██████████| 1/1 [00:00<00:00, 16.80it/s]\n",
      "\n",
      "running NLI (cuda:0): 100%|██████████| 1/1 [00:00<00:00, 17.05it/s]\n",
      "  3%|▎         | 3/100 [00:14<07:52,  4.87s/it]"
     ]
    },
    {
     "name": "stdout",
     "output_type": "stream",
     "text": [
      "Old value: 0.216309\n",
      "New value: [0.065918]\n"
     ]
    },
    {
     "name": "stderr",
     "output_type": "stream",
     "text": [
      "\n",
      "running generation (cuda:0):   0%|          | 0/1 [00:00<?, ?it/s]\u001b[A\n",
      "running generation (cuda:0): 100%|██████████| 1/1 [00:01<00:00,  1.20s/it]\u001b[A\n"
     ]
    },
    {
     "name": "stdout",
     "output_type": "stream",
     "text": [
      "['Screw unscrew the motorcycle rim with the t wrench with your hands']\n",
      "['The motorcycle rim has been successfully screwed and unscrewed with the t wrench in.']\n",
      "===================\n"
     ]
    },
    {
     "name": "stderr",
     "output_type": "stream",
     "text": [
      "\n",
      "running generation (cuda:0):   0%|          | 0/1 [00:00<?, ?it/s]\u001b[A\n",
      "running generation (cuda:0): 100%|██████████| 1/1 [00:01<00:00,  1.19s/it]\u001b[A\n",
      "\n",
      "running generation (cuda:0):   0%|          | 0/1 [00:00<?, ?it/s]\u001b[A\n",
      "running generation (cuda:0): 100%|██████████| 1/1 [00:01<00:00,  1.20s/it]\u001b[A\n",
      "\n",
      "running NLI (cuda:0): 100%|██████████| 1/1 [00:00<00:00, 17.00it/s]\n",
      "\n",
      "running NLI (cuda:0): 100%|██████████| 1/1 [00:00<00:00, 10.85it/s]\n",
      "\n",
      "running generation (cuda:0): 0it [00:00, ?it/s]\u001b[A\n",
      "\n",
      "running NLI (cuda:0): 100%|██████████| 1/1 [00:00<00:00, 16.81it/s]\n",
      "\n",
      "running NLI (cuda:0): 100%|██████████| 1/1 [00:00<00:00, 16.88it/s]\n",
      "  4%|▍         | 4/100 [00:18<07:12,  4.50s/it]"
     ]
    },
    {
     "name": "stdout",
     "output_type": "stream",
     "text": [
      "Old value: 0.047852\n",
      "New value: [0.026367]\n"
     ]
    },
    {
     "name": "stderr",
     "output_type": "stream",
     "text": [
      "\n",
      "running generation (cuda:0):   0%|          | 0/1 [00:00<?, ?it/s]\u001b[A\n",
      "running generation (cuda:0): 100%|██████████| 1/1 [00:00<00:00,  1.83it/s]\u001b[A\n"
     ]
    },
    {
     "name": "stdout",
     "output_type": "stream",
     "text": [
      "['Pick a lid']\n",
      "['A lid has been successfully picked.']\n",
      "===================\n"
     ]
    },
    {
     "name": "stderr",
     "output_type": "stream",
     "text": [
      "\n",
      "running generation (cuda:0):   0%|          | 0/1 [00:00<?, ?it/s]\u001b[A\n",
      "running generation (cuda:0): 100%|██████████| 1/1 [00:01<00:00,  1.19s/it]\u001b[A\n",
      "\n",
      "running generation (cuda:0):   0%|          | 0/1 [00:00<?, ?it/s]\u001b[A\n",
      "running generation (cuda:0): 100%|██████████| 1/1 [00:01<00:00,  1.19s/it]\u001b[A\n",
      "\n",
      "running NLI (cuda:0): 100%|██████████| 1/1 [00:00<00:00, 16.95it/s]\n",
      "\n",
      "running NLI (cuda:0): 100%|██████████| 1/1 [00:00<00:00, 17.00it/s]\n",
      "\n",
      "running generation (cuda:0):   0%|          | 0/1 [00:00<?, ?it/s]\u001b[A\n",
      "running generation (cuda:0): 100%|██████████| 1/1 [00:02<00:00,  2.46s/it]\u001b[A\n",
      "\n",
      "running NLI (cuda:0): 100%|██████████| 1/1 [00:00<00:00, 16.96it/s]\n",
      "\n",
      "running NLI (cuda:0): 100%|██████████| 1/1 [00:00<00:00, 17.00it/s]\n",
      "  5%|▌         | 5/100 [00:23<07:47,  4.92s/it]"
     ]
    },
    {
     "name": "stdout",
     "output_type": "stream",
     "text": [
      "Old value: 0.88916\n",
      "New value: [0.714355]\n"
     ]
    },
    {
     "name": "stderr",
     "output_type": "stream",
     "text": [
      "\n",
      "running generation (cuda:0):   0%|          | 0/1 [00:00<?, ?it/s]\u001b[A\n",
      "running generation (cuda:0): 100%|██████████| 1/1 [00:01<00:00,  1.20s/it]\u001b[A\n"
     ]
    },
    {
     "name": "stdout",
     "output_type": "stream",
     "text": [
      "['Open a fridge with your hand']\n",
      "['The fridge has been successfully opened with your hand.']\n",
      "===================\n"
     ]
    },
    {
     "name": "stderr",
     "output_type": "stream",
     "text": [
      "\n",
      "running generation (cuda:0):   0%|          | 0/1 [00:00<?, ?it/s]\u001b[A\n",
      "running generation (cuda:0): 100%|██████████| 1/1 [00:01<00:00,  1.21s/it]\u001b[A\n",
      "\n",
      "running generation (cuda:0):   0%|          | 0/1 [00:00<?, ?it/s]\u001b[A\n",
      "running generation (cuda:0): 100%|██████████| 1/1 [00:01<00:00,  1.21s/it]\u001b[A\n",
      "\n",
      "running NLI (cuda:0): 100%|██████████| 1/1 [00:00<00:00, 17.35it/s]\n",
      "\n",
      "running NLI (cuda:0): 100%|██████████| 1/1 [00:00<00:00, 17.20it/s]\n",
      "\n",
      "running generation (cuda:0):   0%|          | 0/1 [00:00<?, ?it/s]\u001b[A\n",
      "running generation (cuda:0): 100%|██████████| 1/1 [00:02<00:00,  2.38s/it]\u001b[A\n",
      "\n",
      "running NLI (cuda:0): 100%|██████████| 1/1 [00:00<00:00, 17.28it/s]\n",
      "\n",
      "running NLI (cuda:0): 100%|██████████| 1/1 [00:00<00:00, 16.98it/s]\n",
      "  6%|▌         | 6/100 [00:30<08:25,  5.38s/it]"
     ]
    },
    {
     "name": "stdout",
     "output_type": "stream",
     "text": [
      "Old value: 0.750977\n",
      "New value: [0.928223]\n"
     ]
    },
    {
     "name": "stderr",
     "output_type": "stream",
     "text": [
      "\n",
      "running generation (cuda:0):   0%|          | 0/1 [00:00<?, ?it/s]\u001b[A\n",
      "running generation (cuda:0): 100%|██████████| 1/1 [00:01<00:00,  1.20s/it]\u001b[A\n"
     ]
    },
    {
     "name": "stdout",
     "output_type": "stream",
     "text": [
      "['File the nail using a nail file']\n",
      "['The nail has been successfully filed using a nail file.']\n",
      "===================\n"
     ]
    },
    {
     "name": "stderr",
     "output_type": "stream",
     "text": [
      "\n",
      "running generation (cuda:0):   0%|          | 0/1 [00:00<?, ?it/s]\u001b[A\n",
      "running generation (cuda:0): 100%|██████████| 1/1 [00:01<00:00,  1.20s/it]\u001b[A\n",
      "\n",
      "running generation (cuda:0):   0%|          | 0/1 [00:00<?, ?it/s]\u001b[A\n",
      "running generation (cuda:0): 100%|██████████| 1/1 [00:01<00:00,  1.19s/it]\u001b[A\n",
      "\n",
      "running NLI (cuda:0): 100%|██████████| 1/1 [00:00<00:00, 17.19it/s]\n",
      "\n",
      "running NLI (cuda:0): 100%|██████████| 1/1 [00:00<00:00, 17.17it/s]\n",
      "\n",
      "running generation (cuda:0):   0%|          | 0/1 [00:00<?, ?it/s]\u001b[A\n",
      "running generation (cuda:0): 100%|██████████| 1/1 [00:02<00:00,  2.36s/it]\u001b[A\n",
      "\n",
      "running NLI (cuda:0): 100%|██████████| 1/1 [00:00<00:00, 17.00it/s]\n",
      "\n",
      "running NLI (cuda:0): 100%|██████████| 1/1 [00:00<00:00, 16.74it/s]\n",
      "  7%|▋         | 7/100 [00:36<08:46,  5.66s/it]"
     ]
    },
    {
     "name": "stdout",
     "output_type": "stream",
     "text": [
      "Old value: 0.903809\n",
      "New value: [0.882812]\n"
     ]
    },
    {
     "name": "stderr",
     "output_type": "stream",
     "text": [
      "\n",
      "running generation (cuda:0):   0%|          | 0/1 [00:00<?, ?it/s]\u001b[A\n",
      "running generation (cuda:0): 100%|██████████| 1/1 [00:01<00:00,  1.21s/it]\u001b[A\n"
     ]
    },
    {
     "name": "stdout",
     "output_type": "stream",
     "text": [
      "['Take water from a small pit with the brick molder in your hand']\n",
      "[\"The water has been successfully taken from a small pit with the brick molder in someone's hand.\"]\n",
      "===================\n"
     ]
    },
    {
     "name": "stderr",
     "output_type": "stream",
     "text": [
      "\n",
      "running generation (cuda:0):   0%|          | 0/1 [00:00<?, ?it/s]\u001b[A\n",
      "running generation (cuda:0): 100%|██████████| 1/1 [00:01<00:00,  1.21s/it]\u001b[A\n",
      "\n",
      "running generation (cuda:0):   0%|          | 0/1 [00:00<?, ?it/s]\u001b[A\n",
      "running generation (cuda:0): 100%|██████████| 1/1 [00:01<00:00,  1.21s/it]\u001b[A\n",
      "\n",
      "running NLI (cuda:0): 100%|██████████| 1/1 [00:00<00:00, 16.77it/s]\n",
      "\n",
      "running NLI (cuda:0): 100%|██████████| 1/1 [00:00<00:00, 16.76it/s]\n",
      "\n",
      "running generation (cuda:0): 0it [00:00, ?it/s]\u001b[A\n",
      "\n",
      "running NLI (cuda:0): 100%|██████████| 1/1 [00:00<00:00, 16.80it/s]\n",
      "\n",
      "running NLI (cuda:0): 100%|██████████| 1/1 [00:00<00:00, 16.71it/s]\n",
      "  8%|▊         | 8/100 [00:40<07:49,  5.10s/it]"
     ]
    },
    {
     "name": "stdout",
     "output_type": "stream",
     "text": [
      "Old value: 0.62207\n",
      "New value: [0.708008]\n"
     ]
    },
    {
     "name": "stderr",
     "output_type": "stream",
     "text": [
      "\n",
      "running generation (cuda:0):   0%|          | 0/1 [00:00<?, ?it/s]\u001b[A\n",
      "running generation (cuda:0): 100%|██████████| 1/1 [00:01<00:00,  1.21s/it]\u001b[A\n"
     ]
    },
    {
     "name": "stdout",
     "output_type": "stream",
     "text": [
      "['Drop the bowls on the table with your hand']\n",
      "['The bowls have been successfully dropped on the table with your hand.']\n",
      "===================\n"
     ]
    },
    {
     "name": "stderr",
     "output_type": "stream",
     "text": [
      "\n",
      "running generation (cuda:0):   0%|          | 0/1 [00:00<?, ?it/s]\u001b[A\n",
      "running generation (cuda:0): 100%|██████████| 1/1 [00:01<00:00,  1.21s/it]\u001b[A\n",
      "\n",
      "running generation (cuda:0):   0%|          | 0/1 [00:00<?, ?it/s]\u001b[A\n",
      "running generation (cuda:0): 100%|██████████| 1/1 [00:01<00:00,  1.21s/it]\u001b[A\n",
      "\n",
      "running NLI (cuda:0): 100%|██████████| 1/1 [00:00<00:00, 16.90it/s]\n",
      "\n",
      "running NLI (cuda:0): 100%|██████████| 1/1 [00:00<00:00, 16.93it/s]\n",
      "\n",
      "running generation (cuda:0):   0%|          | 0/1 [00:00<?, ?it/s]\u001b[A\n",
      "running generation (cuda:0): 100%|██████████| 1/1 [00:02<00:00,  2.38s/it]\u001b[A\n",
      "\n",
      "running NLI (cuda:0): 100%|██████████| 1/1 [00:00<00:00, 16.57it/s]\n",
      "\n",
      "running NLI (cuda:0): 100%|██████████| 1/1 [00:00<00:00, 16.80it/s]\n",
      "  9%|▉         | 9/100 [00:46<08:17,  5.47s/it]"
     ]
    },
    {
     "name": "stdout",
     "output_type": "stream",
     "text": [
      "Old value: 0.121094\n",
      "New value: [0.010254]\n"
     ]
    },
    {
     "name": "stderr",
     "output_type": "stream",
     "text": [
      "\n",
      "running generation (cuda:0):   0%|          | 0/1 [00:00<?, ?it/s]\u001b[A\n",
      "running generation (cuda:0): 100%|██████████| 1/1 [00:01<00:00,  1.04s/it]\u001b[A\n"
     ]
    },
    {
     "name": "stdout",
     "output_type": "stream",
     "text": [
      "['Paint the watercolor on the stone with a paint brush']\n",
      "['The watercolor has been successfully painted on the stone with a paint brush.']\n",
      "===================\n"
     ]
    },
    {
     "name": "stderr",
     "output_type": "stream",
     "text": [
      "\n",
      "running generation (cuda:0):   0%|          | 0/1 [00:00<?, ?it/s]\u001b[A\n",
      "running generation (cuda:0): 100%|██████████| 1/1 [00:01<00:00,  1.21s/it]\u001b[A\n",
      "\n",
      "running generation (cuda:0):   0%|          | 0/1 [00:00<?, ?it/s]\u001b[A\n",
      "running generation (cuda:0): 100%|██████████| 1/1 [00:01<00:00,  1.21s/it]\u001b[A\n",
      "\n",
      "running NLI (cuda:0):   0%|          | 0/1 [00:00<?, ?it/s]\u001b[A\n",
      "running NLI (cuda:0): 100%|██████████| 1/1 [00:00<00:00,  5.56it/s]\u001b[A\n",
      "\n",
      "running NLI (cuda:0): 100%|██████████| 1/1 [00:00<00:00, 16.60it/s]\n",
      "\n",
      "running generation (cuda:0): 0it [00:00, ?it/s]\u001b[A\n",
      "\n",
      "running NLI (cuda:0): 100%|██████████| 1/1 [00:00<00:00, 16.85it/s]\n",
      "\n",
      "running NLI (cuda:0): 100%|██████████| 1/1 [00:00<00:00, 16.78it/s]\n",
      " 10%|█         | 10/100 [00:50<07:28,  4.98s/it]"
     ]
    },
    {
     "name": "stdout",
     "output_type": "stream",
     "text": [
      "Old value: 0.974121\n",
      "New value: [0.989746]\n"
     ]
    },
    {
     "name": "stderr",
     "output_type": "stream",
     "text": [
      "\n",
      "running generation (cuda:0):   0%|          | 0/1 [00:00<?, ?it/s]\u001b[A\n",
      "running generation (cuda:0): 100%|██████████| 1/1 [00:01<00:00,  1.21s/it]\u001b[A\n"
     ]
    },
    {
     "name": "stdout",
     "output_type": "stream",
     "text": [
      "['Place a kettle on the countertop']\n",
      "['The kettle has been successfully placed on the countertop.']\n",
      "===================\n"
     ]
    },
    {
     "name": "stderr",
     "output_type": "stream",
     "text": [
      "\n",
      "running generation (cuda:0):   0%|          | 0/1 [00:00<?, ?it/s]\u001b[A\n",
      "running generation (cuda:0): 100%|██████████| 1/1 [00:01<00:00,  1.20s/it]\u001b[A\n",
      "\n",
      "running generation (cuda:0):   0%|          | 0/1 [00:00<?, ?it/s]\u001b[A\n",
      "running generation (cuda:0): 100%|██████████| 1/1 [00:01<00:00,  1.21s/it]\u001b[A\n",
      "\n",
      "running NLI (cuda:0): 100%|██████████| 1/1 [00:00<00:00, 16.89it/s]\n",
      "\n",
      "running NLI (cuda:0): 100%|██████████| 1/1 [00:00<00:00, 17.11it/s]\n",
      "\n",
      "running generation (cuda:0): 0it [00:00, ?it/s]\u001b[A\n",
      "\n",
      "running NLI (cuda:0): 100%|██████████| 1/1 [00:00<00:00, 17.24it/s]\n",
      "\n",
      "running NLI (cuda:0): 100%|██████████| 1/1 [00:00<00:00, 17.19it/s]\n",
      " 11%|█         | 11/100 [00:54<06:53,  4.64s/it]"
     ]
    },
    {
     "name": "stdout",
     "output_type": "stream",
     "text": [
      "Old value: 0.97998\n",
      "New value: [0.999023]\n"
     ]
    },
    {
     "name": "stderr",
     "output_type": "stream",
     "text": [
      "\n",
      "running generation (cuda:0):   0%|          | 0/1 [00:00<?, ?it/s]\u001b[A\n",
      "running generation (cuda:0): 100%|██████████| 1/1 [00:01<00:00,  1.21s/it]\u001b[A\n"
     ]
    },
    {
     "name": "stdout",
     "output_type": "stream",
     "text": [
      "['Put the motherboard on the counter top']\n",
      "['The motherboard has been successfully put on the counter top.']\n",
      "===================\n"
     ]
    },
    {
     "name": "stderr",
     "output_type": "stream",
     "text": [
      "\n",
      "running generation (cuda:0):   0%|          | 0/1 [00:00<?, ?it/s]\u001b[A\n",
      "running generation (cuda:0): 100%|██████████| 1/1 [00:01<00:00,  1.21s/it]\u001b[A\n",
      "\n",
      "running generation (cuda:0):   0%|          | 0/1 [00:00<?, ?it/s]\u001b[A\n",
      "running generation (cuda:0): 100%|██████████| 1/1 [00:01<00:00,  1.20s/it]\u001b[A\n",
      "\n",
      "running NLI (cuda:0): 100%|██████████| 1/1 [00:00<00:00, 16.87it/s]\n",
      "\n",
      "running NLI (cuda:0): 100%|██████████| 1/1 [00:00<00:00, 17.15it/s]\n",
      "\n",
      "running generation (cuda:0):   0%|          | 0/1 [00:00<?, ?it/s]\u001b[A\n",
      "running generation (cuda:0): 100%|██████████| 1/1 [00:01<00:00,  1.21s/it]\u001b[A\n",
      "\n",
      "running NLI (cuda:0): 100%|██████████| 1/1 [00:00<00:00, 17.24it/s]\n",
      "\n",
      "running NLI (cuda:0): 100%|██████████| 1/1 [00:00<00:00, 16.83it/s]\n",
      " 12%|█▏        | 12/100 [00:59<07:00,  4.78s/it]"
     ]
    },
    {
     "name": "stdout",
     "output_type": "stream",
     "text": [
      "Old value: 0.102051\n",
      "New value: [0.032715]\n"
     ]
    },
    {
     "name": "stderr",
     "output_type": "stream",
     "text": [
      "\n",
      "running generation (cuda:0):   0%|          | 0/1 [00:00<?, ?it/s]\u001b[A\n",
      "running generation (cuda:0): 100%|██████████| 1/1 [00:01<00:00,  1.21s/it]\u001b[A\n"
     ]
    },
    {
     "name": "stdout",
     "output_type": "stream",
     "text": [
      "['Spread the dough with your both hands']\n",
      "['The dough has been successfully spread with both hands.']\n",
      "===================\n"
     ]
    },
    {
     "name": "stderr",
     "output_type": "stream",
     "text": [
      "\n",
      "running generation (cuda:0):   0%|          | 0/1 [00:00<?, ?it/s]\u001b[A\n",
      "running generation (cuda:0): 100%|██████████| 1/1 [00:01<00:00,  1.20s/it]\u001b[A\n",
      "\n",
      "running generation (cuda:0):   0%|          | 0/1 [00:00<?, ?it/s]\u001b[A\n",
      "running generation (cuda:0): 100%|██████████| 1/1 [00:01<00:00,  1.20s/it]\u001b[A\n",
      "\n",
      "running NLI (cuda:0): 100%|██████████| 1/1 [00:00<00:00, 17.33it/s]\n",
      "\n",
      "running NLI (cuda:0): 100%|██████████| 1/1 [00:00<00:00, 16.90it/s]\n",
      "\n",
      "running generation (cuda:0):   0%|          | 0/1 [00:00<?, ?it/s]\u001b[A\n",
      "running generation (cuda:0): 100%|██████████| 1/1 [00:01<00:00,  1.19s/it]\u001b[A\n",
      "\n",
      "running NLI (cuda:0): 100%|██████████| 1/1 [00:00<00:00, 17.43it/s]\n",
      "\n",
      "running NLI (cuda:0): 100%|██████████| 1/1 [00:00<00:00, 16.92it/s]\n",
      " 13%|█▎        | 13/100 [01:04<07:03,  4.87s/it]"
     ]
    },
    {
     "name": "stdout",
     "output_type": "stream",
     "text": [
      "Old value: 0.871094\n",
      "New value: [0.729492]\n"
     ]
    },
    {
     "name": "stderr",
     "output_type": "stream",
     "text": [
      "\n",
      "running generation (cuda:0):   0%|          | 0/1 [00:00<?, ?it/s]\u001b[A\n",
      "running generation (cuda:0): 100%|██████████| 1/1 [00:01<00:00,  1.20s/it]\u001b[A\n"
     ]
    },
    {
     "name": "stdout",
     "output_type": "stream",
     "text": [
      "['Throw the spoon into the sink']\n",
      "['The spoon has been successfully thrown into the sink.']\n",
      "===================\n"
     ]
    },
    {
     "name": "stderr",
     "output_type": "stream",
     "text": [
      "\n",
      "running generation (cuda:0):   0%|          | 0/1 [00:00<?, ?it/s]\u001b[A\n",
      "running generation (cuda:0): 100%|██████████| 1/1 [00:01<00:00,  1.19s/it]\u001b[A\n",
      "\n",
      "running generation (cuda:0):   0%|          | 0/1 [00:00<?, ?it/s]\u001b[A\n",
      "running generation (cuda:0): 100%|██████████| 1/1 [00:01<00:00,  1.20s/it]\u001b[A\n",
      "\n",
      "running NLI (cuda:0): 100%|██████████| 1/1 [00:00<00:00, 17.23it/s]\n",
      "\n",
      "running NLI (cuda:0): 100%|██████████| 1/1 [00:00<00:00, 17.05it/s]\n",
      "\n",
      "running generation (cuda:0): 0it [00:00, ?it/s]\u001b[A\n",
      "\n",
      "running NLI (cuda:0): 100%|██████████| 1/1 [00:00<00:00, 16.80it/s]\n",
      "\n",
      "running NLI (cuda:0): 100%|██████████| 1/1 [00:00<00:00, 16.85it/s]\n",
      " 14%|█▍        | 14/100 [01:08<06:32,  4.56s/it]"
     ]
    },
    {
     "name": "stdout",
     "output_type": "stream",
     "text": [
      "Old value: 0.146484\n",
      "New value: [0.007324]\n"
     ]
    },
    {
     "name": "stderr",
     "output_type": "stream",
     "text": [
      "\n",
      "running generation (cuda:0):   0%|          | 0/1 [00:00<?, ?it/s]\u001b[A\n",
      "running generation (cuda:0): 100%|██████████| 1/1 [00:01<00:00,  1.21s/it]\u001b[A\n"
     ]
    },
    {
     "name": "stdout",
     "output_type": "stream",
     "text": [
      "['Cut the picture']\n",
      "['The picture has been successfully cut.']\n",
      "===================\n"
     ]
    },
    {
     "name": "stderr",
     "output_type": "stream",
     "text": [
      "\n",
      "running generation (cuda:0):   0%|          | 0/1 [00:00<?, ?it/s]\u001b[A\n",
      "running generation (cuda:0): 100%|██████████| 1/1 [00:01<00:00,  1.21s/it]\u001b[A\n",
      "\n",
      "running generation (cuda:0):   0%|          | 0/1 [00:00<?, ?it/s]\u001b[A\n",
      "running generation (cuda:0): 100%|██████████| 1/1 [00:01<00:00,  1.21s/it]\u001b[A\n",
      "\n",
      "running NLI (cuda:0): 100%|██████████| 1/1 [00:00<00:00, 17.22it/s]\n",
      "\n",
      "running NLI (cuda:0): 100%|██████████| 1/1 [00:00<00:00, 17.19it/s]\n",
      "\n",
      "running generation (cuda:0): 0it [00:00, ?it/s]\u001b[A\n",
      "\n",
      "running NLI (cuda:0): 100%|██████████| 1/1 [00:00<00:00, 17.00it/s]\n",
      "\n",
      "running NLI (cuda:0): 100%|██████████| 1/1 [00:00<00:00, 16.61it/s]\n",
      " 15%|█▌        | 15/100 [01:12<06:10,  4.36s/it]"
     ]
    },
    {
     "name": "stdout",
     "output_type": "stream",
     "text": [
      "Old value: 0.32666\n",
      "New value: [0.803223]\n"
     ]
    },
    {
     "name": "stderr",
     "output_type": "stream",
     "text": [
      "\n",
      "running generation (cuda:0):   0%|          | 0/1 [00:00<?, ?it/s]\u001b[A\n",
      "running generation (cuda:0): 100%|██████████| 1/1 [00:01<00:00,  1.21s/it]\u001b[A\n"
     ]
    },
    {
     "name": "stdout",
     "output_type": "stream",
     "text": [
      "['Mark the wall with the pencil']\n",
      "['The wall has been successfully marked with the pencil.']\n",
      "===================\n"
     ]
    },
    {
     "name": "stderr",
     "output_type": "stream",
     "text": [
      "\n",
      "running generation (cuda:0):   0%|          | 0/1 [00:00<?, ?it/s]\u001b[A\n",
      "running generation (cuda:0): 100%|██████████| 1/1 [00:01<00:00,  1.21s/it]\u001b[A\n",
      "\n",
      "running generation (cuda:0):   0%|          | 0/1 [00:00<?, ?it/s]\u001b[A\n",
      "running generation (cuda:0): 100%|██████████| 1/1 [00:01<00:00,  1.20s/it]\u001b[A\n",
      "\n",
      "running NLI (cuda:0): 100%|██████████| 1/1 [00:00<00:00, 16.92it/s]\n",
      "\n",
      "running NLI (cuda:0): 100%|██████████| 1/1 [00:00<00:00, 16.85it/s]\n",
      "\n",
      "running generation (cuda:0): 0it [00:00, ?it/s]\u001b[A\n",
      "\n",
      "running NLI (cuda:0): 100%|██████████| 1/1 [00:00<00:00, 17.11it/s]\n",
      "\n",
      "running NLI (cuda:0): 100%|██████████| 1/1 [00:00<00:00, 17.11it/s]\n",
      " 16%|█▌        | 16/100 [01:16<05:54,  4.22s/it]"
     ]
    },
    {
     "name": "stdout",
     "output_type": "stream",
     "text": [
      "Old value: 0.347168\n",
      "New value: [0.179688]\n"
     ]
    },
    {
     "name": "stderr",
     "output_type": "stream",
     "text": [
      "\n",
      "running generation (cuda:0):   0%|          | 0/1 [00:00<?, ?it/s]\u001b[A\n",
      "running generation (cuda:0): 100%|██████████| 1/1 [00:01<00:00,  1.21s/it]\u001b[A\n"
     ]
    },
    {
     "name": "stdout",
     "output_type": "stream",
     "text": [
      "['Pull the thread on both side of the shoe']\n",
      "['The shoe has been successfully pulled.']\n",
      "===================\n"
     ]
    },
    {
     "name": "stderr",
     "output_type": "stream",
     "text": [
      "\n",
      "running generation (cuda:0):   0%|          | 0/1 [00:00<?, ?it/s]\u001b[A\n",
      "running generation (cuda:0): 100%|██████████| 1/1 [00:01<00:00,  1.20s/it]\u001b[A\n",
      "\n",
      "running generation (cuda:0):   0%|          | 0/1 [00:00<?, ?it/s]\u001b[A\n",
      "running generation (cuda:0): 100%|██████████| 1/1 [00:01<00:00,  1.19s/it]\u001b[A\n",
      "\n",
      "running NLI (cuda:0): 100%|██████████| 1/1 [00:00<00:00, 17.48it/s]\n",
      "\n",
      "running NLI (cuda:0): 100%|██████████| 1/1 [00:00<00:00, 17.35it/s]\n",
      "\n",
      "running generation (cuda:0):   0%|          | 0/1 [00:00<?, ?it/s]\u001b[A\n",
      "running generation (cuda:0): 100%|██████████| 1/1 [00:01<00:00,  1.19s/it]\u001b[A\n",
      "\n",
      "running NLI (cuda:0): 100%|██████████| 1/1 [00:00<00:00, 16.89it/s]\n",
      "\n",
      "running NLI (cuda:0): 100%|██████████| 1/1 [00:00<00:00, 17.05it/s]\n",
      " 17%|█▋        | 17/100 [01:21<06:11,  4.47s/it]"
     ]
    },
    {
     "name": "stdout",
     "output_type": "stream",
     "text": [
      "Old value: 0.261475\n",
      "New value: [0.986328]\n"
     ]
    },
    {
     "name": "stderr",
     "output_type": "stream",
     "text": [
      "\n",
      "running generation (cuda:0):   0%|          | 0/1 [00:00<?, ?it/s]\u001b[A\n",
      "running generation (cuda:0): 100%|██████████| 1/1 [00:01<00:00,  1.21s/it]\u001b[A\n"
     ]
    },
    {
     "name": "stdout",
     "output_type": "stream",
     "text": [
      "['Put the spray bottle on top of the counter top']\n",
      "['The spray bottle has been successfully put on top of the counter top.']\n",
      "===================\n"
     ]
    },
    {
     "name": "stderr",
     "output_type": "stream",
     "text": [
      "\n",
      "running generation (cuda:0):   0%|          | 0/1 [00:00<?, ?it/s]\u001b[A\n",
      "running generation (cuda:0): 100%|██████████| 1/1 [00:01<00:00,  1.20s/it]\u001b[A\n",
      "\n",
      "running generation (cuda:0):   0%|          | 0/1 [00:00<?, ?it/s]\u001b[A\n",
      "running generation (cuda:0): 100%|██████████| 1/1 [00:01<00:00,  1.20s/it]\u001b[A\n",
      "\n",
      "running NLI (cuda:0): 100%|██████████| 1/1 [00:00<00:00, 16.84it/s]\n",
      "\n",
      "running NLI (cuda:0): 100%|██████████| 1/1 [00:00<00:00, 17.04it/s]\n",
      "\n",
      "running generation (cuda:0): 0it [00:00, ?it/s]\u001b[A\n",
      "\n",
      "running NLI (cuda:0): 100%|██████████| 1/1 [00:00<00:00, 17.33it/s]\n",
      "\n",
      "running NLI (cuda:0): 100%|██████████| 1/1 [00:00<00:00, 17.19it/s]\n",
      " 18%|█▊        | 18/100 [01:25<05:51,  4.29s/it]"
     ]
    },
    {
     "name": "stdout",
     "output_type": "stream",
     "text": [
      "Old value: 0.976562\n",
      "New value: [0.998047]\n"
     ]
    },
    {
     "name": "stderr",
     "output_type": "stream",
     "text": [
      "\n",
      "running generation (cuda:0):   0%|          | 0/1 [00:00<?, ?it/s]\u001b[A\n",
      "running generation (cuda:0): 100%|██████████| 1/1 [00:01<00:00,  1.21s/it]\u001b[A\n"
     ]
    },
    {
     "name": "stdout",
     "output_type": "stream",
     "text": [
      "['Put the tray on top of a bin']\n",
      "['The tray has been successfully put on top of a bin.']\n",
      "===================\n"
     ]
    },
    {
     "name": "stderr",
     "output_type": "stream",
     "text": [
      "\n",
      "running generation (cuda:0):   0%|          | 0/1 [00:00<?, ?it/s]\u001b[A\n",
      "running generation (cuda:0): 100%|██████████| 1/1 [00:01<00:00,  1.21s/it]\u001b[A\n",
      "\n",
      "running generation (cuda:0):   0%|          | 0/1 [00:00<?, ?it/s]\u001b[A\n",
      "running generation (cuda:0): 100%|██████████| 1/1 [00:01<00:00,  1.20s/it]\u001b[A\n",
      "\n",
      "running NLI (cuda:0): 100%|██████████| 1/1 [00:00<00:00, 16.98it/s]\n",
      "\n",
      "running NLI (cuda:0): 100%|██████████| 1/1 [00:00<00:00, 17.09it/s]\n",
      "\n",
      "running generation (cuda:0): 0it [00:00, ?it/s]\u001b[A\n",
      "\n",
      "running NLI (cuda:0): 100%|██████████| 1/1 [00:00<00:00, 16.80it/s]\n",
      "\n",
      "running NLI (cuda:0): 100%|██████████| 1/1 [00:00<00:00, 16.95it/s]\n",
      " 19%|█▉        | 19/100 [01:29<05:37,  4.17s/it]"
     ]
    },
    {
     "name": "stdout",
     "output_type": "stream",
     "text": [
      "Old value: 0.935547\n",
      "New value: [0.999023]\n"
     ]
    },
    {
     "name": "stderr",
     "output_type": "stream",
     "text": [
      "\n",
      "running generation (cuda:0):   0%|          | 0/1 [00:00<?, ?it/s]\u001b[A\n",
      "running generation (cuda:0): 100%|██████████| 1/1 [00:01<00:00,  1.21s/it]\u001b[A\n"
     ]
    },
    {
     "name": "stdout",
     "output_type": "stream",
     "text": [
      "['Drop the second piece of wood on a third piece of wood on the stairs']\n",
      "['The second piece of wood has been successfully dropped on a third piece of wood on the stairs.']\n",
      "===================\n"
     ]
    },
    {
     "name": "stderr",
     "output_type": "stream",
     "text": [
      "\n",
      "running generation (cuda:0):   0%|          | 0/1 [00:00<?, ?it/s]\u001b[A\n",
      "running generation (cuda:0): 100%|██████████| 1/1 [00:01<00:00,  1.20s/it]\u001b[A\n",
      "\n",
      "running generation (cuda:0):   0%|          | 0/1 [00:00<?, ?it/s]\u001b[A\n",
      "running generation (cuda:0): 100%|██████████| 1/1 [00:01<00:00,  1.21s/it]\u001b[A\n",
      "\n",
      "running NLI (cuda:0): 100%|██████████| 1/1 [00:00<00:00, 17.08it/s]\n",
      "\n",
      "running NLI (cuda:0): 100%|██████████| 1/1 [00:00<00:00, 17.02it/s]\n",
      "\n",
      "running generation (cuda:0):   0%|          | 0/1 [00:00<?, ?it/s]\u001b[A\n",
      "running generation (cuda:0): 100%|██████████| 1/1 [00:01<00:00,  1.21s/it]\u001b[A\n",
      "\n",
      "running NLI (cuda:0): 100%|██████████| 1/1 [00:00<00:00, 16.61it/s]\n",
      "\n",
      "running NLI (cuda:0): 100%|██████████| 1/1 [00:00<00:00, 16.78it/s]\n",
      " 20%|██        | 20/100 [01:34<05:55,  4.45s/it]"
     ]
    },
    {
     "name": "stdout",
     "output_type": "stream",
     "text": [
      "Old value: 0.210938\n",
      "New value: [0.030273]\n"
     ]
    },
    {
     "name": "stderr",
     "output_type": "stream",
     "text": [
      "\n",
      "running generation (cuda:0):   0%|          | 0/1 [00:00<?, ?it/s]\u001b[A\n",
      "running generation (cuda:0): 100%|██████████| 1/1 [00:01<00:00,  1.21s/it]\u001b[A\n"
     ]
    },
    {
     "name": "stdout",
     "output_type": "stream",
     "text": [
      "['Put the spray bottle on top of the counter top']\n",
      "['The spray bottle has been successfully put on top of the counter top.']\n",
      "===================\n"
     ]
    },
    {
     "name": "stderr",
     "output_type": "stream",
     "text": [
      "\n",
      "running generation (cuda:0):   0%|          | 0/1 [00:00<?, ?it/s]\u001b[A\n",
      "running generation (cuda:0): 100%|██████████| 1/1 [00:01<00:00,  1.21s/it]\u001b[A\n",
      "\n",
      "running generation (cuda:0):   0%|          | 0/1 [00:00<?, ?it/s]\u001b[A\n",
      "running generation (cuda:0): 100%|██████████| 1/1 [00:01<00:00,  1.21s/it]\u001b[A\n",
      "\n",
      "running NLI (cuda:0): 100%|██████████| 1/1 [00:00<00:00, 17.25it/s]\n",
      "\n",
      "running NLI (cuda:0): 100%|██████████| 1/1 [00:00<00:00, 17.09it/s]\n",
      "\n",
      "running generation (cuda:0): 0it [00:00, ?it/s]\u001b[A\n",
      "\n",
      "running NLI (cuda:0): 100%|██████████| 1/1 [00:00<00:00, 17.15it/s]\n",
      "\n",
      "running NLI (cuda:0): 100%|██████████| 1/1 [00:00<00:00, 17.19it/s]\n",
      " 21%|██        | 21/100 [01:37<05:38,  4.28s/it]"
     ]
    },
    {
     "name": "stdout",
     "output_type": "stream",
     "text": [
      "Old value: 0.976562\n",
      "New value: [0.998047]\n"
     ]
    },
    {
     "name": "stderr",
     "output_type": "stream",
     "text": [
      "\n",
      "running generation (cuda:0):   0%|          | 0/1 [00:00<?, ?it/s]\u001b[A\n",
      "running generation (cuda:0): 100%|██████████| 1/1 [00:01<00:00,  1.21s/it]\u001b[A\n"
     ]
    },
    {
     "name": "stdout",
     "output_type": "stream",
     "text": [
      "['Place your right hand on the steering wheel of the lawn mower']\n",
      "['The right hand has been successfully placed on the steering wheel of the lawn mower.']\n",
      "===================\n"
     ]
    },
    {
     "name": "stderr",
     "output_type": "stream",
     "text": [
      "\n",
      "running generation (cuda:0):   0%|          | 0/1 [00:00<?, ?it/s]\u001b[A\n",
      "running generation (cuda:0): 100%|██████████| 1/1 [00:01<00:00,  1.20s/it]\u001b[A\n",
      "\n",
      "running generation (cuda:0):   0%|          | 0/1 [00:00<?, ?it/s]\u001b[A\n",
      "running generation (cuda:0): 100%|██████████| 1/1 [00:01<00:00,  1.20s/it]\u001b[A\n",
      "\n",
      "running NLI (cuda:0): 100%|██████████| 1/1 [00:00<00:00, 17.15it/s]\n",
      "\n",
      "running NLI (cuda:0): 100%|██████████| 1/1 [00:00<00:00, 17.08it/s]\n",
      "\n",
      "running generation (cuda:0): 0it [00:00, ?it/s]\u001b[A\n",
      "\n",
      "running NLI (cuda:0): 100%|██████████| 1/1 [00:00<00:00, 17.06it/s]\n",
      "\n",
      "running NLI (cuda:0): 100%|██████████| 1/1 [00:00<00:00, 16.85it/s]\n",
      " 22%|██▏       | 22/100 [01:41<05:24,  4.16s/it]"
     ]
    },
    {
     "name": "stdout",
     "output_type": "stream",
     "text": [
      "Old value: 0.934082\n",
      "New value: [0.973145]\n"
     ]
    },
    {
     "name": "stderr",
     "output_type": "stream",
     "text": [
      "\n",
      "running generation (cuda:0):   0%|          | 0/1 [00:00<?, ?it/s]\u001b[A\n",
      "running generation (cuda:0): 100%|██████████| 1/1 [00:01<00:00,  1.20s/it]\u001b[A\n"
     ]
    },
    {
     "name": "stdout",
     "output_type": "stream",
     "text": [
      "['Drop the excess concrete on the   heap of concrete on the ground']\n",
      "['The excess concrete has been successfully dropped on the heap of concrete on the ground.']\n",
      "===================\n"
     ]
    },
    {
     "name": "stderr",
     "output_type": "stream",
     "text": [
      "\n",
      "running generation (cuda:0):   0%|          | 0/1 [00:00<?, ?it/s]\u001b[A\n",
      "running generation (cuda:0): 100%|██████████| 1/1 [00:01<00:00,  1.20s/it]\u001b[A\n",
      "\n",
      "running generation (cuda:0):   0%|          | 0/1 [00:00<?, ?it/s]\u001b[A\n",
      "running generation (cuda:0): 100%|██████████| 1/1 [00:01<00:00,  1.20s/it]\u001b[A\n",
      "\n",
      "running NLI (cuda:0): 100%|██████████| 1/1 [00:00<00:00, 17.33it/s]\n",
      "\n",
      "running NLI (cuda:0): 100%|██████████| 1/1 [00:00<00:00, 16.84it/s]\n",
      "\n",
      "running generation (cuda:0):   0%|          | 0/1 [00:00<?, ?it/s]\u001b[A\n",
      "running generation (cuda:0): 100%|██████████| 1/1 [00:02<00:00,  2.38s/it]\u001b[A\n",
      "\n",
      "running NLI (cuda:0): 100%|██████████| 1/1 [00:00<00:00, 17.19it/s]\n",
      "\n",
      "running NLI (cuda:0): 100%|██████████| 1/1 [00:00<00:00, 16.72it/s]\n",
      " 23%|██▎       | 23/100 [01:48<06:08,  4.78s/it]"
     ]
    },
    {
     "name": "stdout",
     "output_type": "stream",
     "text": [
      "Old value: 0.066406\n",
      "New value: [0.101562]\n"
     ]
    },
    {
     "name": "stderr",
     "output_type": "stream",
     "text": [
      "\n",
      "running generation (cuda:0):   0%|          | 0/1 [00:00<?, ?it/s]\u001b[A\n",
      "running generation (cuda:0): 100%|██████████| 1/1 [00:01<00:00,  1.21s/it]\u001b[A\n"
     ]
    },
    {
     "name": "stdout",
     "output_type": "stream",
     "text": [
      "['Hold flower']\n",
      "['The flower has been successfully held.']\n",
      "===================\n"
     ]
    },
    {
     "name": "stderr",
     "output_type": "stream",
     "text": [
      "\n",
      "running generation (cuda:0):   0%|          | 0/1 [00:00<?, ?it/s]\u001b[A\n",
      "running generation (cuda:0): 100%|██████████| 1/1 [00:01<00:00,  1.20s/it]\u001b[A\n",
      "\n",
      "running generation (cuda:0):   0%|          | 0/1 [00:00<?, ?it/s]\u001b[A\n",
      "running generation (cuda:0): 100%|██████████| 1/1 [00:01<00:00,  1.21s/it]\u001b[A\n",
      "\n",
      "running NLI (cuda:0): 100%|██████████| 1/1 [00:00<00:00, 17.07it/s]\n",
      "\n",
      "running NLI (cuda:0): 100%|██████████| 1/1 [00:00<00:00, 17.27it/s]\n",
      "\n",
      "running generation (cuda:0): 0it [00:00, ?it/s]\u001b[A\n",
      "\n",
      "running NLI (cuda:0): 100%|██████████| 1/1 [00:00<00:00, 17.30it/s]\n",
      "\n",
      "running NLI (cuda:0): 100%|██████████| 1/1 [00:00<00:00, 17.14it/s]\n",
      " 24%|██▍       | 24/100 [01:51<05:42,  4.51s/it]"
     ]
    },
    {
     "name": "stdout",
     "output_type": "stream",
     "text": [
      "Old value: 0.63623\n",
      "New value: [0.975098]\n"
     ]
    },
    {
     "name": "stderr",
     "output_type": "stream",
     "text": [
      "\n",
      "running generation (cuda:0):   0%|          | 0/1 [00:00<?, ?it/s]\u001b[A\n",
      "running generation (cuda:0): 100%|██████████| 1/1 [00:01<00:00,  1.21s/it]\u001b[A\n"
     ]
    },
    {
     "name": "stdout",
     "output_type": "stream",
     "text": [
      "['Unroll the thread on the bed with your hand']\n",
      "[\"The thread has been successfully unrolled on the bed with someone's hand.\"]\n",
      "===================\n"
     ]
    },
    {
     "name": "stderr",
     "output_type": "stream",
     "text": [
      "\n",
      "running generation (cuda:0):   0%|          | 0/1 [00:00<?, ?it/s]\u001b[A\n",
      "running generation (cuda:0): 100%|██████████| 1/1 [00:01<00:00,  1.20s/it]\u001b[A\n",
      "\n",
      "running generation (cuda:0):   0%|          | 0/1 [00:00<?, ?it/s]\u001b[A\n",
      "running generation (cuda:0): 100%|██████████| 1/1 [00:01<00:00,  1.19s/it]\u001b[A\n",
      "\n",
      "running NLI (cuda:0): 100%|██████████| 1/1 [00:00<00:00, 17.32it/s]\n",
      "\n",
      "running NLI (cuda:0): 100%|██████████| 1/1 [00:00<00:00, 16.71it/s]\n",
      "\n",
      "running generation (cuda:0):   0%|          | 0/1 [00:00<?, ?it/s]\u001b[A\n",
      "running generation (cuda:0): 100%|██████████| 1/1 [00:02<00:00,  2.38s/it]\u001b[A\n",
      "\n",
      "running NLI (cuda:0): 100%|██████████| 1/1 [00:00<00:00, 16.83it/s]\n",
      "\n",
      "running NLI (cuda:0): 100%|██████████| 1/1 [00:00<00:00, 17.10it/s]\n",
      " 25%|██▌       | 25/100 [01:58<06:17,  5.03s/it]"
     ]
    },
    {
     "name": "stdout",
     "output_type": "stream",
     "text": [
      "Old value: 0.222656\n",
      "New value: [0.172852]\n"
     ]
    },
    {
     "name": "stderr",
     "output_type": "stream",
     "text": [
      "\n",
      "running generation (cuda:0):   0%|          | 0/1 [00:00<?, ?it/s]\u001b[A\n",
      "running generation (cuda:0): 100%|██████████| 1/1 [00:01<00:00,  1.20s/it]\u001b[A\n"
     ]
    },
    {
     "name": "stdout",
     "output_type": "stream",
     "text": [
      "['Prune the fruit stalk from the lemon with the secateurs']\n",
      "['The fruit stalk has been successfully pruned from the lemon with the secateurs.']\n",
      "===================\n"
     ]
    },
    {
     "name": "stderr",
     "output_type": "stream",
     "text": [
      "\n",
      "running generation (cuda:0):   0%|          | 0/1 [00:00<?, ?it/s]\u001b[A\n",
      "running generation (cuda:0): 100%|██████████| 1/1 [00:01<00:00,  1.20s/it]\u001b[A\n",
      "\n",
      "running generation (cuda:0):   0%|          | 0/1 [00:00<?, ?it/s]\u001b[A\n",
      "running generation (cuda:0): 100%|██████████| 1/1 [00:01<00:00,  1.19s/it]\u001b[A\n",
      "\n",
      "running NLI (cuda:0): 100%|██████████| 1/1 [00:00<00:00, 17.27it/s]\n",
      "\n",
      "running NLI (cuda:0): 100%|██████████| 1/1 [00:00<00:00, 17.27it/s]\n",
      "\n",
      "running generation (cuda:0): 0it [00:00, ?it/s]\u001b[A\n",
      "\n",
      "running NLI (cuda:0): 100%|██████████| 1/1 [00:00<00:00, 17.44it/s]\n",
      "\n",
      "running NLI (cuda:0): 100%|██████████| 1/1 [00:00<00:00, 17.32it/s]\n",
      " 26%|██▌       | 26/100 [02:02<05:46,  4.68s/it]"
     ]
    },
    {
     "name": "stdout",
     "output_type": "stream",
     "text": [
      "Old value: 0.288818\n",
      "New value: [0.363281]\n"
     ]
    },
    {
     "name": "stderr",
     "output_type": "stream",
     "text": [
      "\n",
      "running generation (cuda:0):   0%|          | 0/1 [00:00<?, ?it/s]\u001b[A\n",
      "running generation (cuda:0): 100%|██████████| 1/1 [00:01<00:00,  1.20s/it]\u001b[A\n"
     ]
    },
    {
     "name": "stdout",
     "output_type": "stream",
     "text": [
      "['Turn off the garden hose']\n",
      "['The garden hose has been successfully turned off.']\n",
      "===================\n"
     ]
    },
    {
     "name": "stderr",
     "output_type": "stream",
     "text": [
      "\n",
      "running generation (cuda:0):   0%|          | 0/1 [00:00<?, ?it/s]\u001b[A\n",
      "running generation (cuda:0): 100%|██████████| 1/1 [00:01<00:00,  1.19s/it]\u001b[A\n",
      "\n",
      "running generation (cuda:0):   0%|          | 0/1 [00:00<?, ?it/s]\u001b[A\n",
      "running generation (cuda:0): 100%|██████████| 1/1 [00:01<00:00,  1.19s/it]\u001b[A\n",
      "\n",
      "running NLI (cuda:0): 100%|██████████| 1/1 [00:00<00:00, 16.88it/s]\n",
      "\n",
      "running NLI (cuda:0): 100%|██████████| 1/1 [00:00<00:00, 17.08it/s]\n",
      "\n",
      "running generation (cuda:0):   0%|          | 0/1 [00:00<?, ?it/s]\u001b[A\n",
      "running generation (cuda:0): 100%|██████████| 1/1 [00:01<00:00,  1.20s/it]\u001b[A\n",
      "\n",
      "running NLI (cuda:0): 100%|██████████| 1/1 [00:00<00:00, 17.02it/s]\n",
      "\n",
      "running NLI (cuda:0): 100%|██████████| 1/1 [00:00<00:00, 16.68it/s]\n",
      " 27%|██▋       | 27/100 [02:07<05:50,  4.80s/it]"
     ]
    },
    {
     "name": "stdout",
     "output_type": "stream",
     "text": [
      "Old value: 0.302246\n",
      "New value: [0.141113]\n"
     ]
    },
    {
     "name": "stderr",
     "output_type": "stream",
     "text": [
      "\n",
      "running generation (cuda:0):   0%|          | 0/1 [00:00<?, ?it/s]\u001b[A\n",
      "running generation (cuda:0): 100%|██████████| 1/1 [00:01<00:00,  1.20s/it]\u001b[A\n"
     ]
    },
    {
     "name": "stdout",
     "output_type": "stream",
     "text": [
      "['Lift the robot']\n",
      "['The robot has been successfully lifted.']\n",
      "===================\n"
     ]
    },
    {
     "name": "stderr",
     "output_type": "stream",
     "text": [
      "\n",
      "running generation (cuda:0):   0%|          | 0/1 [00:00<?, ?it/s]\u001b[A\n",
      "running generation (cuda:0): 100%|██████████| 1/1 [00:01<00:00,  1.20s/it]\u001b[A\n",
      "\n",
      "running generation (cuda:0):   0%|          | 0/1 [00:00<?, ?it/s]\u001b[A\n",
      "running generation (cuda:0): 100%|██████████| 1/1 [00:01<00:00,  1.20s/it]\u001b[A\n",
      "\n",
      "running NLI (cuda:0): 100%|██████████| 1/1 [00:00<00:00, 16.83it/s]\n",
      "\n",
      "running NLI (cuda:0): 100%|██████████| 1/1 [00:00<00:00, 16.89it/s]\n",
      "\n",
      "running generation (cuda:0):   0%|          | 0/1 [00:00<?, ?it/s]\u001b[A\n",
      "running generation (cuda:0): 100%|██████████| 1/1 [00:02<00:00,  2.36s/it]\u001b[A\n",
      "\n",
      "running NLI (cuda:0): 100%|██████████| 1/1 [00:00<00:00, 17.09it/s]\n",
      "\n",
      "running NLI (cuda:0): 100%|██████████| 1/1 [00:00<00:00, 16.79it/s]\n",
      " 28%|██▊       | 28/100 [02:13<06:16,  5.23s/it]"
     ]
    },
    {
     "name": "stdout",
     "output_type": "stream",
     "text": [
      "Old value: 0.002441\n",
      "New value: [0.002441]\n"
     ]
    },
    {
     "name": "stderr",
     "output_type": "stream",
     "text": [
      "\n",
      "running generation (cuda:0):   0%|          | 0/1 [00:00<?, ?it/s]\u001b[A\n",
      "running generation (cuda:0): 100%|██████████| 1/1 [00:01<00:00,  1.22s/it]\u001b[A\n"
     ]
    },
    {
     "name": "stdout",
     "output_type": "stream",
     "text": [
      "['Drop a lid']\n",
      "['The lid has been successfully dropped.']\n",
      "===================\n"
     ]
    },
    {
     "name": "stderr",
     "output_type": "stream",
     "text": [
      "\n",
      "running generation (cuda:0):   0%|          | 0/1 [00:00<?, ?it/s]\u001b[A\n",
      "running generation (cuda:0): 100%|██████████| 1/1 [00:01<00:00,  1.22s/it]\u001b[A\n",
      "\n",
      "running generation (cuda:0):   0%|          | 0/1 [00:00<?, ?it/s]\u001b[A\n",
      "running generation (cuda:0): 100%|██████████| 1/1 [00:01<00:00,  1.21s/it]\u001b[A\n",
      "\n",
      "running NLI (cuda:0): 100%|██████████| 1/1 [00:00<00:00, 17.14it/s]\n",
      "\n",
      "running NLI (cuda:0): 100%|██████████| 1/1 [00:00<00:00, 16.94it/s]\n",
      "\n",
      "running generation (cuda:0):   0%|          | 0/1 [00:00<?, ?it/s]\u001b[A\n",
      "running generation (cuda:0): 100%|██████████| 1/1 [00:02<00:00,  2.38s/it]\u001b[A\n",
      "\n",
      "running NLI (cuda:0): 100%|██████████| 1/1 [00:00<00:00, 16.97it/s]\n",
      "\n",
      "running NLI (cuda:0): 100%|██████████| 1/1 [00:00<00:00, 16.85it/s]\n",
      " 29%|██▉       | 29/100 [02:19<06:34,  5.55s/it]"
     ]
    },
    {
     "name": "stdout",
     "output_type": "stream",
     "text": [
      "Old value: 0.008652\n",
      "New value: [0.040436]\n"
     ]
    },
    {
     "name": "stderr",
     "output_type": "stream",
     "text": [
      "\n",
      "running generation (cuda:0):   0%|          | 0/1 [00:00<?, ?it/s]\u001b[A\n",
      "running generation (cuda:0): 100%|██████████| 1/1 [00:01<00:00,  1.21s/it]\u001b[A\n"
     ]
    },
    {
     "name": "stdout",
     "output_type": "stream",
     "text": [
      "['Drop the tissue on the table with your hand']\n",
      "[\"The tissue has been successfully dropped on the table with someone's hand.\"]\n",
      "===================\n"
     ]
    },
    {
     "name": "stderr",
     "output_type": "stream",
     "text": [
      "\n",
      "running generation (cuda:0):   0%|          | 0/1 [00:00<?, ?it/s]\u001b[A\n",
      "running generation (cuda:0): 100%|██████████| 1/1 [00:01<00:00,  1.21s/it]\u001b[A\n",
      "\n",
      "running generation (cuda:0):   0%|          | 0/1 [00:00<?, ?it/s]\u001b[A\n",
      "running generation (cuda:0): 100%|██████████| 1/1 [00:01<00:00,  1.21s/it]\u001b[A\n",
      "\n",
      "running NLI (cuda:0): 100%|██████████| 1/1 [00:00<00:00, 17.07it/s]\n",
      "\n",
      "running NLI (cuda:0): 100%|██████████| 1/1 [00:00<00:00, 16.97it/s]\n",
      "\n",
      "running generation (cuda:0): 0it [00:00, ?it/s]\u001b[A\n",
      "\n",
      "running NLI (cuda:0): 100%|██████████| 1/1 [00:00<00:00, 17.02it/s]\n",
      "\n",
      "running NLI (cuda:0): 100%|██████████| 1/1 [00:00<00:00, 16.90it/s]\n",
      " 30%|███       | 30/100 [02:23<05:53,  5.05s/it]"
     ]
    },
    {
     "name": "stdout",
     "output_type": "stream",
     "text": [
      "Old value: 0.960449\n",
      "New value: [0.217773]\n"
     ]
    },
    {
     "name": "stderr",
     "output_type": "stream",
     "text": [
      "\n",
      "running generation (cuda:0):   0%|          | 0/1 [00:00<?, ?it/s]\u001b[A\n",
      "running generation (cuda:0): 100%|██████████| 1/1 [00:01<00:00,  1.21s/it]\u001b[A\n"
     ]
    },
    {
     "name": "stdout",
     "output_type": "stream",
     "text": [
      "['Hold circuit board']\n",
      "['The circuit board has been successfully held.']\n",
      "===================\n"
     ]
    },
    {
     "name": "stderr",
     "output_type": "stream",
     "text": [
      "\n",
      "running generation (cuda:0):   0%|          | 0/1 [00:00<?, ?it/s]\u001b[A\n",
      "running generation (cuda:0): 100%|██████████| 1/1 [00:01<00:00,  1.20s/it]\u001b[A\n",
      "\n",
      "running generation (cuda:0):   0%|          | 0/1 [00:00<?, ?it/s]\u001b[A\n",
      "running generation (cuda:0): 100%|██████████| 1/1 [00:01<00:00,  1.20s/it]\u001b[A\n",
      "\n",
      "running NLI (cuda:0): 100%|██████████| 1/1 [00:00<00:00, 16.94it/s]\n",
      "\n",
      "running NLI (cuda:0): 100%|██████████| 1/1 [00:00<00:00, 16.92it/s]\n",
      "\n",
      "running generation (cuda:0):   0%|          | 0/1 [00:00<?, ?it/s]\u001b[A\n",
      "running generation (cuda:0): 100%|██████████| 1/1 [00:02<00:00,  2.38s/it]\u001b[A\n",
      "\n",
      "running NLI (cuda:0): 100%|██████████| 1/1 [00:00<00:00, 16.94it/s]\n",
      "\n",
      "running NLI (cuda:0): 100%|██████████| 1/1 [00:00<00:00, 16.58it/s]\n",
      " 31%|███       | 31/100 [02:29<06:13,  5.41s/it]"
     ]
    },
    {
     "name": "stdout",
     "output_type": "stream",
     "text": [
      "Old value: 0.193359\n",
      "New value: [0.029297]\n"
     ]
    },
    {
     "name": "stderr",
     "output_type": "stream",
     "text": [
      "\n",
      "running generation (cuda:0):   0%|          | 0/1 [00:00<?, ?it/s]\u001b[A\n",
      "running generation (cuda:0): 100%|██████████| 1/1 [00:01<00:00,  1.21s/it]\u001b[A\n"
     ]
    },
    {
     "name": "stdout",
     "output_type": "stream",
     "text": [
      "['Smolder the motherboard']\n",
      "['The motherboard has been successfully smoldered.']\n",
      "===================\n"
     ]
    },
    {
     "name": "stderr",
     "output_type": "stream",
     "text": [
      "\n",
      "running generation (cuda:0):   0%|          | 0/1 [00:00<?, ?it/s]\u001b[A\n",
      "running generation (cuda:0): 100%|██████████| 1/1 [00:01<00:00,  1.21s/it]\u001b[A\n",
      "\n",
      "running generation (cuda:0):   0%|          | 0/1 [00:00<?, ?it/s]\u001b[A\n",
      "running generation (cuda:0): 100%|██████████| 1/1 [00:01<00:00,  1.20s/it]\u001b[A\n",
      "\n",
      "running NLI (cuda:0): 100%|██████████| 1/1 [00:00<00:00, 16.95it/s]\n",
      "\n",
      "running NLI (cuda:0): 100%|██████████| 1/1 [00:00<00:00, 16.88it/s]\n",
      "\n",
      "running generation (cuda:0):   0%|          | 0/1 [00:00<?, ?it/s]\u001b[A\n",
      "running generation (cuda:0): 100%|██████████| 1/1 [00:02<00:00,  2.38s/it]\u001b[A\n",
      "\n",
      "running NLI (cuda:0): 100%|██████████| 1/1 [00:00<00:00, 16.58it/s]\n",
      "\n",
      "running NLI (cuda:0): 100%|██████████| 1/1 [00:00<00:00, 16.78it/s]\n",
      " 32%|███▏      | 32/100 [02:36<06:25,  5.68s/it]"
     ]
    },
    {
     "name": "stdout",
     "output_type": "stream",
     "text": [
      "Old value: 0.078125\n",
      "New value: [0.003418]\n"
     ]
    },
    {
     "name": "stderr",
     "output_type": "stream",
     "text": [
      "\n",
      "running generation (cuda:0):   0%|          | 0/1 [00:00<?, ?it/s]\u001b[A\n",
      "running generation (cuda:0): 100%|██████████| 1/1 [00:01<00:00,  1.20s/it]\u001b[A\n"
     ]
    },
    {
     "name": "stdout",
     "output_type": "stream",
     "text": [
      "['Place the carton box on the table']\n",
      "['The carton box has been successfully placed on the table.']\n",
      "===================\n"
     ]
    },
    {
     "name": "stderr",
     "output_type": "stream",
     "text": [
      "\n",
      "running generation (cuda:0):   0%|          | 0/1 [00:00<?, ?it/s]\u001b[A\n",
      "running generation (cuda:0): 100%|██████████| 1/1 [00:01<00:00,  1.20s/it]\u001b[A\n",
      "\n",
      "running generation (cuda:0):   0%|          | 0/1 [00:00<?, ?it/s]\u001b[A\n",
      "running generation (cuda:0): 100%|██████████| 1/1 [00:01<00:00,  1.20s/it]\u001b[A\n",
      "\n",
      "running NLI (cuda:0): 100%|██████████| 1/1 [00:00<00:00, 16.97it/s]\n",
      "\n",
      "running NLI (cuda:0): 100%|██████████| 1/1 [00:00<00:00, 17.08it/s]\n",
      "\n",
      "running generation (cuda:0): 0it [00:00, ?it/s]\u001b[A\n",
      "\n",
      "running NLI (cuda:0): 100%|██████████| 1/1 [00:00<00:00, 17.17it/s]\n",
      "\n",
      "running NLI (cuda:0): 100%|██████████| 1/1 [00:00<00:00, 17.22it/s]\n",
      " 33%|███▎      | 33/100 [02:40<05:43,  5.13s/it]"
     ]
    },
    {
     "name": "stdout",
     "output_type": "stream",
     "text": [
      "Old value: 0.988281\n",
      "New value: [0.997559]\n"
     ]
    },
    {
     "name": "stderr",
     "output_type": "stream",
     "text": [
      "\n",
      "running generation (cuda:0):   0%|          | 0/1 [00:00<?, ?it/s]\u001b[A\n",
      "running generation (cuda:0): 100%|██████████| 1/1 [00:01<00:00,  1.20s/it]\u001b[A\n"
     ]
    },
    {
     "name": "stdout",
     "output_type": "stream",
     "text": [
      "['Remove the flower from the vase']\n",
      "['The flower has been successfully removed from the vase.']\n",
      "===================\n"
     ]
    },
    {
     "name": "stderr",
     "output_type": "stream",
     "text": [
      "\n",
      "running generation (cuda:0):   0%|          | 0/1 [00:00<?, ?it/s]\u001b[A\n",
      "running generation (cuda:0): 100%|██████████| 1/1 [00:01<00:00,  1.19s/it]\u001b[A\n",
      "\n",
      "running generation (cuda:0):   0%|          | 0/1 [00:00<?, ?it/s]\u001b[A\n",
      "running generation (cuda:0): 100%|██████████| 1/1 [00:01<00:00,  1.19s/it]\u001b[A\n",
      "\n",
      "running NLI (cuda:0): 100%|██████████| 1/1 [00:00<00:00, 17.49it/s]\n",
      "\n",
      "running NLI (cuda:0): 100%|██████████| 1/1 [00:00<00:00, 17.43it/s]\n",
      "\n",
      "running generation (cuda:0):   0%|          | 0/1 [00:00<?, ?it/s]\u001b[A\n",
      "running generation (cuda:0): 100%|██████████| 1/1 [00:01<00:00,  1.19s/it]\u001b[A\n",
      "\n",
      "running NLI (cuda:0): 100%|██████████| 1/1 [00:00<00:00, 17.02it/s]\n",
      "\n",
      "running NLI (cuda:0): 100%|██████████| 1/1 [00:00<00:00, 17.27it/s]\n",
      " 34%|███▍      | 34/100 [02:45<05:36,  5.11s/it]"
     ]
    },
    {
     "name": "stdout",
     "output_type": "stream",
     "text": [
      "Old value: 0.981934\n",
      "New value: [0.981445]\n"
     ]
    },
    {
     "name": "stderr",
     "output_type": "stream",
     "text": [
      "\n",
      "running generation (cuda:0):   0%|          | 0/1 [00:00<?, ?it/s]\u001b[A\n",
      "running generation (cuda:0): 100%|██████████| 1/1 [00:01<00:00,  1.20s/it]\u001b[A\n"
     ]
    },
    {
     "name": "stdout",
     "output_type": "stream",
     "text": [
      "['Measure the room with the tape measure']\n",
      "['The room has been successfully measured with the tape measure.']\n",
      "===================\n"
     ]
    },
    {
     "name": "stderr",
     "output_type": "stream",
     "text": [
      "\n",
      "running generation (cuda:0):   0%|          | 0/1 [00:00<?, ?it/s]\u001b[A\n",
      "running generation (cuda:0): 100%|██████████| 1/1 [00:01<00:00,  1.20s/it]\u001b[A\n",
      "\n",
      "running generation (cuda:0):   0%|          | 0/1 [00:00<?, ?it/s]\u001b[A\n",
      "running generation (cuda:0): 100%|██████████| 1/1 [00:01<00:00,  1.20s/it]\u001b[A\n",
      "\n",
      "running NLI (cuda:0): 100%|██████████| 1/1 [00:00<00:00, 17.19it/s]\n",
      "\n",
      "running NLI (cuda:0): 100%|██████████| 1/1 [00:00<00:00, 17.21it/s]\n",
      "\n",
      "running generation (cuda:0): 0it [00:00, ?it/s]\u001b[A\n",
      "\n",
      "running NLI (cuda:0): 100%|██████████| 1/1 [00:00<00:00, 17.19it/s]\n",
      "\n",
      "running NLI (cuda:0): 100%|██████████| 1/1 [00:00<00:00, 17.19it/s]\n",
      " 35%|███▌      | 35/100 [02:48<05:07,  4.73s/it]"
     ]
    },
    {
     "name": "stdout",
     "output_type": "stream",
     "text": [
      "Old value: 0.493164\n",
      "New value: [0.319824]\n"
     ]
    },
    {
     "name": "stderr",
     "output_type": "stream",
     "text": [
      "\n",
      "running generation (cuda:0):   0%|          | 0/1 [00:00<?, ?it/s]\u001b[A\n",
      "running generation (cuda:0): 100%|██████████| 1/1 [00:01<00:00,  1.20s/it]\u001b[A\n"
     ]
    },
    {
     "name": "stdout",
     "output_type": "stream",
     "text": [
      "['Pick a spanners on the ground']\n",
      "['The spanners have been successfully picked from the ground.']\n",
      "===================\n"
     ]
    },
    {
     "name": "stderr",
     "output_type": "stream",
     "text": [
      "\n",
      "running generation (cuda:0):   0%|          | 0/1 [00:00<?, ?it/s]\u001b[A\n",
      "running generation (cuda:0): 100%|██████████| 1/1 [00:01<00:00,  1.20s/it]\u001b[A\n",
      "\n",
      "running generation (cuda:0):   0%|          | 0/1 [00:00<?, ?it/s]\u001b[A\n",
      "running generation (cuda:0): 100%|██████████| 1/1 [00:01<00:00,  1.20s/it]\u001b[A\n",
      "\n",
      "running NLI (cuda:0): 100%|██████████| 1/1 [00:00<00:00, 17.19it/s]\n",
      "\n",
      "running NLI (cuda:0): 100%|██████████| 1/1 [00:00<00:00, 17.18it/s]\n",
      "\n",
      "running generation (cuda:0): 0it [00:00, ?it/s]\u001b[A\n",
      "\n",
      "running NLI (cuda:0): 100%|██████████| 1/1 [00:00<00:00, 16.94it/s]\n",
      "\n",
      "running NLI (cuda:0): 100%|██████████| 1/1 [00:00<00:00, 17.25it/s]\n",
      " 36%|███▌      | 36/100 [02:52<04:46,  4.47s/it]"
     ]
    },
    {
     "name": "stdout",
     "output_type": "stream",
     "text": [
      "Old value: 0.575195\n",
      "New value: [0.01123]\n"
     ]
    },
    {
     "name": "stderr",
     "output_type": "stream",
     "text": [
      "\n",
      "running generation (cuda:0):   0%|          | 0/1 [00:00<?, ?it/s]\u001b[A\n",
      "running generation (cuda:0): 100%|██████████| 1/1 [00:01<00:00,  1.21s/it]\u001b[A\n"
     ]
    },
    {
     "name": "stdout",
     "output_type": "stream",
     "text": [
      "['Smoothen the stair railing with the angle grinder in your hand']\n",
      "[\"The stair railing has been successfully smoothened with the angle grinder in someone's hand.\"]\n",
      "===================\n"
     ]
    },
    {
     "name": "stderr",
     "output_type": "stream",
     "text": [
      "\n",
      "running generation (cuda:0):   0%|          | 0/1 [00:00<?, ?it/s]\u001b[A\n",
      "running generation (cuda:0): 100%|██████████| 1/1 [00:01<00:00,  1.20s/it]\u001b[A\n",
      "\n",
      "running generation (cuda:0):   0%|          | 0/1 [00:00<?, ?it/s]\u001b[A\n",
      "running generation (cuda:0): 100%|██████████| 1/1 [00:01<00:00,  1.20s/it]\u001b[A\n",
      "\n",
      "running NLI (cuda:0): 100%|██████████| 1/1 [00:00<00:00, 17.17it/s]\n",
      "\n",
      "running NLI (cuda:0): 100%|██████████| 1/1 [00:00<00:00, 17.13it/s]\n",
      "\n",
      "running generation (cuda:0): 0it [00:00, ?it/s]\u001b[A\n",
      "\n",
      "running NLI (cuda:0): 100%|██████████| 1/1 [00:00<00:00, 17.22it/s]\n",
      "\n",
      "running NLI (cuda:0): 100%|██████████| 1/1 [00:00<00:00, 17.07it/s]\n",
      " 37%|███▋      | 37/100 [02:56<04:30,  4.29s/it]"
     ]
    },
    {
     "name": "stdout",
     "output_type": "stream",
     "text": [
      "Old value: 0.732422\n",
      "New value: [0.539551]\n"
     ]
    },
    {
     "name": "stderr",
     "output_type": "stream",
     "text": [
      "\n",
      "running generation (cuda:0):   0%|          | 0/1 [00:00<?, ?it/s]\u001b[A\n",
      "running generation (cuda:0): 100%|██████████| 1/1 [00:01<00:00,  1.20s/it]\u001b[A\n"
     ]
    },
    {
     "name": "stdout",
     "output_type": "stream",
     "text": [
      "['Pick spoon from counter']\n",
      "['The spoon has been successfully picked from the counter.']\n",
      "===================\n"
     ]
    },
    {
     "name": "stderr",
     "output_type": "stream",
     "text": [
      "\n",
      "running generation (cuda:0):   0%|          | 0/1 [00:00<?, ?it/s]\u001b[A\n",
      "running generation (cuda:0): 100%|██████████| 1/1 [00:01<00:00,  1.20s/it]\u001b[A\n",
      "\n",
      "running generation (cuda:0):   0%|          | 0/1 [00:00<?, ?it/s]\u001b[A\n",
      "running generation (cuda:0): 100%|██████████| 1/1 [00:01<00:00,  1.21s/it]\u001b[A\n",
      "\n",
      "running NLI (cuda:0): 100%|██████████| 1/1 [00:00<00:00, 17.20it/s]\n",
      "\n",
      "running NLI (cuda:0): 100%|██████████| 1/1 [00:00<00:00, 17.46it/s]\n",
      "\n",
      "running generation (cuda:0):   0%|          | 0/1 [00:00<?, ?it/s]\u001b[A\n",
      "running generation (cuda:0): 100%|██████████| 1/1 [00:02<00:00,  2.38s/it]\u001b[A\n",
      "\n",
      "running NLI (cuda:0): 100%|██████████| 1/1 [00:00<00:00, 17.05it/s]\n",
      "\n",
      "running NLI (cuda:0): 100%|██████████| 1/1 [00:00<00:00, 16.69it/s]\n",
      " 38%|███▊      | 38/100 [03:02<05:02,  4.88s/it]"
     ]
    },
    {
     "name": "stdout",
     "output_type": "stream",
     "text": [
      "Old value: 0.960938\n",
      "New value: [0.993652]\n"
     ]
    },
    {
     "name": "stderr",
     "output_type": "stream",
     "text": [
      "\n",
      "running generation (cuda:0):   0%|          | 0/1 [00:00<?, ?it/s]\u001b[A\n",
      "running generation (cuda:0): 100%|██████████| 1/1 [00:01<00:00,  1.21s/it]\u001b[A\n"
     ]
    },
    {
     "name": "stdout",
     "output_type": "stream",
     "text": [
      "['Drop the mallet and the chisel in the cabinet drawer with your hand']\n",
      "['The mallet and the chisel have been successfully dropped in the cabinet drawer with your hand.']\n",
      "===================\n"
     ]
    },
    {
     "name": "stderr",
     "output_type": "stream",
     "text": [
      "\n",
      "running generation (cuda:0):   0%|          | 0/1 [00:00<?, ?it/s]\u001b[A\n",
      "running generation (cuda:0): 100%|██████████| 1/1 [00:01<00:00,  1.20s/it]\u001b[A\n",
      "\n",
      "running generation (cuda:0):   0%|          | 0/1 [00:00<?, ?it/s]\u001b[A\n",
      "running generation (cuda:0): 100%|██████████| 1/1 [00:01<00:00,  1.20s/it]\u001b[A\n",
      "\n",
      "running NLI (cuda:0): 100%|██████████| 1/1 [00:00<00:00, 16.73it/s]\n",
      "\n",
      "running NLI (cuda:0): 100%|██████████| 1/1 [00:00<00:00, 16.78it/s]\n",
      "\n",
      "running generation (cuda:0):   0%|          | 0/1 [00:00<?, ?it/s]\u001b[A\n",
      "running generation (cuda:0): 100%|██████████| 1/1 [00:01<00:00,  1.21s/it]\u001b[A\n",
      "\n",
      "running NLI (cuda:0): 100%|██████████| 1/1 [00:00<00:00, 16.92it/s]\n",
      "\n",
      "running NLI (cuda:0): 100%|██████████| 1/1 [00:00<00:00, 16.72it/s]\n",
      " 39%|███▉      | 39/100 [03:08<05:01,  4.95s/it]"
     ]
    },
    {
     "name": "stdout",
     "output_type": "stream",
     "text": [
      "Old value: 0.099609\n",
      "New value: [0.002441]\n"
     ]
    },
    {
     "name": "stderr",
     "output_type": "stream",
     "text": [
      "\n",
      "running generation (cuda:0):   0%|          | 0/1 [00:00<?, ?it/s]\u001b[A\n",
      "running generation (cuda:0): 100%|██████████| 1/1 [00:01<00:00,  1.21s/it]\u001b[A\n"
     ]
    },
    {
     "name": "stdout",
     "output_type": "stream",
     "text": [
      "['Tie the plant with a paper']\n",
      "['The plant has been successfully tied with a paper.']\n",
      "===================\n"
     ]
    },
    {
     "name": "stderr",
     "output_type": "stream",
     "text": [
      "\n",
      "running generation (cuda:0):   0%|          | 0/1 [00:00<?, ?it/s]\u001b[A\n",
      "running generation (cuda:0): 100%|██████████| 1/1 [00:01<00:00,  1.21s/it]\u001b[A\n",
      "\n",
      "running generation (cuda:0):   0%|          | 0/1 [00:00<?, ?it/s]\u001b[A\n",
      "running generation (cuda:0): 100%|██████████| 1/1 [00:01<00:00,  1.20s/it]\u001b[A\n",
      "\n",
      "running NLI (cuda:0): 100%|██████████| 1/1 [00:00<00:00, 16.70it/s]\n",
      "\n",
      "running NLI (cuda:0): 100%|██████████| 1/1 [00:00<00:00, 16.96it/s]\n",
      "\n",
      "running generation (cuda:0):   0%|          | 0/1 [00:00<?, ?it/s]\u001b[A\n",
      "running generation (cuda:0): 100%|██████████| 1/1 [00:01<00:00,  1.20s/it]\u001b[A\n",
      "\n",
      "running NLI (cuda:0): 100%|██████████| 1/1 [00:00<00:00, 17.00it/s]\n",
      "\n",
      "running NLI (cuda:0): 100%|██████████| 1/1 [00:00<00:00, 17.03it/s]\n",
      " 40%|████      | 40/100 [03:13<04:59,  4.99s/it]"
     ]
    },
    {
     "name": "stdout",
     "output_type": "stream",
     "text": [
      "Old value: 0.928711\n",
      "New value: [0.979004]\n"
     ]
    },
    {
     "name": "stderr",
     "output_type": "stream",
     "text": [
      "\n",
      "running generation (cuda:0):   0%|          | 0/1 [00:00<?, ?it/s]\u001b[A\n",
      "running generation (cuda:0): 100%|██████████| 1/1 [00:01<00:00,  1.20s/it]\u001b[A\n"
     ]
    },
    {
     "name": "stdout",
     "output_type": "stream",
     "text": [
      "['Drop the twigs in the dustbin']\n",
      "['The twigs have been successfully dropped in the dustbin.']\n",
      "===================\n"
     ]
    },
    {
     "name": "stderr",
     "output_type": "stream",
     "text": [
      "\n",
      "running generation (cuda:0):   0%|          | 0/1 [00:00<?, ?it/s]\u001b[A\n",
      "running generation (cuda:0): 100%|██████████| 1/1 [00:01<00:00,  1.20s/it]\u001b[A\n",
      "\n",
      "running generation (cuda:0):   0%|          | 0/1 [00:00<?, ?it/s]\u001b[A\n",
      "running generation (cuda:0): 100%|██████████| 1/1 [00:01<00:00,  1.20s/it]\u001b[A\n",
      "\n",
      "running NLI (cuda:0): 100%|██████████| 1/1 [00:00<00:00, 16.76it/s]\n",
      "\n",
      "running NLI (cuda:0): 100%|██████████| 1/1 [00:00<00:00, 17.05it/s]\n",
      "\n",
      "running generation (cuda:0): 0it [00:00, ?it/s]\u001b[A\n",
      "\n",
      "running NLI (cuda:0): 100%|██████████| 1/1 [00:00<00:00, 17.18it/s]\n",
      "\n",
      "running NLI (cuda:0): 100%|██████████| 1/1 [00:00<00:00, 17.18it/s]\n",
      " 41%|████      | 41/100 [03:16<04:34,  4.65s/it]"
     ]
    },
    {
     "name": "stdout",
     "output_type": "stream",
     "text": [
      "Old value: 0.152344\n",
      "New value: [0.001465]\n"
     ]
    },
    {
     "name": "stderr",
     "output_type": "stream",
     "text": [
      "\n",
      "running generation (cuda:0):   0%|          | 0/1 [00:00<?, ?it/s]\u001b[A\n",
      "running generation (cuda:0): 100%|██████████| 1/1 [00:01<00:00,  1.20s/it]\u001b[A\n"
     ]
    },
    {
     "name": "stdout",
     "output_type": "stream",
     "text": [
      "['Hold the cobbler needle with the plier']\n",
      "['The cobbler needle has been successfully held with the plier.']\n",
      "===================\n"
     ]
    },
    {
     "name": "stderr",
     "output_type": "stream",
     "text": [
      "\n",
      "running generation (cuda:0):   0%|          | 0/1 [00:00<?, ?it/s]\u001b[A\n",
      "running generation (cuda:0): 100%|██████████| 1/1 [00:01<00:00,  1.20s/it]\u001b[A\n",
      "\n",
      "running generation (cuda:0):   0%|          | 0/1 [00:00<?, ?it/s]\u001b[A\n",
      "running generation (cuda:0): 100%|██████████| 1/1 [00:01<00:00,  1.21s/it]\u001b[A\n",
      "\n",
      "running NLI (cuda:0): 100%|██████████| 1/1 [00:00<00:00, 17.05it/s]\n",
      "\n",
      "running NLI (cuda:0): 100%|██████████| 1/1 [00:00<00:00, 16.75it/s]\n",
      "\n",
      "running generation (cuda:0): 0it [00:00, ?it/s]\u001b[A\n",
      "\n",
      "running NLI (cuda:0): 100%|██████████| 1/1 [00:00<00:00, 16.98it/s]\n",
      "\n",
      "running NLI (cuda:0): 100%|██████████| 1/1 [00:00<00:00, 16.87it/s]\n",
      " 42%|████▏     | 42/100 [03:20<04:16,  4.42s/it]"
     ]
    },
    {
     "name": "stdout",
     "output_type": "stream",
     "text": [
      "Old value: 0.969727\n",
      "New value: [0.921875]\n"
     ]
    },
    {
     "name": "stderr",
     "output_type": "stream",
     "text": [
      "\n",
      "running generation (cuda:0):   0%|          | 0/1 [00:00<?, ?it/s]\u001b[A\n",
      "running generation (cuda:0): 100%|██████████| 1/1 [00:01<00:00,  1.21s/it]\u001b[A\n"
     ]
    },
    {
     "name": "stdout",
     "output_type": "stream",
     "text": [
      "['Pick the paper on the table']\n",
      "['The paper has been successfully picked from the table.']\n",
      "===================\n"
     ]
    },
    {
     "name": "stderr",
     "output_type": "stream",
     "text": [
      "\n",
      "running generation (cuda:0):   0%|          | 0/1 [00:00<?, ?it/s]\u001b[A\n",
      "running generation (cuda:0): 100%|██████████| 1/1 [00:01<00:00,  1.19s/it]\u001b[A\n",
      "\n",
      "running generation (cuda:0):   0%|          | 0/1 [00:00<?, ?it/s]\u001b[A\n",
      "running generation (cuda:0): 100%|██████████| 1/1 [00:01<00:00,  1.20s/it]\u001b[A\n",
      "\n",
      "running NLI (cuda:0): 100%|██████████| 1/1 [00:00<00:00, 16.86it/s]\n",
      "\n",
      "running NLI (cuda:0): 100%|██████████| 1/1 [00:00<00:00, 16.84it/s]\n",
      "\n",
      "running generation (cuda:0):   0%|          | 0/1 [00:00<?, ?it/s]\u001b[A\n",
      "running generation (cuda:0): 100%|██████████| 1/1 [00:02<00:00,  2.46s/it]\u001b[A\n",
      "\n",
      "running NLI (cuda:0): 100%|██████████| 1/1 [00:00<00:00, 16.86it/s]\n",
      "\n",
      "running NLI (cuda:0): 100%|██████████| 1/1 [00:00<00:00, 16.35it/s]\n",
      " 43%|████▎     | 43/100 [03:27<04:44,  5.00s/it]"
     ]
    },
    {
     "name": "stdout",
     "output_type": "stream",
     "text": [
      "Old value: 0.027344\n",
      "New value: [0.082031]\n"
     ]
    },
    {
     "name": "stderr",
     "output_type": "stream",
     "text": [
      "\n",
      "running generation (cuda:0):   0%|          | 0/1 [00:00<?, ?it/s]\u001b[A\n",
      "running generation (cuda:0): 100%|██████████| 1/1 [00:01<00:00,  1.21s/it]\u001b[A\n"
     ]
    },
    {
     "name": "stdout",
     "output_type": "stream",
     "text": [
      "['Cut the piece of meat with the knife in your hand']\n",
      "[\"The piece of meat has been successfully cut with the knife in someone's hand.\"]\n",
      "===================\n"
     ]
    },
    {
     "name": "stderr",
     "output_type": "stream",
     "text": [
      "\n",
      "running generation (cuda:0):   0%|          | 0/1 [00:00<?, ?it/s]\u001b[A\n",
      "running generation (cuda:0): 100%|██████████| 1/1 [00:01<00:00,  1.21s/it]\u001b[A\n",
      "\n",
      "running generation (cuda:0):   0%|          | 0/1 [00:00<?, ?it/s]\u001b[A\n",
      "running generation (cuda:0): 100%|██████████| 1/1 [00:01<00:00,  1.20s/it]\u001b[A\n",
      "\n",
      "running NLI (cuda:0): 100%|██████████| 1/1 [00:00<00:00, 17.28it/s]\n",
      "\n",
      "running NLI (cuda:0): 100%|██████████| 1/1 [00:00<00:00, 17.22it/s]\n",
      "\n",
      "running generation (cuda:0): 0it [00:00, ?it/s]\u001b[A\n",
      "\n",
      "running NLI (cuda:0): 100%|██████████| 1/1 [00:00<00:00, 16.91it/s]\n",
      "\n",
      "running NLI (cuda:0): 100%|██████████| 1/1 [00:00<00:00, 17.06it/s]\n",
      " 44%|████▍     | 44/100 [03:31<04:21,  4.66s/it]"
     ]
    },
    {
     "name": "stdout",
     "output_type": "stream",
     "text": [
      "Old value: 0.385254\n",
      "New value: [0.46582]\n"
     ]
    },
    {
     "name": "stderr",
     "output_type": "stream",
     "text": [
      "\n",
      "running generation (cuda:0):   0%|          | 0/1 [00:00<?, ?it/s]\u001b[A\n",
      "running generation (cuda:0): 100%|██████████| 1/1 [00:01<00:00,  1.20s/it]\u001b[A\n"
     ]
    },
    {
     "name": "stdout",
     "output_type": "stream",
     "text": [
      "['Put sand in the brick mold']\n",
      "['The sand has been successfully put in the brick mold.']\n",
      "===================\n"
     ]
    },
    {
     "name": "stderr",
     "output_type": "stream",
     "text": [
      "\n",
      "running generation (cuda:0):   0%|          | 0/1 [00:00<?, ?it/s]\u001b[A\n",
      "running generation (cuda:0): 100%|██████████| 1/1 [00:01<00:00,  1.20s/it]\u001b[A\n",
      "\n",
      "running generation (cuda:0):   0%|          | 0/1 [00:00<?, ?it/s]\u001b[A\n",
      "running generation (cuda:0): 100%|██████████| 1/1 [00:01<00:00,  1.20s/it]\u001b[A\n",
      "\n",
      "running NLI (cuda:0): 100%|██████████| 1/1 [00:00<00:00, 17.17it/s]\n",
      "\n",
      "running NLI (cuda:0): 100%|██████████| 1/1 [00:00<00:00, 16.98it/s]\n",
      "\n",
      "running generation (cuda:0): 0it [00:00, ?it/s]\u001b[A\n",
      "\n",
      "running NLI (cuda:0): 100%|██████████| 1/1 [00:00<00:00, 16.77it/s]\n",
      "\n",
      "running NLI (cuda:0): 100%|██████████| 1/1 [00:00<00:00, 16.64it/s]\n",
      " 45%|████▌     | 45/100 [03:34<04:03,  4.42s/it]"
     ]
    },
    {
     "name": "stdout",
     "output_type": "stream",
     "text": [
      "Old value: 0.136719\n",
      "New value: [0.162109]\n"
     ]
    },
    {
     "name": "stderr",
     "output_type": "stream",
     "text": [
      "\n",
      "running generation (cuda:0):   0%|          | 0/1 [00:00<?, ?it/s]\u001b[A\n",
      "running generation (cuda:0): 100%|██████████| 1/1 [00:01<00:00,  1.15s/it]\u001b[A\n"
     ]
    },
    {
     "name": "stdout",
     "output_type": "stream",
     "text": [
      "['Take some paint from the cup with the putty knife scraper']\n",
      "['The paint has been successfully taken from the cup with the putty knife scraper.']\n",
      "===================\n"
     ]
    },
    {
     "name": "stderr",
     "output_type": "stream",
     "text": [
      "\n",
      "running generation (cuda:0):   0%|          | 0/1 [00:00<?, ?it/s]\u001b[A\n",
      "running generation (cuda:0): 100%|██████████| 1/1 [00:01<00:00,  1.20s/it]\u001b[A\n",
      "\n",
      "running generation (cuda:0):   0%|          | 0/1 [00:00<?, ?it/s]\u001b[A\n",
      "running generation (cuda:0): 100%|██████████| 1/1 [00:01<00:00,  1.21s/it]\u001b[A\n",
      "\n",
      "running NLI (cuda:0): 100%|██████████| 1/1 [00:00<00:00, 16.73it/s]\n",
      "\n",
      "running NLI (cuda:0): 100%|██████████| 1/1 [00:00<00:00, 16.85it/s]\n",
      "\n",
      "running generation (cuda:0): 0it [00:00, ?it/s]\u001b[A\n",
      "\n",
      "running NLI (cuda:0): 100%|██████████| 1/1 [00:00<00:00, 16.91it/s]\n",
      "\n",
      "running NLI (cuda:0): 100%|██████████| 1/1 [00:00<00:00, 16.97it/s]\n",
      " 46%|████▌     | 46/100 [03:38<03:49,  4.24s/it]"
     ]
    },
    {
     "name": "stdout",
     "output_type": "stream",
     "text": [
      "Old value: 0.358398\n",
      "New value: [0.020996]\n"
     ]
    },
    {
     "name": "stderr",
     "output_type": "stream",
     "text": [
      "\n",
      "running generation (cuda:0):   0%|          | 0/1 [00:00<?, ?it/s]\u001b[A\n",
      "running generation (cuda:0): 100%|██████████| 1/1 [00:01<00:00,  1.20s/it]\u001b[A\n"
     ]
    },
    {
     "name": "stdout",
     "output_type": "stream",
     "text": [
      "['Cut a portion of the concrete from a heap of concrete with your hands']\n",
      "[\"A portion of the concrete has been successfully cut from a heap of concrete with someone's hands.\"]\n",
      "===================\n"
     ]
    },
    {
     "name": "stderr",
     "output_type": "stream",
     "text": [
      "\n",
      "running generation (cuda:0):   0%|          | 0/1 [00:00<?, ?it/s]\u001b[A\n",
      "running generation (cuda:0): 100%|██████████| 1/1 [00:01<00:00,  1.21s/it]\u001b[A\n",
      "\n",
      "running generation (cuda:0):   0%|          | 0/1 [00:00<?, ?it/s]\u001b[A\n",
      "running generation (cuda:0): 100%|██████████| 1/1 [00:01<00:00,  1.21s/it]\u001b[A\n",
      "\n",
      "running NLI (cuda:0): 100%|██████████| 1/1 [00:00<00:00, 16.88it/s]\n",
      "\n",
      "running NLI (cuda:0): 100%|██████████| 1/1 [00:00<00:00, 17.22it/s]\n",
      "\n",
      "running generation (cuda:0):   0%|          | 0/1 [00:00<?, ?it/s]\u001b[A\n",
      "running generation (cuda:0): 100%|██████████| 1/1 [00:01<00:00,  1.20s/it]\u001b[A\n",
      "\n",
      "running NLI (cuda:0): 100%|██████████| 1/1 [00:00<00:00, 17.28it/s]\n",
      "\n",
      "running NLI (cuda:0): 100%|██████████| 1/1 [00:00<00:00, 17.05it/s]\n",
      " 47%|████▋     | 47/100 [03:43<03:58,  4.49s/it]"
     ]
    },
    {
     "name": "stdout",
     "output_type": "stream",
     "text": [
      "Old value: 0.990723\n",
      "New value: [0.978516]\n"
     ]
    },
    {
     "name": "stderr",
     "output_type": "stream",
     "text": [
      "\n",
      "running generation (cuda:0):   0%|          | 0/1 [00:00<?, ?it/s]\u001b[A\n",
      "running generation (cuda:0): 100%|██████████| 1/1 [00:00<00:00,  1.42it/s]\u001b[A\n"
     ]
    },
    {
     "name": "stdout",
     "output_type": "stream",
     "text": [
      "['Put a drink in the glass']\n",
      "['The drink has been successfully put in the glass.']\n",
      "===================\n"
     ]
    },
    {
     "name": "stderr",
     "output_type": "stream",
     "text": [
      "\n",
      "running generation (cuda:0):   0%|          | 0/1 [00:00<?, ?it/s]\u001b[A\n",
      "running generation (cuda:0): 100%|██████████| 1/1 [00:01<00:00,  1.20s/it]\u001b[A\n",
      "\n",
      "running generation (cuda:0):   0%|          | 0/1 [00:00<?, ?it/s]\u001b[A\n",
      "running generation (cuda:0): 100%|██████████| 1/1 [00:01<00:00,  1.20s/it]\u001b[A\n",
      "\n",
      "running NLI (cuda:0): 100%|██████████| 1/1 [00:00<00:00, 16.92it/s]\n",
      "\n",
      "running NLI (cuda:0): 100%|██████████| 1/1 [00:00<00:00, 17.04it/s]\n",
      "\n",
      "running generation (cuda:0):   0%|          | 0/1 [00:00<?, ?it/s]\u001b[A\n",
      "running generation (cuda:0): 100%|██████████| 1/1 [00:02<00:00,  2.37s/it]\u001b[A\n",
      "\n",
      "running NLI (cuda:0): 100%|██████████| 1/1 [00:00<00:00, 17.23it/s]\n",
      "\n",
      "running NLI (cuda:0): 100%|██████████| 1/1 [00:00<00:00, 17.01it/s]\n",
      " 48%|████▊     | 48/100 [03:49<04:13,  4.87s/it]"
     ]
    },
    {
     "name": "stdout",
     "output_type": "stream",
     "text": [
      "Old value: 0.008789\n",
      "New value: [0.010742]\n"
     ]
    },
    {
     "name": "stderr",
     "output_type": "stream",
     "text": [
      "\n",
      "running generation (cuda:0):   0%|          | 0/1 [00:00<?, ?it/s]\u001b[A\n",
      "running generation (cuda:0): 100%|██████████| 1/1 [00:01<00:00,  1.21s/it]\u001b[A\n"
     ]
    },
    {
     "name": "stdout",
     "output_type": "stream",
     "text": [
      "['Dip the napkin in the bucket of water']\n",
      "['The napkin has been successfully dipped in the bucket of water.']\n",
      "===================\n"
     ]
    },
    {
     "name": "stderr",
     "output_type": "stream",
     "text": [
      "\n",
      "running generation (cuda:0):   0%|          | 0/1 [00:00<?, ?it/s]\u001b[A\n",
      "running generation (cuda:0): 100%|██████████| 1/1 [00:01<00:00,  1.20s/it]\u001b[A\n",
      "\n",
      "running generation (cuda:0):   0%|          | 0/1 [00:00<?, ?it/s]\u001b[A\n",
      "running generation (cuda:0): 100%|██████████| 1/1 [00:01<00:00,  1.21s/it]\u001b[A\n",
      "\n",
      "running NLI (cuda:0): 100%|██████████| 1/1 [00:00<00:00, 16.64it/s]\n",
      "\n",
      "running NLI (cuda:0): 100%|██████████| 1/1 [00:00<00:00, 16.95it/s]\n",
      "\n",
      "running generation (cuda:0): 0it [00:00, ?it/s]\u001b[A\n",
      "\n",
      "running NLI (cuda:0): 100%|██████████| 1/1 [00:00<00:00, 17.08it/s]\n",
      "\n",
      "running NLI (cuda:0): 100%|██████████| 1/1 [00:00<00:00, 16.95it/s]\n",
      " 49%|████▉     | 49/100 [03:53<03:53,  4.57s/it]"
     ]
    },
    {
     "name": "stdout",
     "output_type": "stream",
     "text": [
      "Old value: 0.337891\n",
      "New value: [0.041016]\n"
     ]
    },
    {
     "name": "stderr",
     "output_type": "stream",
     "text": [
      "\n",
      "running generation (cuda:0):   0%|          | 0/1 [00:00<?, ?it/s]\u001b[A\n",
      "running generation (cuda:0): 100%|██████████| 1/1 [00:00<00:00,  1.43it/s]\u001b[A\n"
     ]
    },
    {
     "name": "stdout",
     "output_type": "stream",
     "text": [
      "['Close the refrigerator']\n",
      "['The refrigerator has been successfully closed.']\n",
      "===================\n"
     ]
    },
    {
     "name": "stderr",
     "output_type": "stream",
     "text": [
      "\n",
      "running generation (cuda:0):   0%|          | 0/1 [00:00<?, ?it/s]\u001b[A\n",
      "running generation (cuda:0): 100%|██████████| 1/1 [00:01<00:00,  1.19s/it]\u001b[A\n",
      "\n",
      "running generation (cuda:0):   0%|          | 0/1 [00:00<?, ?it/s]\u001b[A\n",
      "running generation (cuda:0): 100%|██████████| 1/1 [00:01<00:00,  1.20s/it]\u001b[A\n",
      "\n",
      "running NLI (cuda:0): 100%|██████████| 1/1 [00:00<00:00, 17.31it/s]\n",
      "\n",
      "running NLI (cuda:0): 100%|██████████| 1/1 [00:00<00:00, 17.06it/s]\n",
      "\n",
      "running generation (cuda:0):   0%|          | 0/1 [00:00<?, ?it/s]\u001b[A\n",
      "running generation (cuda:0): 100%|██████████| 1/1 [00:01<00:00,  1.19s/it]\u001b[A\n",
      "\n",
      "running NLI (cuda:0): 100%|██████████| 1/1 [00:00<00:00, 17.47it/s]\n",
      "\n",
      "running NLI (cuda:0): 100%|██████████| 1/1 [00:00<00:00, 17.27it/s]\n",
      " 50%|█████     | 50/100 [03:57<03:48,  4.56s/it]"
     ]
    },
    {
     "name": "stdout",
     "output_type": "stream",
     "text": [
      "Old value: 0.377441\n",
      "New value: [0.266602]\n"
     ]
    },
    {
     "name": "stderr",
     "output_type": "stream",
     "text": [
      "\n",
      "running generation (cuda:0):   0%|          | 0/1 [00:00<?, ?it/s]\u001b[A\n",
      "running generation (cuda:0): 100%|██████████| 1/1 [00:01<00:00,  1.21s/it]\u001b[A\n"
     ]
    },
    {
     "name": "stdout",
     "output_type": "stream",
     "text": [
      "['Drop the foam on the hanger on the sink']\n",
      "['The foam has been successfully dropped on the hanger on the sink.']\n",
      "===================\n"
     ]
    },
    {
     "name": "stderr",
     "output_type": "stream",
     "text": [
      "\n",
      "running generation (cuda:0):   0%|          | 0/1 [00:00<?, ?it/s]\u001b[A\n",
      "running generation (cuda:0): 100%|██████████| 1/1 [00:01<00:00,  1.20s/it]\u001b[A\n",
      "\n",
      "running generation (cuda:0):   0%|          | 0/1 [00:00<?, ?it/s]\u001b[A\n",
      "running generation (cuda:0): 100%|██████████| 1/1 [00:01<00:00,  1.21s/it]\u001b[A\n",
      "\n",
      "running NLI (cuda:0): 100%|██████████| 1/1 [00:00<00:00, 16.92it/s]\n",
      "\n",
      "running NLI (cuda:0): 100%|██████████| 1/1 [00:00<00:00, 16.83it/s]\n",
      "\n",
      "running generation (cuda:0): 0it [00:00, ?it/s]\u001b[A\n",
      "\n",
      "running NLI (cuda:0): 100%|██████████| 1/1 [00:00<00:00, 17.01it/s]\n",
      "\n",
      "running NLI (cuda:0): 100%|██████████| 1/1 [00:00<00:00, 16.89it/s]\n",
      " 51%|█████     | 51/100 [04:01<03:33,  4.36s/it]"
     ]
    },
    {
     "name": "stdout",
     "output_type": "stream",
     "text": [
      "Old value: 0.509766\n",
      "New value: [0.068848]\n"
     ]
    },
    {
     "name": "stderr",
     "output_type": "stream",
     "text": [
      "\n",
      "running generation (cuda:0):   0%|          | 0/1 [00:00<?, ?it/s]\u001b[A\n",
      "running generation (cuda:0): 100%|██████████| 1/1 [00:01<00:00,  1.19s/it]\u001b[A\n"
     ]
    },
    {
     "name": "stdout",
     "output_type": "stream",
     "text": [
      "['Plug the plug on the socket with your hand']\n",
      "['The plug has been successfully plugged in the socket with your hand.']\n",
      "===================\n"
     ]
    },
    {
     "name": "stderr",
     "output_type": "stream",
     "text": [
      "\n",
      "running generation (cuda:0):   0%|          | 0/1 [00:00<?, ?it/s]\u001b[A\n",
      "running generation (cuda:0): 100%|██████████| 1/1 [00:01<00:00,  1.20s/it]\u001b[A\n",
      "\n",
      "running generation (cuda:0):   0%|          | 0/1 [00:00<?, ?it/s]\u001b[A\n",
      "running generation (cuda:0): 100%|██████████| 1/1 [00:01<00:00,  1.20s/it]\u001b[A\n",
      "\n",
      "running NLI (cuda:0): 100%|██████████| 1/1 [00:00<00:00, 17.19it/s]\n",
      "\n",
      "running NLI (cuda:0): 100%|██████████| 1/1 [00:00<00:00, 16.74it/s]\n",
      "\n",
      "running generation (cuda:0):   0%|          | 0/1 [00:00<?, ?it/s]\u001b[A\n",
      "running generation (cuda:0): 100%|██████████| 1/1 [00:01<00:00,  1.20s/it]\u001b[A\n",
      "\n",
      "running NLI (cuda:0): 100%|██████████| 1/1 [00:00<00:00, 16.90it/s]\n",
      "\n",
      "running NLI (cuda:0): 100%|██████████| 1/1 [00:00<00:00, 16.84it/s]\n",
      " 52%|█████▏    | 52/100 [04:06<03:39,  4.57s/it]"
     ]
    },
    {
     "name": "stdout",
     "output_type": "stream",
     "text": [
      "Old value: 0.620117\n",
      "New value: [0.90332]\n"
     ]
    },
    {
     "name": "stderr",
     "output_type": "stream",
     "text": [
      "\n",
      "running generation (cuda:0):   0%|          | 0/1 [00:00<?, ?it/s]\u001b[A\n",
      "running generation (cuda:0): 100%|██████████| 1/1 [00:01<00:00,  1.21s/it]\u001b[A\n"
     ]
    },
    {
     "name": "stdout",
     "output_type": "stream",
     "text": [
      "['Pick a rag from the car lift with your hand']\n",
      "['The rag has been successfully picked from the car lift with your hand.']\n",
      "===================\n"
     ]
    },
    {
     "name": "stderr",
     "output_type": "stream",
     "text": [
      "\n",
      "running generation (cuda:0):   0%|          | 0/1 [00:00<?, ?it/s]\u001b[A\n",
      "running generation (cuda:0): 100%|██████████| 1/1 [00:01<00:00,  1.21s/it]\u001b[A\n",
      "\n",
      "running generation (cuda:0):   0%|          | 0/1 [00:00<?, ?it/s]\u001b[A\n",
      "running generation (cuda:0): 100%|██████████| 1/1 [00:01<00:00,  1.21s/it]\u001b[A\n",
      "\n",
      "running NLI (cuda:0): 100%|██████████| 1/1 [00:00<00:00, 17.06it/s]\n",
      "\n",
      "running NLI (cuda:0): 100%|██████████| 1/1 [00:00<00:00, 17.02it/s]\n",
      "\n",
      "running generation (cuda:0): 0it [00:00, ?it/s]\u001b[A\n",
      "\n",
      "running NLI (cuda:0): 100%|██████████| 1/1 [00:00<00:00, 16.63it/s]\n",
      "\n",
      "running NLI (cuda:0): 100%|██████████| 1/1 [00:00<00:00, 17.11it/s]\n",
      " 53%|█████▎    | 53/100 [04:10<03:25,  4.37s/it]"
     ]
    },
    {
     "name": "stdout",
     "output_type": "stream",
     "text": [
      "Old value: 0.196777\n",
      "New value: [0.012695]\n"
     ]
    },
    {
     "name": "stderr",
     "output_type": "stream",
     "text": [
      "\n",
      "running generation (cuda:0):   0%|          | 0/1 [00:00<?, ?it/s]\u001b[A\n",
      "running generation (cuda:0): 100%|██████████| 1/1 [00:01<00:00,  1.21s/it]\u001b[A\n"
     ]
    },
    {
     "name": "stdout",
     "output_type": "stream",
     "text": [
      "['Pack sand from the ground']\n",
      "['The sand has been successfully packed from the ground.']\n",
      "===================\n"
     ]
    },
    {
     "name": "stderr",
     "output_type": "stream",
     "text": [
      "\n",
      "running generation (cuda:0):   0%|          | 0/1 [00:00<?, ?it/s]\u001b[A\n",
      "running generation (cuda:0): 100%|██████████| 1/1 [00:01<00:00,  1.21s/it]\u001b[A\n",
      "\n",
      "running generation (cuda:0):   0%|          | 0/1 [00:00<?, ?it/s]\u001b[A\n",
      "running generation (cuda:0): 100%|██████████| 1/1 [00:01<00:00,  1.21s/it]\u001b[A\n",
      "\n",
      "running NLI (cuda:0): 100%|██████████| 1/1 [00:00<00:00, 16.99it/s]\n",
      "\n",
      "running NLI (cuda:0): 100%|██████████| 1/1 [00:00<00:00, 16.73it/s]\n",
      "\n",
      "running generation (cuda:0):   0%|          | 0/1 [00:00<?, ?it/s]\u001b[A\n",
      "running generation (cuda:0): 100%|██████████| 1/1 [00:01<00:00,  1.20s/it]\u001b[A\n",
      "\n",
      "running NLI (cuda:0): 100%|██████████| 1/1 [00:00<00:00, 17.07it/s]\n",
      "\n",
      "running NLI (cuda:0): 100%|██████████| 1/1 [00:00<00:00, 16.86it/s]\n",
      " 54%|█████▍    | 54/100 [04:15<03:31,  4.59s/it]"
     ]
    },
    {
     "name": "stdout",
     "output_type": "stream",
     "text": [
      "Old value: 0.906738\n",
      "New value: [0.563477]\n"
     ]
    },
    {
     "name": "stderr",
     "output_type": "stream",
     "text": [
      "\n",
      "running generation (cuda:0):   0%|          | 0/1 [00:00<?, ?it/s]\u001b[A\n",
      "running generation (cuda:0): 100%|██████████| 1/1 [00:01<00:00,  1.22s/it]\u001b[A\n"
     ]
    },
    {
     "name": "stdout",
     "output_type": "stream",
     "text": [
      "['Drop the plastic container under the kitchen table']\n",
      "['The plastic container has been successfully dropped under the kitchen table.']\n",
      "===================\n"
     ]
    },
    {
     "name": "stderr",
     "output_type": "stream",
     "text": [
      "\n",
      "running generation (cuda:0):   0%|          | 0/1 [00:00<?, ?it/s]\u001b[A\n",
      "running generation (cuda:0): 100%|██████████| 1/1 [00:01<00:00,  1.21s/it]\u001b[A\n",
      "\n",
      "running generation (cuda:0):   0%|          | 0/1 [00:00<?, ?it/s]\u001b[A\n",
      "running generation (cuda:0): 100%|██████████| 1/1 [00:01<00:00,  1.21s/it]\u001b[A\n",
      "\n",
      "running NLI (cuda:0): 100%|██████████| 1/1 [00:00<00:00, 16.79it/s]\n",
      "\n",
      "running NLI (cuda:0): 100%|██████████| 1/1 [00:00<00:00, 16.85it/s]\n",
      "\n",
      "running generation (cuda:0):   0%|          | 0/1 [00:00<?, ?it/s]\u001b[A\n",
      "running generation (cuda:0): 100%|██████████| 1/1 [00:01<00:00,  1.19s/it]\u001b[A\n",
      "\n",
      "running NLI (cuda:0): 100%|██████████| 1/1 [00:00<00:00, 17.29it/s]\n",
      "\n",
      "running NLI (cuda:0): 100%|██████████| 1/1 [00:00<00:00, 16.84it/s]\n",
      " 55%|█████▌    | 55/100 [04:21<03:33,  4.74s/it]"
     ]
    },
    {
     "name": "stdout",
     "output_type": "stream",
     "text": [
      "Old value: 0.164551\n",
      "New value: [0.081055]\n"
     ]
    },
    {
     "name": "stderr",
     "output_type": "stream",
     "text": [
      "\n",
      "running generation (cuda:0):   0%|          | 0/1 [00:00<?, ?it/s]\u001b[A\n",
      "running generation (cuda:0): 100%|██████████| 1/1 [00:01<00:00,  1.20s/it]\u001b[A\n"
     ]
    },
    {
     "name": "stdout",
     "output_type": "stream",
     "text": [
      "['Flatten the half of the dough with the dough flattener']\n",
      "['The half of the dough has been successfully flattened with the dough flattener.']\n",
      "===================\n"
     ]
    },
    {
     "name": "stderr",
     "output_type": "stream",
     "text": [
      "\n",
      "running generation (cuda:0):   0%|          | 0/1 [00:00<?, ?it/s]\u001b[A\n",
      "running generation (cuda:0): 100%|██████████| 1/1 [00:01<00:00,  1.21s/it]\u001b[A\n",
      "\n",
      "running generation (cuda:0):   0%|          | 0/1 [00:00<?, ?it/s]\u001b[A\n",
      "running generation (cuda:0): 100%|██████████| 1/1 [00:01<00:00,  1.21s/it]\u001b[A\n",
      "\n",
      "running NLI (cuda:0): 100%|██████████| 1/1 [00:00<00:00, 16.56it/s]\n",
      "\n",
      "running NLI (cuda:0): 100%|██████████| 1/1 [00:00<00:00, 16.95it/s]\n",
      "\n",
      "running generation (cuda:0):   0%|          | 0/1 [00:00<?, ?it/s]\u001b[A\n",
      "running generation (cuda:0): 100%|██████████| 1/1 [00:01<00:00,  1.20s/it]\u001b[A\n",
      "\n",
      "running NLI (cuda:0): 100%|██████████| 1/1 [00:00<00:00, 17.07it/s]\n",
      "\n",
      "running NLI (cuda:0): 100%|██████████| 1/1 [00:00<00:00, 17.02it/s]\n",
      " 56%|█████▌    | 56/100 [04:26<03:33,  4.85s/it]"
     ]
    },
    {
     "name": "stdout",
     "output_type": "stream",
     "text": [
      "Old value: 0.826172\n",
      "New value: [0.493164]\n"
     ]
    },
    {
     "name": "stderr",
     "output_type": "stream",
     "text": [
      "\n",
      "running generation (cuda:0):   0%|          | 0/1 [00:00<?, ?it/s]\u001b[A\n",
      "running generation (cuda:0): 100%|██████████| 1/1 [00:01<00:00,  1.21s/it]\u001b[A\n"
     ]
    },
    {
     "name": "stdout",
     "output_type": "stream",
     "text": [
      "['Pick the nail file with the right hand']\n",
      "['The nail file has been successfully picked with the right hand.']\n",
      "===================\n"
     ]
    },
    {
     "name": "stderr",
     "output_type": "stream",
     "text": [
      "\n",
      "running generation (cuda:0):   0%|          | 0/1 [00:00<?, ?it/s]\u001b[A\n",
      "running generation (cuda:0): 100%|██████████| 1/1 [00:01<00:00,  1.21s/it]\u001b[A\n",
      "\n",
      "running generation (cuda:0):   0%|          | 0/1 [00:00<?, ?it/s]\u001b[A\n",
      "running generation (cuda:0): 100%|██████████| 1/1 [00:01<00:00,  1.21s/it]\u001b[A\n",
      "\n",
      "running NLI (cuda:0): 100%|██████████| 1/1 [00:00<00:00, 16.66it/s]\n",
      "\n",
      "running NLI (cuda:0): 100%|██████████| 1/1 [00:00<00:00, 16.72it/s]\n",
      "\n",
      "running generation (cuda:0): 0it [00:00, ?it/s]\u001b[A\n",
      "\n",
      "running NLI (cuda:0): 100%|██████████| 1/1 [00:00<00:00, 16.75it/s]\n",
      "\n",
      "running NLI (cuda:0): 100%|██████████| 1/1 [00:00<00:00, 16.70it/s]\n",
      " 57%|█████▋    | 57/100 [04:30<03:16,  4.56s/it]"
     ]
    },
    {
     "name": "stdout",
     "output_type": "stream",
     "text": [
      "Old value: 0.914062\n",
      "New value: [0.947266]\n"
     ]
    },
    {
     "name": "stderr",
     "output_type": "stream",
     "text": [
      "\n",
      "running generation (cuda:0):   0%|          | 0/1 [00:00<?, ?it/s]\u001b[A\n",
      "running generation (cuda:0): 100%|██████████| 1/1 [00:01<00:00,  1.21s/it]\u001b[A\n"
     ]
    },
    {
     "name": "stdout",
     "output_type": "stream",
     "text": [
      "['Drop the third carrot on the plate']\n",
      "['The third carrot has been successfully dropped on the plate.']\n",
      "===================\n"
     ]
    },
    {
     "name": "stderr",
     "output_type": "stream",
     "text": [
      "\n",
      "running generation (cuda:0):   0%|          | 0/1 [00:00<?, ?it/s]\u001b[A\n",
      "running generation (cuda:0): 100%|██████████| 1/1 [00:01<00:00,  1.21s/it]\u001b[A\n",
      "\n",
      "running generation (cuda:0):   0%|          | 0/1 [00:00<?, ?it/s]\u001b[A\n",
      "running generation (cuda:0): 100%|██████████| 1/1 [00:01<00:00,  1.21s/it]\u001b[A\n",
      "\n",
      "running NLI (cuda:0): 100%|██████████| 1/1 [00:00<00:00, 16.87it/s]\n",
      "\n",
      "running NLI (cuda:0): 100%|██████████| 1/1 [00:00<00:00, 16.94it/s]\n",
      "\n",
      "running generation (cuda:0):   0%|          | 0/1 [00:00<?, ?it/s]\u001b[A\n",
      "running generation (cuda:0): 100%|██████████| 1/1 [00:01<00:00,  1.21s/it]\u001b[A\n",
      "\n",
      "running NLI (cuda:0): 100%|██████████| 1/1 [00:00<00:00, 16.85it/s]\n",
      "\n",
      "running NLI (cuda:0): 100%|██████████| 1/1 [00:00<00:00, 16.72it/s]\n",
      " 58%|█████▊    | 58/100 [04:35<03:18,  4.73s/it]"
     ]
    },
    {
     "name": "stdout",
     "output_type": "stream",
     "text": [
      "Old value: 0.050781\n",
      "New value: [0.041992]\n"
     ]
    },
    {
     "name": "stderr",
     "output_type": "stream",
     "text": [
      "\n",
      "running generation (cuda:0):   0%|          | 0/1 [00:00<?, ?it/s]\u001b[A\n",
      "running generation (cuda:0): 100%|██████████| 1/1 [00:01<00:00,  1.21s/it]\u001b[A\n"
     ]
    },
    {
     "name": "stdout",
     "output_type": "stream",
     "text": [
      "['Open the door']\n",
      "['The door has been successfully opened.']\n",
      "===================\n"
     ]
    },
    {
     "name": "stderr",
     "output_type": "stream",
     "text": [
      "\n",
      "running generation (cuda:0):   0%|          | 0/1 [00:00<?, ?it/s]\u001b[A\n",
      "running generation (cuda:0): 100%|██████████| 1/1 [00:01<00:00,  1.21s/it]\u001b[A\n",
      "\n",
      "running generation (cuda:0):   0%|          | 0/1 [00:00<?, ?it/s]\u001b[A\n",
      "running generation (cuda:0): 100%|██████████| 1/1 [00:01<00:00,  1.21s/it]\u001b[A\n",
      "\n",
      "running NLI (cuda:0): 100%|██████████| 1/1 [00:00<00:00, 17.10it/s]\n",
      "\n",
      "running NLI (cuda:0): 100%|██████████| 1/1 [00:00<00:00, 16.78it/s]\n",
      "\n",
      "running generation (cuda:0): 0it [00:00, ?it/s]\u001b[A\n",
      "\n",
      "running NLI (cuda:0): 100%|██████████| 1/1 [00:00<00:00, 16.63it/s]\n",
      "\n",
      "running NLI (cuda:0): 100%|██████████| 1/1 [00:00<00:00, 16.85it/s]\n",
      " 59%|█████▉    | 59/100 [04:39<03:03,  4.48s/it]"
     ]
    },
    {
     "name": "stdout",
     "output_type": "stream",
     "text": [
      "Old value: 0.993164\n",
      "New value: [0.999512]\n"
     ]
    },
    {
     "name": "stderr",
     "output_type": "stream",
     "text": [
      "\n",
      "running generation (cuda:0):   0%|          | 0/1 [00:00<?, ?it/s]\u001b[A\n",
      "running generation (cuda:0): 100%|██████████| 1/1 [00:01<00:00,  1.21s/it]\u001b[A\n"
     ]
    },
    {
     "name": "stdout",
     "output_type": "stream",
     "text": [
      "['Place the robot in the dish box']\n",
      "['The robot has been successfully placed in the dish box.']\n",
      "===================\n"
     ]
    },
    {
     "name": "stderr",
     "output_type": "stream",
     "text": [
      "\n",
      "running generation (cuda:0):   0%|          | 0/1 [00:00<?, ?it/s]\u001b[A\n",
      "running generation (cuda:0): 100%|██████████| 1/1 [00:01<00:00,  1.21s/it]\u001b[A\n",
      "\n",
      "running generation (cuda:0):   0%|          | 0/1 [00:00<?, ?it/s]\u001b[A\n",
      "running generation (cuda:0): 100%|██████████| 1/1 [00:01<00:00,  1.21s/it]\u001b[A\n",
      "\n",
      "running NLI (cuda:0): 100%|██████████| 1/1 [00:00<00:00, 17.07it/s]\n",
      "\n",
      "running NLI (cuda:0): 100%|██████████| 1/1 [00:00<00:00, 16.86it/s]\n",
      "\n",
      "running generation (cuda:0):   0%|          | 0/1 [00:00<?, ?it/s]\u001b[A\n",
      "running generation (cuda:0): 100%|██████████| 1/1 [00:01<00:00,  1.21s/it]\u001b[A\n",
      "\n",
      "running NLI (cuda:0): 100%|██████████| 1/1 [00:00<00:00, 17.04it/s]\n",
      "\n",
      "running NLI (cuda:0): 100%|██████████| 1/1 [00:00<00:00, 16.88it/s]\n",
      " 60%|██████    | 60/100 [04:44<03:06,  4.67s/it]"
     ]
    },
    {
     "name": "stdout",
     "output_type": "stream",
     "text": [
      "Old value: 0.428711\n",
      "New value: [0.020508]\n"
     ]
    },
    {
     "name": "stderr",
     "output_type": "stream",
     "text": [
      "\n",
      "running generation (cuda:0):   0%|          | 0/1 [00:00<?, ?it/s]\u001b[A\n",
      "running generation (cuda:0): 100%|██████████| 1/1 [00:01<00:00,  1.22s/it]\u001b[A\n"
     ]
    },
    {
     "name": "stdout",
     "output_type": "stream",
     "text": [
      "['Put your thumb into the hose']\n",
      "['Your thumb has been successfully put into the hose.']\n",
      "===================\n"
     ]
    },
    {
     "name": "stderr",
     "output_type": "stream",
     "text": [
      "\n",
      "running generation (cuda:0):   0%|          | 0/1 [00:00<?, ?it/s]\u001b[A\n",
      "running generation (cuda:0): 100%|██████████| 1/1 [00:01<00:00,  1.21s/it]\u001b[A\n",
      "\n",
      "running generation (cuda:0):   0%|          | 0/1 [00:00<?, ?it/s]\u001b[A\n",
      "running generation (cuda:0): 100%|██████████| 1/1 [00:01<00:00,  1.21s/it]\u001b[A\n",
      "\n",
      "running NLI (cuda:0): 100%|██████████| 1/1 [00:00<00:00, 16.92it/s]\n",
      "\n",
      "running NLI (cuda:0): 100%|██████████| 1/1 [00:00<00:00, 16.67it/s]\n",
      "\n",
      "running generation (cuda:0): 0it [00:00, ?it/s]\u001b[A\n",
      "\n",
      "running NLI (cuda:0): 100%|██████████| 1/1 [00:00<00:00, 16.95it/s]\n",
      "\n",
      "running NLI (cuda:0): 100%|██████████| 1/1 [00:00<00:00, 16.98it/s]\n",
      " 61%|██████    | 61/100 [04:48<02:53,  4.44s/it]"
     ]
    },
    {
     "name": "stdout",
     "output_type": "stream",
     "text": [
      "Old value: 0.979004\n",
      "New value: [0.998047]\n"
     ]
    },
    {
     "name": "stderr",
     "output_type": "stream",
     "text": [
      "\n",
      "running generation (cuda:0):   0%|          | 0/1 [00:00<?, ?it/s]\u001b[A\n",
      "running generation (cuda:0): 100%|██████████| 1/1 [00:01<00:00,  1.22s/it]\u001b[A\n"
     ]
    },
    {
     "name": "stdout",
     "output_type": "stream",
     "text": [
      "['Put iron box on table']\n",
      "['The iron box has been successfully put on the table.']\n",
      "===================\n"
     ]
    },
    {
     "name": "stderr",
     "output_type": "stream",
     "text": [
      "\n",
      "running generation (cuda:0):   0%|          | 0/1 [00:00<?, ?it/s]\u001b[A\n",
      "running generation (cuda:0): 100%|██████████| 1/1 [00:01<00:00,  1.21s/it]\u001b[A\n",
      "\n",
      "running generation (cuda:0):   0%|          | 0/1 [00:00<?, ?it/s]\u001b[A\n",
      "running generation (cuda:0): 100%|██████████| 1/1 [00:01<00:00,  1.21s/it]\u001b[A\n",
      "\n",
      "running NLI (cuda:0): 100%|██████████| 1/1 [00:00<00:00, 16.89it/s]\n",
      "\n",
      "running NLI (cuda:0): 100%|██████████| 1/1 [00:00<00:00, 16.97it/s]\n",
      "\n",
      "running generation (cuda:0): 0it [00:00, ?it/s]\u001b[A\n",
      "\n",
      "running NLI (cuda:0): 100%|██████████| 1/1 [00:00<00:00, 17.28it/s]\n",
      "\n",
      "running NLI (cuda:0): 100%|██████████| 1/1 [00:00<00:00, 17.19it/s]\n",
      " 62%|██████▏   | 62/100 [04:51<02:42,  4.27s/it]"
     ]
    },
    {
     "name": "stdout",
     "output_type": "stream",
     "text": [
      "Old value: 0.989746\n",
      "New value: [0.998535]\n"
     ]
    },
    {
     "name": "stderr",
     "output_type": "stream",
     "text": [
      "\n",
      "running generation (cuda:0):   0%|          | 0/1 [00:00<?, ?it/s]\u001b[A\n",
      "running generation (cuda:0): 100%|██████████| 1/1 [00:01<00:00,  1.21s/it]\u001b[A\n"
     ]
    },
    {
     "name": "stdout",
     "output_type": "stream",
     "text": [
      "['Pick another plate']\n",
      "['Another plate has been successfully picked.']\n",
      "===================\n"
     ]
    },
    {
     "name": "stderr",
     "output_type": "stream",
     "text": [
      "\n",
      "running generation (cuda:0):   0%|          | 0/1 [00:00<?, ?it/s]\u001b[A\n",
      "running generation (cuda:0): 100%|██████████| 1/1 [00:01<00:00,  1.20s/it]\u001b[A\n",
      "\n",
      "running generation (cuda:0):   0%|          | 0/1 [00:00<?, ?it/s]\u001b[A\n",
      "running generation (cuda:0): 100%|██████████| 1/1 [00:01<00:00,  1.20s/it]\u001b[A\n",
      "\n",
      "running NLI (cuda:0): 100%|██████████| 1/1 [00:00<00:00, 16.95it/s]\n",
      "\n",
      "running NLI (cuda:0): 100%|██████████| 1/1 [00:00<00:00, 16.68it/s]\n",
      "\n",
      "running generation (cuda:0):   0%|          | 0/1 [00:00<?, ?it/s]\u001b[A\n",
      "running generation (cuda:0): 100%|██████████| 1/1 [00:02<00:00,  2.38s/it]\u001b[A\n",
      "\n",
      "running NLI (cuda:0): 100%|██████████| 1/1 [00:00<00:00, 17.14it/s]\n",
      "\n",
      "running NLI (cuda:0): 100%|██████████| 1/1 [00:00<00:00, 16.78it/s]\n",
      " 63%|██████▎   | 63/100 [04:58<03:00,  4.87s/it]"
     ]
    },
    {
     "name": "stdout",
     "output_type": "stream",
     "text": [
      "Old value: 0.364258\n",
      "New value: [0.427246]\n"
     ]
    },
    {
     "name": "stderr",
     "output_type": "stream",
     "text": [
      "\n",
      "running generation (cuda:0):   0%|          | 0/1 [00:00<?, ?it/s]\u001b[A\n",
      "running generation (cuda:0): 100%|██████████| 1/1 [00:01<00:00,  1.21s/it]\u001b[A\n"
     ]
    },
    {
     "name": "stdout",
     "output_type": "stream",
     "text": [
      "['Pour sand on the ground']\n",
      "['The sand has been successfully poured on the ground.']\n",
      "===================\n"
     ]
    },
    {
     "name": "stderr",
     "output_type": "stream",
     "text": [
      "\n",
      "running generation (cuda:0):   0%|          | 0/1 [00:00<?, ?it/s]\u001b[A\n",
      "running generation (cuda:0): 100%|██████████| 1/1 [00:01<00:00,  1.21s/it]\u001b[A\n",
      "\n",
      "running generation (cuda:0):   0%|          | 0/1 [00:00<?, ?it/s]\u001b[A\n",
      "running generation (cuda:0): 100%|██████████| 1/1 [00:01<00:00,  1.21s/it]\u001b[A\n",
      "\n",
      "running NLI (cuda:0): 100%|██████████| 1/1 [00:00<00:00, 16.67it/s]\n",
      "\n",
      "running NLI (cuda:0): 100%|██████████| 1/1 [00:00<00:00, 16.68it/s]\n",
      "\n",
      "running generation (cuda:0):   0%|          | 0/1 [00:00<?, ?it/s]\u001b[A\n",
      "running generation (cuda:0): 100%|██████████| 1/1 [00:02<00:00,  2.37s/it]\u001b[A\n",
      "\n",
      "running NLI (cuda:0): 100%|██████████| 1/1 [00:00<00:00, 17.05it/s]\n",
      "\n",
      "running NLI (cuda:0): 100%|██████████| 1/1 [00:00<00:00, 16.86it/s]\n",
      " 64%|██████▍   | 64/100 [05:04<03:10,  5.29s/it]"
     ]
    },
    {
     "name": "stdout",
     "output_type": "stream",
     "text": [
      "Old value: 0.0\n",
      "New value: [0.0]\n"
     ]
    },
    {
     "name": "stderr",
     "output_type": "stream",
     "text": [
      "\n",
      "running generation (cuda:0):   0%|          | 0/1 [00:00<?, ?it/s]\u001b[A\n",
      "running generation (cuda:0): 100%|██████████| 1/1 [00:01<00:00,  1.20s/it]\u001b[A\n"
     ]
    },
    {
     "name": "stdout",
     "output_type": "stream",
     "text": [
      "['Remove the paintbrush from the paint container']\n",
      "['The paintbrush has been successfully removed from the paint container.']\n",
      "===================\n"
     ]
    },
    {
     "name": "stderr",
     "output_type": "stream",
     "text": [
      "\n",
      "running generation (cuda:0):   0%|          | 0/1 [00:00<?, ?it/s]\u001b[A\n",
      "running generation (cuda:0): 100%|██████████| 1/1 [00:01<00:00,  1.20s/it]\u001b[A\n",
      "\n",
      "running generation (cuda:0):   0%|          | 0/1 [00:00<?, ?it/s]\u001b[A\n",
      "running generation (cuda:0): 100%|██████████| 1/1 [00:01<00:00,  1.20s/it]\u001b[A\n",
      "\n",
      "running NLI (cuda:0): 100%|██████████| 1/1 [00:00<00:00, 16.75it/s]\n",
      "\n",
      "running NLI (cuda:0): 100%|██████████| 1/1 [00:00<00:00, 16.83it/s]\n",
      "\n",
      "running generation (cuda:0):   0%|          | 0/1 [00:00<?, ?it/s]\u001b[A\n",
      "running generation (cuda:0): 100%|██████████| 1/1 [00:01<00:00,  1.20s/it]\u001b[A\n",
      "\n",
      "running NLI (cuda:0): 100%|██████████| 1/1 [00:00<00:00, 17.28it/s]\n",
      "\n",
      "running NLI (cuda:0): 100%|██████████| 1/1 [00:00<00:00, 17.25it/s]\n",
      " 65%|██████▌   | 65/100 [05:09<03:02,  5.22s/it]"
     ]
    },
    {
     "name": "stdout",
     "output_type": "stream",
     "text": [
      "Old value: 0.489746\n",
      "New value: [0.041992]\n"
     ]
    },
    {
     "name": "stderr",
     "output_type": "stream",
     "text": [
      "\n",
      "running generation (cuda:0):   0%|          | 0/1 [00:00<?, ?it/s]\u001b[A\n",
      "running generation (cuda:0): 100%|██████████| 1/1 [00:01<00:00,  1.20s/it]\u001b[A\n"
     ]
    },
    {
     "name": "stdout",
     "output_type": "stream",
     "text": [
      "['Pick the polaroid camera']\n",
      "['The polaroid camera has been successfully picked.']\n",
      "===================\n"
     ]
    },
    {
     "name": "stderr",
     "output_type": "stream",
     "text": [
      "\n",
      "running generation (cuda:0):   0%|          | 0/1 [00:00<?, ?it/s]\u001b[A\n",
      "running generation (cuda:0): 100%|██████████| 1/1 [00:01<00:00,  1.20s/it]\u001b[A\n",
      "\n",
      "running generation (cuda:0):   0%|          | 0/1 [00:00<?, ?it/s]\u001b[A\n",
      "running generation (cuda:0): 100%|██████████| 1/1 [00:01<00:00,  1.19s/it]\u001b[A\n",
      "\n",
      "running NLI (cuda:0): 100%|██████████| 1/1 [00:00<00:00, 17.08it/s]\n",
      "\n",
      "running NLI (cuda:0): 100%|██████████| 1/1 [00:00<00:00, 17.09it/s]\n",
      "\n",
      "running generation (cuda:0): 0it [00:00, ?it/s]\u001b[A\n",
      "\n",
      "running NLI (cuda:0): 100%|██████████| 1/1 [00:00<00:00, 17.06it/s]\n",
      "\n",
      "running NLI (cuda:0): 100%|██████████| 1/1 [00:00<00:00, 16.95it/s]\n",
      " 66%|██████▌   | 66/100 [05:13<02:43,  4.81s/it]"
     ]
    },
    {
     "name": "stdout",
     "output_type": "stream",
     "text": [
      "Old value: 0.498535\n",
      "New value: [0.804688]\n"
     ]
    },
    {
     "name": "stderr",
     "output_type": "stream",
     "text": [
      "\n",
      "running generation (cuda:0):   0%|          | 0/1 [00:00<?, ?it/s]\u001b[A\n",
      "running generation (cuda:0): 100%|██████████| 1/1 [00:01<00:00,  1.21s/it]\u001b[A\n"
     ]
    },
    {
     "name": "stdout",
     "output_type": "stream",
     "text": [
      "['Drop the clay into the brick mold']\n",
      "['The clay has been successfully dropped into the brick mold.']\n",
      "===================\n"
     ]
    },
    {
     "name": "stderr",
     "output_type": "stream",
     "text": [
      "\n",
      "running generation (cuda:0):   0%|          | 0/1 [00:00<?, ?it/s]\u001b[A\n",
      "running generation (cuda:0): 100%|██████████| 1/1 [00:01<00:00,  1.19s/it]\u001b[A\n",
      "\n",
      "running generation (cuda:0):   0%|          | 0/1 [00:00<?, ?it/s]\u001b[A\n",
      "running generation (cuda:0): 100%|██████████| 1/1 [00:01<00:00,  1.19s/it]\u001b[A\n",
      "\n",
      "running NLI (cuda:0): 100%|██████████| 1/1 [00:00<00:00, 17.17it/s]\n",
      "\n",
      "running NLI (cuda:0): 100%|██████████| 1/1 [00:00<00:00, 16.74it/s]\n",
      "\n",
      "running generation (cuda:0): 0it [00:00, ?it/s]\u001b[A\n",
      "\n",
      "running NLI (cuda:0): 100%|██████████| 1/1 [00:00<00:00, 16.96it/s]\n",
      "\n",
      "running NLI (cuda:0): 100%|██████████| 1/1 [00:00<00:00, 16.98it/s]\n",
      " 67%|██████▋   | 67/100 [05:17<02:29,  4.52s/it]"
     ]
    },
    {
     "name": "stdout",
     "output_type": "stream",
     "text": [
      "Old value: 0.629883\n",
      "New value: [0.35498]\n"
     ]
    },
    {
     "name": "stderr",
     "output_type": "stream",
     "text": [
      "\n",
      "running generation (cuda:0):   0%|          | 0/1 [00:00<?, ?it/s]\u001b[A\n",
      "running generation (cuda:0): 100%|██████████| 1/1 [00:01<00:00,  1.21s/it]\u001b[A\n"
     ]
    },
    {
     "name": "stdout",
     "output_type": "stream",
     "text": [
      "['Remove the paintbrush from the paint container']\n",
      "['The paintbrush has been successfully removed from the paint container.']\n",
      "===================\n"
     ]
    },
    {
     "name": "stderr",
     "output_type": "stream",
     "text": [
      "\n",
      "running generation (cuda:0):   0%|          | 0/1 [00:00<?, ?it/s]\u001b[A\n",
      "running generation (cuda:0): 100%|██████████| 1/1 [00:01<00:00,  1.20s/it]\u001b[A\n",
      "\n",
      "running generation (cuda:0):   0%|          | 0/1 [00:00<?, ?it/s]\u001b[A\n",
      "running generation (cuda:0): 100%|██████████| 1/1 [00:01<00:00,  1.19s/it]\u001b[A\n",
      "\n",
      "running NLI (cuda:0): 100%|██████████| 1/1 [00:00<00:00, 17.22it/s]\n",
      "\n",
      "running NLI (cuda:0): 100%|██████████| 1/1 [00:00<00:00, 17.05it/s]\n",
      "\n",
      "running generation (cuda:0):   0%|          | 0/1 [00:00<?, ?it/s]\u001b[A\n",
      "running generation (cuda:0): 100%|██████████| 1/1 [00:01<00:00,  1.20s/it]\u001b[A\n",
      "\n",
      "running NLI (cuda:0): 100%|██████████| 1/1 [00:00<00:00, 17.25it/s]\n",
      "\n",
      "running NLI (cuda:0): 100%|██████████| 1/1 [00:00<00:00, 17.20it/s]\n",
      " 68%|██████▊   | 68/100 [05:22<02:29,  4.68s/it]"
     ]
    },
    {
     "name": "stdout",
     "output_type": "stream",
     "text": [
      "Old value: 0.299805\n",
      "New value: [0.029785]\n"
     ]
    },
    {
     "name": "stderr",
     "output_type": "stream",
     "text": [
      "\n",
      "running generation (cuda:0):   0%|          | 0/1 [00:00<?, ?it/s]\u001b[A\n",
      "running generation (cuda:0): 100%|██████████| 1/1 [00:00<00:00,  1.66it/s]\u001b[A\n"
     ]
    },
    {
     "name": "stdout",
     "output_type": "stream",
     "text": [
      "['Close fridge']\n",
      "['The fridge has been successfully closed.']\n",
      "===================\n"
     ]
    },
    {
     "name": "stderr",
     "output_type": "stream",
     "text": [
      "\n",
      "running generation (cuda:0):   0%|          | 0/1 [00:00<?, ?it/s]\u001b[A\n",
      "running generation (cuda:0): 100%|██████████| 1/1 [00:01<00:00,  1.20s/it]\u001b[A\n",
      "\n",
      "running generation (cuda:0):   0%|          | 0/1 [00:00<?, ?it/s]\u001b[A\n",
      "running generation (cuda:0): 100%|██████████| 1/1 [00:01<00:00,  1.21s/it]\u001b[A\n",
      "\n",
      "running NLI (cuda:0): 100%|██████████| 1/1 [00:00<00:00, 16.95it/s]\n",
      "\n",
      "running NLI (cuda:0): 100%|██████████| 1/1 [00:00<00:00, 16.90it/s]\n",
      "\n",
      "running generation (cuda:0): 0it [00:00, ?it/s]\u001b[A\n",
      "\n",
      "running NLI (cuda:0): 100%|██████████| 1/1 [00:00<00:00, 17.13it/s]\n",
      "\n",
      "running NLI (cuda:0): 100%|██████████| 1/1 [00:00<00:00, 16.87it/s]\n",
      " 69%|██████▉   | 69/100 [05:25<02:12,  4.26s/it]"
     ]
    },
    {
     "name": "stdout",
     "output_type": "stream",
     "text": [
      "Old value: 0.750977\n",
      "New value: [0.005371]\n"
     ]
    },
    {
     "name": "stderr",
     "output_type": "stream",
     "text": [
      "\n",
      "running generation (cuda:0):   0%|          | 0/1 [00:00<?, ?it/s]\u001b[A\n",
      "running generation (cuda:0): 100%|██████████| 1/1 [00:01<00:00,  1.20s/it]\u001b[A\n"
     ]
    },
    {
     "name": "stdout",
     "output_type": "stream",
     "text": [
      "['Cut the paper with a scissors']\n",
      "['The paper has been successfully cut with a scissors.']\n",
      "===================\n"
     ]
    },
    {
     "name": "stderr",
     "output_type": "stream",
     "text": [
      "\n",
      "running generation (cuda:0):   0%|          | 0/1 [00:00<?, ?it/s]\u001b[A\n",
      "running generation (cuda:0): 100%|██████████| 1/1 [00:01<00:00,  1.19s/it]\u001b[A\n",
      "\n",
      "running generation (cuda:0):   0%|          | 0/1 [00:00<?, ?it/s]\u001b[A\n",
      "running generation (cuda:0): 100%|██████████| 1/1 [00:01<00:00,  1.20s/it]\u001b[A\n",
      "\n",
      "running NLI (cuda:0): 100%|██████████| 1/1 [00:00<00:00, 17.28it/s]\n",
      "\n",
      "running NLI (cuda:0): 100%|██████████| 1/1 [00:00<00:00, 17.14it/s]\n",
      "\n",
      "running generation (cuda:0):   0%|          | 0/1 [00:00<?, ?it/s]\u001b[A\n",
      "running generation (cuda:0): 100%|██████████| 1/1 [00:02<00:00,  2.38s/it]\u001b[A\n",
      "\n",
      "running NLI (cuda:0): 100%|██████████| 1/1 [00:00<00:00, 16.94it/s]\n",
      "\n",
      "running NLI (cuda:0): 100%|██████████| 1/1 [00:00<00:00, 16.79it/s]\n",
      " 70%|███████   | 70/100 [05:31<02:25,  4.86s/it]"
     ]
    },
    {
     "name": "stdout",
     "output_type": "stream",
     "text": [
      "Old value: 0.946289\n",
      "New value: [0.969238]\n"
     ]
    },
    {
     "name": "stderr",
     "output_type": "stream",
     "text": [
      "\n",
      "running generation (cuda:0):   0%|          | 0/1 [00:00<?, ?it/s]\u001b[A\n",
      "running generation (cuda:0): 100%|██████████| 1/1 [00:01<00:00,  1.21s/it]\u001b[A\n"
     ]
    },
    {
     "name": "stdout",
     "output_type": "stream",
     "text": [
      "['Pick an impact wrench on the tool box with your hand']\n",
      "['The impact wrench has been successfully picked from the tool box with your hand.']\n",
      "===================\n"
     ]
    },
    {
     "name": "stderr",
     "output_type": "stream",
     "text": [
      "\n",
      "running generation (cuda:0):   0%|          | 0/1 [00:00<?, ?it/s]\u001b[A\n",
      "running generation (cuda:0): 100%|██████████| 1/1 [00:01<00:00,  1.20s/it]\u001b[A\n",
      "\n",
      "running generation (cuda:0):   0%|          | 0/1 [00:00<?, ?it/s]\u001b[A\n",
      "running generation (cuda:0): 100%|██████████| 1/1 [00:01<00:00,  1.20s/it]\u001b[A\n",
      "\n",
      "running NLI (cuda:0): 100%|██████████| 1/1 [00:00<00:00, 17.23it/s]\n",
      "\n",
      "running NLI (cuda:0): 100%|██████████| 1/1 [00:00<00:00, 16.98it/s]\n",
      "\n",
      "running generation (cuda:0):   0%|          | 0/1 [00:00<?, ?it/s]\u001b[A\n",
      "running generation (cuda:0): 100%|██████████| 1/1 [00:01<00:00,  1.20s/it]\u001b[A\n",
      "\n",
      "running NLI (cuda:0): 100%|██████████| 1/1 [00:00<00:00, 16.77it/s]\n",
      "\n",
      "running NLI (cuda:0): 100%|██████████| 1/1 [00:00<00:00, 16.99it/s]\n",
      " 71%|███████   | 71/100 [05:36<02:22,  4.92s/it]"
     ]
    },
    {
     "name": "stdout",
     "output_type": "stream",
     "text": [
      "Old value: 0.929199\n",
      "New value: [0.30127]\n"
     ]
    },
    {
     "name": "stderr",
     "output_type": "stream",
     "text": [
      "\n",
      "running generation (cuda:0):   0%|          | 0/1 [00:00<?, ?it/s]\u001b[A\n",
      "running generation (cuda:0): 100%|██████████| 1/1 [00:01<00:00,  1.20s/it]\u001b[A\n"
     ]
    },
    {
     "name": "stdout",
     "output_type": "stream",
     "text": [
      "['Pick a spoon from the table with your hand']\n",
      "[\"The spoon has been successfully picked from the table with someone's hand.\"]\n",
      "===================\n"
     ]
    },
    {
     "name": "stderr",
     "output_type": "stream",
     "text": [
      "\n",
      "running generation (cuda:0):   0%|          | 0/1 [00:00<?, ?it/s]\u001b[A\n",
      "running generation (cuda:0): 100%|██████████| 1/1 [00:01<00:00,  1.20s/it]\u001b[A\n",
      "\n",
      "running generation (cuda:0):   0%|          | 0/1 [00:00<?, ?it/s]\u001b[A\n",
      "running generation (cuda:0): 100%|██████████| 1/1 [00:01<00:00,  1.20s/it]\u001b[A\n",
      "\n",
      "running NLI (cuda:0): 100%|██████████| 1/1 [00:00<00:00, 17.23it/s]\n",
      "\n",
      "running NLI (cuda:0): 100%|██████████| 1/1 [00:00<00:00, 16.97it/s]\n",
      "\n",
      "running generation (cuda:0):   0%|          | 0/1 [00:00<?, ?it/s]\u001b[A\n",
      "running generation (cuda:0): 100%|██████████| 1/1 [00:02<00:00,  2.53s/it]\u001b[A\n",
      "\n",
      "running NLI (cuda:0): 100%|██████████| 1/1 [00:00<00:00, 16.66it/s]\n",
      "\n",
      "running NLI (cuda:0): 100%|██████████| 1/1 [00:00<00:00, 16.56it/s]\n",
      " 72%|███████▏  | 72/100 [05:43<02:30,  5.37s/it]"
     ]
    },
    {
     "name": "stdout",
     "output_type": "stream",
     "text": [
      "Old value: 0.351562\n",
      "New value: [0.03418]\n"
     ]
    },
    {
     "name": "stderr",
     "output_type": "stream",
     "text": [
      "\n",
      "running generation (cuda:0):   0%|          | 0/1 [00:00<?, ?it/s]\u001b[A\n",
      "running generation (cuda:0): 100%|██████████| 1/1 [00:01<00:00,  1.21s/it]\u001b[A\n"
     ]
    },
    {
     "name": "stdout",
     "output_type": "stream",
     "text": [
      "['Pack the chopped spinach from the chopping board with your hand']\n",
      "['The chopped spinach has been successfully packed with your hand.']\n",
      "===================\n"
     ]
    },
    {
     "name": "stderr",
     "output_type": "stream",
     "text": [
      "\n",
      "running generation (cuda:0):   0%|          | 0/1 [00:00<?, ?it/s]\u001b[A\n",
      "running generation (cuda:0): 100%|██████████| 1/1 [00:01<00:00,  1.19s/it]\u001b[A\n",
      "\n",
      "running generation (cuda:0):   0%|          | 0/1 [00:00<?, ?it/s]\u001b[A\n",
      "running generation (cuda:0): 100%|██████████| 1/1 [00:01<00:00,  1.20s/it]\u001b[A\n",
      "\n",
      "running NLI (cuda:0): 100%|██████████| 1/1 [00:00<00:00, 17.43it/s]\n",
      "\n",
      "running NLI (cuda:0): 100%|██████████| 1/1 [00:00<00:00, 17.00it/s]\n",
      "\n",
      "running generation (cuda:0):   0%|          | 0/1 [00:00<?, ?it/s]\u001b[A\n",
      "running generation (cuda:0): 100%|██████████| 1/1 [00:01<00:00,  1.20s/it]\u001b[A\n",
      "\n",
      "running NLI (cuda:0): 100%|██████████| 1/1 [00:00<00:00, 14.38it/s]\n",
      "\n",
      "running NLI (cuda:0):   0%|          | 0/1 [00:00<?, ?it/s]\u001b[A\n",
      "running NLI (cuda:0): 100%|██████████| 1/1 [00:00<00:00,  1.12it/s]\u001b[A\n",
      " 73%|███████▎  | 73/100 [05:50<02:42,  6.00s/it]"
     ]
    },
    {
     "name": "stdout",
     "output_type": "stream",
     "text": [
      "Old value: 0.817383\n",
      "New value: [0.058594]\n"
     ]
    },
    {
     "name": "stderr",
     "output_type": "stream",
     "text": [
      "\n",
      "running generation (cuda:0):   0%|          | 0/1 [00:00<?, ?it/s]\u001b[A\n",
      "running generation (cuda:0): 100%|██████████| 1/1 [00:01<00:00,  1.25s/it]\u001b[A\n"
     ]
    },
    {
     "name": "stdout",
     "output_type": "stream",
     "text": [
      "['Cut the wood plank with the miter saw in your hand']\n",
      "[\"The wood plank has been successfully cut with the miter saw in someone's hand.\"]\n",
      "===================\n"
     ]
    },
    {
     "name": "stderr",
     "output_type": "stream",
     "text": [
      "\n",
      "running generation (cuda:0):   0%|          | 0/1 [00:00<?, ?it/s]\u001b[A\n",
      "running generation (cuda:0): 100%|██████████| 1/1 [00:01<00:00,  1.21s/it]\u001b[A\n",
      "\n",
      "running generation (cuda:0):   0%|          | 0/1 [00:00<?, ?it/s]\u001b[A\n",
      "running generation (cuda:0): 100%|██████████| 1/1 [00:01<00:00,  1.21s/it]\u001b[A\n",
      "\n",
      "running NLI (cuda:0): 100%|██████████| 1/1 [00:00<00:00, 16.87it/s]\n",
      "\n",
      "running NLI (cuda:0): 100%|██████████| 1/1 [00:00<00:00, 16.70it/s]\n",
      "\n",
      "running generation (cuda:0): 0it [00:00, ?it/s]\u001b[A\n",
      "\n",
      "running NLI (cuda:0): 100%|██████████| 1/1 [00:00<00:00, 16.64it/s]\n",
      "\n",
      "running NLI (cuda:0): 100%|██████████| 1/1 [00:00<00:00, 16.73it/s]\n",
      " 74%|███████▍  | 74/100 [05:54<02:19,  5.38s/it]"
     ]
    },
    {
     "name": "stdout",
     "output_type": "stream",
     "text": [
      "Old value: 0.581055\n",
      "New value: [0.574219]\n"
     ]
    },
    {
     "name": "stderr",
     "output_type": "stream",
     "text": [
      "\n",
      "running generation (cuda:0):   0%|          | 0/1 [00:00<?, ?it/s]\u001b[A\n",
      "running generation (cuda:0): 100%|██████████| 1/1 [00:00<00:00,  1.66it/s]\u001b[A\n"
     ]
    },
    {
     "name": "stdout",
     "output_type": "stream",
     "text": [
      "['Turn a bowl']\n",
      "['The bowl has been successfully turned.']\n",
      "===================\n"
     ]
    },
    {
     "name": "stderr",
     "output_type": "stream",
     "text": [
      "\n",
      "running generation (cuda:0):   0%|          | 0/1 [00:00<?, ?it/s]\u001b[A\n",
      "running generation (cuda:0): 100%|██████████| 1/1 [00:01<00:00,  1.20s/it]\u001b[A\n",
      "\n",
      "running generation (cuda:0):   0%|          | 0/1 [00:00<?, ?it/s]\u001b[A\n",
      "running generation (cuda:0): 100%|██████████| 1/1 [00:01<00:00,  1.20s/it]\u001b[A\n",
      "\n",
      "running NLI (cuda:0): 100%|██████████| 1/1 [00:00<00:00, 17.08it/s]\n",
      "\n",
      "running NLI (cuda:0): 100%|██████████| 1/1 [00:00<00:00, 17.18it/s]\n",
      "\n",
      "running generation (cuda:0):   0%|          | 0/1 [00:00<?, ?it/s]\u001b[A\n",
      "running generation (cuda:0): 100%|██████████| 1/1 [00:01<00:00,  1.20s/it]\u001b[A\n",
      "\n",
      "running NLI (cuda:0): 100%|██████████| 1/1 [00:00<00:00, 17.44it/s]\n",
      "\n",
      "running NLI (cuda:0): 100%|██████████| 1/1 [00:00<00:00, 17.33it/s]\n",
      " 75%|███████▌  | 75/100 [05:59<02:07,  5.11s/it]"
     ]
    },
    {
     "name": "stdout",
     "output_type": "stream",
     "text": [
      "Old value: 0.537109\n",
      "New value: [0.352539]\n"
     ]
    },
    {
     "name": "stderr",
     "output_type": "stream",
     "text": [
      "\n",
      "running generation (cuda:0):   0%|          | 0/1 [00:00<?, ?it/s]\u001b[A\n",
      "running generation (cuda:0): 100%|██████████| 1/1 [00:00<00:00,  1.53it/s]\u001b[A\n"
     ]
    },
    {
     "name": "stdout",
     "output_type": "stream",
     "text": [
      "['Pick radio screws']\n",
      "['Radio screws have been successfully picked.']\n",
      "===================\n"
     ]
    },
    {
     "name": "stderr",
     "output_type": "stream",
     "text": [
      "\n",
      "running generation (cuda:0):   0%|          | 0/1 [00:00<?, ?it/s]\u001b[A\n",
      "running generation (cuda:0): 100%|██████████| 1/1 [00:01<00:00,  1.20s/it]\u001b[A\n",
      "\n",
      "running generation (cuda:0):   0%|          | 0/1 [00:00<?, ?it/s]\u001b[A\n",
      "running generation (cuda:0): 100%|██████████| 1/1 [00:01<00:00,  1.20s/it]\u001b[A\n",
      "\n",
      "running NLI (cuda:0): 100%|██████████| 1/1 [00:00<00:00, 17.06it/s]\n",
      "\n",
      "running NLI (cuda:0): 100%|██████████| 1/1 [00:00<00:00, 16.95it/s]\n",
      "\n",
      "running generation (cuda:0): 0it [00:00, ?it/s]\u001b[A\n",
      "\n",
      "running NLI (cuda:0): 100%|██████████| 1/1 [00:00<00:00, 16.90it/s]\n",
      "\n",
      "running NLI (cuda:0): 100%|██████████| 1/1 [00:00<00:00, 16.92it/s]\n",
      " 76%|███████▌  | 76/100 [06:02<01:49,  4.57s/it]"
     ]
    },
    {
     "name": "stdout",
     "output_type": "stream",
     "text": [
      "Old value: 0.027344\n",
      "New value: [0.00293]\n"
     ]
    },
    {
     "name": "stderr",
     "output_type": "stream",
     "text": [
      "\n",
      "running generation (cuda:0):   0%|          | 0/1 [00:00<?, ?it/s]\u001b[A\n",
      "running generation (cuda:0): 100%|██████████| 1/1 [00:01<00:00,  1.20s/it]\u001b[A\n"
     ]
    },
    {
     "name": "stdout",
     "output_type": "stream",
     "text": [
      "['Throw the portion of clay mix on the main portion of clay mix']\n",
      "['The portion of clay mix has been successfully thrown on the main portion of clay mix.']\n",
      "===================\n"
     ]
    },
    {
     "name": "stderr",
     "output_type": "stream",
     "text": [
      "\n",
      "running generation (cuda:0):   0%|          | 0/1 [00:00<?, ?it/s]\u001b[A\n",
      "running generation (cuda:0): 100%|██████████| 1/1 [00:01<00:00,  1.21s/it]\u001b[A\n",
      "\n",
      "running generation (cuda:0):   0%|          | 0/1 [00:00<?, ?it/s]\u001b[A\n",
      "running generation (cuda:0): 100%|██████████| 1/1 [00:01<00:00,  1.21s/it]\u001b[A\n",
      "\n",
      "running NLI (cuda:0): 100%|██████████| 1/1 [00:00<00:00, 17.04it/s]\n",
      "\n",
      "running NLI (cuda:0): 100%|██████████| 1/1 [00:00<00:00, 16.72it/s]\n",
      "\n",
      "running generation (cuda:0): 0it [00:00, ?it/s]\u001b[A\n",
      "\n",
      "running NLI (cuda:0): 100%|██████████| 1/1 [00:00<00:00, 16.82it/s]\n",
      "\n",
      "running NLI (cuda:0): 100%|██████████| 1/1 [00:00<00:00, 16.89it/s]\n",
      " 77%|███████▋  | 77/100 [06:06<01:40,  4.36s/it]"
     ]
    },
    {
     "name": "stdout",
     "output_type": "stream",
     "text": [
      "Old value: 0.139404\n",
      "New value: [0.026855]\n"
     ]
    },
    {
     "name": "stderr",
     "output_type": "stream",
     "text": [
      "\n",
      "running generation (cuda:0):   0%|          | 0/1 [00:00<?, ?it/s]\u001b[A\n",
      "running generation (cuda:0): 100%|██████████| 1/1 [00:01<00:00,  1.21s/it]\u001b[A\n"
     ]
    },
    {
     "name": "stdout",
     "output_type": "stream",
     "text": [
      "['Pick the tape measure on the floor']\n",
      "['The tape measure has been successfully picked from the floor.']\n",
      "===================\n"
     ]
    },
    {
     "name": "stderr",
     "output_type": "stream",
     "text": [
      "\n",
      "running generation (cuda:0):   0%|          | 0/1 [00:00<?, ?it/s]\u001b[A\n",
      "running generation (cuda:0): 100%|██████████| 1/1 [00:01<00:00,  1.20s/it]\u001b[A\n",
      "\n",
      "running generation (cuda:0):   0%|          | 0/1 [00:00<?, ?it/s]\u001b[A\n",
      "running generation (cuda:0): 100%|██████████| 1/1 [00:01<00:00,  1.21s/it]\u001b[A\n",
      "\n",
      "running NLI (cuda:0): 100%|██████████| 1/1 [00:00<00:00, 17.01it/s]\n",
      "\n",
      "running NLI (cuda:0): 100%|██████████| 1/1 [00:00<00:00, 16.86it/s]\n",
      "\n",
      "running generation (cuda:0):   0%|          | 0/1 [00:00<?, ?it/s]\u001b[A\n",
      "running generation (cuda:0): 100%|██████████| 1/1 [00:02<00:00,  2.38s/it]\u001b[A\n",
      "\n",
      "running NLI (cuda:0): 100%|██████████| 1/1 [00:00<00:00, 17.07it/s]\n",
      "\n",
      "running NLI (cuda:0): 100%|██████████| 1/1 [00:00<00:00, 16.62it/s]\n",
      " 78%|███████▊  | 78/100 [06:12<01:48,  4.94s/it]"
     ]
    },
    {
     "name": "stdout",
     "output_type": "stream",
     "text": [
      "Old value: 0.721191\n",
      "New value: [0.69043]\n"
     ]
    },
    {
     "name": "stderr",
     "output_type": "stream",
     "text": [
      "\n",
      "running generation (cuda:0):   0%|          | 0/1 [00:00<?, ?it/s]\u001b[A\n",
      "running generation (cuda:0): 100%|██████████| 1/1 [00:01<00:00,  1.20s/it]\u001b[A\n"
     ]
    },
    {
     "name": "stdout",
     "output_type": "stream",
     "text": [
      "['Drop dough on the clothed tray']\n",
      "['The dough has been successfully dropped on the clothed tray.']\n",
      "===================\n"
     ]
    },
    {
     "name": "stderr",
     "output_type": "stream",
     "text": [
      "\n",
      "running generation (cuda:0):   0%|          | 0/1 [00:00<?, ?it/s]\u001b[A\n",
      "running generation (cuda:0): 100%|██████████| 1/1 [00:01<00:00,  1.21s/it]\u001b[A\n",
      "\n",
      "running generation (cuda:0):   0%|          | 0/1 [00:00<?, ?it/s]\u001b[A\n",
      "running generation (cuda:0): 100%|██████████| 1/1 [00:01<00:00,  1.21s/it]\u001b[A\n",
      "\n",
      "running NLI (cuda:0): 100%|██████████| 1/1 [00:00<00:00, 16.70it/s]\n",
      "\n",
      "running NLI (cuda:0): 100%|██████████| 1/1 [00:00<00:00, 16.77it/s]\n",
      "\n",
      "running generation (cuda:0):   0%|          | 0/1 [00:00<?, ?it/s]\u001b[A\n",
      "running generation (cuda:0): 100%|██████████| 1/1 [00:01<00:00,  1.20s/it]\u001b[A\n",
      "\n",
      "running NLI (cuda:0): 100%|██████████| 1/1 [00:00<00:00, 17.17it/s]\n",
      "\n",
      "running NLI (cuda:0): 100%|██████████| 1/1 [00:00<00:00, 17.08it/s]\n",
      " 79%|███████▉  | 79/100 [06:17<01:44,  4.98s/it]"
     ]
    },
    {
     "name": "stdout",
     "output_type": "stream",
     "text": [
      "Old value: 0.97998\n",
      "New value: [0.975586]\n"
     ]
    },
    {
     "name": "stderr",
     "output_type": "stream",
     "text": [
      "\n",
      "running generation (cuda:0):   0%|          | 0/1 [00:00<?, ?it/s]\u001b[A\n",
      "running generation (cuda:0): 100%|██████████| 1/1 [00:01<00:00,  1.21s/it]\u001b[A\n"
     ]
    },
    {
     "name": "stdout",
     "output_type": "stream",
     "text": [
      "['Place the bucket of water in your hand on the floor']\n",
      "['The bucket of water has been successfully placed on the floor.']\n",
      "===================\n"
     ]
    },
    {
     "name": "stderr",
     "output_type": "stream",
     "text": [
      "\n",
      "running generation (cuda:0):   0%|          | 0/1 [00:00<?, ?it/s]\u001b[A\n",
      "running generation (cuda:0): 100%|██████████| 1/1 [00:01<00:00,  1.20s/it]\u001b[A\n",
      "\n",
      "running generation (cuda:0):   0%|          | 0/1 [00:00<?, ?it/s]\u001b[A\n",
      "running generation (cuda:0): 100%|██████████| 1/1 [00:01<00:00,  1.21s/it]\u001b[A\n",
      "\n",
      "running NLI (cuda:0): 100%|██████████| 1/1 [00:00<00:00, 16.54it/s]\n",
      "\n",
      "running NLI (cuda:0): 100%|██████████| 1/1 [00:00<00:00, 16.64it/s]\n",
      "\n",
      "running generation (cuda:0): 0it [00:00, ?it/s]\u001b[A\n",
      "\n",
      "running NLI (cuda:0): 100%|██████████| 1/1 [00:00<00:00, 16.85it/s]\n",
      "\n",
      "running NLI (cuda:0): 100%|██████████| 1/1 [00:00<00:00, 16.82it/s]\n",
      " 80%|████████  | 80/100 [06:21<01:33,  4.65s/it]"
     ]
    },
    {
     "name": "stdout",
     "output_type": "stream",
     "text": [
      "Old value: 0.956543\n",
      "New value: [0.899414]\n"
     ]
    },
    {
     "name": "stderr",
     "output_type": "stream",
     "text": [
      "\n",
      "running generation (cuda:0):   0%|          | 0/1 [00:00<?, ?it/s]\u001b[A\n",
      "running generation (cuda:0): 100%|██████████| 1/1 [00:01<00:00,  1.21s/it]\u001b[A\n"
     ]
    },
    {
     "name": "stdout",
     "output_type": "stream",
     "text": [
      "['Put the watercolor tube on the table']\n",
      "['The watercolor tube has been successfully put on the table.']\n",
      "===================\n"
     ]
    },
    {
     "name": "stderr",
     "output_type": "stream",
     "text": [
      "\n",
      "running generation (cuda:0):   0%|          | 0/1 [00:00<?, ?it/s]\u001b[A\n",
      "running generation (cuda:0): 100%|██████████| 1/1 [00:01<00:00,  1.21s/it]\u001b[A\n",
      "\n",
      "running generation (cuda:0):   0%|          | 0/1 [00:00<?, ?it/s]\u001b[A\n",
      "running generation (cuda:0): 100%|██████████| 1/1 [00:01<00:00,  1.20s/it]\u001b[A\n",
      "\n",
      "running NLI (cuda:0): 100%|██████████| 1/1 [00:00<00:00, 17.06it/s]\n",
      "\n",
      "running NLI (cuda:0): 100%|██████████| 1/1 [00:00<00:00, 16.84it/s]\n",
      "\n",
      "running generation (cuda:0): 0it [00:00, ?it/s]\u001b[A\n",
      "\n",
      "running NLI (cuda:0): 100%|██████████| 1/1 [00:00<00:00, 17.11it/s]\n",
      "\n",
      "running NLI (cuda:0): 100%|██████████| 1/1 [00:00<00:00, 16.78it/s]\n",
      " 81%|████████  | 81/100 [06:25<01:23,  4.42s/it]"
     ]
    },
    {
     "name": "stdout",
     "output_type": "stream",
     "text": [
      "Old value: 0.989746\n",
      "New value: [0.99707]\n"
     ]
    },
    {
     "name": "stderr",
     "output_type": "stream",
     "text": [
      "\n",
      "running generation (cuda:0):   0%|          | 0/1 [00:00<?, ?it/s]\u001b[A\n",
      "running generation (cuda:0): 100%|██████████| 1/1 [00:01<00:00,  1.20s/it]\u001b[A\n"
     ]
    },
    {
     "name": "stdout",
     "output_type": "stream",
     "text": [
      "['Unfold the rope']\n",
      "['The rope has been successfully unfolded.']\n",
      "===================\n"
     ]
    },
    {
     "name": "stderr",
     "output_type": "stream",
     "text": [
      "\n",
      "running generation (cuda:0):   0%|          | 0/1 [00:00<?, ?it/s]\u001b[A\n",
      "running generation (cuda:0): 100%|██████████| 1/1 [00:01<00:00,  1.21s/it]\u001b[A\n",
      "\n",
      "running generation (cuda:0):   0%|          | 0/1 [00:00<?, ?it/s]\u001b[A\n",
      "running generation (cuda:0): 100%|██████████| 1/1 [00:01<00:00,  1.21s/it]\u001b[A\n",
      "\n",
      "running NLI (cuda:0): 100%|██████████| 1/1 [00:00<00:00, 16.64it/s]\n",
      "\n",
      "running NLI (cuda:0): 100%|██████████| 1/1 [00:00<00:00, 16.79it/s]\n",
      "\n",
      "running generation (cuda:0):   0%|          | 0/1 [00:00<?, ?it/s]\u001b[A\n",
      "running generation (cuda:0): 100%|██████████| 1/1 [00:01<00:00,  1.21s/it]\u001b[A\n",
      "\n",
      "running NLI (cuda:0): 100%|██████████| 1/1 [00:00<00:00, 17.02it/s]\n",
      "\n",
      "running NLI (cuda:0): 100%|██████████| 1/1 [00:00<00:00, 16.83it/s]\n",
      " 82%|████████▏ | 82/100 [06:30<01:23,  4.62s/it]"
     ]
    },
    {
     "name": "stdout",
     "output_type": "stream",
     "text": [
      "Old value: 0.249023\n",
      "New value: [0.013672]\n"
     ]
    },
    {
     "name": "stderr",
     "output_type": "stream",
     "text": [
      "\n",
      "running generation (cuda:0):   0%|          | 0/1 [00:00<?, ?it/s]\u001b[A\n",
      "running generation (cuda:0): 100%|██████████| 1/1 [00:01<00:00,  1.20s/it]\u001b[A\n"
     ]
    },
    {
     "name": "stdout",
     "output_type": "stream",
     "text": [
      "['Clear the flour on the table with the dough cutter']\n",
      "['The flour on the table has been successfully cleared with the dough cutter.']\n",
      "===================\n"
     ]
    },
    {
     "name": "stderr",
     "output_type": "stream",
     "text": [
      "\n",
      "running generation (cuda:0):   0%|          | 0/1 [00:00<?, ?it/s]\u001b[A\n",
      "running generation (cuda:0): 100%|██████████| 1/1 [00:01<00:00,  1.20s/it]\u001b[A\n",
      "\n",
      "running generation (cuda:0):   0%|          | 0/1 [00:00<?, ?it/s]\u001b[A\n",
      "running generation (cuda:0): 100%|██████████| 1/1 [00:01<00:00,  1.21s/it]\u001b[A\n",
      "\n",
      "running NLI (cuda:0): 100%|██████████| 1/1 [00:00<00:00, 17.06it/s]\n",
      "\n",
      "running NLI (cuda:0): 100%|██████████| 1/1 [00:00<00:00, 16.85it/s]\n",
      "\n",
      "running generation (cuda:0):   0%|          | 0/1 [00:00<?, ?it/s]\u001b[A\n",
      "running generation (cuda:0): 100%|██████████| 1/1 [00:02<00:00,  2.47s/it]\u001b[A\n",
      "\n",
      "running NLI (cuda:0): 100%|██████████| 1/1 [00:00<00:00, 16.75it/s]\n",
      "\n",
      "running NLI (cuda:0): 100%|██████████| 1/1 [00:00<00:00, 16.45it/s]\n",
      " 83%|████████▎ | 83/100 [06:36<01:27,  5.15s/it]"
     ]
    },
    {
     "name": "stdout",
     "output_type": "stream",
     "text": [
      "Old value: 0.227783\n",
      "New value: [0.326172]\n"
     ]
    },
    {
     "name": "stderr",
     "output_type": "stream",
     "text": [
      "\n",
      "running generation (cuda:0):   0%|          | 0/1 [00:00<?, ?it/s]\u001b[A\n",
      "running generation (cuda:0): 100%|██████████| 1/1 [00:01<00:00,  1.21s/it]\u001b[A\n"
     ]
    },
    {
     "name": "stdout",
     "output_type": "stream",
     "text": [
      "['Remove the tyre from a wheel turning stand']\n",
      "['The tyre has been successfully removed from a wheel turning stand.']\n",
      "===================\n"
     ]
    },
    {
     "name": "stderr",
     "output_type": "stream",
     "text": [
      "\n",
      "running generation (cuda:0):   0%|          | 0/1 [00:00<?, ?it/s]\u001b[A\n",
      "running generation (cuda:0): 100%|██████████| 1/1 [00:01<00:00,  1.21s/it]\u001b[A\n",
      "\n",
      "running generation (cuda:0):   0%|          | 0/1 [00:00<?, ?it/s]\u001b[A\n",
      "running generation (cuda:0): 100%|██████████| 1/1 [00:01<00:00,  1.20s/it]\u001b[A\n",
      "\n",
      "running NLI (cuda:0): 100%|██████████| 1/1 [00:00<00:00, 17.04it/s]\n",
      "\n",
      "running NLI (cuda:0): 100%|██████████| 1/1 [00:00<00:00, 16.83it/s]\n",
      "\n",
      "running generation (cuda:0): 0it [00:00, ?it/s]\u001b[A\n",
      "\n",
      "running NLI (cuda:0): 100%|██████████| 1/1 [00:00<00:00, 16.69it/s]\n",
      "\n",
      "running NLI (cuda:0): 100%|██████████| 1/1 [00:00<00:00, 16.93it/s]\n",
      " 84%|████████▍ | 84/100 [06:40<01:16,  4.77s/it]"
     ]
    },
    {
     "name": "stdout",
     "output_type": "stream",
     "text": [
      "Old value: 0.051758\n",
      "New value: [0.00293]\n"
     ]
    },
    {
     "name": "stderr",
     "output_type": "stream",
     "text": [
      "\n",
      "running generation (cuda:0):   0%|          | 0/1 [00:00<?, ?it/s]\u001b[A\n",
      "running generation (cuda:0): 100%|██████████| 1/1 [00:00<00:00,  1.01it/s]\u001b[A\n"
     ]
    },
    {
     "name": "stdout",
     "output_type": "stream",
     "text": [
      "['Pick two spoons from the drawer with your hand']\n",
      "['2 spoons have been successfully picked from the drawer with your hand.']\n",
      "===================\n"
     ]
    },
    {
     "name": "stderr",
     "output_type": "stream",
     "text": [
      "\n",
      "running generation (cuda:0):   0%|          | 0/1 [00:00<?, ?it/s]\u001b[A\n",
      "running generation (cuda:0): 100%|██████████| 1/1 [00:01<00:00,  1.21s/it]\u001b[A\n",
      "\n",
      "running generation (cuda:0):   0%|          | 0/1 [00:00<?, ?it/s]\u001b[A\n",
      "running generation (cuda:0): 100%|██████████| 1/1 [00:01<00:00,  1.21s/it]\u001b[A\n",
      "\n",
      "running NLI (cuda:0): 100%|██████████| 1/1 [00:00<00:00, 16.87it/s]\n",
      "\n",
      "running NLI (cuda:0): 100%|██████████| 1/1 [00:00<00:00, 16.89it/s]\n",
      "\n",
      "running generation (cuda:0):   0%|          | 0/1 [00:00<?, ?it/s]\u001b[A\n",
      "running generation (cuda:0): 100%|██████████| 1/1 [00:02<00:00,  2.38s/it]\u001b[A\n",
      "\n",
      "running NLI (cuda:0): 100%|██████████| 1/1 [00:00<00:00, 16.73it/s]\n",
      "\n",
      "running NLI (cuda:0): 100%|██████████| 1/1 [00:00<00:00, 16.91it/s]\n",
      " 85%|████████▌ | 85/100 [06:46<01:17,  5.16s/it]"
     ]
    },
    {
     "name": "stdout",
     "output_type": "stream",
     "text": [
      "Old value: 0.525879\n",
      "New value: [0.114746]\n"
     ]
    },
    {
     "name": "stderr",
     "output_type": "stream",
     "text": [
      "\n",
      "running generation (cuda:0):   0%|          | 0/1 [00:00<?, ?it/s]\u001b[A\n",
      "running generation (cuda:0): 100%|██████████| 1/1 [00:01<00:00,  1.21s/it]\u001b[A\n"
     ]
    },
    {
     "name": "stdout",
     "output_type": "stream",
     "text": [
      "['Hit the stick with the hammer']\n",
      "['The stick has been successfully hit with the hammer.']\n",
      "===================\n"
     ]
    },
    {
     "name": "stderr",
     "output_type": "stream",
     "text": [
      "\n",
      "running generation (cuda:0):   0%|          | 0/1 [00:00<?, ?it/s]\u001b[A\n",
      "running generation (cuda:0): 100%|██████████| 1/1 [00:01<00:00,  1.21s/it]\u001b[A\n",
      "\n",
      "running generation (cuda:0):   0%|          | 0/1 [00:00<?, ?it/s]\u001b[A\n",
      "running generation (cuda:0): 100%|██████████| 1/1 [00:01<00:00,  1.21s/it]\u001b[A\n",
      "\n",
      "running NLI (cuda:0): 100%|██████████| 1/1 [00:00<00:00, 17.07it/s]\n",
      "\n",
      "running NLI (cuda:0): 100%|██████████| 1/1 [00:00<00:00, 16.73it/s]\n",
      "\n",
      "running generation (cuda:0): 0it [00:00, ?it/s]\u001b[A\n",
      "\n",
      "running NLI (cuda:0): 100%|██████████| 1/1 [00:00<00:00, 16.86it/s]\n",
      "\n",
      "running NLI (cuda:0): 100%|██████████| 1/1 [00:00<00:00, 16.31it/s]\n",
      " 86%|████████▌ | 86/100 [06:50<01:06,  4.78s/it]"
     ]
    },
    {
     "name": "stdout",
     "output_type": "stream",
     "text": [
      "Old value: 0.585938\n",
      "New value: [0.023926]\n"
     ]
    },
    {
     "name": "stderr",
     "output_type": "stream",
     "text": [
      "\n",
      "running generation (cuda:0):   0%|          | 0/1 [00:00<?, ?it/s]\u001b[A\n",
      "running generation (cuda:0): 100%|██████████| 1/1 [00:01<00:00,  1.21s/it]\u001b[A\n"
     ]
    },
    {
     "name": "stdout",
     "output_type": "stream",
     "text": [
      "['Push the scooter with your hand']\n",
      "['The scooter has been successfully pushed with your hand.']\n",
      "===================\n"
     ]
    },
    {
     "name": "stderr",
     "output_type": "stream",
     "text": [
      "\n",
      "running generation (cuda:0):   0%|          | 0/1 [00:00<?, ?it/s]\u001b[A\n",
      "running generation (cuda:0): 100%|██████████| 1/1 [00:01<00:00,  1.20s/it]\u001b[A\n",
      "\n",
      "running generation (cuda:0):   0%|          | 0/1 [00:00<?, ?it/s]\u001b[A\n",
      "running generation (cuda:0): 100%|██████████| 1/1 [00:01<00:00,  1.21s/it]\u001b[A\n",
      "\n",
      "running NLI (cuda:0): 100%|██████████| 1/1 [00:00<00:00, 16.89it/s]\n",
      "\n",
      "running NLI (cuda:0): 100%|██████████| 1/1 [00:00<00:00, 16.89it/s]\n",
      "\n",
      "running generation (cuda:0):   0%|          | 0/1 [00:00<?, ?it/s]\u001b[A\n",
      "running generation (cuda:0): 100%|██████████| 1/1 [00:01<00:00,  1.21s/it]\u001b[A\n",
      "\n",
      "running NLI (cuda:0): 100%|██████████| 1/1 [00:00<00:00, 17.32it/s]\n",
      "\n",
      "running NLI (cuda:0): 100%|██████████| 1/1 [00:00<00:00, 17.04it/s]\n",
      " 87%|████████▋ | 87/100 [06:55<01:03,  4.87s/it]"
     ]
    },
    {
     "name": "stdout",
     "output_type": "stream",
     "text": [
      "Old value: 0.14209\n",
      "New value: [0.041992]\n"
     ]
    },
    {
     "name": "stderr",
     "output_type": "stream",
     "text": [
      "\n",
      "running generation (cuda:0):   0%|          | 0/1 [00:00<?, ?it/s]\u001b[A\n",
      "running generation (cuda:0): 100%|██████████| 1/1 [00:01<00:00,  1.20s/it]\u001b[A\n"
     ]
    },
    {
     "name": "stdout",
     "output_type": "stream",
     "text": [
      "['Trim the grass']\n",
      "['The grass has been successfully trimmed.']\n",
      "===================\n"
     ]
    },
    {
     "name": "stderr",
     "output_type": "stream",
     "text": [
      "\n",
      "running generation (cuda:0):   0%|          | 0/1 [00:00<?, ?it/s]\u001b[A\n",
      "running generation (cuda:0): 100%|██████████| 1/1 [00:01<00:00,  1.22s/it]\u001b[A\n",
      "\n",
      "running generation (cuda:0):   0%|          | 0/1 [00:00<?, ?it/s]\u001b[A\n",
      "running generation (cuda:0): 100%|██████████| 1/1 [00:01<00:00,  1.21s/it]\u001b[A\n",
      "\n",
      "running NLI (cuda:0): 100%|██████████| 1/1 [00:00<00:00, 16.62it/s]\n",
      "\n",
      "running NLI (cuda:0): 100%|██████████| 1/1 [00:00<00:00, 15.18it/s]\n",
      "\n",
      "running generation (cuda:0):   0%|          | 0/1 [00:00<?, ?it/s]\u001b[A\n",
      "running generation (cuda:0): 100%|██████████| 1/1 [00:02<00:00,  2.38s/it]\u001b[A\n",
      "\n",
      "running NLI (cuda:0): 100%|██████████| 1/1 [00:00<00:00, 17.02it/s]\n",
      "\n",
      "running NLI (cuda:0): 100%|██████████| 1/1 [00:00<00:00, 16.82it/s]\n",
      " 88%|████████▊ | 88/100 [07:02<01:03,  5.32s/it]"
     ]
    },
    {
     "name": "stdout",
     "output_type": "stream",
     "text": [
      "Old value: 0.583008\n",
      "New value: [0.214355]\n"
     ]
    },
    {
     "name": "stderr",
     "output_type": "stream",
     "text": [
      "\n",
      "running generation (cuda:0):   0%|          | 0/1 [00:00<?, ?it/s]\u001b[A\n",
      "running generation (cuda:0): 100%|██████████| 1/1 [00:00<00:00,  1.84it/s]\u001b[A\n"
     ]
    },
    {
     "name": "stdout",
     "output_type": "stream",
     "text": [
      "['Cut a flower']\n",
      "['The flower has been successfully cut.']\n",
      "===================\n"
     ]
    },
    {
     "name": "stderr",
     "output_type": "stream",
     "text": [
      "\n",
      "running generation (cuda:0):   0%|          | 0/1 [00:00<?, ?it/s]\u001b[A\n",
      "running generation (cuda:0): 100%|██████████| 1/1 [00:01<00:00,  1.20s/it]\u001b[A\n",
      "\n",
      "running generation (cuda:0):   0%|          | 0/1 [00:00<?, ?it/s]\u001b[A\n",
      "running generation (cuda:0): 100%|██████████| 1/1 [00:01<00:00,  1.20s/it]\u001b[A\n",
      "\n",
      "running NLI (cuda:0): 100%|██████████| 1/1 [00:00<00:00, 16.71it/s]\n",
      "\n",
      "running NLI (cuda:0): 100%|██████████| 1/1 [00:00<00:00, 16.19it/s]\n",
      "\n",
      "running generation (cuda:0):   0%|          | 0/1 [00:00<?, ?it/s]\u001b[A\n",
      "running generation (cuda:0): 100%|██████████| 1/1 [00:01<00:00,  1.20s/it]\u001b[A\n",
      "\n",
      "running NLI (cuda:0): 100%|██████████| 1/1 [00:00<00:00, 17.29it/s]\n",
      "\n",
      "running NLI (cuda:0): 100%|██████████| 1/1 [00:00<00:00, 17.16it/s]\n",
      " 89%|████████▉ | 89/100 [07:06<00:55,  5.06s/it]"
     ]
    },
    {
     "name": "stdout",
     "output_type": "stream",
     "text": [
      "Old value: 0.308105\n",
      "New value: [0.018066]\n"
     ]
    },
    {
     "name": "stderr",
     "output_type": "stream",
     "text": [
      "\n",
      "running generation (cuda:0):   0%|          | 0/1 [00:00<?, ?it/s]\u001b[A\n",
      "running generation (cuda:0): 100%|██████████| 1/1 [00:01<00:00,  1.20s/it]\u001b[A\n"
     ]
    },
    {
     "name": "stdout",
     "output_type": "stream",
     "text": [
      "['Hold the book']\n",
      "['The book has been successfully held.']\n",
      "===================\n"
     ]
    },
    {
     "name": "stderr",
     "output_type": "stream",
     "text": [
      "\n",
      "running generation (cuda:0):   0%|          | 0/1 [00:00<?, ?it/s]\u001b[A\n",
      "running generation (cuda:0): 100%|██████████| 1/1 [00:01<00:00,  1.21s/it]\u001b[A\n",
      "\n",
      "running generation (cuda:0):   0%|          | 0/1 [00:00<?, ?it/s]\u001b[A\n",
      "running generation (cuda:0): 100%|██████████| 1/1 [00:01<00:00,  1.21s/it]\u001b[A\n",
      "\n",
      "running NLI (cuda:0): 100%|██████████| 1/1 [00:00<00:00, 17.02it/s]\n",
      "\n",
      "running NLI (cuda:0): 100%|██████████| 1/1 [00:00<00:00, 16.90it/s]\n",
      "\n",
      "running generation (cuda:0):   0%|          | 0/1 [00:00<?, ?it/s]\u001b[A\n",
      "running generation (cuda:0): 100%|██████████| 1/1 [00:01<00:00,  1.20s/it]\u001b[A\n",
      "\n",
      "running NLI (cuda:0): 100%|██████████| 1/1 [00:00<00:00, 16.96it/s]\n",
      "\n",
      "running NLI (cuda:0): 100%|██████████| 1/1 [00:00<00:00, 16.86it/s]\n",
      " 90%|█████████ | 90/100 [07:11<00:50,  5.07s/it]"
     ]
    },
    {
     "name": "stdout",
     "output_type": "stream",
     "text": [
      "Old value: 0.036133\n",
      "New value: [0.006836]\n"
     ]
    },
    {
     "name": "stderr",
     "output_type": "stream",
     "text": [
      "\n",
      "running generation (cuda:0):   0%|          | 0/1 [00:00<?, ?it/s]\u001b[A\n",
      "running generation (cuda:0): 100%|██████████| 1/1 [00:01<00:00,  1.21s/it]\u001b[A\n"
     ]
    },
    {
     "name": "stdout",
     "output_type": "stream",
     "text": [
      "['Lift the polaroid camera from the table']\n",
      "['The polaroid camera has been successfully lifted from the table.']\n",
      "===================\n"
     ]
    },
    {
     "name": "stderr",
     "output_type": "stream",
     "text": [
      "\n",
      "running generation (cuda:0):   0%|          | 0/1 [00:00<?, ?it/s]\u001b[A\n",
      "running generation (cuda:0): 100%|██████████| 1/1 [00:01<00:00,  1.21s/it]\u001b[A\n",
      "\n",
      "running generation (cuda:0):   0%|          | 0/1 [00:00<?, ?it/s]\u001b[A\n",
      "running generation (cuda:0): 100%|██████████| 1/1 [00:01<00:00,  1.21s/it]\u001b[A\n",
      "\n",
      "running NLI (cuda:0): 100%|██████████| 1/1 [00:00<00:00, 16.84it/s]\n",
      "\n",
      "running NLI (cuda:0): 100%|██████████| 1/1 [00:00<00:00, 16.78it/s]\n",
      "\n",
      "running generation (cuda:0):   0%|          | 0/1 [00:00<?, ?it/s]\u001b[A\n",
      "running generation (cuda:0): 100%|██████████| 1/1 [00:02<00:00,  2.46s/it]\u001b[A\n",
      "\n",
      "running NLI (cuda:0): 100%|██████████| 1/1 [00:00<00:00, 17.04it/s]\n",
      "\n",
      "running NLI (cuda:0): 100%|██████████| 1/1 [00:00<00:00, 16.46it/s]\n",
      " 91%|█████████ | 91/100 [07:18<00:49,  5.46s/it]"
     ]
    },
    {
     "name": "stdout",
     "output_type": "stream",
     "text": [
      "Old value: 0.459473\n",
      "New value: [0.293457]\n"
     ]
    },
    {
     "name": "stderr",
     "output_type": "stream",
     "text": [
      "\n",
      "running generation (cuda:0):   0%|          | 0/1 [00:00<?, ?it/s]\u001b[A\n",
      "running generation (cuda:0): 100%|██████████| 1/1 [00:01<00:00,  1.20s/it]\u001b[A\n"
     ]
    },
    {
     "name": "stdout",
     "output_type": "stream",
     "text": [
      "['Pack the mixture inside the container with your hand']\n",
      "['The mixture has been successfully packed inside the container with your hand.']\n",
      "===================\n"
     ]
    },
    {
     "name": "stderr",
     "output_type": "stream",
     "text": [
      "\n",
      "running generation (cuda:0):   0%|          | 0/1 [00:00<?, ?it/s]\u001b[A\n",
      "running generation (cuda:0): 100%|██████████| 1/1 [00:01<00:00,  1.20s/it]\u001b[A\n",
      "\n",
      "running generation (cuda:0):   0%|          | 0/1 [00:00<?, ?it/s]\u001b[A\n",
      "running generation (cuda:0): 100%|██████████| 1/1 [00:01<00:00,  1.20s/it]\u001b[A\n",
      "\n",
      "running NLI (cuda:0): 100%|██████████| 1/1 [00:00<00:00, 17.10it/s]\n",
      "\n",
      "running NLI (cuda:0): 100%|██████████| 1/1 [00:00<00:00, 17.12it/s]\n",
      "\n",
      "running generation (cuda:0):   0%|          | 0/1 [00:00<?, ?it/s]\u001b[A\n",
      "running generation (cuda:0): 100%|██████████| 1/1 [00:01<00:00,  1.20s/it]\u001b[A\n",
      "\n",
      "running NLI (cuda:0): 100%|██████████| 1/1 [00:00<00:00, 16.94it/s]\n",
      "\n",
      "running NLI (cuda:0): 100%|██████████| 1/1 [00:00<00:00, 16.96it/s]\n",
      " 92%|█████████▏| 92/100 [07:23<00:42,  5.35s/it]"
     ]
    },
    {
     "name": "stdout",
     "output_type": "stream",
     "text": [
      "Old value: 0.693359\n",
      "New value: [0.456055]\n"
     ]
    },
    {
     "name": "stderr",
     "output_type": "stream",
     "text": [
      "\n",
      "running generation (cuda:0):   0%|          | 0/1 [00:00<?, ?it/s]\u001b[A\n",
      "running generation (cuda:0): 100%|██████████| 1/1 [00:01<00:00,  1.21s/it]\u001b[A\n"
     ]
    },
    {
     "name": "stdout",
     "output_type": "stream",
     "text": [
      "['Hold radio']\n",
      "['Radio has been successfully held.']\n",
      "===================\n"
     ]
    },
    {
     "name": "stderr",
     "output_type": "stream",
     "text": [
      "\n",
      "running generation (cuda:0):   0%|          | 0/1 [00:00<?, ?it/s]\u001b[A\n",
      "running generation (cuda:0): 100%|██████████| 1/1 [00:01<00:00,  1.21s/it]\u001b[A\n",
      "\n",
      "running generation (cuda:0):   0%|          | 0/1 [00:00<?, ?it/s]\u001b[A\n",
      "running generation (cuda:0): 100%|██████████| 1/1 [00:01<00:00,  1.21s/it]\u001b[A\n",
      "\n",
      "running NLI (cuda:0): 100%|██████████| 1/1 [00:00<00:00, 16.98it/s]\n",
      "\n",
      "running NLI (cuda:0): 100%|██████████| 1/1 [00:00<00:00, 17.00it/s]\n",
      "\n",
      "running generation (cuda:0):   0%|          | 0/1 [00:00<?, ?it/s]\u001b[A\n",
      "running generation (cuda:0): 100%|██████████| 1/1 [00:02<00:00,  2.52s/it]\u001b[A\n",
      "\n",
      "running NLI (cuda:0): 100%|██████████| 1/1 [00:00<00:00, 16.82it/s]\n",
      "\n",
      "running NLI (cuda:0): 100%|██████████| 1/1 [00:00<00:00, 16.44it/s]\n",
      " 93%|█████████▎| 93/100 [07:29<00:39,  5.68s/it]"
     ]
    },
    {
     "name": "stdout",
     "output_type": "stream",
     "text": [
      "Old value: 0.014648\n",
      "New value: [0.013184]\n"
     ]
    },
    {
     "name": "stderr",
     "output_type": "stream",
     "text": [
      "\n",
      "running generation (cuda:0):   0%|          | 0/1 [00:00<?, ?it/s]\u001b[A\n",
      "running generation (cuda:0): 100%|██████████| 1/1 [00:01<00:00,  1.21s/it]\u001b[A\n"
     ]
    },
    {
     "name": "stdout",
     "output_type": "stream",
     "text": [
      "['Hold the tube with your hands']\n",
      "[\"The tube has been successfully held with someone's hands.\"]\n",
      "===================\n"
     ]
    },
    {
     "name": "stderr",
     "output_type": "stream",
     "text": [
      "\n",
      "running generation (cuda:0):   0%|          | 0/1 [00:00<?, ?it/s]\u001b[A\n",
      "running generation (cuda:0): 100%|██████████| 1/1 [00:01<00:00,  1.21s/it]\u001b[A\n",
      "\n",
      "running generation (cuda:0):   0%|          | 0/1 [00:00<?, ?it/s]\u001b[A\n",
      "running generation (cuda:0): 100%|██████████| 1/1 [00:01<00:00,  1.21s/it]\u001b[A\n",
      "\n",
      "running NLI (cuda:0): 100%|██████████| 1/1 [00:00<00:00, 16.55it/s]\n",
      "\n",
      "running NLI (cuda:0): 100%|██████████| 1/1 [00:00<00:00, 16.91it/s]\n",
      "\n",
      "running generation (cuda:0): 0it [00:00, ?it/s]\u001b[A\n",
      "\n",
      "running NLI (cuda:0): 100%|██████████| 1/1 [00:00<00:00, 16.94it/s]\n",
      "\n",
      "running NLI (cuda:0): 100%|██████████| 1/1 [00:00<00:00, 16.78it/s]\n",
      " 94%|█████████▍| 94/100 [07:33<00:30,  5.14s/it]"
     ]
    },
    {
     "name": "stdout",
     "output_type": "stream",
     "text": [
      "Old value: 0.98877\n",
      "New value: [0.99707]\n"
     ]
    },
    {
     "name": "stderr",
     "output_type": "stream",
     "text": [
      "\n",
      "running generation (cuda:0):   0%|          | 0/1 [00:00<?, ?it/s]\u001b[A\n",
      "running generation (cuda:0): 100%|██████████| 1/1 [00:01<00:00,  1.20s/it]\u001b[A\n"
     ]
    },
    {
     "name": "stdout",
     "output_type": "stream",
     "text": [
      "['Smoothen a wooden stand with a sand paper in the room']\n",
      "['The wooden stand has been successfully smoothened with a sand paper in the room.']\n",
      "===================\n"
     ]
    },
    {
     "name": "stderr",
     "output_type": "stream",
     "text": [
      "\n",
      "running generation (cuda:0):   0%|          | 0/1 [00:00<?, ?it/s]\u001b[A\n",
      "running generation (cuda:0): 100%|██████████| 1/1 [00:01<00:00,  1.19s/it]\u001b[A\n",
      "\n",
      "running generation (cuda:0):   0%|          | 0/1 [00:00<?, ?it/s]\u001b[A\n",
      "running generation (cuda:0): 100%|██████████| 1/1 [00:01<00:00,  1.19s/it]\u001b[A\n",
      "\n",
      "running NLI (cuda:0): 100%|██████████| 1/1 [00:00<00:00, 17.35it/s]\n",
      "\n",
      "running NLI (cuda:0): 100%|██████████| 1/1 [00:00<00:00, 16.75it/s]\n",
      "\n",
      "running generation (cuda:0):   0%|          | 0/1 [00:00<?, ?it/s]\u001b[A\n",
      "running generation (cuda:0): 100%|██████████| 1/1 [00:01<00:00,  1.20s/it]\u001b[A\n",
      "\n",
      "running NLI (cuda:0): 100%|██████████| 1/1 [00:00<00:00, 16.97it/s]\n",
      "\n",
      "running NLI (cuda:0): 100%|██████████| 1/1 [00:00<00:00, 17.03it/s]\n",
      " 95%|█████████▌| 95/100 [07:38<00:25,  5.12s/it]"
     ]
    },
    {
     "name": "stdout",
     "output_type": "stream",
     "text": [
      "Old value: 0.647949\n",
      "New value: [0.181152]\n"
     ]
    },
    {
     "name": "stderr",
     "output_type": "stream",
     "text": [
      "\n",
      "running generation (cuda:0):   0%|          | 0/1 [00:00<?, ?it/s]\u001b[A\n",
      "running generation (cuda:0): 100%|██████████| 1/1 [00:01<00:00,  1.20s/it]\u001b[A\n"
     ]
    },
    {
     "name": "stdout",
     "output_type": "stream",
     "text": [
      "['Pick up a pieces of cloth']\n",
      "['The pieces of cloth have been successfully picked up.']\n",
      "===================\n"
     ]
    },
    {
     "name": "stderr",
     "output_type": "stream",
     "text": [
      "\n",
      "running generation (cuda:0):   0%|          | 0/1 [00:00<?, ?it/s]\u001b[A\n",
      "running generation (cuda:0): 100%|██████████| 1/1 [00:01<00:00,  1.20s/it]\u001b[A\n",
      "\n",
      "running generation (cuda:0):   0%|          | 0/1 [00:00<?, ?it/s]\u001b[A\n",
      "running generation (cuda:0): 100%|██████████| 1/1 [00:01<00:00,  1.20s/it]\u001b[A\n",
      "\n",
      "running NLI (cuda:0): 100%|██████████| 1/1 [00:00<00:00, 16.79it/s]\n",
      "\n",
      "running NLI (cuda:0): 100%|██████████| 1/1 [00:00<00:00, 16.94it/s]\n",
      "\n",
      "running generation (cuda:0):   0%|          | 0/1 [00:00<?, ?it/s]\u001b[A\n",
      "running generation (cuda:0): 100%|██████████| 1/1 [00:02<00:00,  2.46s/it]\u001b[A\n",
      "\n",
      "running NLI (cuda:0): 100%|██████████| 1/1 [00:00<00:00, 17.07it/s]\n",
      "\n",
      "running NLI (cuda:0): 100%|██████████| 1/1 [00:00<00:00, 16.65it/s]\n",
      " 96%|█████████▌| 96/100 [07:45<00:21,  5.49s/it]"
     ]
    },
    {
     "name": "stdout",
     "output_type": "stream",
     "text": [
      "Old value: 0.227783\n",
      "New value: [0.166138]\n"
     ]
    },
    {
     "name": "stderr",
     "output_type": "stream",
     "text": [
      "\n",
      "running generation (cuda:0):   0%|          | 0/1 [00:00<?, ?it/s]\u001b[A\n",
      "running generation (cuda:0): 100%|██████████| 1/1 [00:00<00:00,  1.83it/s]\u001b[A\n"
     ]
    },
    {
     "name": "stdout",
     "output_type": "stream",
     "text": [
      "['Pick leaves']\n",
      "['Leaves have been successfully picked.']\n",
      "===================\n"
     ]
    },
    {
     "name": "stderr",
     "output_type": "stream",
     "text": [
      "\n",
      "running generation (cuda:0):   0%|          | 0/1 [00:00<?, ?it/s]\u001b[A\n",
      "running generation (cuda:0): 100%|██████████| 1/1 [00:01<00:00,  1.21s/it]\u001b[A\n",
      "\n",
      "running generation (cuda:0):   0%|          | 0/1 [00:00<?, ?it/s]\u001b[A\n",
      "running generation (cuda:0): 100%|██████████| 1/1 [00:01<00:00,  1.21s/it]\u001b[A\n",
      "\n",
      "running NLI (cuda:0): 100%|██████████| 1/1 [00:00<00:00, 16.98it/s]\n",
      "\n",
      "running NLI (cuda:0): 100%|██████████| 1/1 [00:00<00:00, 17.27it/s]\n",
      "\n",
      "running generation (cuda:0): 0it [00:00, ?it/s]\u001b[A\n",
      "\n",
      "running NLI (cuda:0): 100%|██████████| 1/1 [00:00<00:00, 17.40it/s]\n",
      "\n",
      "running NLI (cuda:0): 100%|██████████| 1/1 [00:00<00:00, 17.35it/s]\n",
      " 97%|█████████▋| 97/100 [07:48<00:14,  4.81s/it]"
     ]
    },
    {
     "name": "stdout",
     "output_type": "stream",
     "text": [
      "Old value: 0.427002\n",
      "New value: [0.544922]\n"
     ]
    },
    {
     "name": "stderr",
     "output_type": "stream",
     "text": [
      "\n",
      "running generation (cuda:0):   0%|          | 0/1 [00:00<?, ?it/s]\u001b[A\n",
      "running generation (cuda:0): 100%|██████████| 1/1 [00:01<00:00,  1.20s/it]\u001b[A\n"
     ]
    },
    {
     "name": "stdout",
     "output_type": "stream",
     "text": [
      "['Drop the scraper on the table']\n",
      "['The scraper has been successfully dropped on the table.']\n",
      "===================\n"
     ]
    },
    {
     "name": "stderr",
     "output_type": "stream",
     "text": [
      "\n",
      "running generation (cuda:0):   0%|          | 0/1 [00:00<?, ?it/s]\u001b[A\n",
      "running generation (cuda:0): 100%|██████████| 1/1 [00:01<00:00,  1.19s/it]\u001b[A\n",
      "\n",
      "running generation (cuda:0):   0%|          | 0/1 [00:00<?, ?it/s]\u001b[A\n",
      "running generation (cuda:0): 100%|██████████| 1/1 [00:01<00:00,  1.20s/it]\u001b[A\n",
      "\n",
      "running NLI (cuda:0): 100%|██████████| 1/1 [00:00<00:00, 17.13it/s]\n",
      "\n",
      "running NLI (cuda:0): 100%|██████████| 1/1 [00:00<00:00, 16.98it/s]\n",
      "\n",
      "running generation (cuda:0):   0%|          | 0/1 [00:00<?, ?it/s]\u001b[A\n",
      "running generation (cuda:0): 100%|██████████| 1/1 [00:02<00:00,  2.38s/it]\u001b[A\n",
      "\n",
      "running NLI (cuda:0): 100%|██████████| 1/1 [00:00<00:00, 17.27it/s]\n",
      "\n",
      "running NLI (cuda:0): 100%|██████████| 1/1 [00:00<00:00, 16.71it/s]\n",
      " 98%|█████████▊| 98/100 [07:54<00:10,  5.24s/it]"
     ]
    },
    {
     "name": "stdout",
     "output_type": "stream",
     "text": [
      "Old value: 0.963379\n",
      "New value: [0.975586]\n"
     ]
    },
    {
     "name": "stderr",
     "output_type": "stream",
     "text": [
      "\n",
      "running generation (cuda:0):   0%|          | 0/1 [00:00<?, ?it/s]\u001b[A\n",
      "running generation (cuda:0): 100%|██████████| 1/1 [00:01<00:00,  1.21s/it]\u001b[A\n"
     ]
    },
    {
     "name": "stdout",
     "output_type": "stream",
     "text": [
      "['Remove a piece of paper from a drawer']\n",
      "['The piece of paper has been successfully removed from the drawer.']\n",
      "===================\n"
     ]
    },
    {
     "name": "stderr",
     "output_type": "stream",
     "text": [
      "\n",
      "running generation (cuda:0):   0%|          | 0/1 [00:00<?, ?it/s]\u001b[A\n",
      "running generation (cuda:0): 100%|██████████| 1/1 [00:01<00:00,  1.21s/it]\u001b[A\n",
      "\n",
      "running generation (cuda:0):   0%|          | 0/1 [00:00<?, ?it/s]\u001b[A\n",
      "running generation (cuda:0): 100%|██████████| 1/1 [00:01<00:00,  1.21s/it]\u001b[A\n",
      "\n",
      "running NLI (cuda:0): 100%|██████████| 1/1 [00:00<00:00, 16.92it/s]\n",
      "\n",
      "running NLI (cuda:0): 100%|██████████| 1/1 [00:00<00:00, 17.02it/s]\n",
      "\n",
      "running generation (cuda:0):   0%|          | 0/1 [00:00<?, ?it/s]\u001b[A\n",
      "running generation (cuda:0): 100%|██████████| 1/1 [00:01<00:00,  1.20s/it]\u001b[A\n",
      "\n",
      "running NLI (cuda:0): 100%|██████████| 1/1 [00:00<00:00, 17.11it/s]\n",
      "\n",
      "running NLI (cuda:0): 100%|██████████| 1/1 [00:00<00:00, 16.79it/s]\n",
      " 99%|█████████▉| 99/100 [07:59<00:05,  5.20s/it]"
     ]
    },
    {
     "name": "stdout",
     "output_type": "stream",
     "text": [
      "Old value: 0.145874\n",
      "New value: [0.029297]\n"
     ]
    },
    {
     "name": "stderr",
     "output_type": "stream",
     "text": [
      "\n",
      "running generation (cuda:0):   0%|          | 0/1 [00:00<?, ?it/s]\u001b[A\n",
      "running generation (cuda:0): 100%|██████████| 1/1 [00:01<00:00,  1.21s/it]\u001b[A\n"
     ]
    },
    {
     "name": "stdout",
     "output_type": "stream",
     "text": [
      "['Pour oil from the bottle to the dough in the tray']\n",
      "['The oil has been successfully poured from the bottle to the dough in the tray.']\n",
      "===================\n"
     ]
    },
    {
     "name": "stderr",
     "output_type": "stream",
     "text": [
      "\n",
      "running generation (cuda:0):   0%|          | 0/1 [00:00<?, ?it/s]\u001b[A\n",
      "running generation (cuda:0): 100%|██████████| 1/1 [00:01<00:00,  1.20s/it]\u001b[A\n",
      "\n",
      "running generation (cuda:0):   0%|          | 0/1 [00:00<?, ?it/s]\u001b[A\n",
      "running generation (cuda:0): 100%|██████████| 1/1 [00:01<00:00,  1.21s/it]\u001b[A\n",
      "\n",
      "running NLI (cuda:0): 100%|██████████| 1/1 [00:00<00:00, 17.13it/s]\n",
      "\n",
      "running NLI (cuda:0): 100%|██████████| 1/1 [00:00<00:00, 16.85it/s]\n",
      "\n",
      "running generation (cuda:0): 0it [00:00, ?it/s]\u001b[A\n",
      "\n",
      "running NLI (cuda:0): 100%|██████████| 1/1 [00:00<00:00, 17.11it/s]\n",
      "\n",
      "running NLI (cuda:0): 100%|██████████| 1/1 [00:00<00:00, 16.91it/s]\n",
      "100%|██████████| 100/100 [08:03<00:00,  4.83s/it]"
     ]
    },
    {
     "name": "stdout",
     "output_type": "stream",
     "text": [
      "Old value: 0.649414\n",
      "New value: [0.415039]\n",
      "Done!\n"
     ]
    },
    {
     "name": "stderr",
     "output_type": "stream",
     "text": [
      "\n"
     ]
    }
   ],
   "source": [
    "from tqdm import tqdm\n",
    "\n",
    "for annotation_idx in tqdm(range(len(data_dicts))):\n",
    "    procedure = data_dicts[annotation_idx]['procedure']\n",
    "    question = data_dicts[annotation_idx]['question']\n",
    "    answer = data_dicts[annotation_idx]['answer']\n",
    "    previous_questions = [q for q, _ in data_dicts[annotation_idx]['previous_questions_answers']]\n",
    "    previous_answers = [a for _, a in data_dicts[annotation_idx]['previous_questions_answers']]\n",
    "    \n",
    "    updated_metrics = question_coherence_metrics_nli(nli_tokenizer, \n",
    "                                                     nli_model, \n",
    "                                                     vlm_processor.tokenizer,\n",
    "                                                     vlm.language_model, \n",
    "                                                     [procedure],\n",
    "                                                     [question],\n",
    "                                                     [answer],\n",
    "                                                     [previous_questions],\n",
    "                                                     [previous_answers],\n",
    "                                                     rephrase_success=True)\n",
    "     \n",
    "    print(\"Old value:\", data_dicts[annotation_idx]['nli_metric_scores'][metric_key])\n",
    "    data_dicts[annotation_idx]['nli_metric_scores'][metric_key] = updated_metrics[metric_key]\n",
    "    print(\"New value:\", data_dicts[annotation_idx]['nli_metric_scores'][metric_key])\n",
    "\n",
    "print(\"Done!\")    "
   ]
  },
  {
   "cell_type": "code",
   "execution_count": 17,
   "id": "a6f796c4-e895-4a3d-97fc-4ced4078681d",
   "metadata": {},
   "outputs": [
    {
     "name": "stdout",
     "output_type": "stream",
     "text": [
      "Warning: did not find annotations for annotator 5, annotation 0. This may be expected if we did not have annotators do all the annotations in the source file.\n",
      "Warning: did not find annotations for annotator 5, annotation 1. This may be expected if we did not have annotators do all the annotations in the source file.\n",
      "Warning: did not find annotations for annotator 5, annotation 2. This may be expected if we did not have annotators do all the annotations in the source file.\n",
      "Warning: did not find annotations for annotator 5, annotation 3. This may be expected if we did not have annotators do all the annotations in the source file.\n",
      "Warning: did not find annotations for annotator 5, annotation 4. This may be expected if we did not have annotators do all the annotations in the source file.\n",
      "Warning: did not find annotations for annotator 5, annotation 5. This may be expected if we did not have annotators do all the annotations in the source file.\n",
      "Warning: did not find annotations for annotator 5, annotation 6. This may be expected if we did not have annotators do all the annotations in the source file.\n",
      "Warning: did not find annotations for annotator 5, annotation 7. This may be expected if we did not have annotators do all the annotations in the source file.\n",
      "Warning: did not find annotations for annotator 5, annotation 8. This may be expected if we did not have annotators do all the annotations in the source file.\n",
      "Warning: did not find annotations for annotator 5, annotation 9. This may be expected if we did not have annotators do all the annotations in the source file.\n",
      "Warning: did not find annotations for annotator 6, annotation 0. This may be expected if we did not have annotators do all the annotations in the source file.\n",
      "Warning: did not find annotations for annotator 6, annotation 1. This may be expected if we did not have annotators do all the annotations in the source file.\n",
      "Warning: did not find annotations for annotator 6, annotation 2. This may be expected if we did not have annotators do all the annotations in the source file.\n",
      "Warning: did not find annotations for annotator 6, annotation 3. This may be expected if we did not have annotators do all the annotations in the source file.\n",
      "Warning: did not find annotations for annotator 6, annotation 4. This may be expected if we did not have annotators do all the annotations in the source file.\n",
      "Warning: did not find annotations for annotator 6, annotation 5. This may be expected if we did not have annotators do all the annotations in the source file.\n",
      "Warning: did not find annotations for annotator 6, annotation 6. This may be expected if we did not have annotators do all the annotations in the source file.\n",
      "Warning: did not find annotations for annotator 6, annotation 7. This may be expected if we did not have annotators do all the annotations in the source file.\n",
      "Warning: did not find annotations for annotator 6, annotation 8. This may be expected if we did not have annotators do all the annotations in the source file.\n",
      "Warning: did not find annotations for annotator 6, annotation 9. This may be expected if we did not have annotators do all the annotations in the source file.\n",
      "Warning: did not find annotations for annotator 7, annotation 0. This may be expected if we did not have annotators do all the annotations in the source file.\n",
      "Warning: did not find annotations for annotator 7, annotation 1. This may be expected if we did not have annotators do all the annotations in the source file.\n",
      "Warning: did not find annotations for annotator 7, annotation 2. This may be expected if we did not have annotators do all the annotations in the source file.\n",
      "Warning: did not find annotations for annotator 7, annotation 3. This may be expected if we did not have annotators do all the annotations in the source file.\n",
      "Warning: did not find annotations for annotator 7, annotation 4. This may be expected if we did not have annotators do all the annotations in the source file.\n",
      "Warning: did not find annotations for annotator 7, annotation 5. This may be expected if we did not have annotators do all the annotations in the source file.\n",
      "Warning: did not find annotations for annotator 7, annotation 6. This may be expected if we did not have annotators do all the annotations in the source file.\n",
      "Warning: did not find annotations for annotator 7, annotation 7. This may be expected if we did not have annotators do all the annotations in the source file.\n",
      "Warning: did not find annotations for annotator 7, annotation 8. This may be expected if we did not have annotators do all the annotations in the source file.\n",
      "Warning: did not find annotations for annotator 7, annotation 9. This may be expected if we did not have annotators do all the annotations in the source file.\n",
      "Warning: did not find annotations for annotator 8, annotation 0. This may be expected if we did not have annotators do all the annotations in the source file.\n",
      "Warning: did not find annotations for annotator 8, annotation 1. This may be expected if we did not have annotators do all the annotations in the source file.\n",
      "Warning: did not find annotations for annotator 8, annotation 2. This may be expected if we did not have annotators do all the annotations in the source file.\n",
      "Warning: did not find annotations for annotator 8, annotation 3. This may be expected if we did not have annotators do all the annotations in the source file.\n",
      "Warning: did not find annotations for annotator 8, annotation 4. This may be expected if we did not have annotators do all the annotations in the source file.\n",
      "Warning: did not find annotations for annotator 8, annotation 5. This may be expected if we did not have annotators do all the annotations in the source file.\n",
      "Warning: did not find annotations for annotator 8, annotation 6. This may be expected if we did not have annotators do all the annotations in the source file.\n",
      "Warning: did not find annotations for annotator 8, annotation 7. This may be expected if we did not have annotators do all the annotations in the source file.\n",
      "Warning: did not find annotations for annotator 8, annotation 8. This may be expected if we did not have annotators do all the annotations in the source file.\n",
      "Warning: did not find annotations for annotator 8, annotation 9. This may be expected if we did not have annotators do all the annotations in the source file.\n",
      "Warning: did not find annotations for annotator 9, annotation 0. This may be expected if we did not have annotators do all the annotations in the source file.\n",
      "Warning: did not find annotations for annotator 9, annotation 1. This may be expected if we did not have annotators do all the annotations in the source file.\n",
      "Warning: did not find annotations for annotator 9, annotation 2. This may be expected if we did not have annotators do all the annotations in the source file.\n",
      "Warning: did not find annotations for annotator 9, annotation 3. This may be expected if we did not have annotators do all the annotations in the source file.\n",
      "Warning: did not find annotations for annotator 9, annotation 4. This may be expected if we did not have annotators do all the annotations in the source file.\n",
      "Warning: did not find annotations for annotator 9, annotation 5. This may be expected if we did not have annotators do all the annotations in the source file.\n",
      "Warning: did not find annotations for annotator 9, annotation 6. This may be expected if we did not have annotators do all the annotations in the source file.\n",
      "Warning: did not find annotations for annotator 9, annotation 7. This may be expected if we did not have annotators do all the annotations in the source file.\n",
      "Warning: did not find annotations for annotator 9, annotation 8. This may be expected if we did not have annotators do all the annotations in the source file.\n",
      "Warning: did not find annotations for annotator 9, annotation 9. This may be expected if we did not have annotators do all the annotations in the source file.\n",
      "Recovered 50 annotations.\n"
     ]
    }
   ],
   "source": [
    "from pprint import pprint\n",
    "\n",
    "N_SAMPLES = 100\n",
    "SAMPLES_PER_ANNOTATOR = 10\n",
    "\n",
    "calculated_values = []\n",
    "annotated_values = []\n",
    "for annotator_idx in range(N_SAMPLES // SAMPLES_PER_ANNOTATOR):\n",
    "    samples = data_dicts[annotator_idx * SAMPLES_PER_ANNOTATOR:(annotator_idx + 1) * SAMPLES_PER_ANNOTATOR]\n",
    "    assert len(samples) == SAMPLES_PER_ANNOTATOR\n",
    "    \n",
    "    for annotation_idx in range(len(samples)):\n",
    "    \n",
    "        retrieved_annotations = all_annotations[all_annotations['annotator_index'] == annotator_idx]\n",
    "        retrieved_annotations = retrieved_annotations[retrieved_annotations['annotation_index'] == annotation_idx]\n",
    "        if len(retrieved_annotations) == 0:\n",
    "            print(f\"Warning: did not find annotations for annotator {annotator_idx}, annotation {annotation_idx}. This may be expected if we did not have annotators do all the annotations in the source file.\")\n",
    "            continue\n",
    "            \n",
    "        assert len(retrieved_annotations) == 1, \"Do we have some duplicate annotations?\"\n",
    "        \n",
    "        rating = retrieved_annotations['rating'].iloc[0]\n",
    "        if \"Instructions Unclear\" in rating:\n",
    "            print(\"Warning: threw away an instance due to instructions being labeled unclear\")\n",
    "            continue\n",
    "            \n",
    "        rating = int(rating.split()[0])\n",
    "        actual = samples[annotation_idx]['nli_metric_scores'][metric_key]\n",
    "        \n",
    "        calculated_values.append(actual)\n",
    "        annotated_values.append(rating)\n",
    "        \n",
    "print(f\"Recovered {len(annotated_values)} annotations.\")\n",
    "    "
   ]
  },
  {
   "cell_type": "markdown",
   "id": "fa83002e-9171-4ac1-a44b-8174b285fa22",
   "metadata": {},
   "source": [
    "Correlation result:"
   ]
  },
  {
   "cell_type": "code",
   "execution_count": 18,
   "id": "a01e3348-ab49-4dce-9d6e-97510ab4fd17",
   "metadata": {},
   "outputs": [
    {
     "name": "stdout",
     "output_type": "stream",
     "text": [
      "SignificanceResult(statistic=0.5146182711407815, pvalue=0.0001316219469780022)\n",
      "PearsonRResult(statistic=array([nan, nan, nan, nan, nan, nan, nan, nan, nan, nan, nan, nan, nan,\n",
      "       nan, nan, nan, nan, nan, nan, nan, nan, nan, nan, nan, nan, nan,\n",
      "       nan, nan, nan, nan, nan, nan, nan, nan, nan, nan, nan, nan, nan,\n",
      "       nan, nan, nan, nan, nan, nan, nan, nan, nan, nan, nan]), pvalue=array([nan, nan, nan, nan, nan, nan, nan, nan, nan, nan, nan, nan, nan,\n",
      "       nan, nan, nan, nan, nan, nan, nan, nan, nan, nan, nan, nan, nan,\n",
      "       nan, nan, nan, nan, nan, nan, nan, nan, nan, nan, nan, nan, nan,\n",
      "       nan, nan, nan, nan, nan, nan, nan, nan, nan, nan, nan]))\n"
     ]
    },
    {
     "name": "stderr",
     "output_type": "stream",
     "text": [
      "/tmp/ipykernel_440121/697621628.py:6: ConstantInputWarning: An input array is constant; the correlation coefficient is not defined.\n",
      "  res = pearsonr(calculated_values, annotated_values)\n"
     ]
    }
   ],
   "source": [
    "from scipy.stats import spearmanr, pearsonr\n",
    "\n",
    "res = spearmanr(calculated_values, annotated_values)\n",
    "pprint(res)\n",
    "\n",
    "res = pearsonr(calculated_values, annotated_values)\n",
    "pprint(res)"
   ]
  },
  {
   "cell_type": "code",
   "execution_count": null,
   "id": "16141b34-80b7-4411-ae70-0094fd37940a",
   "metadata": {},
   "outputs": [],
   "source": []
  }
 ],
 "metadata": {
  "kernelspec": {
   "display_name": "travel",
   "language": "python",
   "name": "travel"
  },
  "language_info": {
   "codemirror_mode": {
    "name": "ipython",
    "version": 3
   },
   "file_extension": ".py",
   "mimetype": "text/x-python",
   "name": "python",
   "nbconvert_exporter": "python",
   "pygments_lexer": "ipython3",
   "version": "3.10.9"
  }
 },
 "nbformat": 4,
 "nbformat_minor": 5
}
