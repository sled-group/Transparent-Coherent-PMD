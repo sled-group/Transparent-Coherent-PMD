{
 "cells": [
  {
   "cell_type": "code",
   "execution_count": 7,
   "id": "609598b0-4653-4b42-85ba-2a38a01e4300",
   "metadata": {},
   "outputs": [
    {
     "name": "stdout",
     "output_type": "stream",
     "text": [
      "The autoreload extension is already loaded. To reload it, use:\n",
      "  %reload_ext autoreload\n"
     ]
    }
   ],
   "source": [
    "%load_ext autoreload\n",
    "%autoreload 2\n",
    "\n",
    "import os\n",
    "os.chdir(\"/nfs/turbo/coe-chaijy/sstorks/simulation_informed_pcr4nlu/TRAVEl\")\n",
    "from travel import init_travel\n",
    "init_travel()"
   ]
  },
  {
   "cell_type": "markdown",
   "id": "68dfe59f",
   "metadata": {},
   "source": [
    "# Load preds"
   ]
  },
  {
   "cell_type": "code",
   "execution_count": 8,
   "id": "26f0084f",
   "metadata": {},
   "outputs": [],
   "source": [
    "import json\n",
    "\n",
    "# RESULTS_PATH = \"/home/sstorks/coe-chaijy/sstorks/simulation_informed_pcr4nlu/TRAVEl/saved_results_222/vqa_mistake_detection/ego4d/SuccessVQA_ego4d_debug250_llava-1.5-7b-hf_20240701113527/preds_heuristic_val.json\"\n",
    "RESULTS_PATH = \"/home/sstorks/coe-chaijy/sstorks/simulation_informed_pcr4nlu/TRAVEl/saved_results_222/vqa_mistake_detection/ego4d/VQG2VQA_ego4d_debug250_llava-1.5-7b-hf_20240701115231/preds_heuristic_val.json\"\n",
    "preds = json.load(open(RESULTS_PATH, \"r\"))"
   ]
  },
  {
   "cell_type": "markdown",
   "id": "a7126031",
   "metadata": {},
   "source": [
    "# Visualize some outputs"
   ]
  },
  {
   "cell_type": "code",
   "execution_count": 10,
   "id": "81273356",
   "metadata": {},
   "outputs": [
    {
     "name": "stdout",
     "output_type": "stream",
     "text": [
      "Indices to visualize: [36, 488, 251, 342, 263, 104, 187, 358, 127, 261, 172, 497, 224, 226, 100, 460, 118, 461, 438, 32]\n"
     ]
    }
   ],
   "source": [
    "import random\n",
    "\n",
    "output_indices_to_visualize = random.sample(list(range(len(preds))), 20)\n",
    "\n",
    "print(\"Indices to visualize:\", output_indices_to_visualize)"
   ]
  },
  {
   "cell_type": "code",
   "execution_count": null,
   "id": "aec345ef",
   "metadata": {},
   "outputs": [],
   "source": [
    "import json\n",
    "import matplotlib.pyplot as plt\n",
    "import matplotlib.image as mpimg\n",
    "import os\n",
    "from PIL import Image\n",
    "from pprint import pprint\n",
    "\n",
    "from travel.data.ego4d import Ego4DMistakeDetectionDataset\n",
    "from travel.data.mistake_detection import MistakeDetectionExample, get_cutoff_time_by_proportion\n",
    "from travel.model.vqa import VQAResponse\n",
    "from travel.model.mistake_detection import aggregate_mistake_probs_over_frames\n",
    "from travel.model.mistake_detection import DETECTION_FRAMES_PROPORTION\n",
    "\n",
    "show_frames = True\n",
    "\n",
    "# Gather up example dirs by example ID\n",
    "dataset_cache_dir = Ego4DMistakeDetectionDataset.get_cache_dir(\"val\",\n",
    "                                                         mismatch_augmentation=True,\n",
    "                                                         multi_frame=True,\n",
    "                                                         debug_n_examples_per_class=250)\n",
    "dataset_example_dirs = json.load(open(os.path.join(dataset_cache_dir, \"dataset.json\"), \"r\"))[\"example_dirs\"]\n",
    "dataset_example_dirs = {\"/\".join(d.split(\"/\")[-3:]): d for d in dataset_example_dirs}\n",
    "\n",
    "keys = list(preds.keys())\n",
    "for output_idx in output_indices_to_visualize:\n",
    "    print(f\"Displaying output index {output_idx}\\n\")\n",
    "    pred = preds[keys[output_idx]]\n",
    "\n",
    "    procedure_description = pred['example']['procedure_description']\n",
    "    mistake = pred[\"example\"][\"mistake\"]\n",
    "        \n",
    "    example_id = pred['example']['example_id']\n",
    "    example = Ego4DMistakeDetectionDataset.load_example_from_file(dataset_example_dirs[example_id])\n",
    "    example.cutoff_to_last_frames(DETECTION_FRAMES_PROPORTION)\n",
    "    pprint(example)\n",
    "    assert len(example.frames) == len(pred['vqa'])\n",
    "\n",
    "    # Extract the vqa list - just take the questions and answers for last frame\n",
    "    # Create a figure with a subplot for each entry\n",
    "    num_entries = len(pred['vqa'])\n",
    "    num_questions = len(pred['vqa'][0])\n",
    "    if show_frames:\n",
    "        fig, axs = plt.subplots(num_entries, num_questions, figsize=(10 * num_questions, 5 * num_entries))\n",
    "    print(f\"{len(pred['vqa'])} frames\")\n",
    "    for frame_idx in range(len(pred['vqa'])):\n",
    "        vqa_list = pred['vqa'][frame_idx]\n",
    "\n",
    "        for i, entry in enumerate(vqa_list):\n",
    "            if show_frames:\n",
    "                ax = axs[frame_idx, i] if num_questions > 1 else axs[frame_idx]\n",
    "                img = Image.open(entry[\"frame\"]) if \"frame\" in entry and entry[\"frame\"] != \"\" else example.frames[frame_idx]\n",
    "                ax.imshow(img)\n",
    "                ax.axis('off')\n",
    "\n",
    "            question = entry['question']\n",
    "            prompt = entry['prompt'].split(\"USER: <image>\")[1].split(\"ASSISTANT:\")[0].strip()\n",
    "            predicted_answer = entry['predicted_answer']\n",
    "            expected_answer = entry['expected_answer']\n",
    "\n",
    "            title = f\"Procedure: {procedure_description} ({'mistake' if mistake else 'success'}: {pred['example']['mistake_type']})\\n\"\n",
    "            title += f\"Q: {question} ({round(example.frame_times[frame_idx], 1)} sec.)\\n\"\n",
    "            title += f\"Transformed Q: {prompt}\\n\"\n",
    "            if i < len(pred['mistake_detection']['0.0']['mistake_probs'][frame_idx]):\n",
    "                mistake_prob = round(pred['mistake_detection']['0.0']['mistake_probs'][frame_idx][i], 3)\n",
    "            else:\n",
    "                mistake_prob = 1.0\n",
    "            title += f\"Predicted Answer: {VQAResponse(predicted_answer).name if mistake_prob != 1.0 else VQAResponse(1 - expected_answer).name} ({mistake_prob if mistake_prob == 1.0 or predicted_answer != expected_answer else 1 - mistake_prob}), Expected Answer: {VQAResponse(expected_answer).name}\"\n",
    "\n",
    "            if show_frames:\n",
    "                ax.set_title(title)\n",
    "\n",
    "    if show_frames:\n",
    "        plt.tight_layout()\n",
    "        plt.show()\n",
    "\n",
    "    # Print out probabilities\n",
    "    for k in [\"mistake_probs\", \"nli_relevance_probs\", \"nli_mistake_probs\"]:\n",
    "        print(k + \":\")\n",
    "        pprint(pred['mistake_detection'][\"0.0\"][k])\n",
    "        \n",
    "    frame_times = pred['example']['frame_times']\n",
    "    cutoff_time = get_cutoff_time_by_proportion(frame_times, DETECTION_FRAMES_PROPORTION)\n",
    "    frame_times = [t for t in frame_times if t >= cutoff_time]\n",
    "\n",
    "    print(\"\\nMISTAKE CONFIDENCE AGGREGATION:\")\n",
    "    mistake_prob = aggregate_mistake_probs_over_frames(pred['mistake_detection'][\"0.0\"]['mistake_probs'], frame_times, verbose=False)\n",
    "    print(mistake_prob)\n"
   ]
  },
  {
   "cell_type": "code",
   "execution_count": 40,
   "id": "4983fc31-769d-484e-bbbb-a5b13314ca0b",
   "metadata": {},
   "outputs": [
    {
     "name": "stdout",
     "output_type": "stream",
     "text": [
      "4/500 examples are about hoses\n"
     ]
    }
   ],
   "source": [
    "hose_count = 0\n",
    "all_count = 0\n",
    "for pred in preds.values():\n",
    "    if \"hose\" in pred['example']['procedure_description']:\n",
    "        hose_count += 1\n",
    "    all_count += 1\n",
    "        \n",
    "print(f\"{hose_count}/{all_count} examples are about hoses\")"
   ]
  },
  {
   "cell_type": "code",
   "execution_count": null,
   "id": "9faa4473-d60b-415f-a6df-4c5c9e923cea",
   "metadata": {},
   "outputs": [],
   "source": []
  }
 ],
 "metadata": {
  "kernelspec": {
   "display_name": "travel",
   "language": "python",
   "name": "travel"
  },
  "language_info": {
   "codemirror_mode": {
    "name": "ipython",
    "version": 3
   },
   "file_extension": ".py",
   "mimetype": "text/x-python",
   "name": "python",
   "nbconvert_exporter": "python",
   "pygments_lexer": "ipython3",
   "version": "3.10.9"
  }
 },
 "nbformat": 4,
 "nbformat_minor": 5
}
