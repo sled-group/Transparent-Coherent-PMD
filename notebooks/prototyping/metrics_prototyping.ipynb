{
 "cells": [
  {
   "cell_type": "markdown",
   "metadata": {},
   "source": [
    "# Initial configuration"
   ]
  },
  {
   "cell_type": "code",
   "execution_count": 1,
   "metadata": {},
   "outputs": [],
   "source": [
    "%load_ext autoreload\n",
    "%autoreload 2\n",
    "\n",
    "import os\n",
    "os.chdir(\"/nfs/turbo/coe-chaijy/sstorks/simulation_informed_pcr4nlu/TRAVEl\")\n",
    "from travel import init_travel\n",
    "init_travel()"
   ]
  },
  {
   "cell_type": "code",
   "execution_count": 4,
   "metadata": {},
   "outputs": [
    {
     "name": "stderr",
     "output_type": "stream",
     "text": [
      "`low_cpu_mem_usage` was None, now set to True since model is quantized.\n"
     ]
    },
    {
     "name": "stdout",
     "output_type": "stream",
     "text": [
      "['This is a <mask> of a <mask> <mask> <mask>, where a <mask> is <mask> next to the <mask>. The <mask> is <mask> with various <mask>, <mask> a <mask>, a <mask>, a <mask>, and a <mask>. The <mask> is <mask> a <mask>, possibly <mask> to <mask> the <mask> or <mask> it. The <mask> also <mask> a <mask> and a <mask> of <mask>, which might be <mask>d for <mask> or <mask> <mask> in the <mask>.', \"This is a <mask> of a <mask> <mask> purple <mask> and <mask> a <mask> of <mask>. The <mask> is <mask> in a grassy <mask>, possibly in a <mask> or a <mask>. The <mask> are open, and the <mask> <mask> to be <mask> to <mask> something, possibly a <mask> or a <mask> of <mask>. The <mask> <mask> the <mask>'s <mask> on the <mask> at <mask>.\", 'This is a <mask> of a <mask> <mask> on a <mask>en <mask>, possibly in a <mask> or a <mask>. He is <mask> a <mask>en <mask> or a <mask>, possibly a <mask> of <mask> or a <mask>, and <mask> to be <mask> or <mask> on the <mask>. The <mask> is <mask> on the <mask>, and there is a <mask> nearby, possibly a <mask> or a <mask> <mask>. The <mask> <mask> that the <mask> is either <mask> or <mask> the <mask>en <mask>.', 'This is a <mask> of a <mask> <mask> where a <mask> is <mask> <mask>. There <mask> several <mask> in various <mask> of <mask>, with some of them being <mask> and <mask> being <mask> on a <mask>. The <mask> <mask> <mask> out on the <mask>, and the <mask> is <mask> on the <mask>-<mask> <mask>. The <mask> is <mask> with a <mask> and an <mask>, which <mask> essential <mask> for the <mask>-<mask> <mask>.']\n"
     ]
    },
    {
     "name": "stderr",
     "output_type": "stream",
     "text": [
      "running NLI (cuda:0): 100%|██████████| 1/1 [00:00<00:00, 14.09it/s]\n",
      "running NLI (cuda:0): 100%|██████████| 1/1 [00:00<00:00, 14.92it/s]"
     ]
    },
    {
     "name": "stdout",
     "output_type": "stream",
     "text": [
      "{'consistency': 0.034,\n",
      " 'informativeness': 0.475,\n",
      " 'metrics_by_example': {0: {'consistency': [array([0.0001905], dtype=float16)],\n",
      "                            'informativeness': [array([0.03001], dtype=float16)],\n",
      "                            'relevance': [array([0.006348], dtype=float16)]},\n",
      "                        1: {'consistency': [array([0.0004964], dtype=float16)],\n",
      "                            'informativeness': [array([0.00574], dtype=float16)],\n",
      "                            'relevance': [array([0.0864], dtype=float16)]},\n",
      "                        2: {'consistency': [array([0.0405], dtype=float16)],\n",
      "                            'informativeness': [array([0.9116], dtype=float16)],\n",
      "                            'relevance': [array([0.04443], dtype=float16)]},\n",
      "                        3: {'consistency': [array([0.0962], dtype=float16)],\n",
      "                            'informativeness': [array([0.9517], dtype=float16)],\n",
      "                            'relevance': [array([0.1011], dtype=float16)]}},\n",
      " 'relevance': 0.06}\n"
     ]
    },
    {
     "name": "stderr",
     "output_type": "stream",
     "text": [
      "\n"
     ]
    }
   ],
   "source": [
    "from travel.model.metrics import consistency_metrics_caption\n",
    "from pprint import pprint\n",
    "\n",
    "procedure_descriptions = [\n",
    "    \"Put the spatula on the cutting board\",\n",
    "    \"Trim the fence branches with a lopper shears\",\n",
    "    \"Cut the carrot stem with the knife\",\n",
    "    \"Pick the half of the dough from the table with your hands\",\n",
    "]\n",
    "\n",
    "captions = [\n",
    "    [\"This is a photo of a bathroom sink area, where a person is standing next to the sink. The sink is filled with various items, including a cup, a bottle, a spoon, and a bowl. The person is holding a cup, possibly preparing to use the sink or cleaning it. The scene also includes a knife and a pair of scissors, which might be used for cutting or preparing items in the bathroom.\"],\n",
    "    [\"This is a photo of a person wearing purple gloves and holding a pair of scissors. The person is standing in a grassy area, possibly in a park or a garden. The scissors are open, and the person appears to be preparing to cut something, possibly a plant or a piece of fabric. The scene captures the person's focus on the task at hand.\"],\n",
    "    [\"This is a photo of a man working on a wooden floor, possibly in a kitchen or a room. He is holding a wooden stick or a plank, possibly a piece of wood or a tool, and appears to be measuring or working on the floor. The man is standing on the floor, and there is a tool nearby, possibly a drill or a measuring device. The scene suggests that the man is either installing or repairing the wooden floor.\"],\n",
    "    [\"This is a photo of a kitchen scene where a person is preparing doughnuts. There are several doughnuts in various stages of preparation, with some of them being shaped and others being placed on a tray. The doughnuts are spread out on the counter, and the person is working on the doughnut-making process. The kitchen is equipped with a sink and an oven, which are essential tools for the doughnut-making process.\"],\n",
    "]\n",
    "\n",
    "labels = [\n",
    "    False,\n",
    "    False,\n",
    "    True,\n",
    "    True\n",
    "]\n",
    "\n",
    "metrics = consistency_metrics_caption(captions, procedure_descriptions, labels, list(range(len(procedure_descriptions))), [[0.0]] * len(procedure_descriptions))\n",
    "pprint(metrics)"
   ]
  },
  {
   "cell_type": "code",
   "execution_count": 51,
   "metadata": {},
   "outputs": [
    {
     "name": "stderr",
     "output_type": "stream",
     "text": [
      "`low_cpu_mem_usage` was None, now set to True since model is quantized.\n",
      "running NLI (cuda:0): 100%|██████████| 1/1 [00:00<00:00, 14.91it/s]\n",
      "running NLI (cuda:0): 100%|██████████| 1/1 [00:00<00:00, 15.92it/s]\n",
      "running NLI (cuda:0): 100%|██████████| 1/1 [00:00<00:00, 16.14it/s]"
     ]
    },
    {
     "name": "stdout",
     "output_type": "stream",
     "text": [
      "torch.Size([8])\n",
      "torch.Size([8])\n",
      "torch.Size([8])\n",
      "{'consistency': 0.5,\n",
      " 'informativeness': 0.771,\n",
      " 'metrics_by_output': {0: {'consistency': [0.893, 0.002],\n",
      "                           'informativeness': [0.984, 0.053],\n",
      "                           'relevance': [0.908, 0.046]},\n",
      "                       1: {'consistency': [0.291, 0.35],\n",
      "                           'informativeness': [0.611, 0.603],\n",
      "                           'relevance': [0.476, 0.581]},\n",
      "                       2: {'consistency': [0.302, 0.367],\n",
      "                           'informativeness': [0.983, 0.938],\n",
      "                           'relevance': [0.308, 0.392]},\n",
      "                       3: {'consistency': [0.942, 0.857],\n",
      "                           'informativeness': [0.998, 0.996],\n",
      "                           'relevance': [0.944, 0.861]}},\n",
      " 'relevance': 0.564}\n"
     ]
    },
    {
     "name": "stderr",
     "output_type": "stream",
     "text": [
      "\n"
     ]
    }
   ],
   "source": [
    "from travel.data.vqg import VQGOutputs\n",
    "from travel.model.metrics import consistency_metrics_vqg\n",
    "from pprint import pprint\n",
    "\n",
    "procedure_descriptions = [\n",
    "    \"Put the spatula on the cutting board\",\n",
    "    \"Trim the fence branches with a lopper shears\",\n",
    "    \"Cut the carrot stem with the knife\",\n",
    "    \"Pick the half of the dough from the table with your hands\",\n",
    "]\n",
    "\n",
    "vqg_outputs = {\n",
    "    0: VQGOutputs(\n",
    "        procedure_id=0,\n",
    "        procedure_description=\"Put the spatula on the cutting board\",\n",
    "        questions=[\n",
    "            \"Is the spatula on the cutting board?\",\n",
    "            \"Is the cutting board empty?\",\n",
    "        ],\n",
    "        answers_str=[\"Yes\", \"No\"],\n",
    "    ),\n",
    "    1: VQGOutputs(\n",
    "        procedure_id=1,\n",
    "        procedure_description=\"Trim the fence branches with a lopper shears\",\n",
    "        questions=[\n",
    "            \"Are there branches?\",\n",
    "            \"Are the lopper shears rusty?\",\n",
    "        ],\n",
    "        answers_str=[\"Yes\", \"No\"],\n",
    "    ),\n",
    "    2: VQGOutputs(\n",
    "        procedure_id=2,\n",
    "        procedure_description=\"Cut the carrot stem with the knife\",\n",
    "        questions=[\n",
    "            \"Is the carrot in the bag?\",\n",
    "            \"Is the knife clean?\",\n",
    "        ],\n",
    "        answers_str=[\"Yes\", \"Yes\"],\n",
    "    ),\n",
    "    3: VQGOutputs(\n",
    "        procedure_id=3,\n",
    "        procedure_description=\"Pick the half of the dough from the table with your hands\",\n",
    "        questions=[\n",
    "            \"Is half of the dough in someone's hands?\",\n",
    "            \"Is half of the dough on the table?\",\n",
    "        ],\n",
    "        answers_str=[\"Yes\", \"Yes\"]\n",
    "    )\n",
    "}\n",
    "\n",
    "labels = [\n",
    "    False,\n",
    "    False,\n",
    "    True,\n",
    "    True\n",
    "]\n",
    "\n",
    "procedure_ids = [\n",
    "    0, 1, 2, 3\n",
    "]\n",
    "\n",
    "metrics = consistency_metrics_vqg(vqg_outputs, labels, procedure_ids)\n",
    "pprint(metrics)"
   ]
  },
  {
   "cell_type": "code",
   "execution_count": 38,
   "metadata": {},
   "outputs": [],
   "source": [
    "metrics_old = metrics"
   ]
  },
  {
   "cell_type": "code",
   "execution_count": 39,
   "metadata": {},
   "outputs": [
    {
     "name": "stdout",
     "output_type": "stream",
     "text": [
      "{'consistency': 0.465,\n",
      " 'informativeness': 0.626,\n",
      " 'metrics_by_output': {0: {'consistency': [0.956, 0.003],\n",
      "                           'informativeness': [0.984, 0.053],\n",
      "                           'relevance': [0.972, 0.06]},\n",
      "                       1: {'consistency': [0.358, 0.285],\n",
      "                           'informativeness': [0.611, 0.603],\n",
      "                           'relevance': [0.585, 0.472]},\n",
      "                       2: {'consistency': [0.12, 0.248],\n",
      "                           'informativeness': [0.355, 0.53],\n",
      "                           'relevance': [0.339, 0.468]},\n",
      "                       3: {'consistency': [0.918, 0.832],\n",
      "                           'informativeness': [0.959, 0.914],\n",
      "                           'relevance': [0.957, 0.91]}},\n",
      " 'relevance': 0.595}\n"
     ]
    }
   ],
   "source": [
    "pprint(metrics_old)"
   ]
  },
  {
   "cell_type": "code",
   "execution_count": null,
   "metadata": {},
   "outputs": [],
   "source": []
  }
 ],
 "metadata": {
  "kernelspec": {
   "display_name": "travel",
   "language": "python",
   "name": "travel"
  },
  "language_info": {
   "codemirror_mode": {
    "name": "ipython",
    "version": 3
   },
   "file_extension": ".py",
   "mimetype": "text/x-python",
   "name": "python",
   "nbconvert_exporter": "python",
   "pygments_lexer": "ipython3",
   "version": "3.10.9"
  }
 },
 "nbformat": 4,
 "nbformat_minor": 4
}
