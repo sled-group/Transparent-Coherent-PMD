{
 "cells": [
  {
   "cell_type": "markdown",
   "metadata": {},
   "source": [
    "# Initial configuration"
   ]
  },
  {
   "cell_type": "code",
   "execution_count": 1,
   "metadata": {},
   "outputs": [],
   "source": [
    "%load_ext autoreload\n",
    "%autoreload 2\n",
    "\n",
    "import os\n",
    "os.chdir(\"/nfs/turbo/coe-chaijy/sstorks/simulation_informed_pcr4nlu/TRAVEl\")\n",
    "from travel import init_travel\n",
    "init_travel()"
   ]
  },
  {
   "cell_type": "code",
   "execution_count": 14,
   "metadata": {},
   "outputs": [
    {
     "name": "stderr",
     "output_type": "stream",
     "text": [
      "`low_cpu_mem_usage` was None, now set to True since model is quantized.\n"
     ]
    },
    {
     "name": "stdout",
     "output_type": "stream",
     "text": [
      "['This is not a photo of a bathroom sink area, where a person is not standing next to the sink. The sink is not filled with various items, including a cup, a bottle, a spoon, and a bowl. The person is not holding a cup, possibly preparing to use the sink or cleaning it. The scene also includes a knife and a pair of scissors, which might be used for cutting or preparing items in the bathroom.', \"This is not a photo of a person wearing purple gloves and holding a pair of scissors. The person is not standing in a grassy area, possibly in a park or a garden. The scissors are open, and the person appears to be preparing to cut something, possibly a plant or a piece of fabric. The scene captures the person's focus on the task at hand.\", 'This is not a photo of a man working on a wooden floor, possibly in a kitchen or a room. He is not holding a wooden stick or a plank, possibly a piece of wood or a tool, and appears to be measuring or working on the floor. The man is not standing on the floor, and there is not a tool nearby, possibly a drill or a measuring device. The scene suggests that the man is not either installing or repairing the wooden floor.', 'This is not a photo of a kitchen scene where a person is not preparing doughnuts. There are several doughnuts in various stages of preparation, with some of them being shaped and others being placed on a tray. The doughnuts are spread out on the counter, and the person is not working on the doughnut-making process. The kitchen is not equipped with a sink and an oven, which are essential tools for the doughnut-making process.']\n"
     ]
    },
    {
     "name": "stderr",
     "output_type": "stream",
     "text": [
      "running NLI (cuda:0): 100%|██████████| 1/1 [00:00<00:00, 14.33it/s]\n",
      "running NLI (cuda:0): 100%|██████████| 1/1 [00:00<00:00, 15.14it/s]"
     ]
    },
    {
     "name": "stdout",
     "output_type": "stream",
     "text": [
      "{'consistency': 0.047,\n",
      " 'informativeness': 0.475,\n",
      " 'metrics_by_output': {0: {'consistency': 0.002,\n",
      "                           'informativeness': 0.03,\n",
      "                           'relevance': 0.051},\n",
      "                       1: {'consistency': 0.0,\n",
      "                           'informativeness': 0.006,\n",
      "                           'relevance': 0.007},\n",
      "                       2: {'consistency': 0.164,\n",
      "                           'informativeness': 0.912,\n",
      "                           'relevance': 0.18},\n",
      "                       3: {'consistency': 0.021,\n",
      "                           'informativeness': 0.952,\n",
      "                           'relevance': 0.022}},\n",
      " 'relevance': 0.065}\n"
     ]
    },
    {
     "name": "stderr",
     "output_type": "stream",
     "text": [
      "\n"
     ]
    }
   ],
   "source": [
    "from travel.model.metrics import consistency_metrics_caption\n",
    "from pprint import pprint\n",
    "\n",
    "procedure_descriptions = [\n",
    "    \"Put the spatula on the cutting board\",\n",
    "    \"Trim the fence branches with a lopper shears\",\n",
    "    \"Cut the carrot stem with the knife\",\n",
    "    \"Pick the half of the dough from the table with your hands\",\n",
    "]\n",
    "\n",
    "captions = [\n",
    "    \"This is a photo of a bathroom sink area, where a person is standing next to the sink. The sink is filled with various items, including a cup, a bottle, a spoon, and a bowl. The person is holding a cup, possibly preparing to use the sink or cleaning it. The scene also includes a knife and a pair of scissors, which might be used for cutting or preparing items in the bathroom.\",\n",
    "    \"This is a photo of a person wearing purple gloves and holding a pair of scissors. The person is standing in a grassy area, possibly in a park or a garden. The scissors are open, and the person appears to be preparing to cut something, possibly a plant or a piece of fabric. The scene captures the person's focus on the task at hand.\",\n",
    "    \"This is a photo of a man working on a wooden floor, possibly in a kitchen or a room. He is holding a wooden stick or a plank, possibly a piece of wood or a tool, and appears to be measuring or working on the floor. The man is standing on the floor, and there is a tool nearby, possibly a drill or a measuring device. The scene suggests that the man is either installing or repairing the wooden floor.\",\n",
    "    \"This is a photo of a kitchen scene where a person is preparing doughnuts. There are several doughnuts in various stages of preparation, with some of them being shaped and others being placed on a tray. The doughnuts are spread out on the counter, and the person is working on the doughnut-making process. The kitchen is equipped with a sink and an oven, which are essential tools for the doughnut-making process.\",\n",
    "]\n",
    "\n",
    "labels = [\n",
    "    False,\n",
    "    False,\n",
    "    True,\n",
    "    True\n",
    "]\n",
    "\n",
    "metrics = consistency_metrics_caption(captions, procedure_descriptions, labels, list(range(len(procedure_descriptions))))\n",
    "pprint(metrics)"
   ]
  },
  {
   "cell_type": "code",
   "execution_count": null,
   "metadata": {},
   "outputs": [],
   "source": []
  }
 ],
 "metadata": {
  "kernelspec": {
   "display_name": "travel",
   "language": "python",
   "name": "travel"
  },
  "language_info": {
   "codemirror_mode": {
    "name": "ipython",
    "version": 3
   },
   "file_extension": ".py",
   "mimetype": "text/x-python",
   "name": "python",
   "nbconvert_exporter": "python",
   "pygments_lexer": "ipython3",
   "version": "3.10.9"
  }
 },
 "nbformat": 4,
 "nbformat_minor": 4
}
