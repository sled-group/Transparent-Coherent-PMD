{
 "cells": [
  {
   "cell_type": "code",
   "execution_count": 1,
   "id": "609598b0-4653-4b42-85ba-2a38a01e4300",
   "metadata": {},
   "outputs": [],
   "source": [
    "%load_ext autoreload\n",
    "%autoreload 2\n",
    "\n",
    "import os\n",
    "from travel import init_travel\n",
    "init_travel()"
   ]
  },
  {
   "cell_type": "markdown",
   "id": "e3bb6f5d",
   "metadata": {},
   "source": [
    "# Ego4D Data"
   ]
  },
  {
   "cell_type": "code",
   "execution_count": 4,
   "id": "72a51139",
   "metadata": {},
   "outputs": [
    {
     "name": "stderr",
     "output_type": "stream",
     "text": [
      "/home/sstorks/.cache/pypoetry/virtualenvs/travel-nQET-zRt-py3.10/lib/python3.10/site-packages/torch/cuda/__init__.py:628: UserWarning: Can't initialize NVML\n",
      "  warnings.warn(\"Can't initialize NVML\")\n"
     ]
    }
   ],
   "source": [
    "from pprint import pprint\n",
    "import random\n",
    "\n",
    "from travel.data.ego4d import Ego4DMistakeDetectionDataset\n",
    "\n",
    "dataset = Ego4DMistakeDetectionDataset(data_split=\"train\", mismatch_augmentation=False)\n",
    "n_examples = len(dataset)\n",
    "\n"
   ]
  },
  {
   "cell_type": "code",
   "execution_count": 3,
   "id": "d53ee99a",
   "metadata": {},
   "outputs": [
    {
     "name": "stdout",
     "output_type": "stream",
     "text": [
      "647049 Pick   up a paper\n",
      "83057 Paint the patio with the paint brush\n",
      "204152 Roll the dough in your hand\n",
      "256050 Squeeze the pink cloth with your hands\n",
      "275140 Shake lid in sink\n",
      "25057 Collect green beans\n",
      "22065 Pick the cards from the table\n",
      "417159 Hold the container with your right hand\n",
      "189147 Take paint from the cup of paint with the brush in your hand\n",
      "376795 Pick lego toy\n",
      "613002 Drop a filter on the jack lift\n",
      "599053 Pick the scrubber from the sink\n",
      "376412 Someone fixes Lego.\n",
      "384043 Put the mushrooms in the frying pan\n",
      "53309 Take a steel rod on the floor\n",
      "644015 Pass the chaff to your right hand\n",
      "11009 Squeeze the napkin\n",
      "80062 Scoop paint from the pallet on the table with the paint brush\n",
      "355082 Pick a brick\n",
      "53037 Place the tape rule on the floor\n"
     ]
    }
   ],
   "source": [
    "annotate_examples = random.sample(list(range(n_examples)), 20)\n",
    "\n",
    "for example_idx in annotate_examples:\n",
    "    example = dataset[example_idx]\n",
    "    print(example.procedure_id, example.procedure_description)"
   ]
  },
  {
   "cell_type": "code",
   "execution_count": 13,
   "id": "92673905",
   "metadata": {},
   "outputs": [],
   "source": [
    "import random\n",
    "annotate_examples = random.sample(list(range(n_examples)), 1000)\n",
    "\n",
    "for example_idx in annotate_examples:\n",
    "    example = dataset[example_idx]\n",
    "    # if example.procedure_description.startswith(\"Peel\") or example.procedure_description.startswith(\"Chop\") or example.procedure_description.startswith(\"Cut\"):\n",
    "    # if example.procedure_description.startswith(\"Break\"):\n",
    "    if example.procedure_description.startswith(\"Turn on\"):\n",
    "        print(example.procedure_id, example.procedure_description)"
   ]
  },
  {
   "cell_type": "code",
   "execution_count": 4,
   "id": "2d1d7936",
   "metadata": {},
   "outputs": [
    {
     "data": {
      "text/plain": [
       "'Move a safety belt buckle'"
      ]
     },
     "execution_count": 4,
     "metadata": {},
     "output_type": "execute_result"
    }
   ],
   "source": [
    "import spacy\n",
    "from travel.data.utils.text import simple_present_to_imperative\n",
    "nlp = spacy.load('en_core_web_sm')\n",
    "\n",
    "simple_present_to_imperative(nlp, \"Someone Moves a safety belt buckle.\")"
   ]
  },
  {
   "cell_type": "code",
   "execution_count": 19,
   "id": "564c52b6",
   "metadata": {},
   "outputs": [
    {
     "data": {
      "text/plain": [
       "[(True, 'container', 'Is there water in the blue image?')]"
      ]
     },
     "execution_count": 19,
     "metadata": {},
     "output_type": "execute_result"
    }
   ],
   "source": [
    "from travel.model.grounding import SpatialVisualFilter\n",
    "\n",
    "SpatialVisualFilter.parse_questions_for_spatial_attention_filter(nlp, [\"Is there water in the blue container?\"])"
   ]
  }
 ],
 "metadata": {
  "kernelspec": {
   "display_name": "travel",
   "language": "python",
   "name": "travel"
  },
  "language_info": {
   "codemirror_mode": {
    "name": "ipython",
    "version": 3
   },
   "file_extension": ".py",
   "mimetype": "text/x-python",
   "name": "python",
   "nbconvert_exporter": "python",
   "pygments_lexer": "ipython3",
   "version": "3.10.9"
  }
 },
 "nbformat": 4,
 "nbformat_minor": 5
}
