{
 "cells": [
  {
   "cell_type": "code",
   "execution_count": 1,
   "id": "609598b0-4653-4b42-85ba-2a38a01e4300",
   "metadata": {},
   "outputs": [],
   "source": [
    "%load_ext autoreload\n",
    "%autoreload 2\n",
    "\n",
    "import os\n",
    "os.chdir(\"/nfs/turbo/coe-chaijy/sstorks/simulation_informed_pcr4nlu/TRAVEl\")\n",
    "from travel import init_travel\n",
    "init_travel()"
   ]
  },
  {
   "cell_type": "markdown",
   "id": "68dfe59f",
   "metadata": {},
   "source": [
    "# Load preds"
   ]
  },
  {
   "cell_type": "code",
   "execution_count": 2,
   "id": "26f0084f",
   "metadata": {},
   "outputs": [],
   "source": [
    "import json\n",
    "\n",
    "RESULTS_PATH = \"/home/sstorks/coe-chaijy/sstorks/simulation_informed_pcr4nlu/TRAVEl/saved_results_222/vqa_mistake_detection/ego4d_single_debug250/llava-1.5-7b-hf/IterativeVQA_q10_ego4d_single_debug250_llava-1.5-7b-hf_coherence_icl20_20240806224704/outputs_val.json\"\n",
    "METRICS_PATH = \"/home/sstorks/coe-chaijy/sstorks/simulation_informed_pcr4nlu/TRAVEl/saved_results_222/vqa_mistake_detection/ego4d_single_debug250/llava-1.5-7b-hf/IterativeVQA_q10_ego4d_single_debug250_llava-1.5-7b-hf_coherence_icl20_20240806224704/metrics_coherence_val.json\"\n",
    "preds = json.load(open(RESULTS_PATH, \"r\"))\n",
    "coherence_metrics = json.load(open(METRICS_PATH, \"r\"))"
   ]
  },
  {
   "cell_type": "code",
   "execution_count": 18,
   "id": "7bcaca06-bf06-45d4-8251-724de8603281",
   "metadata": {},
   "outputs": [],
   "source": [
    "low_rel_low_info = []\n",
    "low_rel_high_info = []\n",
    "high_rel_low_info = []\n",
    "high_rel_high_info = []\n",
    "\n",
    "for output in preds.values():\n",
    "    for question_idx in range(output['final_turn'] + 1):\n",
    "        question = output['questions'][question_idx]\n",
    "        answer = output['answers'][question_idx]\n",
    "        selected_candidate_idx = output['candidate_questions'][question_idx].index(question)\n",
    "        relevance = output['candidate_questions_scores'][question_idx][selected_candidate_idx]['relevance']\n",
    "        informativeness = output['candidate_questions_scores'][question_idx][selected_candidate_idx]['informativeness_marginal']\n",
    "        \n",
    "        if relevance <= 0.2 and informativeness <= 0.2:\n",
    "            low_rel_low_info.append((output['procedure'], question, answer))\n",
    "        elif relevance <= 0.2 and informativeness >= 0.9:\n",
    "            low_rel_high_info.append((output['procedure'], question, answer))\n",
    "        elif relevance >= 0.9 and informativeness <= 0.2:\n",
    "            high_rel_low_info.append((output['procedure'], question, answer))\n",
    "        elif relevance >= 0.9 and informativeness >= 0.9:\n",
    "            high_rel_high_info.append((output['procedure'], question, answer))\n",
    "        \n",
    "    "
   ]
  },
  {
   "cell_type": "code",
   "execution_count": 19,
   "id": "941454ad-41a5-472d-b236-3c433a1c654d",
   "metadata": {},
   "outputs": [
    {
     "name": "stdout",
     "output_type": "stream",
     "text": [
      "Sew the shoe with the thread and the awl in your hands -> Is the shoe in the process of being sewn? Yes\n",
      "Insert the awl into the sandal -> Is the person holding the awl? Yes\n",
      "Pull the thread -> Is the person holding the thread? Yes\n",
      "Pull the thread -> Is the person's hand holding the thread? Yes\n",
      "Clean the clay box with sand -> Is the person working on the procedure \"Clean the clay box with sand\"? Yes\n",
      "Pick brush -> Is the person's hand holding the brush? Yes\n",
      "Drop the towel on the chair -> Is the towel on the floor? No\n",
      "Close the pack of sauce -> Is the pack of sauce sitting on the table? Yes\n",
      "Cut a leaf with a scissor -> Are the scissors open or closed? Yes\n",
      "Place the wood piece on a wall -> Is the person holding the wood piece? Yes\n",
      "Remove the piece of wood from the wood cutting machine -> Is the piece of wood on the ground? Yes\n",
      "Drop the bucket on the table -> Is the bucket on the ground? No\n",
      "Remove the cut piece of wood from the cutting machine -> Is there a cutting machine in the image? Yes\n",
      "Pick brick mold on the ground -> Is someone working on the procedure \"Pick brick mold on the ground\"? Yes\n",
      "Pick brick mold on the ground -> Is the person in the process of picking up the brick mold? No\n",
      "Pick brick mold on the ground -> Is the person in the process of placing the brick mold on the ground? No\n",
      "Pick twig -> Is the person's hand holding the twig? Yes\n",
      "Clean the left ear phone with your hand -> Is there an ear phone in the image? Yes\n",
      "Put the folded paper in the carton box -> Is the paper on the table? Yes\n",
      "Put the folded paper in the carton box -> Is the table next to the carton box? Yes\n",
      "Put scouring cloth -> Is the person's right hand holding the scouring cloth? Yes\n",
      "Drop the chopped spinach in the other stainless bowl -> Is the chopped spinach in a stainless bowl? Yes\n",
      "Drop covers a jug -> Is the jug on the floor? No\n",
      "Pull the lawn mower back -> Is the lawn mower on the ground? Yes\n",
      "Lift a bottle -> Is the person holding a bottle? Yes\n",
      "Draw on the paper -> Is the drawing on the paper in progress? Yes\n",
      "Drop the drilling machine wire at the other side of the scaffold -> Is the drilling machine wire hanging from the other side of the scaffold? Yes\n",
      "Sew the shoe with the thread and awl -> Is the shoe in the person's hand? Yes\n",
      "Continue painting the ceiling -> Is the person still painting the ceiling? Yes\n",
      "Put the concrete in the brick mold -> Is the concrete in the process of being placed in the brick mold? Yes\n",
      "Open a bag -> Is the person working on the procedure \"Open a bag\"? Yes\n",
      "Close the shelf -> Is the person working on the procedure \"Close the shelf\"? Yes\n",
      "Close the shelf -> Is the person standing next to the shelf? Yes\n",
      "Pick the paper on the table -> Is the person about to pick up the paper from the table? Yes\n",
      "Pick the paper on the table -> Is the person trying to pick up the paper from the table? Yes\n",
      "Remove nylon from the plastic container -> Is the person working on removing the nylon from the container? Yes\n",
      "Remove nylon from the plastic container -> Is the person using any tools to remove the nylon from the container? Yes\n",
      "Remove your left hand from the plant -> Is the person's left hand on the ground? No\n",
      "Drop the thread on the table -> Is the thread on the floor? No\n",
      "Drop the ceiling box back into the carton -> Is the ceiling box on the carton? No\n",
      "Cut clay -> Is the person working on the procedure \"Cut clay\"? Yes\n",
      "Remove the cut edge of the avocado pear from the knife -> Is the person holding the avocado pear? Yes\n",
      "Remove the gasket from the engine block with your hands -> Is the engine block visible in the photo? Yes\n",
      "Drop the lemons in your hand inside the bucket -> Is the person's hand holding the lemons? Yes\n",
      "Pick the cup from the floor -> Is the cup in the person's vicinity? Yes\n",
      "Pick the sponge -> Is the sponge in the person's hand? Yes\n",
      "Scoop the paint from the paint container -> Is the person wearing safety goggles while scooping the paint? No\n",
      "Open the oil tank -> Is the person wearing protective gear? No\n",
      "Open the oil tank -> Is the person wearing gloves? Yes\n",
      "Place the cards on a table -> Is the person working on the procedure \"Place the cards on a table\"? Yes\n",
      "Pour the water in the pot into the sink -> Is the person still working on the procedure \"Pour the water in the pot into the sink\"? Yes\n",
      "Place a card on the maze -> Is the card in the person's left or right hand? No\n",
      "Open the sachet of sauce with your hands -> Is someone holding the sachet of sauce? Yes\n",
      "Remove a tray from the trolley -> Is there a tray on the trolley? Yes\n",
      "Put the spoon inside the pot -> Is the person's hand holding the spoon? Yes\n",
      "Pack the cards from the table -> Is the deck of cards on the table? Yes\n",
      "Pack the cards from the table -> Is the deck of cards in someone's hand? Yes\n",
      "Remove a tray from the tray trolley -> Is the person working on the tray trolley? Yes\n",
      "Insert the awl into the shoe -> Is the person holding the awl? Yes\n",
      "Remove the excess concrete from the iron brick mold -> Is the person wearing protective gear? No\n",
      "Remove the excess concrete from the iron brick mold -> Is the person using a tool to remove the excess concrete? Yes\n",
      "Draw on the paper -> Is the drawing on the paper in the process of being completed? Yes\n",
      "Draw on the paper -> Is the paper in the process of being drawn on? Yes\n",
      "Remove the wood from the cutting machine -> Is the person working on the procedure? Yes\n",
      "Close the box -> Is the box open or closed in the image? No\n",
      "Close the box -> Do you see a box in the image? Yes\n",
      "Pick brick mold on the ground -> Is the brick mold in someone's hand? Yes\n",
      "Pick brick mold on the ground -> Is the person wearing gloves while picking up the brick mold? No\n",
      "Pick brick mold on the ground -> Is the person wearing safety goggles while picking up the brick mold? No\n",
      "Cut the bunch of straw -> Is the person working on the procedure \"Cut the bunch of straw\"? Yes\n",
      "Cut the bunch of straw -> Do you see a bunch of straw in the image? Yes\n",
      "Take the third carrot on the plate with your hand -> Is the carrot still on the plate? Yes\n",
      "Drop the paint tube on the table -> Is the paint tube on the ground? No\n",
      "Cut concrete -> Is the person working on the procedure \"Cut concrete\"? Yes\n",
      "Remove package of clear glasses -> Is the person wearing glasses? No\n",
      "Remove package of clear glasses -> Is the person wearing a shirt? No\n",
      "Put sand on the concrete -> Is the person working on the procedure \"Put sand on the concrete\" visible in the photo? Yes\n",
      "Fix the robot -> Is the robot on a table? Yes\n",
      "Fix the robot -> Is the table the robot is on made of wood? Yes\n",
      "Open another fridge -> Is the person working on the procedure \"Open another fridge\"? Yes\n",
      "Pick up a screw from the floor with your hand -> Is the person wearing gloves? No\n",
      "Pick up a screw from the floor with your hand -> Is the person wearing a ring? Yes\n",
      "Remove the fence branches on the fence with your hand -> Is the fence visible in the photo? Yes\n"
     ]
    }
   ],
   "source": [
    "from travel.data.vqa import VQAResponse\n",
    "\n",
    "from pprint import pprint\n",
    "\n",
    "for procedure, question, answer in low_rel_high_info:\n",
    "    print(f\"{procedure} -> {question} {VQAResponse(answer).name}\")"
   ]
  },
  {
   "cell_type": "code",
   "execution_count": 14,
   "id": "d29d548b-2199-4671-a548-d136d5550f67",
   "metadata": {},
   "outputs": [],
   "source": [
    "from travel.data.vqa import VQAResponse\n",
    "\n",
    "from pprint import pprint\n",
    "\n",
    "for procedure, question, answer in high_rel_low_info:\n",
    "    print(f\"{procedure} -> {question} {VQAResponse(answer).name}\")"
   ]
  },
  {
   "cell_type": "code",
   "execution_count": 24,
   "id": "3a12c4e9-5317-48f0-b8a6-76d18bf7e145",
   "metadata": {},
   "outputs": [
    {
     "name": "stdout",
     "output_type": "stream",
     "text": [
      "0.020410997260127586\n"
     ]
    }
   ],
   "source": [
    "from scipy.stats import entropy\n",
    "\n",
    "print(entropy([0.5, 0.5], [0.4, 0.6]))\n",
    "\n",
    "\n",
    "def relative_entropy(binary_prob0, binary_prob1):\n",
    "    p0a = binary_prob0\n",
    "    p0b = 1.0 - binary_prob0\n",
    "    \n",
    "    p1a = binary_prob1\n",
    "    p1b = 1.0 - binary_prob1\n",
    "    \n",
    "    ent = np.log2(p0a/p1a)"
   ]
  },
  {
   "cell_type": "code",
   "execution_count": null,
   "id": "1eafa9b0-7243-453b-8507-3f7b2f7755d6",
   "metadata": {},
   "outputs": [],
   "source": []
  }
 ],
 "metadata": {
  "kernelspec": {
   "display_name": "travel",
   "language": "python",
   "name": "travel"
  },
  "language_info": {
   "codemirror_mode": {
    "name": "ipython",
    "version": 3
   },
   "file_extension": ".py",
   "mimetype": "text/x-python",
   "name": "python",
   "nbconvert_exporter": "python",
   "pygments_lexer": "ipython3",
   "version": "3.10.9"
  }
 },
 "nbformat": 4,
 "nbformat_minor": 5
}
