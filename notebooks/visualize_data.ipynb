{
 "cells": [
  {
   "cell_type": "code",
   "execution_count": null,
   "id": "609598b0-4653-4b42-85ba-2a38a01e4300",
   "metadata": {},
   "outputs": [],
   "source": [
    "%load_ext autoreload\n",
    "%autoreload 2\n",
    "\n",
    "import os\n",
    "os.chdir(\"/nfs/turbo/coe-chaijy/sstorks/simulation_informed_pcr4nlu/TRAVEl\")\n",
    "os.environ['TRAVEl_config_path'] = \"/nfs/turbo/coe-chaijy/sstorks/simulation_informed_pcr4nlu/TRAVEl/config.yml\"\n",
    "from travel import init_travel\n",
    "init_travel()"
   ]
  },
  {
   "cell_type": "code",
   "execution_count": null,
   "id": "460eb69c-dc5c-4e68-b980-6aabe4c6921b",
   "metadata": {},
   "outputs": [],
   "source": [
    "from travel.constants import CONFIG_PATH, DATA_CACHE_DIR\n",
    "from travel.data.ego4d import FRAME_KEEP_FREQUENCY\n",
    "print(CONFIG_PATH, DATA_CACHE_DIR)\n",
    "print(FRAME_KEEP_FREQUENCY)"
   ]
  },
  {
   "cell_type": "markdown",
   "id": "a46ea9fb",
   "metadata": {},
   "source": [
    "# Visualize Some Ego4D Examples"
   ]
  },
  {
   "cell_type": "code",
   "execution_count": null,
   "id": "965ef2b6-0a0d-4dd7-9b14-e6cc5b772948",
   "metadata": {},
   "outputs": [],
   "source": [
    "from travel.data.ego4d import Ego4DMistakeDetectionDataset\n",
    "\n",
    "dataset = Ego4DMistakeDetectionDataset(data_split=\"val\",\n",
    "                                               mismatch_augmentation=True,\n",
    "                                               multi_frame=False,\n",
    "                                      debug_n_examples_per_class=250)"
   ]
  },
  {
   "cell_type": "code",
   "execution_count": null,
   "id": "217bb765-3027-409f-b059-e06acff54ef4",
   "metadata": {},
   "outputs": [],
   "source": [
    "from collections import Counter\n",
    "from pprint import pprint\n",
    "mistake_dist = Counter()\n",
    "for example in dataset.get_batches(1, load_frames=False):\n",
    "    mistake_dist[(example.mistake, example.mistake_type)] += 1\n",
    "\n",
    "pprint(mistake_dist.most_common())"
   ]
  },
  {
   "cell_type": "code",
   "execution_count": null,
   "id": "e704f702-fb67-4e93-86ce-b90b14bf3778",
   "metadata": {},
   "outputs": [],
   "source": [
    "import random\n",
    "\n",
    "pos = [ex for ex in dataset if not ex.mistake]\n",
    "neg_inc = [ex for ex in dataset if ex.mistake and ex.mistake_type == \"Action Incomplete\"]\n",
    "neg_v = [ex for ex in dataset if ex.mistake and ex.mistake_type == \"MisalignSRL_V\"]\n",
    "neg_arg1 = [ex for ex in dataset if ex.mistake and ex.mistake_type == \"MisalignSRL_ARG1\"]\n",
    "neg_v_arg1 = [ex for ex in dataset if ex.mistake and ex.mistake_type == \"MisalignSRL_V_ARG1\"]\n",
    "\n",
    "examples_to_visualize = random.sample(pos, 20)\n",
    "examples_to_visualize += random.sample(neg_inc, 5)\n",
    "examples_to_visualize += random.sample(neg_v, 5)\n",
    "examples_to_visualize += random.sample(neg_arg1, 5)\n",
    "examples_to_visualize += random.sample(neg_v_arg1, 5)\n",
    "\n",
    "\n",
    "# examples_to_visualize = random.sample(list(range(len(dataset))), 30)\n",
    "# examples_to_visualize = list(range(len(dataset)))\n",
    "\n"
   ]
  },
  {
   "cell_type": "code",
   "execution_count": null,
   "id": "39411f11-8da1-4182-b59c-f70588c77afd",
   "metadata": {},
   "outputs": [],
   "source": [
    "random.shuffle(examples_to_visualize)"
   ]
  },
  {
   "cell_type": "code",
   "execution_count": null,
   "id": "68736c68-b29c-4ca1-bf58-a1e18df678a7",
   "metadata": {},
   "outputs": [],
   "source": [
    "import matplotlib.pyplot as plt\n",
    "import numpy as np\n",
    "\n",
    "from travel.data.utils.image import variance_of_laplacian\n",
    "from travel.constants import RESULTS_DIR\n",
    "\n",
    "text_lines = []\n",
    "this_results_dir = os.path.join(RESULTS_DIR, \"data_quality_annotation\", \"dqa_06272025\")\n",
    "if not os.path.exists(this_results_dir):\n",
    "    os.makedirs(this_results_dir)\n",
    "\n",
    "for example_idx, example in enumerate(examples_to_visualize):\n",
    "        \n",
    "    text_lines.append(f\"{example_idx}. {'Mistake' if example.mistake else 'Success'} ({example.mistake_type})\\n\")\n",
    "        \n",
    "    print(\"\")\n",
    "    print(example_idx, example.procedure_description)\n",
    "    print(f\"{'Success' if not example.mistake else 'Mistake'} ({example.mistake_type})\")\n",
    "    duration = example.frame_times[-1] - example.frame_times[0]\n",
    "    # print(example.frame_times)\n",
    "    # print(f\"({duration} sec.)\")\n",
    "    print(f\"Example ID: {example.example_id}\")\n",
    "    print(\"Verb noun pair:\", example.verb_noun_pair)\n",
    "    \n",
    "    frame_lightnesses = [np.mean(np.asarray(frame)) / 255.0 for frame in example.frames]\n",
    "    # print(\"Frame lightness (mean):\", np.mean(frame_lightnesses))\n",
    "    # print(\"Frame blurriness:\", [variance_of_laplacian(frame) for frame in example.frames])\n",
    "    \n",
    "    fig, axarr = plt.subplots(1, len(example.frames), figsize=(22, 4))\n",
    "    \n",
    "    # Ensure axarr is always iterable\n",
    "    if len(example.frames) == 1:\n",
    "        axarr = [axarr]\n",
    "\n",
    "    plt.figtext(0.5, 0.03, f\"{example_idx}. {example.procedure_description}\", ha='center', fontsize=12)\n",
    "    for frame, ax in zip(example.frames, axarr):\n",
    "        if frame is not None:\n",
    "            ax.imshow(frame)\n",
    "            ax.axis('off')  # Hide the axes for better visualization\n",
    "\n",
    "    plt.savefig(os.path.join(this_results_dir, f\"{example_idx}.png\"), bbox_inches='tight')\n",
    "    plt.tight_layout()\n",
    "    plt.show()\n",
    "\n",
    "with open(os.path.join(this_results_dir, \"answers.txt\"), \"w\") as f:\n",
    "    f.writelines(text_lines)\n",
    "    "
   ]
  },
  {
   "cell_type": "markdown",
   "id": "cd9d0a7f-6ae0-432a-a301-130e35562e17",
   "metadata": {},
   "source": [
    "# Select Examples for Ego4D-PMD Mistake Detection Label Data Quality Analysis"
   ]
  },
  {
   "cell_type": "code",
   "execution_count": null,
   "id": "18642cb6-9da1-4af6-b6d9-75c8ac62f5bb",
   "metadata": {},
   "outputs": [],
   "source": [
    "from travel.constants import RESULTS_DIR\n",
    "\n",
    "analysis_dir = os.path.join(RESULTS_DIR, \"data_quality_annotation\", \"dqa_06272025\")\n"
   ]
  },
  {
   "cell_type": "code",
   "execution_count": null,
   "id": "d2cdc7cf-9cd9-4150-bfee-a8228d95f9c8",
   "metadata": {},
   "outputs": [],
   "source": [
    "from pprint import pprint\n",
    "\n",
    "with open(os.path.join(analysis_dir, \"answers.txt\"),\"r\") as f:\n",
    "    lines_gt = f.readlines()\n",
    "    \n",
    "labels_gt = [l.split(\".\")[1].strip() for l in lines_gt]\n",
    "mistake_types_gt = [l.replace(l.split()[0],\"\").strip().replace(\"(\",\"\").replace(\")\",\"\") for l in labels_gt]\n",
    "labels_gt = [l.split()[0].strip() for l in labels_gt]\n",
    "\n",
    "pprint(labels_gt)\n",
    "pprint(mistake_types_gt)\n"
   ]
  },
  {
   "cell_type": "code",
   "execution_count": null,
   "id": "d37cd539-3cb0-4a71-b5b6-9b93d7f099a7",
   "metadata": {},
   "outputs": [],
   "source": [
    "# ann_fname = \"answers_shane.txt\"\n",
    "ann_fname = \"answers_itamar.txt\"\n",
    "\n",
    "with open(os.path.join(analysis_dir, ann_fname),\"r\") as f:\n",
    "    lines_ann = f.readlines()\n",
    "    \n",
    "labels_ann = [l.split(\".\")[1].strip()[0] for l in lines_ann]\n",
    "labels_ann = [\"Mistake\" if l == \"M\" else \"Success\" for l in labels_ann]\n",
    "\n",
    "pprint(labels_ann)"
   ]
  },
  {
   "cell_type": "code",
   "execution_count": null,
   "id": "5eeb1756-3f25-46c9-bfef-c8949945bb29",
   "metadata": {},
   "outputs": [],
   "source": [
    "human_accuracy = [1 if a == gt else 0 for a, gt in zip(labels_ann, labels_gt)]\n",
    "human_accuracy = sum(human_accuracy) / len(human_accuracy)\n",
    "\n",
    "print(\"Human accuracy:\", human_accuracy)\n",
    "\n",
    "for example_type in set(mistake_types_gt):\n",
    "    ex_subset = [(gt, ann) for gt, ann, t in zip(labels_gt, labels_ann, mistake_types_gt) if t == example_type]\n",
    "    human_accuracy_subset = [1 if a == gt else 0 for gt, a in ex_subset]\n",
    "    human_accuracy_subset = sum(human_accuracy_subset) / len(human_accuracy_subset)\n",
    "    print(f\"Human accuracy ({example_type}):\", human_accuracy_subset)\n",
    "\n",
    "ex_allmistakes = [(gt, ann) for gt, ann, t in zip(labels_gt, labels_ann, mistake_types_gt) if t != \"None\"]\n",
    "human_accuracy_allmistakes = [1 if a == gt else 0 for gt, a in ex_allmistakes]\n",
    "human_accuracy_allmistakes = sum(human_accuracy_allmistakes) / len(human_accuracy_allmistakes)\n",
    "print(\"Human accuracy (All Mistakes):\", human_accuracy_allmistakes)\n"
   ]
  },
  {
   "cell_type": "code",
   "execution_count": null,
   "id": "aef65355-597d-4cdd-88df-0786cc325eda",
   "metadata": {},
   "outputs": [],
   "source": [
    "from sklearn.metrics import cohen_kappa_score\n",
    "\n",
    "ann_fname1 = \"answers_shane.txt\"\n",
    "ann_fname2 = \"answers_itamar.txt\"\n",
    "\n",
    "with open(os.path.join(analysis_dir, ann_fname1),\"r\") as f:\n",
    "    lines_ann1 = f.readlines()\n",
    "    \n",
    "labels_ann1 = [l.split(\".\")[1].strip()[0] for l in lines_ann1]\n",
    "labels_ann1 = [\"Mistake\" if l == \"M\" else \"Success\" for l in labels_ann1]\n",
    "\n",
    "with open(os.path.join(analysis_dir, ann_fname2),\"r\") as f:\n",
    "    lines_ann2 = f.readlines()\n",
    "    \n",
    "labels_ann2 = [l.split(\".\")[1].strip()[0] for l in lines_ann2]\n",
    "labels_ann2 = [\"Mistake\" if l == \"M\" else \"Success\" for l in labels_ann2]\n",
    "\n",
    "print(cohen_kappa_score(labels_ann1, labels_ann2))"
   ]
  },
  {
   "cell_type": "markdown",
   "id": "672b6b45",
   "metadata": {
    "jp-MarkdownHeadingCollapsed": true,
    "tags": []
   },
   "source": [
    "# Visualize VQG Training Data from Ego4D"
   ]
  },
  {
   "cell_type": "code",
   "execution_count": null,
   "id": "e3fbe337",
   "metadata": {},
   "outputs": [],
   "source": [
    "from matplotlib import pyplot as plt\n",
    "import os\n",
    "import pickle\n",
    "from pprint import pprint\n",
    "\n",
    "RESULTS_DIR = \"coe-chaijy/sstorks/simulation_informed_pcr4nlu/TRAVEl/saved_results/vqg_learning/VQG_data_debug_Llama-2-7b-hf_icl5_20240429110645\"\n",
    "data_path = os.path.join(RESULTS_DIR, \"frameVQA_examples.pkl\")\n",
    "data = pickle.load(open(data_path, \"rb\"))\n",
    "\n",
    "print(f\"{len(data)} examples generated\")\n",
    "for example in data[100:120]:\n",
    "    # pprint(example)\n",
    "\n",
    "    for question_set in example.candidate_question_sets:\n",
    "        fig, ax = plt.subplots(figsize=(8, 10))\n",
    "\n",
    "        # Display the image\n",
    "        ax.imshow(example.frame)\n",
    "\n",
    "        # Adding text on the image at different positions\n",
    "        text_offset = 30  # Pixel offset for text below the image\n",
    "        ax.text(0, example.frame.height + 35, question_set.procedure_description, fontsize=9, style='italic')\n",
    "        ax.text(0, example.frame.height + 70, f\"{question_set.questions[0]} ({question_set.answers[0].name})\", fontsize=9)\n",
    "        ax.text(0, example.frame.height + 105, f\"{question_set.questions[1]} ({question_set.answers[1].name})\", fontsize=9)\n",
    "\n",
    "        # Set the limits of the axes and hide them\n",
    "        ax.set_xlim([0, example.frame.width])\n",
    "        ax.set_ylim([example.frame.height + text_offset + 50, -10])  # Expanded to fit the text below the image\n",
    "        ax.axis('off')\n",
    "\n",
    "        # Display the figure\n",
    "        plt.show()"
   ]
  }
 ],
 "metadata": {
  "kernelspec": {
   "display_name": "travel",
   "language": "python",
   "name": "travel"
  },
  "language_info": {
   "codemirror_mode": {
    "name": "ipython",
    "version": 3
   },
   "file_extension": ".py",
   "mimetype": "text/x-python",
   "name": "python",
   "nbconvert_exporter": "python",
   "pygments_lexer": "ipython3",
   "version": "3.10.9"
  }
 },
 "nbformat": 4,
 "nbformat_minor": 5
}
