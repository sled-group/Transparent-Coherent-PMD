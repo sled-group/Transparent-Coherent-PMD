{
 "cells": [
  {
   "cell_type": "code",
   "execution_count": 1,
   "id": "609598b0-4653-4b42-85ba-2a38a01e4300",
   "metadata": {},
   "outputs": [],
   "source": [
    "%load_ext autoreload\n",
    "%autoreload 2\n",
    "\n",
    "import os\n",
    "from travel import init_travel\n",
    "init_travel()"
   ]
  },
  {
   "cell_type": "markdown",
   "id": "a58246e2",
   "metadata": {},
   "source": [
    "# Test parsing method"
   ]
  },
  {
   "cell_type": "code",
   "execution_count": 13,
   "id": "3edabad6",
   "metadata": {},
   "outputs": [
    {
     "name": "stdout",
     "output_type": "stream",
     "text": [
      "tomatoes\n",
      "[bowl]\n",
      "are\n",
      "[bowl]\n"
     ]
    },
    {
     "data": {
      "text/plain": [
       "[(True, 'cherry tomatoes', 'Are the cherry tomatoes cut?'),\n",
       " (True, 'cherry tomatoes', 'Are the cherry tomatoes not cut?'),\n",
       " (True, 'bowl', 'Are there cherry tomatoes in the image?'),\n",
       " (False, 'bowl', 'Are there any cherry tomatoes that are in the image?')]"
      ]
     },
     "execution_count": 13,
     "metadata": {},
     "output_type": "execute_result"
    }
   ],
   "source": [
    "import spacy\n",
    "from travel.model.grounding import SpatialVisualFilter\n",
    "\n",
    "nlp = spacy.load('en_core_web_md')\n",
    "test_questions = [\n",
    "    \"Are the cherry tomatoes cut?\",\n",
    "    \"Are the cherry tomatoes not cut?\",\n",
    "    \"Are there cherry tomatoes in the bowl?\",\n",
    "    \"Are there any cherry tomatoes that are not in the bowl?\"\n",
    "]\n",
    "\n",
    "SpatialVisualFilter.parse_questions_for_spatial_attention_filter(nlp, test_questions)"
   ]
  },
  {
   "cell_type": "markdown",
   "id": "5035f763",
   "metadata": {},
   "source": [
    "# Test full spatial filter"
   ]
  },
  {
   "cell_type": "code",
   "execution_count": null,
   "id": "56acd462",
   "metadata": {},
   "outputs": [],
   "source": [
    "from PIL import Image\n",
    "import torch\n",
    "from travel.model.grounding import SpatialVisualFilter\n",
    "\n",
    "visual_filter = SpatialVisualFilter(rephrase_questions=True, device=\"cuda:1\" if torch.cuda.device_count() >= 2 else None)\n",
    "nlp = spacy.load('en_core_web_md')\n",
    "\n",
    "questions = [\"Are there cherry tomatoes in the bowl?\", \n",
    "             \"Are there any cherry tomatoes that are not in the bowl?\"]\n",
    "frames = [Image.load(\"demo_images/demo_frame2.png\"),\n",
    "          Image.load(\"demo_images/demo_frame2.png\")]\n",
    "\n",
    "new_frames, new_questions = visual_filter(nlp, frames, questions)"
   ]
  },
  {
   "cell_type": "markdown",
   "id": "d28cbdf2",
   "metadata": {},
   "source": [
    "## Show new frames"
   ]
  },
  {
   "cell_type": "code",
   "execution_count": null,
   "id": "3e669238",
   "metadata": {},
   "outputs": [],
   "source": [
    "import matplotlib.pyplot as plt\n",
    "\n",
    "fig, axarr = plt.subplots(1, len(new_frames), figsize=(22, 4))\n",
    "fig.suptitle(\"TARGET FRAMES\")\n",
    "for frame, ax in zip(new_frames, axarr):\n",
    "    if frame is not None:\n",
    "        ax.imshow(frame)\n",
    "plt.show()"
   ]
  },
  {
   "cell_type": "markdown",
   "id": "ece9c1fa",
   "metadata": {},
   "source": [
    "## Show new questions"
   ]
  },
  {
   "cell_type": "code",
   "execution_count": null,
   "id": "bd9d5f06",
   "metadata": {},
   "outputs": [],
   "source": [
    "from pprint import pprint\n",
    "\n",
    "pprint(new_questions)"
   ]
  }
 ],
 "metadata": {
  "kernelspec": {
   "display_name": "travel",
   "language": "python",
   "name": "travel"
  },
  "language_info": {
   "codemirror_mode": {
    "name": "ipython",
    "version": 3
   },
   "file_extension": ".py",
   "mimetype": "text/x-python",
   "name": "python",
   "nbconvert_exporter": "python",
   "pygments_lexer": "ipython3",
   "version": "3.10.9"
  }
 },
 "nbformat": 4,
 "nbformat_minor": 5
}
