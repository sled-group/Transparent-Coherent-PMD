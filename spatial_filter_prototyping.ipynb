{
 "cells": [
  {
   "cell_type": "code",
   "execution_count": 1,
   "id": "609598b0-4653-4b42-85ba-2a38a01e4300",
   "metadata": {},
   "outputs": [],
   "source": [
    "%load_ext autoreload\n",
    "%autoreload 2\n",
    "\n",
    "import os\n",
    "from travel import init_travel\n",
    "init_travel()"
   ]
  },
  {
   "cell_type": "code",
   "execution_count": 12,
   "id": "3edabad6",
   "metadata": {},
   "outputs": [
    {
     "name": "stdout",
     "output_type": "stream",
     "text": [
      "tomatoes\n",
      "[bowl]\n",
      "are\n",
      "[bowl]\n"
     ]
    },
    {
     "data": {
      "text/plain": [
       "[(True, 'cherry tomatoes', 'Are the cherry tomatoes cut?'),\n",
       " (True, 'cherry tomatoes', 'Are the cherry tomatoes cut?'),\n",
       " (True, 'bowl', 'Are there cherry tomatoes in the image?'),\n",
       " (False, 'bowl', 'Are there any cherry tomatoes that are in the image?')]"
      ]
     },
     "execution_count": 12,
     "metadata": {},
     "output_type": "execute_result"
    }
   ],
   "source": [
    "import spacy\n",
    "from travel.model.grounding import SpatialVisualFilter\n",
    "\n",
    "nlp = spacy.load('en_core_web_md')\n",
    "test_questions = [\n",
    "    \"Are the cherry tomatoes cut?\",\n",
    "    \"Are the cherry tomatoes not cut?\",\n",
    "    \"Are there cherry tomatoes in the bowl?\",\n",
    "    \"Are there any cherry tomatoes that are not in the bowl?\"\n",
    "]\n",
    "# test_questions = [\"Are there cherry tomatoes in the bowl?\"]\n",
    "\n",
    "SpatialVisualFilter.parse_questions_for_spatial_attention_filter(nlp, test_questions)"
   ]
  }
 ],
 "metadata": {
  "kernelspec": {
   "display_name": "travel",
   "language": "python",
   "name": "travel"
  },
  "language_info": {
   "codemirror_mode": {
    "name": "ipython",
    "version": 3
   },
   "file_extension": ".py",
   "mimetype": "text/x-python",
   "name": "python",
   "nbconvert_exporter": "python",
   "pygments_lexer": "ipython3",
   "version": "3.10.9"
  }
 },
 "nbformat": 4,
 "nbformat_minor": 5
}
